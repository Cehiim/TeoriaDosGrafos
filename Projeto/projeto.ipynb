{
  "cells": [
    {
      "cell_type": "markdown",
      "metadata": {
        "id": "view-in-github",
        "colab_type": "text"
      },
      "source": [
        "<a href=\"https://colab.research.google.com/github/Cehiim/TeoriaDosGrafos/blob/main/Projeto/projeto.ipynb\" target=\"_parent\"><img src=\"https://colab.research.google.com/assets/colab-badge.svg\" alt=\"Open In Colab\"/></a>"
      ]
    },
    {
      "cell_type": "markdown",
      "source": [
        "# Informações gerais\n",
        "\n",
        "## Tema\n",
        "* Aplicação com busca semântica para representação de grafos.\n",
        "\n",
        "## Integrantes\n",
        "* Cesar Hideki Imai - 10402758.\n",
        "* João Victor Dallapé Madeira - 10400725.\n",
        "* David Varão Lima Bentes Pessoa - 10402647."
      ],
      "metadata": {
        "id": "XYffMUNr2Ila"
      }
    },
    {
      "cell_type": "markdown",
      "metadata": {
        "id": "oX9e_J1rfR8k"
      },
      "source": [
        "# Setup"
      ]
    },
    {
      "cell_type": "markdown",
      "metadata": {
        "id": "f4Fd36vBfY_m"
      },
      "source": [
        "## Integração dos pacotes"
      ]
    },
    {
      "cell_type": "markdown",
      "metadata": {
        "id": "YI_J43xnrFIo"
      },
      "source": [
        "O pacote `vectordb2` é usado para armazenar e recuperar textos usando técnicas de *chunking* (segmentação de texto), *embedding* (conversão de texto para vetores numéricos) e busca vetorial.\n",
        "\n",
        "[Referência](https://vectordb.com/)"
      ]
    },
    {
      "cell_type": "code",
      "execution_count": 89,
      "metadata": {
        "colab": {
          "base_uri": "https://localhost:8080/"
        },
        "collapsed": true,
        "id": "yy3H5b34UlKV",
        "jupyter": {
          "outputs_hidden": true
        },
        "outputId": "9e9f6f11-8aba-41df-d0e7-53a7bae1f275"
      },
      "outputs": [
        {
          "output_type": "stream",
          "name": "stdout",
          "text": [
            "Requirement already satisfied: vectordb2 in /usr/local/lib/python3.10/dist-packages (0.1.9)\n",
            "Requirement already satisfied: torch>=1.9.0 in /usr/local/lib/python3.10/dist-packages (from vectordb2) (2.4.1+cu121)\n",
            "Requirement already satisfied: transformers>=4.10.0 in /usr/local/lib/python3.10/dist-packages (from vectordb2) (4.44.2)\n",
            "Requirement already satisfied: numpy>=1.21.0 in /usr/local/lib/python3.10/dist-packages (from vectordb2) (1.26.4)\n",
            "Requirement already satisfied: scikit-learn>=0.24.0 in /usr/local/lib/python3.10/dist-packages (from vectordb2) (1.5.2)\n",
            "Requirement already satisfied: scipy>=1.7.0 in /usr/local/lib/python3.10/dist-packages (from vectordb2) (1.13.1)\n",
            "Requirement already satisfied: sentence-transformers in /usr/local/lib/python3.10/dist-packages (from vectordb2) (3.1.1)\n",
            "Requirement already satisfied: faiss-cpu in /usr/local/lib/python3.10/dist-packages (from vectordb2) (1.8.0.post1)\n",
            "Requirement already satisfied: tensorflow-text in /usr/local/lib/python3.10/dist-packages (from vectordb2) (2.17.0)\n",
            "Requirement already satisfied: joblib>=1.2.0 in /usr/local/lib/python3.10/dist-packages (from scikit-learn>=0.24.0->vectordb2) (1.4.2)\n",
            "Requirement already satisfied: threadpoolctl>=3.1.0 in /usr/local/lib/python3.10/dist-packages (from scikit-learn>=0.24.0->vectordb2) (3.5.0)\n",
            "Requirement already satisfied: filelock in /usr/local/lib/python3.10/dist-packages (from torch>=1.9.0->vectordb2) (3.16.1)\n",
            "Requirement already satisfied: typing-extensions>=4.8.0 in /usr/local/lib/python3.10/dist-packages (from torch>=1.9.0->vectordb2) (4.12.2)\n",
            "Requirement already satisfied: sympy in /usr/local/lib/python3.10/dist-packages (from torch>=1.9.0->vectordb2) (1.13.3)\n",
            "Requirement already satisfied: networkx in /usr/local/lib/python3.10/dist-packages (from torch>=1.9.0->vectordb2) (3.3)\n",
            "Requirement already satisfied: jinja2 in /usr/local/lib/python3.10/dist-packages (from torch>=1.9.0->vectordb2) (3.1.4)\n",
            "Requirement already satisfied: fsspec in /usr/local/lib/python3.10/dist-packages (from torch>=1.9.0->vectordb2) (2024.6.1)\n",
            "Requirement already satisfied: huggingface-hub<1.0,>=0.23.2 in /usr/local/lib/python3.10/dist-packages (from transformers>=4.10.0->vectordb2) (0.24.7)\n",
            "Requirement already satisfied: packaging>=20.0 in /usr/local/lib/python3.10/dist-packages (from transformers>=4.10.0->vectordb2) (24.1)\n",
            "Requirement already satisfied: pyyaml>=5.1 in /usr/local/lib/python3.10/dist-packages (from transformers>=4.10.0->vectordb2) (6.0.2)\n",
            "Requirement already satisfied: regex!=2019.12.17 in /usr/local/lib/python3.10/dist-packages (from transformers>=4.10.0->vectordb2) (2024.9.11)\n",
            "Requirement already satisfied: requests in /usr/local/lib/python3.10/dist-packages (from transformers>=4.10.0->vectordb2) (2.32.3)\n",
            "Requirement already satisfied: safetensors>=0.4.1 in /usr/local/lib/python3.10/dist-packages (from transformers>=4.10.0->vectordb2) (0.4.5)\n",
            "Requirement already satisfied: tokenizers<0.20,>=0.19 in /usr/local/lib/python3.10/dist-packages (from transformers>=4.10.0->vectordb2) (0.19.1)\n",
            "Requirement already satisfied: tqdm>=4.27 in /usr/local/lib/python3.10/dist-packages (from transformers>=4.10.0->vectordb2) (4.66.5)\n",
            "Requirement already satisfied: Pillow in /usr/local/lib/python3.10/dist-packages (from sentence-transformers->vectordb2) (10.4.0)\n",
            "Requirement already satisfied: tensorflow<2.18,>=2.17.0 in /usr/local/lib/python3.10/dist-packages (from tensorflow-text->vectordb2) (2.17.0)\n",
            "Requirement already satisfied: absl-py>=1.0.0 in /usr/local/lib/python3.10/dist-packages (from tensorflow<2.18,>=2.17.0->tensorflow-text->vectordb2) (1.4.0)\n",
            "Requirement already satisfied: astunparse>=1.6.0 in /usr/local/lib/python3.10/dist-packages (from tensorflow<2.18,>=2.17.0->tensorflow-text->vectordb2) (1.6.3)\n",
            "Requirement already satisfied: flatbuffers>=24.3.25 in /usr/local/lib/python3.10/dist-packages (from tensorflow<2.18,>=2.17.0->tensorflow-text->vectordb2) (24.3.25)\n",
            "Requirement already satisfied: gast!=0.5.0,!=0.5.1,!=0.5.2,>=0.2.1 in /usr/local/lib/python3.10/dist-packages (from tensorflow<2.18,>=2.17.0->tensorflow-text->vectordb2) (0.6.0)\n",
            "Requirement already satisfied: google-pasta>=0.1.1 in /usr/local/lib/python3.10/dist-packages (from tensorflow<2.18,>=2.17.0->tensorflow-text->vectordb2) (0.2.0)\n",
            "Requirement already satisfied: h5py>=3.10.0 in /usr/local/lib/python3.10/dist-packages (from tensorflow<2.18,>=2.17.0->tensorflow-text->vectordb2) (3.11.0)\n",
            "Requirement already satisfied: libclang>=13.0.0 in /usr/local/lib/python3.10/dist-packages (from tensorflow<2.18,>=2.17.0->tensorflow-text->vectordb2) (18.1.1)\n",
            "Requirement already satisfied: ml-dtypes<0.5.0,>=0.3.1 in /usr/local/lib/python3.10/dist-packages (from tensorflow<2.18,>=2.17.0->tensorflow-text->vectordb2) (0.4.1)\n",
            "Requirement already satisfied: opt-einsum>=2.3.2 in /usr/local/lib/python3.10/dist-packages (from tensorflow<2.18,>=2.17.0->tensorflow-text->vectordb2) (3.3.0)\n",
            "Requirement already satisfied: protobuf!=4.21.0,!=4.21.1,!=4.21.2,!=4.21.3,!=4.21.4,!=4.21.5,<5.0.0dev,>=3.20.3 in /usr/local/lib/python3.10/dist-packages (from tensorflow<2.18,>=2.17.0->tensorflow-text->vectordb2) (3.20.3)\n",
            "Requirement already satisfied: setuptools in /usr/local/lib/python3.10/dist-packages (from tensorflow<2.18,>=2.17.0->tensorflow-text->vectordb2) (71.0.4)\n",
            "Requirement already satisfied: six>=1.12.0 in /usr/local/lib/python3.10/dist-packages (from tensorflow<2.18,>=2.17.0->tensorflow-text->vectordb2) (1.16.0)\n",
            "Requirement already satisfied: termcolor>=1.1.0 in /usr/local/lib/python3.10/dist-packages (from tensorflow<2.18,>=2.17.0->tensorflow-text->vectordb2) (2.4.0)\n",
            "Requirement already satisfied: wrapt>=1.11.0 in /usr/local/lib/python3.10/dist-packages (from tensorflow<2.18,>=2.17.0->tensorflow-text->vectordb2) (1.16.0)\n",
            "Requirement already satisfied: grpcio<2.0,>=1.24.3 in /usr/local/lib/python3.10/dist-packages (from tensorflow<2.18,>=2.17.0->tensorflow-text->vectordb2) (1.64.1)\n",
            "Requirement already satisfied: tensorboard<2.18,>=2.17 in /usr/local/lib/python3.10/dist-packages (from tensorflow<2.18,>=2.17.0->tensorflow-text->vectordb2) (2.17.0)\n",
            "Requirement already satisfied: keras>=3.2.0 in /usr/local/lib/python3.10/dist-packages (from tensorflow<2.18,>=2.17.0->tensorflow-text->vectordb2) (3.4.1)\n",
            "Requirement already satisfied: tensorflow-io-gcs-filesystem>=0.23.1 in /usr/local/lib/python3.10/dist-packages (from tensorflow<2.18,>=2.17.0->tensorflow-text->vectordb2) (0.37.1)\n",
            "Requirement already satisfied: charset-normalizer<4,>=2 in /usr/local/lib/python3.10/dist-packages (from requests->transformers>=4.10.0->vectordb2) (3.3.2)\n",
            "Requirement already satisfied: idna<4,>=2.5 in /usr/local/lib/python3.10/dist-packages (from requests->transformers>=4.10.0->vectordb2) (3.10)\n",
            "Requirement already satisfied: urllib3<3,>=1.21.1 in /usr/local/lib/python3.10/dist-packages (from requests->transformers>=4.10.0->vectordb2) (2.2.3)\n",
            "Requirement already satisfied: certifi>=2017.4.17 in /usr/local/lib/python3.10/dist-packages (from requests->transformers>=4.10.0->vectordb2) (2024.8.30)\n",
            "Requirement already satisfied: MarkupSafe>=2.0 in /usr/local/lib/python3.10/dist-packages (from jinja2->torch>=1.9.0->vectordb2) (2.1.5)\n",
            "Requirement already satisfied: mpmath<1.4,>=1.1.0 in /usr/local/lib/python3.10/dist-packages (from sympy->torch>=1.9.0->vectordb2) (1.3.0)\n",
            "Requirement already satisfied: wheel<1.0,>=0.23.0 in /usr/local/lib/python3.10/dist-packages (from astunparse>=1.6.0->tensorflow<2.18,>=2.17.0->tensorflow-text->vectordb2) (0.44.0)\n",
            "Requirement already satisfied: rich in /usr/local/lib/python3.10/dist-packages (from keras>=3.2.0->tensorflow<2.18,>=2.17.0->tensorflow-text->vectordb2) (13.8.1)\n",
            "Requirement already satisfied: namex in /usr/local/lib/python3.10/dist-packages (from keras>=3.2.0->tensorflow<2.18,>=2.17.0->tensorflow-text->vectordb2) (0.0.8)\n",
            "Requirement already satisfied: optree in /usr/local/lib/python3.10/dist-packages (from keras>=3.2.0->tensorflow<2.18,>=2.17.0->tensorflow-text->vectordb2) (0.12.1)\n",
            "Requirement already satisfied: markdown>=2.6.8 in /usr/local/lib/python3.10/dist-packages (from tensorboard<2.18,>=2.17->tensorflow<2.18,>=2.17.0->tensorflow-text->vectordb2) (3.7)\n",
            "Requirement already satisfied: tensorboard-data-server<0.8.0,>=0.7.0 in /usr/local/lib/python3.10/dist-packages (from tensorboard<2.18,>=2.17->tensorflow<2.18,>=2.17.0->tensorflow-text->vectordb2) (0.7.2)\n",
            "Requirement already satisfied: werkzeug>=1.0.1 in /usr/local/lib/python3.10/dist-packages (from tensorboard<2.18,>=2.17->tensorflow<2.18,>=2.17.0->tensorflow-text->vectordb2) (3.0.4)\n",
            "Requirement already satisfied: markdown-it-py>=2.2.0 in /usr/local/lib/python3.10/dist-packages (from rich->keras>=3.2.0->tensorflow<2.18,>=2.17.0->tensorflow-text->vectordb2) (3.0.0)\n",
            "Requirement already satisfied: pygments<3.0.0,>=2.13.0 in /usr/local/lib/python3.10/dist-packages (from rich->keras>=3.2.0->tensorflow<2.18,>=2.17.0->tensorflow-text->vectordb2) (2.18.0)\n",
            "Requirement already satisfied: mdurl~=0.1 in /usr/local/lib/python3.10/dist-packages (from markdown-it-py>=2.2.0->rich->keras>=3.2.0->tensorflow<2.18,>=2.17.0->tensorflow-text->vectordb2) (0.1.2)\n"
          ]
        }
      ],
      "source": [
        "%pip install vectordb2"
      ]
    },
    {
      "cell_type": "markdown",
      "metadata": {
        "id": "WZDIGMyXB04o"
      },
      "source": [
        "O pacote `requests` é ser usado para recuperar o arquivo por meio de requisição em HTTP."
      ]
    },
    {
      "cell_type": "code",
      "execution_count": 90,
      "metadata": {
        "colab": {
          "base_uri": "https://localhost:8080/"
        },
        "collapsed": true,
        "id": "FucP-UzdB1B3",
        "outputId": "2d396fb6-de5e-482c-95d3-2b1e92ff2858"
      },
      "outputs": [
        {
          "output_type": "stream",
          "name": "stdout",
          "text": [
            "Requirement already satisfied: requests in /usr/local/lib/python3.10/dist-packages (2.32.3)\n",
            "Requirement already satisfied: charset-normalizer<4,>=2 in /usr/local/lib/python3.10/dist-packages (from requests) (3.3.2)\n",
            "Requirement already satisfied: idna<4,>=2.5 in /usr/local/lib/python3.10/dist-packages (from requests) (3.10)\n",
            "Requirement already satisfied: urllib3<3,>=1.21.1 in /usr/local/lib/python3.10/dist-packages (from requests) (2.2.3)\n",
            "Requirement already satisfied: certifi>=2017.4.17 in /usr/local/lib/python3.10/dist-packages (from requests) (2024.8.30)\n"
          ]
        }
      ],
      "source": [
        "%pip install requests"
      ]
    },
    {
      "cell_type": "markdown",
      "source": [
        "O pacote `network pyvis` é usado para criar uma visualização interativa de grafos.\n",
        "\n",
        "[Referência](https://pyvis.readthedocs.io/en/latest/documentation.html)"
      ],
      "metadata": {
        "id": "CJARvWmDyVVU"
      }
    },
    {
      "cell_type": "code",
      "source": [
        "%pip install networkx pyvis"
      ],
      "metadata": {
        "colab": {
          "base_uri": "https://localhost:8080/"
        },
        "id": "8TlOa8gVyTsq",
        "outputId": "3be92768-53db-408d-a1ea-559f6d49c8d0",
        "collapsed": true
      },
      "execution_count": 91,
      "outputs": [
        {
          "output_type": "stream",
          "name": "stdout",
          "text": [
            "Requirement already satisfied: networkx in /usr/local/lib/python3.10/dist-packages (3.3)\n",
            "Requirement already satisfied: pyvis in /usr/local/lib/python3.10/dist-packages (0.3.2)\n",
            "Requirement already satisfied: ipython>=5.3.0 in /usr/local/lib/python3.10/dist-packages (from pyvis) (7.34.0)\n",
            "Requirement already satisfied: jinja2>=2.9.6 in /usr/local/lib/python3.10/dist-packages (from pyvis) (3.1.4)\n",
            "Requirement already satisfied: jsonpickle>=1.4.1 in /usr/local/lib/python3.10/dist-packages (from pyvis) (3.3.0)\n",
            "Requirement already satisfied: setuptools>=18.5 in /usr/local/lib/python3.10/dist-packages (from ipython>=5.3.0->pyvis) (71.0.4)\n",
            "Requirement already satisfied: jedi>=0.16 in /usr/local/lib/python3.10/dist-packages (from ipython>=5.3.0->pyvis) (0.19.1)\n",
            "Requirement already satisfied: decorator in /usr/local/lib/python3.10/dist-packages (from ipython>=5.3.0->pyvis) (4.4.2)\n",
            "Requirement already satisfied: pickleshare in /usr/local/lib/python3.10/dist-packages (from ipython>=5.3.0->pyvis) (0.7.5)\n",
            "Requirement already satisfied: traitlets>=4.2 in /usr/local/lib/python3.10/dist-packages (from ipython>=5.3.0->pyvis) (5.7.1)\n",
            "Requirement already satisfied: prompt-toolkit!=3.0.0,!=3.0.1,<3.1.0,>=2.0.0 in /usr/local/lib/python3.10/dist-packages (from ipython>=5.3.0->pyvis) (3.0.47)\n",
            "Requirement already satisfied: pygments in /usr/local/lib/python3.10/dist-packages (from ipython>=5.3.0->pyvis) (2.18.0)\n",
            "Requirement already satisfied: backcall in /usr/local/lib/python3.10/dist-packages (from ipython>=5.3.0->pyvis) (0.2.0)\n",
            "Requirement already satisfied: matplotlib-inline in /usr/local/lib/python3.10/dist-packages (from ipython>=5.3.0->pyvis) (0.1.7)\n",
            "Requirement already satisfied: pexpect>4.3 in /usr/local/lib/python3.10/dist-packages (from ipython>=5.3.0->pyvis) (4.9.0)\n",
            "Requirement already satisfied: MarkupSafe>=2.0 in /usr/local/lib/python3.10/dist-packages (from jinja2>=2.9.6->pyvis) (2.1.5)\n",
            "Requirement already satisfied: parso<0.9.0,>=0.8.3 in /usr/local/lib/python3.10/dist-packages (from jedi>=0.16->ipython>=5.3.0->pyvis) (0.8.4)\n",
            "Requirement already satisfied: ptyprocess>=0.5 in /usr/local/lib/python3.10/dist-packages (from pexpect>4.3->ipython>=5.3.0->pyvis) (0.7.0)\n",
            "Requirement already satisfied: wcwidth in /usr/local/lib/python3.10/dist-packages (from prompt-toolkit!=3.0.0,!=3.0.1,<3.1.0,>=2.0.0->ipython>=5.3.0->pyvis) (0.2.13)\n"
          ]
        }
      ]
    },
    {
      "cell_type": "markdown",
      "metadata": {
        "id": "DjtCEtpOCxs2"
      },
      "source": [
        "Importação das bibliotecas"
      ]
    },
    {
      "cell_type": "code",
      "execution_count": 92,
      "metadata": {
        "id": "DA_HyrBKC6J0"
      },
      "outputs": [],
      "source": [
        "from vectordb import Memory\n",
        "import requests\n",
        "from pyvis.network import Network\n",
        "import matplotlib.pyplot as plt # Será usado para apresentação visual do grafo\n",
        "import os # Será usado métodos para limpar o terminal para atualizar a interface em cada iteração do sistema\n",
        "import time # Será usado método de espera para atualizar a interface gradualmente"
      ]
    },
    {
      "cell_type": "markdown",
      "metadata": {
        "id": "jUL4VcKo2JAl",
        "jp-MarkdownHeadingCollapsed": true
      },
      "source": [
        "## Classe Grafo"
      ]
    },
    {
      "cell_type": "code",
      "execution_count": 93,
      "metadata": {
        "id": "yAaYISkbfzOE",
        "outputId": "b5ee44fb-7faf-4a97-9d41-44b8601e755e",
        "colab": {
          "base_uri": "https://localhost:8080/",
          "height": 0
        }
      },
      "outputs": [
        {
          "output_type": "execute_result",
          "data": {
            "text/plain": [
              "'\\n    def fechoDireto(self, visitados):\\n        fecho_direto = []\\n        for i in range(self.n):\\n            if(visitados[i]):\\n                fecho_direto.append(i) # Adiciona os vértices acessíveis\\n        return fecho_direto\\n\\n    def fechoInverso(self, vertice):\\n        visitados = [False] * self.n\\n        fecho_inverso = []\\n        for i in range(self.n):\\n            self.dfs(visitados, vertice)\\n            if(visitados[vertice]):\\n                fecho_inverso.append(i) # Adiciona os vértices que acessam\\n        return fecho_inverso\\n\\n    def particao(self, fecho_direto, fecho_inverso, particoes):\\n        particao = []\\n        for i in range(len(fecho_direto)):\\n            for j in range(len(fecho_inverso)):\\n                if(fecho_direto[i] == fecho_inverso[j] and fecho_direto not in particao):\\n                    particao.append(fecho_direto[i])\\n                    particoes.append(fecho_direto[i])\\n        return particao\\n\\n    def cfc(self): # Componentes Fortemente Conexas\\n        count = 0\\n        particoes = []\\n        for i in range(self.n):\\n            if(i not in particoes):\\n                visitados = [False] * self.n\\n                self.dfs(visitados, i)\\n                fecho_direto = self.fechoDireto(visitados)\\n                fecho_inverso = self.fechoInverso(i)\\n                particao = self.particao(fecho_direto, fecho_inverso, particoes)\\n                print(\"particao\", particao)\\n        return particoes\\n\\n    def grafoReduzido(self):\\n        particoes = self.cfc()\\n        print(particoes)\\n'"
            ],
            "application/vnd.google.colaboratory.intrinsic+json": {
              "type": "string"
            }
          },
          "metadata": {},
          "execution_count": 93
        }
      ],
      "source": [
        "# -*- coding: utf-8 -*-\n",
        "\"\"\"\n",
        "Created on Mon Feb 13 13:59:10 2023\n",
        "\n",
        "@author: icalc\n",
        "\"\"\"\n",
        "class Grafo:\n",
        "    TAM_MAX_DEFAULT = 100 # qtde de vértices máxima default\n",
        "    # construtor da classe grafo\n",
        "    def __init__(self, n=TAM_MAX_DEFAULT):\n",
        "        self.n = n # número de vértices\n",
        "        self.m = 0 # número de arestas\n",
        "        # matriz de adjacência\n",
        "        self.adj = [[0 for i in range(n)] for j in range(n)]\n",
        "\n",
        "\t# Insere uma aresta no Grafo tal que\n",
        "\t# v é adjacente a w\n",
        "    def insereA(self, v, w):\n",
        "        if self.adj[v][w] == 0:\n",
        "            self.adj[v][w] = 1\n",
        "            self.m+=1 # atualiza qtd arestas\n",
        "\n",
        "# remove uma aresta v->w do Grafo\n",
        "    def removeA(self, v, w):\n",
        "        if(v == w):\n",
        "            return\n",
        "        # testa se temos a aresta\n",
        "        if self.adj[v][w] == 1:\n",
        "            self.adj[v][w] = 0\n",
        "            self.m -= 1  # atualiza qtd arestas\n",
        "\n",
        "\t# Apresenta o Grafo contendo\n",
        "\t# número de vértices, arestas\n",
        "\t# e a matriz de adjacência obtida\n",
        "    def show(self):\n",
        "        print(f\"\\n n: {self.n:2d} \", end=\"\")\n",
        "        print(f\"m: {self.m:2d}\\n\")\n",
        "        for i in range(self.n):\n",
        "            for w in range(self.n):\n",
        "                if self.adj[i][w] == 1:\n",
        "                    print(f\"Adj[{i:2d},{w:2d}] = 1 \", end=\"\")\n",
        "                else:\n",
        "                    print(f\"Adj[{i:2d},{w:2d}] = 0 \", end=\"\")\n",
        "            print(\"\\n\")\n",
        "        print(\"\\nfim da impressao do grafo.\" )\n",
        "\n",
        "\n",
        "\t# Apresenta o Grafo contendo\n",
        "\t# número de vértices, arestas\n",
        "\t# e a matriz de adjacência obtida\n",
        "    # Apresentando apenas os valores 0 ou 1\n",
        "    def showMin(self):\n",
        "        print(f\"\\n n: {self.n:2d} \", end=\"\")\n",
        "        print(f\"m: {self.m:2d}\\n\")\n",
        "        for i in range(self.n):\n",
        "            for w in range(self.n):\n",
        "                if self.adj[i][w] == 1:\n",
        "                    print(\" 1 \", end=\"\")\n",
        "                else:\n",
        "                    print(\" 0 \", end=\"\")\n",
        "            print(\"\\n\")\n",
        "        print(\"\\nfim da impressao do grafo.\" )\n",
        "\n",
        "    def dfs(self, visitados, vertice): # Depth First Search\n",
        "        visitados[vertice] = True\n",
        "        for i in range(self.n):\n",
        "            if(self.adj[vertice][i] != 0 and visitados[i] == False): # Caso haja acesso para um próximo vértice que não foi visitado\n",
        "                self.dfs(visitados, i)\n",
        "\n",
        "    def ehForte(self):\n",
        "        count = 0\n",
        "        for i in range(self.n):\n",
        "            visitados = [False] * self.n\n",
        "            self.dfs(visitados, i)\n",
        "            if(all(visitados)): # Caso todos tenham sido visitados\n",
        "                count += 1\n",
        "        if(count == self.n):\n",
        "            return True\n",
        "        else:\n",
        "            return False\n",
        "\n",
        "    def ehSemiForte(self):\n",
        "        for i in range(self.n):\n",
        "            for j in range(self.n):\n",
        "                visitados = [False] * self.n\n",
        "                self.dfs(visitados, j)\n",
        "                if(visitados[i] == False): # Verifica se o vértice 'j' tem acesso para o vértice 'i'\n",
        "                    visitados = [False] * self.n\n",
        "                    self.dfs(visitados, i)\n",
        "                    if(visitados[j] == False): # Verifica se o vértice 'i' tem acesso para o vértice 'j'\n",
        "                        return False\n",
        "        return True\n",
        "\n",
        "    def removeDirecao(self):\n",
        "        grafo_nd = Grafo(self.n)\n",
        "        for i in range(self.n):\n",
        "            for j in range(self.n):\n",
        "                if(self.adj[i][j] != 0):\n",
        "                    grafo_nd.insereA(i,j)\n",
        "                    grafo_nd.insereA(j,i)\n",
        "        return grafo_nd\n",
        "\n",
        "    def ehSimples(self):\n",
        "        grafo_nd = self.removeDirecao() # Versão não-direcionada do grafo original\n",
        "        for i in range(self.n):\n",
        "            visitados = [False] * self.n\n",
        "            grafo_nd.dfs(visitados, i)\n",
        "            if(all(visitados)): # Caso todos tenham sido visitados\n",
        "                return True\n",
        "        return False\n",
        "\n",
        "    def conexidade(self):\n",
        "        if(self.ehForte()):\n",
        "            print(\"O grafo é fortemente conexo (C3)\")\n",
        "        else:\n",
        "            if(self.ehSemiForte()):\n",
        "                print(\"O grafo é semi-fortemente conexo (C2)\")\n",
        "            else:\n",
        "                if(self.ehSimples()):\n",
        "                    print(\"O grafo é simplesmente conexo (C1)\")\n",
        "                else:\n",
        "                    print(\"O grafo é desconexo (C0)\")\n",
        "'''\n",
        "    def fechoDireto(self, visitados):\n",
        "        fecho_direto = []\n",
        "        for i in range(self.n):\n",
        "            if(visitados[i]):\n",
        "                fecho_direto.append(i) # Adiciona os vértices acessíveis\n",
        "        return fecho_direto\n",
        "\n",
        "    def fechoInverso(self, vertice):\n",
        "        visitados = [False] * self.n\n",
        "        fecho_inverso = []\n",
        "        for i in range(self.n):\n",
        "            self.dfs(visitados, vertice)\n",
        "            if(visitados[vertice]):\n",
        "                fecho_inverso.append(i) # Adiciona os vértices que acessam\n",
        "        return fecho_inverso\n",
        "\n",
        "    def particao(self, fecho_direto, fecho_inverso, particoes):\n",
        "        particao = []\n",
        "        for i in range(len(fecho_direto)):\n",
        "            for j in range(len(fecho_inverso)):\n",
        "                if(fecho_direto[i] == fecho_inverso[j] and fecho_direto not in particao):\n",
        "                    particao.append(fecho_direto[i])\n",
        "                    particoes.append(fecho_direto[i])\n",
        "        return particao\n",
        "\n",
        "    def cfc(self): # Componentes Fortemente Conexas\n",
        "        count = 0\n",
        "        particoes = []\n",
        "        for i in range(self.n):\n",
        "            if(i not in particoes):\n",
        "                visitados = [False] * self.n\n",
        "                self.dfs(visitados, i)\n",
        "                fecho_direto = self.fechoDireto(visitados)\n",
        "                fecho_inverso = self.fechoInverso(i)\n",
        "                particao = self.particao(fecho_direto, fecho_inverso, particoes)\n",
        "                print(\"particao\", particao)\n",
        "        return particoes\n",
        "\n",
        "    def grafoReduzido(self):\n",
        "        particoes = self.cfc()\n",
        "        print(particoes)\n",
        "'''"
      ]
    },
    {
      "cell_type": "markdown",
      "metadata": {
        "id": "g2sI3d7Qz7ck"
      },
      "source": [
        "## Classe GrafoR (Grafo direcionado rotulado)"
      ]
    },
    {
      "cell_type": "code",
      "execution_count": 94,
      "metadata": {
        "id": "F1sOCb5P0ITt"
      },
      "outputs": [],
      "source": [
        "# Grafo como uma matriz de adjacência rotulado\n",
        "class GrafoR(Grafo):\n",
        "# Não bota o init, vai bugar a classe\n",
        "\n",
        "    def insereA(self, v, w, p):\n",
        "        if self.adj[v][w] == 0:\n",
        "            self.adj[v][w] = p\n",
        "            self.m += 1  # atualiza qtd arestas\n",
        "\n",
        "    def removeA(self, v, w):\n",
        "        if(v == w):\n",
        "            return\n",
        "        # testa se temos a aresta\n",
        "        if self.adj[v][w] != 0:\n",
        "            self.adj[v][w] = 0\n",
        "            self.m -= 1  # atualiza qtd arestas\n",
        "\n",
        "    def show(self):\n",
        "        print(f\"\\n n: {self.n:2d} \", end=\"\")\n",
        "        print(f\"m: {self.m:2d}\\n\")\n",
        "        for i in range(self.n):\n",
        "            for w in range(self.n):\n",
        "                print(f\"Adj[{i:2d},{w:2d}] = {self.adj[i][w]:.2f} \", end=\"\")\n",
        "            print(\"\\n\")\n",
        "        print(\"\\nfim da impressao do grafo.\" )\n",
        "\n",
        "\t# Apresenta o Grafo contendo\n",
        "\t# número de vértices, arestas\n",
        "\t# e a matriz de adjacência obtida\n",
        "    # Apresentando apenas os valores 0 ou 1\n",
        "    def showMin(self):\n",
        "        print(f\"\\n n: {self.n:2d} \", end=\"\")\n",
        "        print(f\"m: {self.m:2d}\\n\")\n",
        "        for i in range(self.n):\n",
        "            for w in range(self.n):\n",
        "                print(f\" {self.adj[i][w]:.2f} \", end=\"\")\n",
        "            print(\"\\n\")\n",
        "        print(\"\\nfim da impressao do grafo.\" )\n",
        "\n",
        "    def insereV(self):\n",
        "        for i in range(self.n):\n",
        "            self.adj[i].append(0)\n",
        "        self.n += 1\n",
        "        self.adj.append([0]*self.n)\n",
        "\n",
        "    def removeV(self, vertice):\n",
        "        if(vertice >= self.n or vertice < 0):\n",
        "            return False\n",
        "        for i in range(self.n):\n",
        "            if(i == vertice):\n",
        "                for j in range(self.n):\n",
        "                    self.removeA(vertice, j) # Exclui arestas fantasmas\n",
        "            self.removeA(i,vertice)\n",
        "            if(i >= vertice and i != self.n-1): # Substitui as conexões do vértice a ser retirado e\n",
        "                              # os vértices posteriores a ele com as conexões do próximo vértice\n",
        "                self.adj[i] = self.adj[i+1]\n",
        "            self.adj[i].pop(vertice) # Remove o vértice escolhido da linha da matriz\n",
        "        self.adj.pop() # Remove a última linha da matriz\n",
        "        self.n -= 1\n",
        "        return True"
      ]
    },
    {
      "cell_type": "markdown",
      "metadata": {
        "id": "XMuxrf07kEw_"
      },
      "source": [
        "## Classe Memory"
      ]
    },
    {
      "cell_type": "markdown",
      "metadata": {
        "id": "a6uWsA4dkZwE"
      },
      "source": [
        "Aqui é utilizado a biblioteca VectorDB para criar uma memória virtual.\n",
        "\n",
        "```\n",
        "memoria = Memory(chunking_strategy={\"mode\": \"sliding_window\", \"window_size\": 1, \"overlap\": 0})\n",
        "```\n",
        "\n",
        "- `chunking_strategy` define a estratégia de fragmentação dos dados. No modo \"sliding_window\", os dados são divididos em *chunks* (pedaços de texto) de tamanho fixo.\n",
        "\n",
        "- `window_size` define a quantidade de palavras que um *chunk* representa. Neste caso, cada *chunk* representa uma palavra.\n",
        "\n",
        "- `overlap` define quantos elementos de sobreposição existirão entre os *chunks* adjacentes. Neste caso, não haverá sobreposição já que as palavras usadas não formam frases, logo são independentes uma das outras."
      ]
    },
    {
      "cell_type": "markdown",
      "source": [
        "### Observação\n",
        "* O modelo de codificador multilíngue não está disponível, portanto pode haver falhas na precisão das distâncias semânticas.\n",
        "\n",
        "![image.png](data:image/png;base64,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)"
      ],
      "metadata": {
        "id": "ZEdMBSWq-xTS"
      }
    },
    {
      "cell_type": "markdown",
      "source": [
        "### [Referência](https://vectordb.com/)"
      ],
      "metadata": {
        "id": "xvaddfZSJlrp"
      }
    },
    {
      "cell_type": "markdown",
      "source": [
        "## Classe Network"
      ],
      "metadata": {
        "id": "by7AfxYr5Wwg"
      }
    },
    {
      "cell_type": "markdown",
      "source": [
        "Aqui é utilizado a biblioteca Pyvis para criar uma instância para visualizar redes/grafos de forma interativa.\n",
        "\n",
        "```\n",
        "net = Network(notebook=True, cdn_resources='remote', directed=True)\n",
        "```\n",
        "* `notebook=True`: Esta opção indica que a visualização da rede será exibida diretamente em um notebook Jupyter.\n",
        "\n",
        "* `cdn_resources='remote'`: Esta opção especifica que os recursos necessários (como bibliotecas JavaScript e CSS) serão carregados de um Content Delivery Network (CDN) remoto. Isso pode ajudar a reduzir o tempo de carregamento e garantir que seja usado as versões mais recentes desses recursos.\n",
        "\n",
        "* `directed=True`: Especifica para que o grafo seja direcionado."
      ],
      "metadata": {
        "id": "wT2RnA145hp5"
      }
    },
    {
      "cell_type": "markdown",
      "source": [
        "### [Referência](https://pyvis.readthedocs.io/en/latest/documentation.html)"
      ],
      "metadata": {
        "id": "0XATAgPRJn1u"
      }
    },
    {
      "cell_type": "markdown",
      "source": [
        "## Funções auxiliares"
      ],
      "metadata": {
        "id": "zWYODqQXiaGN"
      }
    },
    {
      "cell_type": "markdown",
      "source": [
        "### Cria vértice"
      ],
      "metadata": {
        "id": "TmqCgxE0isy5"
      }
    },
    {
      "cell_type": "code",
      "source": [
        "def criaVertice(palavra, indice):\n",
        "  vertice = {\n",
        "      \"palavra\": palavra, # Recupera cada palavra e tira o \"\\n\"\n",
        "      \"indice\": indice,\n",
        "      \"n_vizinhos\": 0,\n",
        "      \"proximos\": []\n",
        "  }\n",
        "  return vertice"
      ],
      "metadata": {
        "id": "TAiwXMCqirUg"
      },
      "execution_count": 95,
      "outputs": []
    },
    {
      "cell_type": "markdown",
      "source": [
        "### Lê arquivo"
      ],
      "metadata": {
        "id": "CGlKvBrCi3qp"
      }
    },
    {
      "cell_type": "markdown",
      "source": [
        "Os dados do documento são importados e guardados na variável `dados`."
      ],
      "metadata": {
        "id": "sL9fnr6ni8iH"
      }
    },
    {
      "cell_type": "code",
      "source": [
        "def leArquivoHTTP(url):\n",
        "  arquivo = requests.get(url).text\n",
        "\n",
        "  lista = arquivo.split() # Distribui cada elemento do arquivo numa lista\n",
        "  n_palavras = int(lista.pop(0)) # Separa o número de palavras (primeira linha do arquivo)\n",
        "  vertices = []\n",
        "  for i in range(n_palavras):\n",
        "    vertice = criaVertice(lista[i], i)\n",
        "    vertices.append(vertice)\n",
        "\n",
        "  dados = [n_palavras]\n",
        "  dados.append(vertices)\n",
        "\n",
        "  return dados"
      ],
      "metadata": {
        "id": "4nEo6zd1i6D5"
      },
      "execution_count": 96,
      "outputs": []
    },
    {
      "cell_type": "code",
      "source": [
        "def leArquivo(origem):\n",
        "  try:\n",
        "    with open(origem, 'r', encoding='utf-8') as arquivo:\n",
        "      n_palavras = int(arquivo.readline()) # Recupera o número de palavras (primeira linha do arquivo)\n",
        "\n",
        "      vertices = []\n",
        "      for i in range(n_palavras):\n",
        "        vertice = criaVertice(arquivo.readline().strip(), i)\n",
        "        vertices.append(vertice)\n",
        "\n",
        "    dados = [n_palavras]\n",
        "    dados.append(vertices)\n",
        "\n",
        "    return dados\n",
        "\n",
        "  except FileNotFoundError:\n",
        "      print(\"[Erro: Arquivo não encontrado]\")"
      ],
      "metadata": {
        "id": "Md6it9mdjAlL"
      },
      "execution_count": 97,
      "outputs": []
    },
    {
      "cell_type": "markdown",
      "source": [
        "### Embedding"
      ],
      "metadata": {
        "id": "xvG7B29cjGjs"
      }
    },
    {
      "cell_type": "markdown",
      "source": [
        "Cada palavra é convertida para um vetor numérico e guardada na memória."
      ],
      "metadata": {
        "id": "edfR0j4ojLiV"
      }
    },
    {
      "cell_type": "code",
      "source": [
        "def embedding(memoria, n_palavras, vertices): # Método para fazer o embedding e inserção na memória de todas as palavras\n",
        "  for i in range(n_palavras):\n",
        "    memoria.save(vertices[i][\"palavra\"])"
      ],
      "metadata": {
        "id": "eC-dinSyjKEn"
      },
      "execution_count": 98,
      "outputs": []
    },
    {
      "cell_type": "markdown",
      "source": [
        "### Busca vetorial"
      ],
      "metadata": {
        "id": "0RbhmJRQjX7y"
      }
    },
    {
      "cell_type": "markdown",
      "source": [
        "Quanto menor é a distância, maior é a proximidade semântica."
      ],
      "metadata": {
        "id": "II8guSv1jZ78"
      }
    },
    {
      "cell_type": "code",
      "source": [
        "def buscaVetorial(memoria, palavra): # Método para retornar os quatro elementos com maior proximidade semântica de uma palavra\n",
        "  busca = memoria.search(palavra, top_n=4)\n",
        "  return busca"
      ],
      "metadata": {
        "id": "d8YlAteUjdEg"
      },
      "execution_count": 99,
      "outputs": []
    },
    {
      "cell_type": "markdown",
      "source": [
        "### Busca índice"
      ],
      "metadata": {
        "id": "D2GpxPLMjiC5"
      }
    },
    {
      "cell_type": "markdown",
      "source": [
        "Busca um índice através da palavra dentro da lista de vértices."
      ],
      "metadata": {
        "id": "e_H47lOpjlcg"
      }
    },
    {
      "cell_type": "code",
      "source": [
        "def buscaIndice(n_palavras, vertices, palavra):\n",
        "  for i in range(n_palavras):\n",
        "    if(vertices[i][\"palavra\"] == palavra):\n",
        "      return vertices[i][\"indice\"]\n",
        "  return -1"
      ],
      "metadata": {
        "id": "CJ8GGcW8jjjV"
      },
      "execution_count": 100,
      "outputs": []
    },
    {
      "cell_type": "markdown",
      "source": [
        "### Busca palavra"
      ],
      "metadata": {
        "id": "uuinIkupjvJp"
      }
    },
    {
      "cell_type": "markdown",
      "source": [
        "Busca uma palavra através do índice dentro da lista de vértices."
      ],
      "metadata": {
        "id": "UMZ4XLBujxKn"
      }
    },
    {
      "cell_type": "code",
      "source": [
        "def buscaPalavra(n_palavras, vertices, indice):\n",
        "  if(indice >= n_palavras or indice < 0):\n",
        "    return \"[Erro: índice inválido]\"\n",
        "  for i in range(n_palavras):\n",
        "    if(vertices[i][\"indice\"] == indice):\n",
        "      return vertices[i][\"palavra\"]\n",
        "  return \"[Erro: índice não encontrado]\""
      ],
      "metadata": {
        "id": "LBj18pbljxeq"
      },
      "execution_count": 101,
      "outputs": []
    },
    {
      "cell_type": "markdown",
      "source": [
        "### Cria vizinho"
      ],
      "metadata": {
        "id": "nY8qxhFskHeU"
      }
    },
    {
      "cell_type": "code",
      "source": [
        "def criaVizinho(palavra, indice, distancia):\n",
        "  proximo = {\n",
        "      \"vizinho\": palavra,\n",
        "      \"indice\": indice,\n",
        "      \"distancia\": distancia\n",
        "  }\n",
        "  return proximo"
      ],
      "metadata": {
        "id": "GG8eGVgxkJlr"
      },
      "execution_count": 102,
      "outputs": []
    },
    {
      "cell_type": "markdown",
      "source": [
        "### Integra grafo"
      ],
      "metadata": {
        "id": "akYDFZCNkVNn"
      }
    },
    {
      "cell_type": "markdown",
      "source": [
        "A palavra mais próxima armazenada na memória é ela mesma, portanto para encontrar as outras três palavras mais próximas foram recuperadas as palavras de índice 1 até 4."
      ],
      "metadata": {
        "id": "a1pMlLG1kZjo"
      }
    },
    {
      "cell_type": "code",
      "source": [
        "def integraGrafo(memoria, n_palavras, vertices):\n",
        "  grafo = GrafoR(n_palavras) # Cria um grafo rotulado\n",
        "  for i in range(n_palavras):\n",
        "    busca = buscaVetorial(memoria, vertices[i][\"palavra\"])\n",
        "    proximos = []\n",
        "    for j in range(1,4):\n",
        "      palavra = busca[j]['chunk']\n",
        "      distancia = busca[j]['distance']\n",
        "      proximo = criaVizinho(palavra, buscaIndice(n_palavras, vertices, palavra), distancia)\n",
        "      proximos.append(proximo)\n",
        "      vertices[i][\"n_vizinhos\"] += 1\n",
        "      grafo.insereA(vertices[i][\"indice\"], proximo[\"indice\"], proximo[\"distancia\"])\n",
        "    vertices[i][\"proximos\"] = proximos\n",
        "  return grafo"
      ],
      "metadata": {
        "id": "cDCMxOBHkWsz"
      },
      "execution_count": 103,
      "outputs": []
    },
    {
      "cell_type": "markdown",
      "source": [
        "### Grava dados"
      ],
      "metadata": {
        "id": "2PeqvyNUkgfI"
      }
    },
    {
      "cell_type": "code",
      "source": [
        "def gravaDados(n_palavras, vertices):\n",
        "  with open(\"grafo.txt\", \"w\") as arquivo:\n",
        "    for i in range(n_palavras):\n",
        "      palavra = vertices[i][\"palavra\"]\n",
        "      arquivo.write(palavra+\"\\n\")"
      ],
      "metadata": {
        "id": "10rSV0ahkjeI"
      },
      "execution_count": 104,
      "outputs": []
    },
    {
      "cell_type": "markdown",
      "source": [
        "### Insere vértice"
      ],
      "metadata": {
        "id": "5L5R6K1ak9y6"
      }
    },
    {
      "cell_type": "code",
      "source": [
        "def insereVertice(grafo, n_palavras, vertices, palavra):\n",
        "  if(buscaIndice(n_palavras, vertices, palavra) == -1):\n",
        "    grafo.insereV()\n",
        "    vertices.append(criaVertice(palavra, n_palavras))\n",
        "  else:\n",
        "    print(\"[Erro: Palavra já existe]\")"
      ],
      "metadata": {
        "id": "KDtRcWq_k_bV"
      },
      "execution_count": 105,
      "outputs": []
    },
    {
      "cell_type": "markdown",
      "source": [
        "### Cria aresta"
      ],
      "metadata": {
        "id": "OCilppoasxOJ"
      }
    },
    {
      "cell_type": "code",
      "source": [
        "def criaAresta(origem, destino):\n",
        "  aresta = [0] * 2\n",
        "  aresta[0] = origem\n",
        "  aresta[1] = destino\n",
        "  return aresta"
      ],
      "metadata": {
        "id": "JutVUDz5s0tg"
      },
      "execution_count": 106,
      "outputs": []
    },
    {
      "cell_type": "markdown",
      "source": [
        "### Busca vizinho"
      ],
      "metadata": {
        "id": "WTHEWrEos1bx"
      }
    },
    {
      "cell_type": "code",
      "source": [
        "def buscaVizinho(n_vizinhos, vizinhos, indice):\n",
        "  for i in range(n_vizinhos):\n",
        "    if(vizinhos[i][\"indice\"] == indice):\n",
        "      return i\n",
        "  return -1"
      ],
      "metadata": {
        "id": "FdWfskq3s5AC"
      },
      "execution_count": 107,
      "outputs": []
    },
    {
      "cell_type": "markdown",
      "source": [
        "### Insere aresta"
      ],
      "metadata": {
        "id": "k-MC5QZ-s9fh"
      }
    },
    {
      "cell_type": "code",
      "source": [
        "def insereAresta(grafo, n_palavras, vertices, aresta, peso):\n",
        "  origem = aresta[0]\n",
        "  destino = aresta[1]\n",
        "  if(origem >= n_palavras or origem < 0):\n",
        "    print(\"[Erro: origem não existe]\")\n",
        "\n",
        "  elif(destino >= n_palavras or destino < 0):\n",
        "    print(\"[Erro: destino não existe]\")\n",
        "\n",
        "  else:\n",
        "    n_vizinhos = vertices[origem][\"n_vizinhos\"]\n",
        "    vizinhos = vertices[origem][\"proximos\"]\n",
        "\n",
        "    if(buscaVizinho(n_vizinhos, vizinhos, destino) != -1):\n",
        "      print(\"[Erro: aresta já existe]\")\n",
        "\n",
        "    else:\n",
        "      grafo.insereA(origem, destino, peso)\n",
        "      palavra_destino = buscaPalavra(n_palavras, vertices, destino)\n",
        "      vertices[origem][\"proximos\"].append(criaVizinho(palavra_destino, destino, peso))\n",
        "      vertices[origem][\"n_vizinhos\"] += 1"
      ],
      "metadata": {
        "id": "SF5ki2ems-xS"
      },
      "execution_count": 108,
      "outputs": []
    },
    {
      "cell_type": "markdown",
      "source": [
        "### Remove aresta"
      ],
      "metadata": {
        "id": "m4zLz70nNLil"
      }
    },
    {
      "cell_type": "code",
      "source": [
        "def removeAresta(grafo, n_palavras, vertices, aresta):\n",
        "  origem = aresta[0]\n",
        "  destino = aresta[1]\n",
        "  if(origem >= n_palavras or origem < 0):\n",
        "    print(\"[Erro: origem não existe]\")\n",
        "\n",
        "  elif(destino >= n_palavras or destino < 0):\n",
        "    print(\"[Erro: destino não existe]\")\n",
        "\n",
        "  else:\n",
        "    n_vizinhos = vertices[origem][\"n_vizinhos\"]\n",
        "    vizinhos = vertices[origem][\"proximos\"]\n",
        "    posicao = buscaVizinho(n_vizinhos, vizinhos, destino)\n",
        "    if(posicao == -1):\n",
        "      print(\"[Erro: aresta não existe]\")\n",
        "\n",
        "    else:\n",
        "      grafo.removeA(origem, destino)\n",
        "      vertices[origem][\"proximos\"].pop(posicao)\n",
        "      vertices[origem][\"n_vizinhos\"] -= 1"
      ],
      "metadata": {
        "id": "7WlXNaVzNNAs"
      },
      "execution_count": 109,
      "outputs": []
    },
    {
      "cell_type": "markdown",
      "source": [
        "### Remove vértice"
      ],
      "metadata": {
        "id": "S0kXytc8M-uW"
      }
    },
    {
      "cell_type": "code",
      "source": [
        "def removeVertice(grafo, n_palavras, vertices, removido):\n",
        "  if(removido >= n_palavras or removido < 0):\n",
        "    print(\"[Erro: vértice não existe]\")\n",
        "  else:\n",
        "    grafo.removeV(removido)\n",
        "    for i in range(n_palavras - 1):\n",
        "      if(i >= removido):\n",
        "        vertices[i] = vertices[i+1]\n",
        "        vertices[i][\"indice\"] = i\n",
        "\n",
        "      n_vizinhos = vertices[i][\"n_vizinhos\"]\n",
        "      vizinhos = vertices[i][\"proximos\"]\n",
        "      posicao = buscaVizinho(n_vizinhos, vizinhos, removido)\n",
        "\n",
        "      if(posicao != -1):\n",
        "        aresta = criaAresta(vertices[i][\"indice\"], removido)\n",
        "        removeAresta(grafo, n_palavras, vertices, aresta)\n",
        "\n",
        "    vertices.pop()"
      ],
      "metadata": {
        "id": "RzfbCnjJNCCb"
      },
      "execution_count": 110,
      "outputs": []
    },
    {
      "cell_type": "markdown",
      "source": [
        "### Imprime vértices"
      ],
      "metadata": {
        "id": "8LyuaiqbGnQr"
      }
    },
    {
      "cell_type": "code",
      "source": [
        "def imprimeVertices(network, n_palavras, vertices):\n",
        "  for i in range(n_palavras):\n",
        "    network.add_node( # Adiciona vértices\n",
        "        i, # Índice\n",
        "        label=vertices[i][\"palavra\"], # Descrição do vértice\n",
        "        color=\"yellow\"\n",
        "    )"
      ],
      "metadata": {
        "id": "pr6spoUrGmrl"
      },
      "execution_count": 111,
      "outputs": []
    },
    {
      "cell_type": "markdown",
      "source": [
        "### Imprime arestas"
      ],
      "metadata": {
        "id": "FCn2z_GwGrMA"
      }
    },
    {
      "cell_type": "code",
      "source": [
        "def imprimeArestas(network, n_palavras, vertices):\n",
        "  for i in range(n_palavras):\n",
        "    vizinhos = vertices[i][\"proximos\"]\n",
        "    for j in range(vertices[i][\"n_vizinhos\"]):\n",
        "      distancia = float(vizinhos[j][\"distancia\"])\n",
        "      if(distancia > 0 and distancia < 1):\n",
        "        peso = (1-distancia) # Caso seja um valor entre a escala da distância semântica\n",
        "      else:\n",
        "        peso = distancia # Caso seja um valor fora do limite\n",
        "      network.add_edge( # Adiciona as arestas\n",
        "          vertices[i][\"indice\"], # Origem\n",
        "          vizinhos[j][\"indice\"], # Destino\n",
        "          value=peso, # Peso\n",
        "          title=f'''\n",
        "          Origem: {vertices[i][\"palavra\"]}\n",
        "          Destino: {vizinhos[j][\"vizinho\"]}\n",
        "          Peso: {peso:.2f}\n",
        "                        ''', # Descrição\n",
        "          color=\"red\"\n",
        "      )"
      ],
      "metadata": {
        "id": "OtxYhq8jGxyj"
      },
      "execution_count": 112,
      "outputs": []
    },
    {
      "cell_type": "markdown",
      "source": [
        "### Imprime grafo"
      ],
      "metadata": {
        "id": "j3fUMtozG0nK"
      }
    },
    {
      "cell_type": "code",
      "source": [
        "def imprimeGrafo(n_palavras, vertices):\n",
        "  net = Network(notebook=True, cdn_resources='remote', directed=True, height=\"1200px\", width=\"100%\", bgcolor=\"black\", font_color=\"white\")\n",
        "  imprimeVertices(net, n_palavras, vertices)\n",
        "  imprimeArestas(net, n_palavras, vertices)\n",
        "  net.barnes_hut() # Dispersa melhor os vértices\n",
        "  net.show(\"grafo.html\") # Salva o grafo"
      ],
      "metadata": {
        "id": "OGnMeqekG13i"
      },
      "execution_count": 113,
      "outputs": []
    },
    {
      "cell_type": "markdown",
      "source": [
        "### Mostra vértice"
      ],
      "metadata": {
        "id": "Cxg23MaPQT-n"
      }
    },
    {
      "cell_type": "code",
      "source": [
        "def mostraVertice(vertices, indice):\n",
        "  palavra = vertices[indice][\"palavra\"]\n",
        "  n_vizinhos = vertices[indice][\"n_vizinhos\"]\n",
        "  vizinhos = vertices[indice][\"proximos\"]\n",
        "  print(f\"\\nPalavra: {palavra}\\n\")\n",
        "  for i in range(n_vizinhos):\n",
        "    vizinho =  vizinhos[i][\"vizinho\"]\n",
        "    distancia = vizinhos[i][\"distancia\"]\n",
        "    print(f'''\n",
        "    Vizinho: {vizinho}\n",
        "    Distância: {distancia}''')"
      ],
      "metadata": {
        "id": "u7P9I5OlQVyH"
      },
      "execution_count": 114,
      "outputs": []
    },
    {
      "cell_type": "markdown",
      "metadata": {
        "id": "7YNbDvEe2JA3"
      },
      "source": [
        "# Aplicação"
      ]
    },
    {
      "cell_type": "markdown",
      "source": [
        "## Código"
      ],
      "metadata": {
        "id": "XJqMmXW4Dx3P"
      }
    },
    {
      "cell_type": "code",
      "execution_count": 118,
      "metadata": {
        "collapsed": true,
        "id": "AdLQfMUkWbyX"
      },
      "outputs": [],
      "source": [
        "def menu():\n",
        "    memoria = Memory(chunking_strategy={\"mode\": \"sliding_window\", \"window_size\": 1, \"overlap\": 0})\n",
        "    fim = False\n",
        "\n",
        "    while(fim == False):\n",
        "        print(\n",
        "    '''\n",
        "    Menu:\n",
        "\n",
        "        1) Ler dados do arquivo\n",
        "        2) Gravar dados no arquivo grafo.txt\n",
        "        3) Inserir vértice\n",
        "        4) Inserir aresta\n",
        "        5) Remover vértice\n",
        "        6) Remover aresta\n",
        "        7) Exibir grafo\n",
        "        8) Exibir matriz\n",
        "        9) Apresentar a conexidade do grafo e o reduzido\n",
        "        10) Encerrar a aplicação\n",
        "        11) Buscar um índice pela palavra\n",
        "        12) Buscar uma palavra pelo índice\n",
        "        13) Mostrar informações do vértice\n",
        "        14) Fazer busca vetorial\n",
        "    ''')\n",
        "        try:\n",
        "            choice = int(input())\n",
        "            if choice == 1: # Cria grafo\n",
        "                dados = leArquivoHTTP('https://raw.githubusercontent.com/Cehiim/TeoriaDosGrafos/refs/heads/main/Projeto/palavras.txt')\n",
        "                #dados = leArquivo(\"palavras.txt\")\n",
        "                n_palavras = dados[0]\n",
        "                vertices = dados[1]\n",
        "                embedding(memoria, n_palavras, vertices)\n",
        "                grafo = integraGrafo(memoria, n_palavras, vertices)\n",
        "                print(\"Grafo criado com sucesso!\")\n",
        "\n",
        "            elif choice == 2: # Grava dados no arquivo .txt\n",
        "                try:\n",
        "                    gravaDados(n_palavras, vertices)\n",
        "                    print(\"Os dados foram salvos no arquivo 'grafo.txt'.\")\n",
        "                except NameError:\n",
        "                    print(\"[Erro: Grafo não criado]\")\n",
        "\n",
        "            elif choice == 3: # Insere vértice\n",
        "                palavra = input(\"Palavra a ser inserida: \")\n",
        "                try:\n",
        "                    insereVertice(grafo, n_palavras, vertices, palavra)\n",
        "                    n_palavras += 1\n",
        "                    print(\"Vértice inserido com sucesso!\")\n",
        "\n",
        "                except NameError:\n",
        "                    print(\"[Erro: Grafo não criado]\")\n",
        "\n",
        "            elif choice == 4: # Insere aresta\n",
        "                try:\n",
        "                    origem = int(input(\"Insira o índice de origem: \"))\n",
        "                    destino = int(input(\"Insira o índice de destino: \"))\n",
        "                    peso = float(input(\"Insira o peso: \"))\n",
        "                    aresta = criaAresta(origem, destino)\n",
        "                    try:\n",
        "                        insereAresta(grafo, n_palavras, vertices, aresta, peso)\n",
        "                        print(\"Aresta inserida com sucesso!\")\n",
        "\n",
        "                    except NameError:\n",
        "                        print(\"[Erro: Grafo não criado]\")\n",
        "\n",
        "                except ValueError:\n",
        "                    print(\"[Erro: a entrada não é do tipo int]\")\n",
        "\n",
        "            elif choice == 5: # Remove vértice\n",
        "                try:\n",
        "                    indice = int(input(\"Insira o índice do vértice: \"))\n",
        "                    try:\n",
        "                        removeVertice(grafo, n_palavras, vertices, indice)\n",
        "                        n_palavras -= 1\n",
        "                        print(\"Vértice removido com sucesso!\")\n",
        "\n",
        "                    except NameError:\n",
        "                        print(\"[Erro: Grafo não criado]\")\n",
        "\n",
        "                except ValueError:\n",
        "                    print(\"[Erro: a entrada não é do tipo int]\")\n",
        "\n",
        "            elif choice == 6: # Remove aresta\n",
        "                try:\n",
        "                    origem = int(input(\"Insira o índice de origem: \"))\n",
        "                    destino = int(input(\"Insira o índice de destino: \"))\n",
        "                    aresta = criaAresta(origem, destino)\n",
        "                    try:\n",
        "                        removeAresta(grafo, n_palavras, vertices, aresta)\n",
        "                        print(\"Aresta removida com sucesso!\")\n",
        "\n",
        "                    except NameError:\n",
        "                        print(\"[Erro: Grafo não criado]\")\n",
        "\n",
        "                except ValueError:\n",
        "                    print(\"[Erro: a entrada não é do tipo int]\")\n",
        "\n",
        "            elif choice == 7: # Exibe grafo\n",
        "                try:\n",
        "                    imprimeGrafo(n_palavras, vertices)\n",
        "                    print(f\"\\nGrafo direcionado rotulado com {grafo.n} vértices e {grafo.m} arestas\\n\")\n",
        "                    print(\"O grafo visual foi criado no arquivo 'grafo.html'.\")\n",
        "                    print((\"\\nAperte ENTER para continuar \"))\n",
        "                    ok = input()\n",
        "                except NameError:\n",
        "                    print(\"[Erro: Grafo não criado]\")\n",
        "\n",
        "            elif choice == 8: # Exibe matriz\n",
        "                try:\n",
        "                    grafo.showMin()\n",
        "                    print((\"\\nAperte ENTER para continuar \"))\n",
        "                    ok = input()\n",
        "                except NameError:\n",
        "                    print(\"[Erro: Grafo não criado]\")\n",
        "\n",
        "            elif choice == 9: # Apresenta a conexidade do grafo e grafo reduzido\n",
        "                try:\n",
        "                    grafo.conexidade()\n",
        "                    print((\"\\nAperte ENTER para continuar \"))\n",
        "                    ok = input()\n",
        "                except NameError:\n",
        "                    print(\"[Erro: Grafo não criado]\")\n",
        "\n",
        "            elif choice == 10: # Encerra\n",
        "                fim = True\n",
        "                print(\"Encerrando programa...\")\n",
        "\n",
        "            elif choice == 11: # Busca um índice pela palavra\n",
        "                try:\n",
        "                    palavra = input(\"Palavra a ser consultada: \")\n",
        "                    indice = buscaIndice(n_palavras, vertices, palavra)\n",
        "                    if(indice == -1):\n",
        "                        print(\"[Erro: palavra não encontrada]\")\n",
        "                    else:\n",
        "                        print(f\"Índice de {palavra}: {indice}\")\n",
        "                        print((\"\\nAperte ENTER para continuar \"))\n",
        "                        ok = input()\n",
        "                except NameError:\n",
        "                    print(\"[Erro: Grafo não criado]\")\n",
        "\n",
        "            elif choice == 12: # Busca um índice pela palavra\n",
        "                try:\n",
        "                    indice = int(input(\"Índice a ser consultado: \"))\n",
        "                    try:\n",
        "                        palavra = buscaPalavra(n_palavras, vertices, indice)\n",
        "                        if(indice == -1):\n",
        "                            print(\"[Erro: palavra não encontrada]\")\n",
        "                        else:\n",
        "                            print(f\"Palavra do índice {indice}: {palavra}\")\n",
        "                            print((\"\\nAperte ENTER para continuar \"))\n",
        "                            ok = input()\n",
        "                    except NameError:\n",
        "                      print(\"[Erro: Grafo não criado]\")\n",
        "                except ValueError:\n",
        "                    print(\"[Erro: a entrada não é do tipo int]\")\n",
        "\n",
        "            elif choice == 13: # Mostra informações do vértice\n",
        "                try:\n",
        "                    indice = int(input(\"Índice do vértice: \"))\n",
        "                    try:\n",
        "                        mostraVertice(vertices, indice)\n",
        "                        print((\"\\nAperte ENTER para continuar \"))\n",
        "                        ok = input()\n",
        "                    except NameError:\n",
        "                      print(\"[Erro: Grafo não criado]\")\n",
        "                except ValueError:\n",
        "                    print(\"[Erro: a entrada não é do tipo int]\")\n",
        "\n",
        "            elif choice == 14: # Fazer busca vetorial de uma palavra\n",
        "                busca = input(\"Insira uma palavra: \")\n",
        "                try:\n",
        "                    resultado = memoria.search(busca, top_n=3)\n",
        "                    print(f\"\\n\\nBusca: {busca}\\n\")\n",
        "                    for i in range(3):\n",
        "                        palavra = resultado[i]['chunk']\n",
        "                        distancia = resultado[i]['distance']\n",
        "                        print(f\"Palavra: {palavra}\\nDistância: {distancia:.2f}\\n\")\n",
        "                    print((\"\\nAperte ENTER para continuar \"))\n",
        "                    ok = input()\n",
        "                except IndexError:\n",
        "                    print(\"[Erro: Grafo não criado]\")\n",
        "\n",
        "            else:\n",
        "                print(\"Opção inválida.\")\n",
        "\n",
        "        except ValueError:\n",
        "            print(\"[Erro: a entrada não é do tipo int]\")\n",
        "\n",
        "        time.sleep(1)\n",
        "        try:\n",
        "            from IPython.display import clear_output\n",
        "\n",
        "            clear_output(wait=True) # Limpa o terminal caso esteja no Google Colab\n",
        "\n",
        "        except ImportError:\n",
        "            if os.name == 'nt': # Limpa o terminal caso o OS seja Windows\n",
        "                os.system('cls')\n",
        "            else:\n",
        "                os.system('clear') # Limpa o terminal caso o OS seja Linux ou MacOS"
      ]
    },
    {
      "cell_type": "markdown",
      "source": [
        "## Menu"
      ],
      "metadata": {
        "id": "WhZxWel7D4uW"
      }
    },
    {
      "cell_type": "code",
      "source": [
        "menu()"
      ],
      "metadata": {
        "colab": {
          "base_uri": "https://localhost:8080/"
        },
        "collapsed": true,
        "id": "G9pdN9NSD_vR",
        "outputId": "4303dec4-3b80-4463-8f16-aa23bf3beb13"
      },
      "execution_count": 119,
      "outputs": [
        {
          "output_type": "stream",
          "name": "stdout",
          "text": [
            "\n",
            "    Menu:\n",
            "\n",
            "        1) Ler dados do arquivo\n",
            "        2) Gravar dados no arquivo grafo.txt\n",
            "        3) Inserir vértice\n",
            "        4) Inserir aresta\n",
            "        5) Remover vértice\n",
            "        6) Remover aresta\n",
            "        7) Exibir grafo\n",
            "        8) Exibir matriz\n",
            "        9) Apresentar a conexidade do grafo e o reduzido\n",
            "        10) Encerrar a aplicação\n",
            "        11) Buscar um índice pela palavra\n",
            "        12) Buscar uma palavra pelo índice\n",
            "        13) Mostrar informações do vértice\n",
            "        14) Fazer busca vetorial\n",
            "    \n",
            "10\n",
            "Encerrando programa...\n"
          ]
        }
      ]
    }
  ],
  "metadata": {
    "colab": {
      "collapsed_sections": [
        "oX9e_J1rfR8k",
        "f4Fd36vBfY_m",
        "jUL4VcKo2JAl",
        "g2sI3d7Qz7ck",
        "XMuxrf07kEw_",
        "by7AfxYr5Wwg",
        "TmqCgxE0isy5",
        "CGlKvBrCi3qp",
        "xvG7B29cjGjs",
        "0RbhmJRQjX7y",
        "D2GpxPLMjiC5",
        "uuinIkupjvJp",
        "nY8qxhFskHeU",
        "akYDFZCNkVNn",
        "2PeqvyNUkgfI",
        "5L5R6K1ak9y6",
        "OCilppoasxOJ",
        "WTHEWrEos1bx",
        "k-MC5QZ-s9fh",
        "m4zLz70nNLil",
        "S0kXytc8M-uW",
        "8LyuaiqbGnQr",
        "FCn2z_GwGrMA",
        "j3fUMtozG0nK",
        "Cxg23MaPQT-n",
        "ro4oq-cagY8g",
        "fj8LIYV32JAo",
        "rsUUPVLa2JAs",
        "rcUaBUFE2JAs",
        "-8PvH4ed2JAt",
        "nMVke0Al2JAt",
        "cvUaJjZS2JAu",
        "4f8SKdKg2JAv",
        "kS8x6Fjd2JA2",
        "hs6GqASM2JA2",
        "XJqMmXW4Dx3P",
        "WhZxWel7D4uW"
      ],
      "provenance": [],
      "include_colab_link": true
    },
    "kernelspec": {
      "display_name": "Python 3 (ipykernel)",
      "language": "python",
      "name": "python3"
    },
    "language_info": {
      "codemirror_mode": {
        "name": "ipython",
        "version": 3
      },
      "file_extension": ".py",
      "mimetype": "text/x-python",
      "name": "python",
      "nbconvert_exporter": "python",
      "pygments_lexer": "ipython3",
      "version": "3.10.11"
    }
  },
  "nbformat": 4,
  "nbformat_minor": 0
}