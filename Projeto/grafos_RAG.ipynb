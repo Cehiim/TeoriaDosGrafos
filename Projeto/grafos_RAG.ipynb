{
 "cells": [
  {
   "cell_type": "markdown",
   "metadata": {
    "id": "oX9e_J1rfR8k"
   },
   "source": [
    "# Setup"
   ]
  },
  {
   "cell_type": "markdown",
   "metadata": {
    "id": "f4Fd36vBfY_m"
   },
   "source": [
    "## Instalação de pacotes"
   ]
  },
  {
   "cell_type": "markdown",
   "metadata": {
    "id": "YI_J43xnrFIo"
   },
   "source": [
    "O pacote `vectordb2` é usado para armazenar e recuperar textos usando técnicas de chunking (segmentação de texto), embeddings (conversão de texto para vetores numéricos) e busca vetorial."
   ]
  },
  {
   "cell_type": "code",
   "execution_count": null,
   "metadata": {
    "colab": {
     "base_uri": "https://localhost:8080/"
    },
    "collapsed": true,
    "id": "yy3H5b34UlKV",
    "jupyter": {
     "outputs_hidden": true
    },
    "outputId": "7a29cc95-a0e7-4e81-f782-21de43276371"
   },
   "outputs": [],
   "source": [
    "%pip install vectordb2\n",
    "%pip install requests"
   ]
  },
  {
   "cell_type": "markdown",
   "metadata": {
    "id": "f4Fd36vBfY_m"
   },
   "source": [
    "O pacote `networkx` é usado para a criação, manipulação e representação de grafos."
   ]
  },
  {
   "cell_type": "code",
   "execution_count": null,
   "metadata": {
    "id": "hVwSlpPSeJPm"
   },
   "outputs": [],
   "source": [
    "%pip install networkx"
   ]
  },
  {
   "cell_type": "markdown",
   "metadata": {
    "id": "DCxEnW2Kfh01"
   },
   "source": [
    "## Aquisição dos dados"
   ]
  },
  {
   "cell_type": "markdown",
   "metadata": {
    "id": "lQTDQ3Csrn-1"
   },
   "source": [
    "Os dados do documento são importados e guardados na variável `arquivo`."
   ]
  },
  {
   "cell_type": "code",
   "execution_count": 8,
   "metadata": {
    "id": "axKzwctDVOtq"
   },
   "outputs": [],
   "source": [
    "import requests\n",
    "\n",
    "arquivo = requests.get('https://raw.githubusercontent.com/Cehiim/TeoriaDosGrafos/refs/heads/main/Projeto/palavras.txt').text"
   ]
  },
  {
   "cell_type": "code",
   "execution_count": null,
   "metadata": {},
   "outputs": [],
   "source": [
    "#with open(\"./Projeto/palavras.txt\", 'r') as file:\n",
    "#    arquivo = file.read()"
   ]
  },
  {
   "cell_type": "markdown",
   "metadata": {},
   "source": [
    "As palavras contidas no documento são segmentadas e armazenadas na lista `palavras`."
   ]
  },
  {
   "cell_type": "code",
   "execution_count": null,
   "metadata": {
    "colab": {
     "base_uri": "https://localhost:8080/"
    },
    "collapsed": true,
    "id": "cNkrvBRqZQGT",
    "jupyter": {
     "outputs_hidden": true
    },
    "outputId": "53e48b17-aef5-491a-987d-2ceb43538dd1"
   },
   "outputs": [],
   "source": [
    "palavras = arquivo.split()\n",
    "n_palavras = 50"
   ]
  },
  {
   "cell_type": "markdown",
   "metadata": {
    "id": "QKxkp4PBf7Cc"
   },
   "source": [
    "## Embedding das palavras"
   ]
  },
  {
   "cell_type": "markdown",
   "metadata": {
    "id": "GCI929qqsm6j"
   },
   "source": [
    "Aqui é utilizado a biblioteca VectorDB para criar uma memória virtual.\n",
    "\n",
    "- `chunking_strategy`: Define a estratégia de fragmentação dos dados. Na estratégia \"sliding_window\", os dados são divididos em chunks (pedaços de texto) de tamanho fixo.\n",
    "\n",
    "- `window_size`: Define a quantidade de palavras que um chunk representa. Neste caso, cada chunk representa uma palavra.\n",
    "\n",
    "- `overlap`: Define quantos elementos de sobreposição existirão entre os chunks adjacentes. Neste caso, não haverá sobreposição já que as palavras usadas não formam frases, logo são independentes uma das outras."
   ]
  },
  {
   "cell_type": "code",
   "execution_count": null,
   "metadata": {
    "colab": {
     "base_uri": "https://localhost:8080/"
    },
    "collapsed": true,
    "id": "3_Z8TfBTyF07",
    "jupyter": {
     "outputs_hidden": true
    },
    "outputId": "a7ba6b97-403e-4066-e809-6a2bfb85dbbb"
   },
   "outputs": [],
   "source": [
    "from vectordb import Memory\n",
    "\n",
    "memory = Memory(chunking_strategy={\"mode\": \"sliding_window\", \"window_size\": 1, \"overlap\": 0})"
   ]
  },
  {
   "cell_type": "markdown",
   "metadata": {},
   "source": [
    "Aqui cada palavra é convertida para um vetor numérico e guardada na memória."
   ]
  },
  {
   "cell_type": "code",
   "execution_count": 11,
   "metadata": {
    "id": "hPaDhV6Xy4jF"
   },
   "outputs": [],
   "source": [
    "for i in range(n_palavras):\n",
    "  memory.save(palavras[i])"
   ]
  },
  {
   "cell_type": "markdown",
   "metadata": {},
   "source": [
    "## Busca"
   ]
  },
  {
   "cell_type": "markdown",
   "metadata": {},
   "source": [
    "Quanto menor é a distância, maior é a proximidade semântica."
   ]
  },
  {
   "cell_type": "code",
   "execution_count": null,
   "metadata": {},
   "outputs": [],
   "source": [
    "for i in range(n_palavras):\n",
    "  print(f\"\\n\\nBusca: {palavras[i]}\\n\")\n",
    "  buscas = memory.search(palavras[i], top_n=6)\n",
    "\n",
    "  for j in range(1,6):\n",
    "    palavra = buscas[j]['chunk']\n",
    "    distancia = buscas[j]['distance']\n",
    "    print(f\"Palavra: {palavra}\\nDistância: {distancia:.2f}\\n\")"
   ]
  },
  {
   "cell_type": "markdown",
   "metadata": {
    "id": "QKxkp4PBf7Cc",
    "jp-MarkdownHeadingCollapsed": true
   },
   "source": [
    "## Definição da classe Grafo"
   ]
  },
  {
   "cell_type": "code",
   "execution_count": null,
   "metadata": {},
   "outputs": [],
   "source": [
    "\"\"\"\n",
    "Created on Mon Feb 13 13:59:10 2023\n",
    "\n",
    "@author: icalc\n",
    "\"\"\"\n",
    "\n",
    "# Grafo como uma matriz de adjacência\n",
    "class Grafo:\n",
    "    TAM_MAX_DEFAULT = 100 # qtde de vértices máxima default\n",
    "    # construtor da classe grafo\n",
    "    def __init__(self, n=TAM_MAX_DEFAULT):\n",
    "        self.n = n # número de vértices\n",
    "        self.m = 0 # número de arestas\n",
    "        # matriz de adjacência\n",
    "        self.adj = [[0 for i in range(n)] for j in range(n)]\n",
    "\n",
    "\t# Insere uma aresta no Grafo tal que\n",
    "\t# v é adjacente a w\n",
    "    def insereA(self, v, w):\n",
    "        if self.adj[v][w] == 0:\n",
    "            self.adj[v][w] = 1\n",
    "            self.m+=1 # atualiza qtd arestas\n",
    "    \n",
    "# remove uma aresta v->w do Grafo\n",
    "    def removeA(self, v, w):\n",
    "        if(v == w):\n",
    "            return\n",
    "        # testa se temos a aresta\n",
    "        if self.adj[v][w] == 1:\n",
    "            self.adj[v][w] = 0\n",
    "            self.m -= 1  # atualiza qtd arestas\n",
    "\n",
    "\t# Apresenta o Grafo contendo\n",
    "\t# número de vértices, arestas\n",
    "\t# e a matriz de adjacência obtida\t\n",
    "    def show(self):\n",
    "        print(f\"\\n n: {self.n:2d} \", end=\"\")\n",
    "        print(f\"m: {self.m:2d}\\n\")\n",
    "        for i in range(self.n):\n",
    "            for w in range(self.n):\n",
    "                if self.adj[i][w] == 1:\n",
    "                    print(f\"Adj[{i:2d},{w:2d}] = 1 \", end=\"\") \n",
    "                else:\n",
    "                    print(f\"Adj[{i:2d},{w:2d}] = 0 \", end=\"\")\n",
    "            print(\"\\n\")\n",
    "        print(\"\\nfim da impressao do grafo.\" )\n",
    "\n",
    "\n",
    "\t# Apresenta o Grafo contendo\n",
    "\t# número de vértices, arestas\n",
    "\t# e a matriz de adjacência obtida \n",
    "    # Apresentando apenas os valores 0 ou 1\t\n",
    "    def showMin(self):\n",
    "        print(f\"\\n n: {self.n:2d} \", end=\"\")\n",
    "        print(f\"m: {self.m:2d}\\n\")\n",
    "        for i in range(self.n):\n",
    "            for w in range(self.n):\n",
    "                if self.adj[i][w] == 1:\n",
    "                    print(\" 1 \", end=\"\") \n",
    "                else:\n",
    "                    print(\" 0 \", end=\"\")\n",
    "            print(\"\\n\")\n",
    "        print(\"\\nfim da impressao do grafo.\" )\n",
    "\n",
    "\n",
    "    # Função para calcular o grau de entrada no vértice v Ex 1)\n",
    "    #OBS: Estou assumindo que, para os métodos abaixo, o valor v pertence ao intervalo [0, n - 1] ao invés de [1, n], em que n é o número de vértices\n",
    "    def inDegree(self, v):\n",
    "        degree = 0\n",
    "        for i in range(self.n):\n",
    "            degree += self.adj[i][v]\n",
    "        return degree\n",
    "    \n",
    "    #Função para calcular o grau de saída no vértice v Ex 2)\n",
    "    def outDegree(self, v):\n",
    "        degree = 0\n",
    "        for i in range(self.n):\n",
    "            degree += self.adj[v][i]\n",
    "        return degree\n",
    "    \n",
    "    #Função para verificar se um vértice é fonte Ex 3)\n",
    "    def ehFonte(self, v):\n",
    "        if(self.inDegree(v) == 0 and self.outDegree(v) > 0):\n",
    "            return 1\n",
    "        else:\n",
    "            return 0\n",
    "    \n",
    "    #Função para verificar se um vértice é sorvedouro Ex 4)\n",
    "    def ehSoverdouro(self, v):\n",
    "        if(self.inDegree(v) > 0 and self.outDegree(v) == 0):\n",
    "            return 1\n",
    "        else:\n",
    "            return 0\n",
    "\n",
    "    #Função para verificar se um grafo é simétrico Ex 5)    \n",
    "    def ehSimetrico(self):\n",
    "        for i in range(self.n):\n",
    "            for j in range(i, self.n):\n",
    "                if(self.adj[i][j] != self.adj[j][i]):\n",
    "                    return 0\n",
    "        return 1\n",
    "    \n",
    "    #Método para ler um grafo de um arquivo .txt Ex 6)\n",
    "    def leGrafo(self, path = \"grafo.txt\"):\n",
    "        with open(path, 'r') as file:\n",
    "            self.n = int(file.readline())\n",
    "            self.m = int(file.readline())\n",
    "            for _ in range(self.m):\n",
    "                string = file.readline()\n",
    "                i, j = int(string[0]), int(string[2])\n",
    "                self.adj[i][j] = 1\n",
    "    \n",
    "    #Método para remover um vértice de um grafo direcionado Ex 25)\n",
    "    def removeV(self, v):\n",
    "        for i in range(self.n):\n",
    "            if self.adj[i][v] == 1 or self.adj[v][i] == 1: #Verifica se havia uma aresta para subtrair\n",
    "                self.m -= 1\n",
    "            if i != v and i != len(self.adj) - 1: #Substitui a linha e coluna da matriz a serem apagadas pelas últimas linha e coluna respectivamente\n",
    "                self.adj[i][v] = self.adj[i][-1]\n",
    "                self.adj[v][i] = self.adj[-1][i]\n",
    "\n",
    "        self.adj[v][v] = self.adj[-1][-1]\n",
    "        for i in range(self.n):\n",
    "            self.adj[i].pop() #Remove a última coluna da matriz\n",
    "        \n",
    "        self.adj.pop() #Remove a última linha\n",
    "        self.n -= 1 #Decrementa um vértice\n",
    "        \n",
    "    def ehCompleto(self): # Ex 11\n",
    "        if((self.n ** 2) - self.n == self.m):\n",
    "            return \"O grafo é completo\"\n",
    "        return \"O grafo não é completo\""
   ]
  },
  {
   "cell_type": "markdown",
   "metadata": {
    "id": "ro4oq-cagY8g"
   },
   "source": [
    "# Métodos"
   ]
  },
  {
   "cell_type": "markdown",
   "metadata": {},
   "source": [
    "## 1. Ler dados"
   ]
  },
  {
   "cell_type": "code",
   "execution_count": null,
   "metadata": {},
   "outputs": [],
   "source": []
  },
  {
   "cell_type": "markdown",
   "metadata": {},
   "source": [
    "## 2. Gravar dados"
   ]
  },
  {
   "cell_type": "code",
   "execution_count": null,
   "metadata": {},
   "outputs": [],
   "source": []
  },
  {
   "cell_type": "markdown",
   "metadata": {},
   "source": [
    "## 3. Inserir vértice"
   ]
  },
  {
   "cell_type": "code",
   "execution_count": null,
   "metadata": {},
   "outputs": [],
   "source": []
  },
  {
   "cell_type": "markdown",
   "metadata": {},
   "source": [
    "## 4. Inserir aresta"
   ]
  },
  {
   "cell_type": "code",
   "execution_count": null,
   "metadata": {},
   "outputs": [],
   "source": []
  },
  {
   "cell_type": "markdown",
   "metadata": {},
   "source": [
    "## 5. Remover vértice"
   ]
  },
  {
   "cell_type": "code",
   "execution_count": null,
   "metadata": {},
   "outputs": [],
   "source": []
  },
  {
   "cell_type": "markdown",
   "metadata": {},
   "source": [
    "## 6. Remover aresta"
   ]
  },
  {
   "cell_type": "code",
   "execution_count": null,
   "metadata": {},
   "outputs": [],
   "source": []
  },
  {
   "cell_type": "markdown",
   "metadata": {},
   "source": [
    "## 7. Mostrar conteúdo"
   ]
  },
  {
   "cell_type": "code",
   "execution_count": null,
   "metadata": {},
   "outputs": [],
   "source": []
  },
  {
   "cell_type": "markdown",
   "metadata": {},
   "source": [
    "## 8. Mostrar grafo"
   ]
  },
  {
   "cell_type": "code",
   "execution_count": null,
   "metadata": {},
   "outputs": [],
   "source": []
  },
  {
   "cell_type": "markdown",
   "metadata": {},
   "source": [
    "## 9. Apresentar conexidade do grafo e o reduzido"
   ]
  },
  {
   "cell_type": "code",
   "execution_count": null,
   "metadata": {},
   "outputs": [],
   "source": []
  },
  {
   "cell_type": "markdown",
   "metadata": {},
   "source": [
    "## 10. Encerrar a aplicação"
   ]
  },
  {
   "cell_type": "code",
   "execution_count": null,
   "metadata": {},
   "outputs": [],
   "source": []
  },
  {
   "cell_type": "markdown",
   "metadata": {},
   "source": [
    "# Menu"
   ]
  },
  {
   "cell_type": "code",
   "execution_count": 12,
   "metadata": {
    "id": "AdLQfMUkWbyX"
   },
   "outputs": [],
   "source": [
    "import os, time\n",
    "\n",
    "grafo = Grafo() #Cria objeto grafo\n",
    "while(True):\n",
    "    choice = int(input(\n",
    "'''\n",
    "Menu:\n",
    "    1) Ler dados do arquivo grafo.txt\n",
    "    2) Gravar dados no arquivo grafo.txt\n",
    "    3) Inserir vértice\n",
    "    4) Inserir aresta\n",
    "    5) Remove vértice\n",
    "    6) Remove aresta\n",
    "    7) Mostrar conteúdo do arquivo\n",
    "    8) Mostrar grafo\n",
    "    9) Apresentar a conexidade do grafo e o reduzido\n",
    "    10) Encerrar a aplicação\n",
    "'''))\n",
    "    if choice == 1: # Lê grafo\n",
    "        grafo.leGrafo()\n",
    "        print(\"Grafo lido com sucesso!\")\n",
    "    \n",
    "    elif choice == 2: # Grava dados no arquivo .txt\n",
    "        print(\"oi\")\n",
    "\n",
    "    elif choice == 3: # Insere vértice\n",
    "        print(\"oi\")\n",
    "    \n",
    "    elif choice == 4: # Insere aresta\n",
    "        print(\"oi\")\n",
    "\n",
    "    elif choice == 5: # Remove vértice\n",
    "        print(\"oi\")\n",
    "\n",
    "    elif choice == 6: # Remove varesta\n",
    "        print(\"oi\")\n",
    "\n",
    "    elif choice == 7: # Imprime arquivo\n",
    "        print(\"oi\")\n",
    "\n",
    "    elif choice == 8: # Exibe grafo\n",
    "        print(\"oi\")\n",
    "\n",
    "    elif choice == 9: # Apresenta a conexidade do grafo e grafo reduzido\n",
    "        print(\"oi\")\n",
    "\n",
    "    elif choice == 10: # Encerra\n",
    "        exit()\n",
    "    \n",
    "    else:\n",
    "        print(\"Escolha inválida!\")\n",
    "    \n",
    "    time.sleep(3) #Volta para o menu após 3 segundos\n",
    "    os.system('clear') #OBS: Trocar para 'cls' no Windows\n"
   ]
  }
 ],
 "metadata": {
  "colab": {
   "collapsed_sections": [
    "oX9e_J1rfR8k",
    "DCxEnW2Kfh01"
   ],
   "provenance": []
  },
  "kernelspec": {
   "display_name": "Python 3 (ipykernel)",
   "language": "python",
   "name": "python3"
  },
  "language_info": {
   "codemirror_mode": {
    "name": "ipython",
    "version": 3
   },
   "file_extension": ".py",
   "mimetype": "text/x-python",
   "name": "python",
   "nbconvert_exporter": "python",
   "pygments_lexer": "ipython3",
   "version": "3.10.11"
  }
 },
 "nbformat": 4,
 "nbformat_minor": 4
}
