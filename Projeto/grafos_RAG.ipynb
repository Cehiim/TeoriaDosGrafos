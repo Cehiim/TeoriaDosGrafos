{
  "cells": [
    {
      "cell_type": "markdown",
      "metadata": {
        "id": "view-in-github",
        "colab_type": "text"
      },
      "source": [
        "<a href=\"https://colab.research.google.com/github/Cehiim/TeoriaDosGrafos/blob/main/Projeto/grafos_RAG.ipynb\" target=\"_parent\"><img src=\"https://colab.research.google.com/assets/colab-badge.svg\" alt=\"Open In Colab\"/></a>"
      ]
    },
    {
      "cell_type": "markdown",
      "source": [
        "# Informações gerais"
      ],
      "metadata": {
        "id": "XYffMUNr2Ila"
      }
    },
    {
      "cell_type": "markdown",
      "source": [
        "## Integrantes\n",
        "* Cesar Hideki Imai - 10402758\n",
        "* João Victor Dallapé Madeira - 10400725\n",
        "* David Varão Lima Bentes Pessoa - 10402647"
      ],
      "metadata": {
        "id": "3Ox-VDbp2LbY"
      }
    },
    {
      "cell_type": "markdown",
      "metadata": {
        "id": "oX9e_J1rfR8k"
      },
      "source": [
        "# Setup"
      ]
    },
    {
      "cell_type": "markdown",
      "metadata": {
        "id": "f4Fd36vBfY_m"
      },
      "source": [
        "## Integração dos pacotes"
      ]
    },
    {
      "cell_type": "markdown",
      "metadata": {
        "id": "YI_J43xnrFIo"
      },
      "source": [
        "O pacote `vectordb2` é usado para armazenar e recuperar textos usando técnicas de *chunking* (segmentação de texto), *embedding* (conversão de texto para vetores numéricos) e busca vetorial."
      ]
    },
    {
      "cell_type": "code",
      "execution_count": 722,
      "metadata": {
        "colab": {
          "base_uri": "https://localhost:8080/"
        },
        "collapsed": true,
        "id": "yy3H5b34UlKV",
        "jupyter": {
          "outputs_hidden": true
        },
        "outputId": "0cf6938a-e9b5-4795-f31b-d8a6d7120d4e"
      },
      "outputs": [
        {
          "output_type": "stream",
          "name": "stdout",
          "text": [
            "Requirement already satisfied: vectordb2 in /usr/local/lib/python3.10/dist-packages (0.1.9)\n",
            "Requirement already satisfied: torch>=1.9.0 in /usr/local/lib/python3.10/dist-packages (from vectordb2) (2.4.1+cu121)\n",
            "Requirement already satisfied: transformers>=4.10.0 in /usr/local/lib/python3.10/dist-packages (from vectordb2) (4.44.2)\n",
            "Requirement already satisfied: numpy>=1.21.0 in /usr/local/lib/python3.10/dist-packages (from vectordb2) (1.26.4)\n",
            "Requirement already satisfied: scikit-learn>=0.24.0 in /usr/local/lib/python3.10/dist-packages (from vectordb2) (1.5.2)\n",
            "Requirement already satisfied: scipy>=1.7.0 in /usr/local/lib/python3.10/dist-packages (from vectordb2) (1.13.1)\n",
            "Requirement already satisfied: sentence-transformers in /usr/local/lib/python3.10/dist-packages (from vectordb2) (3.1.1)\n",
            "Requirement already satisfied: faiss-cpu in /usr/local/lib/python3.10/dist-packages (from vectordb2) (1.8.0.post1)\n",
            "Requirement already satisfied: tensorflow-text in /usr/local/lib/python3.10/dist-packages (from vectordb2) (2.17.0)\n",
            "Requirement already satisfied: joblib>=1.2.0 in /usr/local/lib/python3.10/dist-packages (from scikit-learn>=0.24.0->vectordb2) (1.4.2)\n",
            "Requirement already satisfied: threadpoolctl>=3.1.0 in /usr/local/lib/python3.10/dist-packages (from scikit-learn>=0.24.0->vectordb2) (3.5.0)\n",
            "Requirement already satisfied: filelock in /usr/local/lib/python3.10/dist-packages (from torch>=1.9.0->vectordb2) (3.16.1)\n",
            "Requirement already satisfied: typing-extensions>=4.8.0 in /usr/local/lib/python3.10/dist-packages (from torch>=1.9.0->vectordb2) (4.12.2)\n",
            "Requirement already satisfied: sympy in /usr/local/lib/python3.10/dist-packages (from torch>=1.9.0->vectordb2) (1.13.3)\n",
            "Requirement already satisfied: networkx in /usr/local/lib/python3.10/dist-packages (from torch>=1.9.0->vectordb2) (3.3)\n",
            "Requirement already satisfied: jinja2 in /usr/local/lib/python3.10/dist-packages (from torch>=1.9.0->vectordb2) (3.1.4)\n",
            "Requirement already satisfied: fsspec in /usr/local/lib/python3.10/dist-packages (from torch>=1.9.0->vectordb2) (2024.6.1)\n",
            "Requirement already satisfied: huggingface-hub<1.0,>=0.23.2 in /usr/local/lib/python3.10/dist-packages (from transformers>=4.10.0->vectordb2) (0.24.7)\n",
            "Requirement already satisfied: packaging>=20.0 in /usr/local/lib/python3.10/dist-packages (from transformers>=4.10.0->vectordb2) (24.1)\n",
            "Requirement already satisfied: pyyaml>=5.1 in /usr/local/lib/python3.10/dist-packages (from transformers>=4.10.0->vectordb2) (6.0.2)\n",
            "Requirement already satisfied: regex!=2019.12.17 in /usr/local/lib/python3.10/dist-packages (from transformers>=4.10.0->vectordb2) (2024.9.11)\n",
            "Requirement already satisfied: requests in /usr/local/lib/python3.10/dist-packages (from transformers>=4.10.0->vectordb2) (2.32.3)\n",
            "Requirement already satisfied: safetensors>=0.4.1 in /usr/local/lib/python3.10/dist-packages (from transformers>=4.10.0->vectordb2) (0.4.5)\n",
            "Requirement already satisfied: tokenizers<0.20,>=0.19 in /usr/local/lib/python3.10/dist-packages (from transformers>=4.10.0->vectordb2) (0.19.1)\n",
            "Requirement already satisfied: tqdm>=4.27 in /usr/local/lib/python3.10/dist-packages (from transformers>=4.10.0->vectordb2) (4.66.5)\n",
            "Requirement already satisfied: Pillow in /usr/local/lib/python3.10/dist-packages (from sentence-transformers->vectordb2) (10.4.0)\n",
            "Requirement already satisfied: tensorflow<2.18,>=2.17.0 in /usr/local/lib/python3.10/dist-packages (from tensorflow-text->vectordb2) (2.17.0)\n",
            "Requirement already satisfied: absl-py>=1.0.0 in /usr/local/lib/python3.10/dist-packages (from tensorflow<2.18,>=2.17.0->tensorflow-text->vectordb2) (1.4.0)\n",
            "Requirement already satisfied: astunparse>=1.6.0 in /usr/local/lib/python3.10/dist-packages (from tensorflow<2.18,>=2.17.0->tensorflow-text->vectordb2) (1.6.3)\n",
            "Requirement already satisfied: flatbuffers>=24.3.25 in /usr/local/lib/python3.10/dist-packages (from tensorflow<2.18,>=2.17.0->tensorflow-text->vectordb2) (24.3.25)\n",
            "Requirement already satisfied: gast!=0.5.0,!=0.5.1,!=0.5.2,>=0.2.1 in /usr/local/lib/python3.10/dist-packages (from tensorflow<2.18,>=2.17.0->tensorflow-text->vectordb2) (0.6.0)\n",
            "Requirement already satisfied: google-pasta>=0.1.1 in /usr/local/lib/python3.10/dist-packages (from tensorflow<2.18,>=2.17.0->tensorflow-text->vectordb2) (0.2.0)\n",
            "Requirement already satisfied: h5py>=3.10.0 in /usr/local/lib/python3.10/dist-packages (from tensorflow<2.18,>=2.17.0->tensorflow-text->vectordb2) (3.11.0)\n",
            "Requirement already satisfied: libclang>=13.0.0 in /usr/local/lib/python3.10/dist-packages (from tensorflow<2.18,>=2.17.0->tensorflow-text->vectordb2) (18.1.1)\n",
            "Requirement already satisfied: ml-dtypes<0.5.0,>=0.3.1 in /usr/local/lib/python3.10/dist-packages (from tensorflow<2.18,>=2.17.0->tensorflow-text->vectordb2) (0.4.1)\n",
            "Requirement already satisfied: opt-einsum>=2.3.2 in /usr/local/lib/python3.10/dist-packages (from tensorflow<2.18,>=2.17.0->tensorflow-text->vectordb2) (3.3.0)\n",
            "Requirement already satisfied: protobuf!=4.21.0,!=4.21.1,!=4.21.2,!=4.21.3,!=4.21.4,!=4.21.5,<5.0.0dev,>=3.20.3 in /usr/local/lib/python3.10/dist-packages (from tensorflow<2.18,>=2.17.0->tensorflow-text->vectordb2) (3.20.3)\n",
            "Requirement already satisfied: setuptools in /usr/local/lib/python3.10/dist-packages (from tensorflow<2.18,>=2.17.0->tensorflow-text->vectordb2) (71.0.4)\n",
            "Requirement already satisfied: six>=1.12.0 in /usr/local/lib/python3.10/dist-packages (from tensorflow<2.18,>=2.17.0->tensorflow-text->vectordb2) (1.16.0)\n",
            "Requirement already satisfied: termcolor>=1.1.0 in /usr/local/lib/python3.10/dist-packages (from tensorflow<2.18,>=2.17.0->tensorflow-text->vectordb2) (2.4.0)\n",
            "Requirement already satisfied: wrapt>=1.11.0 in /usr/local/lib/python3.10/dist-packages (from tensorflow<2.18,>=2.17.0->tensorflow-text->vectordb2) (1.16.0)\n",
            "Requirement already satisfied: grpcio<2.0,>=1.24.3 in /usr/local/lib/python3.10/dist-packages (from tensorflow<2.18,>=2.17.0->tensorflow-text->vectordb2) (1.64.1)\n",
            "Requirement already satisfied: tensorboard<2.18,>=2.17 in /usr/local/lib/python3.10/dist-packages (from tensorflow<2.18,>=2.17.0->tensorflow-text->vectordb2) (2.17.0)\n",
            "Requirement already satisfied: keras>=3.2.0 in /usr/local/lib/python3.10/dist-packages (from tensorflow<2.18,>=2.17.0->tensorflow-text->vectordb2) (3.4.1)\n",
            "Requirement already satisfied: tensorflow-io-gcs-filesystem>=0.23.1 in /usr/local/lib/python3.10/dist-packages (from tensorflow<2.18,>=2.17.0->tensorflow-text->vectordb2) (0.37.1)\n",
            "Requirement already satisfied: charset-normalizer<4,>=2 in /usr/local/lib/python3.10/dist-packages (from requests->transformers>=4.10.0->vectordb2) (3.3.2)\n",
            "Requirement already satisfied: idna<4,>=2.5 in /usr/local/lib/python3.10/dist-packages (from requests->transformers>=4.10.0->vectordb2) (3.10)\n",
            "Requirement already satisfied: urllib3<3,>=1.21.1 in /usr/local/lib/python3.10/dist-packages (from requests->transformers>=4.10.0->vectordb2) (2.2.3)\n",
            "Requirement already satisfied: certifi>=2017.4.17 in /usr/local/lib/python3.10/dist-packages (from requests->transformers>=4.10.0->vectordb2) (2024.8.30)\n",
            "Requirement already satisfied: MarkupSafe>=2.0 in /usr/local/lib/python3.10/dist-packages (from jinja2->torch>=1.9.0->vectordb2) (2.1.5)\n",
            "Requirement already satisfied: mpmath<1.4,>=1.1.0 in /usr/local/lib/python3.10/dist-packages (from sympy->torch>=1.9.0->vectordb2) (1.3.0)\n",
            "Requirement already satisfied: wheel<1.0,>=0.23.0 in /usr/local/lib/python3.10/dist-packages (from astunparse>=1.6.0->tensorflow<2.18,>=2.17.0->tensorflow-text->vectordb2) (0.44.0)\n",
            "Requirement already satisfied: rich in /usr/local/lib/python3.10/dist-packages (from keras>=3.2.0->tensorflow<2.18,>=2.17.0->tensorflow-text->vectordb2) (13.8.1)\n",
            "Requirement already satisfied: namex in /usr/local/lib/python3.10/dist-packages (from keras>=3.2.0->tensorflow<2.18,>=2.17.0->tensorflow-text->vectordb2) (0.0.8)\n",
            "Requirement already satisfied: optree in /usr/local/lib/python3.10/dist-packages (from keras>=3.2.0->tensorflow<2.18,>=2.17.0->tensorflow-text->vectordb2) (0.12.1)\n",
            "Requirement already satisfied: markdown>=2.6.8 in /usr/local/lib/python3.10/dist-packages (from tensorboard<2.18,>=2.17->tensorflow<2.18,>=2.17.0->tensorflow-text->vectordb2) (3.7)\n",
            "Requirement already satisfied: tensorboard-data-server<0.8.0,>=0.7.0 in /usr/local/lib/python3.10/dist-packages (from tensorboard<2.18,>=2.17->tensorflow<2.18,>=2.17.0->tensorflow-text->vectordb2) (0.7.2)\n",
            "Requirement already satisfied: werkzeug>=1.0.1 in /usr/local/lib/python3.10/dist-packages (from tensorboard<2.18,>=2.17->tensorflow<2.18,>=2.17.0->tensorflow-text->vectordb2) (3.0.4)\n",
            "Requirement already satisfied: markdown-it-py>=2.2.0 in /usr/local/lib/python3.10/dist-packages (from rich->keras>=3.2.0->tensorflow<2.18,>=2.17.0->tensorflow-text->vectordb2) (3.0.0)\n",
            "Requirement already satisfied: pygments<3.0.0,>=2.13.0 in /usr/local/lib/python3.10/dist-packages (from rich->keras>=3.2.0->tensorflow<2.18,>=2.17.0->tensorflow-text->vectordb2) (2.18.0)\n",
            "Requirement already satisfied: mdurl~=0.1 in /usr/local/lib/python3.10/dist-packages (from markdown-it-py>=2.2.0->rich->keras>=3.2.0->tensorflow<2.18,>=2.17.0->tensorflow-text->vectordb2) (0.1.2)\n"
          ]
        }
      ],
      "source": [
        "%pip install vectordb2"
      ]
    },
    {
      "cell_type": "markdown",
      "metadata": {
        "id": "WZDIGMyXB04o"
      },
      "source": [
        "O pacote requests pode ser usado para recuperar o arquivo por meio de requisição em HTTP (esse pacote é opcional)."
      ]
    },
    {
      "cell_type": "code",
      "execution_count": 723,
      "metadata": {
        "colab": {
          "base_uri": "https://localhost:8080/"
        },
        "collapsed": true,
        "id": "FucP-UzdB1B3",
        "outputId": "bac2909a-17dc-4cb8-ce22-7b5888479383"
      },
      "outputs": [
        {
          "output_type": "stream",
          "name": "stdout",
          "text": [
            "Requirement already satisfied: requests in /usr/local/lib/python3.10/dist-packages (2.32.3)\n",
            "Requirement already satisfied: charset-normalizer<4,>=2 in /usr/local/lib/python3.10/dist-packages (from requests) (3.3.2)\n",
            "Requirement already satisfied: idna<4,>=2.5 in /usr/local/lib/python3.10/dist-packages (from requests) (3.10)\n",
            "Requirement already satisfied: urllib3<3,>=1.21.1 in /usr/local/lib/python3.10/dist-packages (from requests) (2.2.3)\n",
            "Requirement already satisfied: certifi>=2017.4.17 in /usr/local/lib/python3.10/dist-packages (from requests) (2024.8.30)\n"
          ]
        }
      ],
      "source": [
        "%pip install requests"
      ]
    },
    {
      "cell_type": "markdown",
      "metadata": {
        "id": "1OtxcQzT2JAX"
      },
      "source": [
        "O pacote `networkx` é usado para a criação, manipulação e representação de grafos."
      ]
    },
    {
      "cell_type": "code",
      "execution_count": 724,
      "metadata": {
        "colab": {
          "base_uri": "https://localhost:8080/"
        },
        "collapsed": true,
        "id": "hVwSlpPSeJPm",
        "outputId": "9e40d35f-f533-4532-dc56-09765e78500f"
      },
      "outputs": [
        {
          "output_type": "stream",
          "name": "stdout",
          "text": [
            "Requirement already satisfied: networkx in /usr/local/lib/python3.10/dist-packages (3.3)\n"
          ]
        }
      ],
      "source": [
        "%pip install networkx"
      ]
    },
    {
      "cell_type": "markdown",
      "metadata": {
        "id": "DjtCEtpOCxs2"
      },
      "source": [
        "Importação das bibliotecas"
      ]
    },
    {
      "cell_type": "code",
      "execution_count": 725,
      "metadata": {
        "id": "DA_HyrBKC6J0"
      },
      "outputs": [],
      "source": [
        "from vectordb import Memory\n",
        "import requests\n",
        "import networkx as nx\n",
        "import matplotlib.pyplot as plt # Será usado para apresentação visual do grafo\n",
        "import os # Será usado métodos para limpar o terminal para atualizar a interface em cada iteração do sistema\n",
        "import time # Será usado método de espera para atualizar a interface gradualmente"
      ]
    },
    {
      "cell_type": "markdown",
      "metadata": {
        "id": "jUL4VcKo2JAl",
        "jp-MarkdownHeadingCollapsed": true
      },
      "source": [
        "## Classe Grafo"
      ]
    },
    {
      "cell_type": "code",
      "execution_count": 726,
      "metadata": {
        "id": "yAaYISkbfzOE"
      },
      "outputs": [],
      "source": [
        "# -*- coding: utf-8 -*-\n",
        "\"\"\"\n",
        "Created on Mon Feb 13 13:59:10 2023\n",
        "\n",
        "@author: icalc\n",
        "\"\"\"\n",
        "class Grafo:\n",
        "    TAM_MAX_DEFAULT = 100 # qtde de vértices máxima default\n",
        "    # construtor da classe grafo\n",
        "    def __init__(self, n=TAM_MAX_DEFAULT):\n",
        "        self.n = n # número de vértices\n",
        "        self.m = 0 # número de arestas\n",
        "        # matriz de adjacência\n",
        "        self.adj = [[0 for i in range(n)] for j in range(n)]\n",
        "\n",
        "\t# Insere uma aresta no Grafo tal que\n",
        "\t# v é adjacente a w\n",
        "    def insereA(self, v, w):\n",
        "        if self.adj[v][w] == 0:\n",
        "            self.adj[v][w] = 1\n",
        "            self.m+=1 # atualiza qtd arestas\n",
        "\n",
        "# remove uma aresta v->w do Grafo\n",
        "    def removeA(self, v, w):\n",
        "        if(v == w):\n",
        "            return\n",
        "        # testa se temos a aresta\n",
        "        if self.adj[v][w] == 1:\n",
        "            self.adj[v][w] = 0\n",
        "            self.m -= 1  # atualiza qtd arestas\n",
        "\n",
        "\t# Apresenta o Grafo contendo\n",
        "\t# número de vértices, arestas\n",
        "\t# e a matriz de adjacência obtida\n",
        "    def show(self):\n",
        "        print(f\"\\n n: {self.n:2d} \", end=\"\")\n",
        "        print(f\"m: {self.m:2d}\\n\")\n",
        "        for i in range(self.n):\n",
        "            for w in range(self.n):\n",
        "                if self.adj[i][w] == 1:\n",
        "                    print(f\"Adj[{i:2d},{w:2d}] = 1 \", end=\"\")\n",
        "                else:\n",
        "                    print(f\"Adj[{i:2d},{w:2d}] = 0 \", end=\"\")\n",
        "            print(\"\\n\")\n",
        "        print(\"\\nfim da impressao do grafo.\" )\n",
        "\n",
        "\n",
        "\t# Apresenta o Grafo contendo\n",
        "\t# número de vértices, arestas\n",
        "\t# e a matriz de adjacência obtida\n",
        "    # Apresentando apenas os valores 0 ou 1\n",
        "    def showMin(self):\n",
        "        print(f\"\\n n: {self.n:2d} \", end=\"\")\n",
        "        print(f\"m: {self.m:2d}\\n\")\n",
        "        for i in range(self.n):\n",
        "            for w in range(self.n):\n",
        "                if self.adj[i][w] == 1:\n",
        "                    print(\" 1 \", end=\"\")\n",
        "                else:\n",
        "                    print(\" 0 \", end=\"\")\n",
        "            print(\"\\n\")\n",
        "        print(\"\\nfim da impressao do grafo.\" )"
      ]
    },
    {
      "cell_type": "markdown",
      "metadata": {
        "id": "g2sI3d7Qz7ck"
      },
      "source": [
        "## Classe GrafoR (Grafo direcionado rotulado)"
      ]
    },
    {
      "cell_type": "code",
      "execution_count": 727,
      "metadata": {
        "id": "F1sOCb5P0ITt",
        "colab": {
          "base_uri": "https://localhost:8080/",
          "height": 122
        },
        "outputId": "d1352617-8787-44a7-81a9-88734017c8a5"
      },
      "outputs": [
        {
          "output_type": "execute_result",
          "data": {
            "text/plain": [
              "\"\\n    def dfs_edges(self):\\n        visitados = [False] * len(self.vertices)\\n        edges = []\\n\\n        def dfs(v):\\n            visitados[v] = True\\n            for i in range(len(self.vertices)):\\n                if self.matriz_adj[v][i] == 1 and not visitados[i]:\\n                    edges.append((v, i))\\n                    dfs(i)\\n\\n        for nodo in range(len(self.vertices)):\\n            if not visitados[nodo]:\\n                dfs(nodo)\\n\\n        return edges\\n\\n    def tem_ciclo(self):\\n        visitados = [False] * len(self.vertices)\\n        rec_stack = [False] * len(self.vertices)\\n\\n    def classificar_complexidade(grafo):\\n        if grafo.number_of_nodes() == 0:\\n            return 'C0'  # Grafo vazio\\n\\n        if grafo.number_of_edges() == 0:\\n            return 'C1'  # Grafo com um único vértice ou sem arestas\\n\\n        if grafo.tem_ciclo():\\n            return 'C3'  # Grafo tem ciclos\\n\\n        if len(grafo.dfs_edges()) > 0:\\n            return 'C2'  # Grafo não tem ciclos, mas tem caminhos com mais de um vértice\\n\\n        return 'C1'  # Grafo sem ciclos, todos os caminhos com exatamente um vértice\\n\\n    def cfc(self):\\n        stack = []\\n        visitados = [False] * len(self.vertices)\\n\\n        # Passo 1: Preencher a pilha com base na ordem de finalização do DFS\\n        for i in range(len(self.vertices)):\\n            if not visitados[i]:\\n                self.dfs_util(i, visitados, stack)\\n\\n        # Passo 2: Criar o grafo transposto\\n        g_transposto = self.transpose()\\n\\n        # Passo 3: Fazer DFS no grafo transposto de acordo com a pilha\\n        visitados = [False] * len(self.vertices)\\n        componentes = []\\n\\n        while stack:\\n            v = stack.pop()\\n            if not visitados[v]:\\n                componente = []\\n                g_transposto.dfs_explorar(v, visitados, componente)\\n                componentes.append(componente)\\n\\n        return componentes\\n\\n    def grafo_reduzido(grafo):\\n        componentes = grafo.cfc()\\n        mapeamento = {}\\n        for i, componente in enumerate(componentes):\\n            for v in componente:\\n                mapeamento[v] = i\\n\\n        matriz_reduzida = [[0 for _ in range(len(componentes))] for _ in range(len(componentes))]\\n\\n        for u, v in grafo.arestas:\\n            if mapeamento[u] != mapeamento[v]:\\n                matriz_reduzida[mapeamento[u]][mapeamento[v]] = 1\\n\\n        return matriz_reduzida\\n\""
            ],
            "application/vnd.google.colaboratory.intrinsic+json": {
              "type": "string"
            }
          },
          "metadata": {},
          "execution_count": 727
        }
      ],
      "source": [
        "# Grafo como uma matriz de adjacência rotulado\n",
        "class GrafoR(Grafo):\n",
        "# Não bota o init, vai bugar a classe\n",
        "\n",
        "    def insereA(self, v, w, p):\n",
        "        if self.adj[v][w] == 0:\n",
        "            self.adj[v][w] = p\n",
        "            self.m += 1  # atualiza qtd arestas\n",
        "\n",
        "    def removeA(self, v, w):\n",
        "        if(v == w):\n",
        "            return\n",
        "        # testa se temos a aresta\n",
        "        if self.adj[v][w] != 0:\n",
        "            self.adj[v][w] = 0\n",
        "            self.m -= 1  # atualiza qtd arestas\n",
        "\n",
        "    def show(self):\n",
        "        print(f\"\\n n: {self.n:2d} \", end=\"\")\n",
        "        print(f\"m: {self.m:2d}\\n\")\n",
        "        for i in range(self.n):\n",
        "            for w in range(self.n):\n",
        "                print(f\"Adj[{i:2d},{w:2d}] = {self.adj[i][w]:.2f} \", end=\"\")\n",
        "            print(\"\\n\")\n",
        "        print(\"\\nfim da impressao do grafo.\" )\n",
        "\n",
        "\t# Apresenta o Grafo contendo\n",
        "\t# número de vértices, arestas\n",
        "\t# e a matriz de adjacência obtida\n",
        "    # Apresentando apenas os valores 0 ou 1\n",
        "    def showMin(self):\n",
        "        print(f\"\\n n: {self.n:2d} \", end=\"\")\n",
        "        print(f\"m: {self.m:2d}\\n\")\n",
        "        for i in range(self.n):\n",
        "            for w in range(self.n):\n",
        "                print(f\" {self.adj[i][w]:.2f} \", end=\"\")\n",
        "            print(\"\\n\")\n",
        "        print(\"\\nfim da impressao do grafo.\" )\n",
        "\n",
        "    def insereV(self):\n",
        "        for i in range(self.n):\n",
        "            self.adj[i].append(0)\n",
        "        self.n += 1\n",
        "        self.adj.append([0]*self.n)\n",
        "\n",
        "    def removeV(self, vertice):\n",
        "        if(vertice >= self.n):\n",
        "            return False\n",
        "        for i in range(self.n-1):\n",
        "            if(i >= vertice): # Substitui as conexões do vértice a ser retirado e\n",
        "                              # os vértices posteriores a ele com as conexões do próximo vértice\n",
        "                self.adj[i] = self.adj[i+1]\n",
        "            self.removeA(i,vertice)\n",
        "            self.adj[i].pop(vertice) # Remove o vértice escolhido da linha da matriz\n",
        "        self.adj.pop() # Remove a última linha da matriz\n",
        "        self.n -= 1\n",
        "        return True\n",
        "\n",
        "    def imprimeGrafo(self, vertices):\n",
        "        # Criar um grafo dirigido usando a matriz de adjacência\n",
        "        grafo = nx.DiGraph()  # Criar grafo direcionado\n",
        "\n",
        "        # Adicionar vértices e arestas\n",
        "        for i in range(self.n):\n",
        "            grafo.add_node(i, label=vertices[i][\"palavra\"])\n",
        "            for j in range(self.n):\n",
        "                if self.adj[i][j] != 0:\n",
        "                    peso_formatado = f\"{self.adj[i][j]:.2f}\"\n",
        "                    grafo.add_edge(i, j, weight=peso_formatado)\n",
        "\n",
        "        pos = nx.spring_layout(grafo, k=80000, scale=100000) # Layout para a posição dos nós\n",
        "\n",
        "        # Desenhando os nós\n",
        "        nx.draw_networkx_nodes(grafo, pos, node_size=6000, node_color='lightblue')\n",
        "\n",
        "        # Desenhando as arestas\n",
        "        nx.draw_networkx_edges(grafo, pos, edgelist=grafo.edges(), arrowstyle='-|>', arrowsize=8)\n",
        "\n",
        "        # Desenhando os rótulos dos nós\n",
        "        labels = nx.get_node_attributes(grafo, 'label')\n",
        "        nx.draw_networkx_labels(grafo, pos, labels, font_size=8)\n",
        "\n",
        "        # Desenhando os rótulos das arestas\n",
        "        edge_labels = nx.get_edge_attributes(grafo, 'weight')\n",
        "        nx.draw_networkx_edge_labels(grafo, pos, edge_labels=edge_labels)\n",
        "\n",
        "        # Exibindo o gráfico\n",
        "        plt.title(f\"Grafo Direcionado Rotulado com {self.n} vértices e {self.m} arestas\")\n",
        "        plt.show()\n",
        "'''\n",
        "    def dfs_edges(self):\n",
        "        visitados = [False] * len(self.vertices)\n",
        "        edges = []\n",
        "\n",
        "        def dfs(v):\n",
        "            visitados[v] = True\n",
        "            for i in range(len(self.vertices)):\n",
        "                if self.matriz_adj[v][i] == 1 and not visitados[i]:\n",
        "                    edges.append((v, i))\n",
        "                    dfs(i)\n",
        "\n",
        "        for nodo in range(len(self.vertices)):\n",
        "            if not visitados[nodo]:\n",
        "                dfs(nodo)\n",
        "\n",
        "        return edges\n",
        "\n",
        "    def tem_ciclo(self):\n",
        "        visitados = [False] * len(self.vertices)\n",
        "        rec_stack = [False] * len(self.vertices)\n",
        "\n",
        "    def classificar_complexidade(grafo):\n",
        "        if grafo.number_of_nodes() == 0:\n",
        "            return 'C0'  # Grafo vazio\n",
        "\n",
        "        if grafo.number_of_edges() == 0:\n",
        "            return 'C1'  # Grafo com um único vértice ou sem arestas\n",
        "\n",
        "        if grafo.tem_ciclo():\n",
        "            return 'C3'  # Grafo tem ciclos\n",
        "\n",
        "        if len(grafo.dfs_edges()) > 0:\n",
        "            return 'C2'  # Grafo não tem ciclos, mas tem caminhos com mais de um vértice\n",
        "\n",
        "        return 'C1'  # Grafo sem ciclos, todos os caminhos com exatamente um vértice\n",
        "\n",
        "    def cfc(self):\n",
        "        stack = []\n",
        "        visitados = [False] * len(self.vertices)\n",
        "\n",
        "        # Passo 1: Preencher a pilha com base na ordem de finalização do DFS\n",
        "        for i in range(len(self.vertices)):\n",
        "            if not visitados[i]:\n",
        "                self.dfs_util(i, visitados, stack)\n",
        "\n",
        "        # Passo 2: Criar o grafo transposto\n",
        "        g_transposto = self.transpose()\n",
        "\n",
        "        # Passo 3: Fazer DFS no grafo transposto de acordo com a pilha\n",
        "        visitados = [False] * len(self.vertices)\n",
        "        componentes = []\n",
        "\n",
        "        while stack:\n",
        "            v = stack.pop()\n",
        "            if not visitados[v]:\n",
        "                componente = []\n",
        "                g_transposto.dfs_explorar(v, visitados, componente)\n",
        "                componentes.append(componente)\n",
        "\n",
        "        return componentes\n",
        "\n",
        "    def grafo_reduzido(grafo):\n",
        "        componentes = grafo.cfc()\n",
        "        mapeamento = {}\n",
        "        for i, componente in enumerate(componentes):\n",
        "            for v in componente:\n",
        "                mapeamento[v] = i\n",
        "\n",
        "        matriz_reduzida = [[0 for _ in range(len(componentes))] for _ in range(len(componentes))]\n",
        "\n",
        "        for u, v in grafo.arestas:\n",
        "            if mapeamento[u] != mapeamento[v]:\n",
        "                matriz_reduzida[mapeamento[u]][mapeamento[v]] = 1\n",
        "\n",
        "        return matriz_reduzida\n",
        "'''"
      ]
    },
    {
      "cell_type": "markdown",
      "metadata": {
        "id": "XMuxrf07kEw_"
      },
      "source": [
        "## Classe Memory"
      ]
    },
    {
      "cell_type": "markdown",
      "metadata": {
        "id": "a6uWsA4dkZwE"
      },
      "source": [
        "Aqui é utilizado a biblioteca VectorDB para criar uma memória virtual.\n",
        "\n",
        "```\n",
        "memoria = Memory(chunking_strategy={\"mode\": \"sliding_window\", \"window_size\": 1, \"overlap\": 0})\n",
        "```\n",
        "\n",
        "- `chunking_strategy` define a estratégia de fragmentação dos dados. No modo \"sliding_window\", os dados são divididos em *chunks* (pedaços de texto) de tamanho fixo.\n",
        "\n",
        "- `window_size` define a quantidade de palavras que um *chunk* representa. Neste caso, cada *chunk* representa uma palavra.\n",
        "\n",
        "- `overlap` define quantos elementos de sobreposição existirão entre os *chunks* adjacentes. Neste caso, não haverá sobreposição já que as palavras usadas não formam frases, logo são independentes uma das outras."
      ]
    },
    {
      "cell_type": "markdown",
      "source": [
        "### Método SAVE"
      ],
      "metadata": {
        "id": "mLOuJFjZ66pZ"
      }
    },
    {
      "cell_type": "markdown",
      "source": [
        "O método é usado para fazer o *embedding* de uma palavra e inserir na memória.\n",
        "```\n",
        "memoria.save(\"palavra\")\n",
        "```\n",
        "* `palavra` é a *string* da palavra desejada para inserir na memória."
      ],
      "metadata": {
        "id": "tBUvKn0YJ1vU"
      }
    },
    {
      "cell_type": "markdown",
      "source": [
        "### Método SEARCH"
      ],
      "metadata": {
        "id": "tykSWUsj65G_"
      }
    },
    {
      "cell_type": "markdown",
      "source": [
        "O método é usado para fazer o *embedding* de uma palavra para consultar a proximidade com as palavras salvas na memória através da busca vetorial.\n",
        "```\n",
        "busca = memoria.search(palavra, top_n=4)\n",
        "```\n",
        "* `palavra` é a string da palavra usada para consultar a proximidade com as palavras salvas na memória.\n",
        "* `top_n` define o número de palavras retornadas da consulta.\n"
      ],
      "metadata": {
        "id": "vBW75f05JpHt"
      }
    },
    {
      "cell_type": "markdown",
      "source": [
        "### [Referência](https://vectordb.com/)"
      ],
      "metadata": {
        "id": "xvaddfZSJlrp"
      }
    },
    {
      "cell_type": "markdown",
      "metadata": {
        "id": "ro4oq-cagY8g"
      },
      "source": [
        "# Métodos"
      ]
    },
    {
      "cell_type": "markdown",
      "metadata": {
        "id": "fj8LIYV32JAo"
      },
      "source": [
        "## 1. Ler dados"
      ]
    },
    {
      "cell_type": "markdown",
      "metadata": {
        "id": "cxpnmvFW3RZ_"
      },
      "source": [
        "### Aquisição dos dados"
      ]
    },
    {
      "cell_type": "code",
      "source": [
        "def criaVertice(palavra, indice):\n",
        "  vertice = {\n",
        "      \"palavra\": palavra, # Recupera cada palavra e tira o \"\\n\"\n",
        "      \"indice\": indice,\n",
        "      \"proximos\": []\n",
        "  }\n",
        "  return vertice"
      ],
      "metadata": {
        "id": "AzVmQ2LDulVP"
      },
      "execution_count": 728,
      "outputs": []
    },
    {
      "cell_type": "markdown",
      "metadata": {
        "id": "EPQ65cuK2JAo"
      },
      "source": [
        "Os dados do documento são importados e guardados na variável `dados`."
      ]
    },
    {
      "cell_type": "code",
      "execution_count": 729,
      "metadata": {
        "id": "-7q8lJ7B2JAq"
      },
      "outputs": [],
      "source": [
        "def leArquivoHTTP():\n",
        "  arquivo = requests.get('https://raw.githubusercontent.com/Cehiim/TeoriaDosGrafos/refs/heads/main/Projeto/teste.txt').text\n",
        "\n",
        "  lista = arquivo.split() # Distribui cada elemento do arquivo numa lista\n",
        "  n_palavras = int(lista.pop(0)) # Separa o número de palavras (primeira linha do arquivo)\n",
        "  vertices = []\n",
        "  for i in range(n_palavras):\n",
        "    vertice = criaVertice(lista[i], i)\n",
        "    vertices.append(vertice)\n",
        "\n",
        "  dados = [n_palavras]\n",
        "  dados.append(vertices)\n",
        "\n",
        "  return dados"
      ]
    },
    {
      "cell_type": "code",
      "execution_count": 730,
      "metadata": {
        "collapsed": true,
        "id": "qbPmOab62JAr"
      },
      "outputs": [],
      "source": [
        "def leArquivo(origem):\n",
        "  try:\n",
        "    with open(origem, 'r', encoding='utf-8') as arquivo:\n",
        "      n_palavras = int(arquivo.readline()) # Recupera o número de palavras (primeira linha do arquivo)\n",
        "\n",
        "      vertices = []\n",
        "      for i in range(n_palavras):\n",
        "        vertice = criaVertice(arquivo.readline().strip(), i)\n",
        "        vertices.append(vertice)\n",
        "\n",
        "    dados = [n_palavras]\n",
        "    dados.append(vertices)\n",
        "\n",
        "    return dados\n",
        "\n",
        "  except FileNotFoundError:\n",
        "      print(\"[Erro: Arquivo não encontrado]\")"
      ]
    },
    {
      "cell_type": "code",
      "execution_count": 731,
      "metadata": {
        "colab": {
          "base_uri": "https://localhost:8080/"
        },
        "collapsed": true,
        "id": "WJkcynqo2JAr",
        "outputId": "497f4fc2-a480-4489-f1b1-dc7184c175d7"
      },
      "outputs": [
        {
          "output_type": "stream",
          "name": "stdout",
          "text": [
            "[8, [{'palavra': 'Ecossistema', 'indice': 0, 'proximos': []}, {'palavra': 'Sustentabilidade', 'indice': 1, 'proximos': []}, {'palavra': 'Biodiversidade', 'indice': 2, 'proximos': []}, {'palavra': 'Reciclagem', 'indice': 3, 'proximos': []}, {'palavra': 'Conservação', 'indice': 4, 'proximos': []}, {'palavra': 'Poluição', 'indice': 5, 'proximos': []}, {'palavra': 'Desmatamento', 'indice': 6, 'proximos': []}, {'palavra': 'Reflorestamento', 'indice': 7, 'proximos': []}]]\n"
          ]
        }
      ],
      "source": [
        "d = leArquivoHTTP()\n",
        "#d = leArquivo(\"palavras.txt\")\n",
        "print(d)"
      ]
    },
    {
      "cell_type": "markdown",
      "metadata": {
        "id": "u6KpszTx9wbx"
      },
      "source": [
        "### Embedding"
      ]
    },
    {
      "cell_type": "markdown",
      "metadata": {
        "id": "0kRX7-7r-BjR"
      },
      "source": [
        "Cada palavra é convertida para um vetor numérico e guardada na memória."
      ]
    },
    {
      "cell_type": "code",
      "execution_count": 732,
      "metadata": {
        "collapsed": true,
        "id": "4PR45aSh97GE"
      },
      "outputs": [],
      "source": [
        "def embedding(memoria, n_palavras, vertices): # Método para fazer o embedding e inserção na memória de todas as palavras\n",
        "  for i in range(n_palavras):\n",
        "    memoria.save(vertices[i][\"palavra\"])"
      ]
    },
    {
      "cell_type": "markdown",
      "metadata": {
        "id": "XCD1aKeV-eSW"
      },
      "source": [
        "### Busca vetorial"
      ]
    },
    {
      "cell_type": "markdown",
      "metadata": {
        "id": "RQUG4Hf4-oNM"
      },
      "source": [
        "Quanto menor é a distância, maior é a proximidade semântica."
      ]
    },
    {
      "cell_type": "code",
      "execution_count": 733,
      "metadata": {
        "id": "iFWuMWvQpgFW"
      },
      "outputs": [],
      "source": [
        "def buscaVetorial(memoria, palavra): # Método para retornar os quatro elementos com maior proximidade semântica de uma palavra\n",
        "  busca = memoria.search(palavra, top_n=4)\n",
        "  return busca"
      ]
    },
    {
      "cell_type": "markdown",
      "metadata": {
        "id": "LKs0zciNBHL_"
      },
      "source": [
        "A palavra mais próxima armazenada na memória é ela mesma, portanto para encontrar as outras três palavras mais próximas foram recuperadas as palavras de índice 1 até 4."
      ]
    },
    {
      "cell_type": "code",
      "execution_count": 734,
      "metadata": {
        "colab": {
          "base_uri": "https://localhost:8080/"
        },
        "id": "jBe9Eq_I-ozC",
        "outputId": "8a29d9f0-3f0b-401f-9aeb-d371dfb6179f",
        "collapsed": true
      },
      "outputs": [
        {
          "output_type": "stream",
          "name": "stdout",
          "text": [
            "Initiliazing embeddings:  normal\n",
            "OK.\n",
            "[{'chunk': 'Biodiversidade', 'metadata': {}, 'distance': 0.0}, {'chunk': 'Sustentabilidade', 'metadata': {}, 'distance': 0.44970125}, {'chunk': 'Ecossistema', 'metadata': {}, 'distance': 0.5811522}, {'chunk': 'Poluição', 'metadata': {}, 'distance': 0.6769276}]\n",
            "\n",
            "\n",
            "Busca: Biodiversidade\n",
            "\n",
            "Palavra: Sustentabilidade\n",
            "Distância: 0.45\n",
            "\n",
            "Palavra: Ecossistema\n",
            "Distância: 0.58\n",
            "\n",
            "Palavra: Poluição\n",
            "Distância: 0.68\n",
            "\n"
          ]
        }
      ],
      "source": [
        "m = Memory(chunking_strategy={\"mode\": \"sliding_window\", \"window_size\": 1, \"overlap\": 0}) # Memória\n",
        "n = d[0] # Número de palavras\n",
        "v = d[1] # Lista de vértices (cada vértice é organizado em palavra, índice e vizinhos próximos)\n",
        "\n",
        "embedding(m, n, v)\n",
        "\n",
        "b = buscaVetorial(m, \"Biodiversidade\")\n",
        "print(b)\n",
        "print(f\"\\n\\nBusca: Biodiversidade\\n\")\n",
        "for i in range(1,4):\n",
        "  palavra = b[i]['chunk']\n",
        "  distancia = b[i]['distance']\n",
        "  print(f\"Palavra: {palavra}\\nDistância: {distancia:.2f}\\n\")"
      ]
    },
    {
      "cell_type": "markdown",
      "metadata": {
        "id": "oQpdmDli23KZ"
      },
      "source": [
        "### Integração no grafo"
      ]
    },
    {
      "cell_type": "code",
      "source": [
        "def buscaIndice(n_palavras, vertices, palavra):\n",
        "  for i in range(n_palavras):\n",
        "    if(vertices[i][\"palavra\"] == palavra):\n",
        "      return vertices[i][\"indice\"]\n",
        "  return -1"
      ],
      "metadata": {
        "id": "gaBSORkH2Xth"
      },
      "execution_count": 735,
      "outputs": []
    },
    {
      "cell_type": "code",
      "source": [
        "def buscaPalavra(n_palavras, vertices, indice):\n",
        "  if(indice >= n_palavras or indice < 0):\n",
        "    return \"[Erro: índice inválido]\"\n",
        "  for i in range(n_palavras):\n",
        "    if(vertices[i][\"indice\"] == indice):\n",
        "      return vertices[i][\"palavra\"]\n",
        "  return \"[Erro: índice não encontrado]\""
      ],
      "metadata": {
        "id": "h6_Ax79KxuqA"
      },
      "execution_count": 736,
      "outputs": []
    },
    {
      "cell_type": "code",
      "source": [
        "def criaVizinho(palavra, indice, distancia):\n",
        "  proximo = {\n",
        "      \"vizinho\": palavra,\n",
        "      \"indice\": indice,\n",
        "      \"distancia\": distancia\n",
        "  }\n",
        "  return proximo"
      ],
      "metadata": {
        "id": "Htsz5UIyvfJF"
      },
      "execution_count": 737,
      "outputs": []
    },
    {
      "cell_type": "markdown",
      "source": [
        "A palavra mais próxima armazenada na memória é ela mesma, portanto para encontrar as outras três palavras mais próximas foram recuperadas as palavras de índice 1 até 4."
      ],
      "metadata": {
        "id": "8XgxV2Oel185"
      }
    },
    {
      "cell_type": "code",
      "execution_count": 738,
      "metadata": {
        "id": "NuGHaDAJ25c-"
      },
      "outputs": [],
      "source": [
        "def integraGrafo(memoria, n_palavras, vertices):\n",
        "  grafo = GrafoR(n_palavras) # Cria um grafo rotulado\n",
        "  for i in range(n_palavras):\n",
        "    busca = buscaVetorial(memoria, vertices[i][\"palavra\"])\n",
        "    proximos = []\n",
        "    for j in range(1,4):\n",
        "      palavra = busca[j]['chunk']\n",
        "      distancia = busca[j]['distance']\n",
        "      proximo = criaVizinho(palavra, buscaIndice(n_palavras, vertices, palavra), distancia)\n",
        "      proximos.append(proximo)\n",
        "      grafo.insereA(vertices[i][\"indice\"], proximo[\"indice\"], proximo[\"distancia\"])\n",
        "    vertices[i][\"proximos\"] = proximos\n",
        "  return grafo"
      ]
    },
    {
      "cell_type": "code",
      "source": [
        "g = integraGrafo(m, n, v)\n",
        "print(v[0]) # Informações do primeiro elemento da lista de vértices\n",
        "g.showMin()"
      ],
      "metadata": {
        "colab": {
          "base_uri": "https://localhost:8080/"
        },
        "id": "OwrIDFFLvemn",
        "outputId": "4a6373f0-ab8e-4fbe-cbbc-3a5565e65611",
        "collapsed": true
      },
      "execution_count": 739,
      "outputs": [
        {
          "output_type": "stream",
          "name": "stdout",
          "text": [
            "{'palavra': 'Ecossistema', 'indice': 0, 'proximos': [{'vizinho': 'Biodiversidade', 'indice': 2, 'distancia': 0.5811522}, {'vizinho': 'Sustentabilidade', 'indice': 1, 'distancia': 0.59003323}, {'vizinho': 'Reflorestamento', 'indice': 7, 'distancia': 0.7258596}]}\n",
            "\n",
            " n:  8 m: 24\n",
            "\n",
            " 0.00  0.59  0.58  0.00  0.00  0.00  0.00  0.73 \n",
            "\n",
            " 0.59  0.00  0.45  0.00  0.00  0.00  0.00  0.69 \n",
            "\n",
            " 0.58  0.45  0.00  0.00  0.00  0.68  0.00  0.00 \n",
            "\n",
            " 0.80  0.00  0.00  0.00  0.00  0.78  0.00  0.64 \n",
            "\n",
            " 0.00  0.78  0.00  0.00  0.00  0.78  0.86  0.00 \n",
            "\n",
            " 0.00  0.00  0.68  0.00  0.00  0.00  0.72  0.65 \n",
            "\n",
            " 0.00  0.00  0.79  0.00  0.00  0.72  0.00  0.69 \n",
            "\n",
            " 0.00  0.00  0.00  0.64  0.00  0.65  0.69  0.00 \n",
            "\n",
            "\n",
            "fim da impressao do grafo.\n"
          ]
        }
      ]
    },
    {
      "cell_type": "markdown",
      "metadata": {
        "id": "rsUUPVLa2JAs"
      },
      "source": [
        "## 2. Gravar dados"
      ]
    },
    {
      "cell_type": "code",
      "execution_count": 740,
      "metadata": {
        "id": "S8aX3NJd2JAs"
      },
      "outputs": [],
      "source": [
        "def gravaDados(n_palavras, vertices):\n",
        "  with open(\"grafo.txt\", \"w\") as arquivo:\n",
        "    for i in range(n_palavras):\n",
        "      palavra = vertices[i][\"palavra\"]\n",
        "      arquivo.write(palavra+\"\\n\")"
      ]
    },
    {
      "cell_type": "code",
      "source": [
        "gravaDados(n,v)"
      ],
      "metadata": {
        "id": "TzhEGEtaC70z"
      },
      "execution_count": 741,
      "outputs": []
    },
    {
      "cell_type": "markdown",
      "metadata": {
        "id": "rcUaBUFE2JAs"
      },
      "source": [
        "## 3. Inserir vértice"
      ]
    },
    {
      "cell_type": "code",
      "execution_count": 742,
      "metadata": {
        "id": "rEUyOKTo2JAt"
      },
      "outputs": [],
      "source": [
        "def insereVertice(grafo, n_palavras, vertices, palavra):\n",
        "  if(buscaIndice(n_palavras, vertices, palavra) == -1):\n",
        "    vertices.append(criaVertice(palavra, grafo.n))\n",
        "    grafo.insereV()"
      ]
    },
    {
      "cell_type": "code",
      "source": [
        "insereVertice(g, n, v, \"Maritaca\")\n",
        "print(v)\n",
        "g.showMin()"
      ],
      "metadata": {
        "colab": {
          "base_uri": "https://localhost:8080/"
        },
        "collapsed": true,
        "id": "T-URKlaHw0kG",
        "outputId": "2eef238f-a7fc-4087-9e47-cf26cc02d9b4"
      },
      "execution_count": 744,
      "outputs": [
        {
          "output_type": "stream",
          "name": "stdout",
          "text": [
            "[{'palavra': 'Ecossistema', 'indice': 0, 'proximos': [{'vizinho': 'Biodiversidade', 'indice': 2, 'distancia': 0.5811522}, {'vizinho': 'Sustentabilidade', 'indice': 1, 'distancia': 0.59003323}, {'vizinho': 'Reflorestamento', 'indice': 7, 'distancia': 0.7258596}]}, {'palavra': 'Sustentabilidade', 'indice': 1, 'proximos': [{'vizinho': 'Biodiversidade', 'indice': 2, 'distancia': 0.44970125}, {'vizinho': 'Ecossistema', 'indice': 0, 'distancia': 0.59003323}, {'vizinho': 'Reflorestamento', 'indice': 7, 'distancia': 0.692708}]}, {'palavra': 'Biodiversidade', 'indice': 2, 'proximos': [{'vizinho': 'Sustentabilidade', 'indice': 1, 'distancia': 0.44970125}, {'vizinho': 'Ecossistema', 'indice': 0, 'distancia': 0.5811522}, {'vizinho': 'Poluição', 'indice': 5, 'distancia': 0.6769276}]}, {'palavra': 'Reciclagem', 'indice': 3, 'proximos': [{'vizinho': 'Reflorestamento', 'indice': 7, 'distancia': 0.63607174}, {'vizinho': 'Poluição', 'indice': 5, 'distancia': 0.78495324}, {'vizinho': 'Ecossistema', 'indice': 0, 'distancia': 0.80120957}]}, {'palavra': 'Conservação', 'indice': 4, 'proximos': [{'vizinho': 'Poluição', 'indice': 5, 'distancia': 0.7833704}, {'vizinho': 'Sustentabilidade', 'indice': 1, 'distancia': 0.7846519}, {'vizinho': 'Desmatamento', 'indice': 6, 'distancia': 0.86300147}]}, {'palavra': 'Poluição', 'indice': 5, 'proximos': [{'vizinho': 'Reflorestamento', 'indice': 7, 'distancia': 0.65016866}, {'vizinho': 'Biodiversidade', 'indice': 2, 'distancia': 0.6769276}, {'vizinho': 'Desmatamento', 'indice': 6, 'distancia': 0.71925545}]}, {'palavra': 'Desmatamento', 'indice': 6, 'proximos': [{'vizinho': 'Reflorestamento', 'indice': 7, 'distancia': 0.6854651}, {'vizinho': 'Poluição', 'indice': 5, 'distancia': 0.71925545}, {'vizinho': 'Biodiversidade', 'indice': 2, 'distancia': 0.78797036}]}, {'palavra': 'Reflorestamento', 'indice': 7, 'proximos': [{'vizinho': 'Reciclagem', 'indice': 3, 'distancia': 0.63607174}, {'vizinho': 'Poluição', 'indice': 5, 'distancia': 0.65016866}, {'vizinho': 'Desmatamento', 'indice': 6, 'distancia': 0.6854651}]}, {'palavra': 'Maritaca', 'indice': 8, 'proximos': []}]\n",
            "\n",
            " n:  9 m: 24\n",
            "\n",
            " 0.00  0.59  0.58  0.00  0.00  0.00  0.00  0.73  0.00 \n",
            "\n",
            " 0.59  0.00  0.45  0.00  0.00  0.00  0.00  0.69  0.00 \n",
            "\n",
            " 0.58  0.45  0.00  0.00  0.00  0.68  0.00  0.00  0.00 \n",
            "\n",
            " 0.80  0.00  0.00  0.00  0.00  0.78  0.00  0.64  0.00 \n",
            "\n",
            " 0.00  0.78  0.00  0.00  0.00  0.78  0.86  0.00  0.00 \n",
            "\n",
            " 0.00  0.00  0.68  0.00  0.00  0.00  0.72  0.65  0.00 \n",
            "\n",
            " 0.00  0.00  0.79  0.00  0.00  0.72  0.00  0.69  0.00 \n",
            "\n",
            " 0.00  0.00  0.00  0.64  0.00  0.65  0.69  0.00  0.00 \n",
            "\n",
            " 0.00  0.00  0.00  0.00  0.00  0.00  0.00  0.00  0.00 \n",
            "\n",
            "\n",
            "fim da impressao do grafo.\n"
          ]
        }
      ]
    },
    {
      "cell_type": "markdown",
      "metadata": {
        "id": "-8PvH4ed2JAt"
      },
      "source": [
        "## 4. Inserir aresta"
      ]
    },
    {
      "cell_type": "code",
      "execution_count": null,
      "metadata": {
        "id": "6u2WV2hb2JAt"
      },
      "outputs": [],
      "source": []
    },
    {
      "cell_type": "markdown",
      "metadata": {
        "id": "nMVke0Al2JAt"
      },
      "source": [
        "## 5. Remover vértice"
      ]
    },
    {
      "cell_type": "code",
      "execution_count": null,
      "metadata": {
        "id": "CqO6N1PP2JAu"
      },
      "outputs": [],
      "source": []
    },
    {
      "cell_type": "markdown",
      "metadata": {
        "id": "cvUaJjZS2JAu"
      },
      "source": [
        "## 6. Remover aresta"
      ]
    },
    {
      "cell_type": "code",
      "execution_count": null,
      "metadata": {
        "id": "hmD-cjiW2JAu"
      },
      "outputs": [],
      "source": []
    },
    {
      "cell_type": "markdown",
      "metadata": {
        "id": "4f8SKdKg2JAv"
      },
      "source": [
        "## 7. Exibir grafo"
      ]
    },
    {
      "cell_type": "code",
      "source": [
        "g.imprimeGrafo(v)"
      ],
      "metadata": {
        "id": "sp0hSXZcuXUN"
      },
      "execution_count": null,
      "outputs": []
    },
    {
      "cell_type": "markdown",
      "metadata": {
        "id": "kS8x6Fjd2JA2"
      },
      "source": [
        "## 8. Exibir matriz"
      ]
    },
    {
      "cell_type": "code",
      "execution_count": null,
      "metadata": {
        "id": "tlbI-jgd2JA1",
        "collapsed": true
      },
      "outputs": [],
      "source": [
        "g.showMin()"
      ]
    },
    {
      "cell_type": "markdown",
      "metadata": {
        "id": "hs6GqASM2JA2"
      },
      "source": [
        "## 9. Apresentar conexidade do grafo e o reduzido"
      ]
    },
    {
      "cell_type": "code",
      "execution_count": null,
      "metadata": {
        "id": "sUTjaER52JA2"
      },
      "outputs": [],
      "source": []
    },
    {
      "cell_type": "markdown",
      "metadata": {
        "id": "7YNbDvEe2JA3"
      },
      "source": [
        "# Menu"
      ]
    },
    {
      "cell_type": "markdown",
      "source": [
        "## Código"
      ],
      "metadata": {
        "id": "XJqMmXW4Dx3P"
      }
    },
    {
      "cell_type": "code",
      "execution_count": 747,
      "metadata": {
        "collapsed": true,
        "id": "AdLQfMUkWbyX"
      },
      "outputs": [],
      "source": [
        "def menu():\n",
        "    memoria = Memory(chunking_strategy={\"mode\": \"sliding_window\", \"window_size\": 1, \"overlap\": 0})\n",
        "    fim = False\n",
        "\n",
        "    while(fim == False):\n",
        "        print(\n",
        "    '''\n",
        "    Menu:\n",
        "        1) Ler dados do arquivo\n",
        "        2) Gravar dados no arquivo grafo.txt\n",
        "        3) Inserir vértice\n",
        "        4) Inserir aresta\n",
        "        5) Remover vértice\n",
        "        6) Remover aresta\n",
        "        7) Exibir grafo\n",
        "        8) Exibir matriz\n",
        "        9) Apresentar a conexidade do grafo e o reduzido\n",
        "        10) Encerrar a aplicação\n",
        "    ''')\n",
        "        choice = int(input())\n",
        "        if choice == 1: # Cria grafo\n",
        "            dados = leArquivoHTTP()\n",
        "            #dados = leArquivo(\"palavras.txt\")\n",
        "            n_palavras = d[0]\n",
        "            vertices = dados[1]\n",
        "            embedding(memoria, n_palavras, vertices)\n",
        "            grafo = integraGrafo(memoria, n_palavras, vertices)\n",
        "            print(\"Grafo criado com sucesso!\")\n",
        "\n",
        "        elif choice == 2: # Grava dados no arquivo .txt\n",
        "            try:\n",
        "                gravaDados(n_palavras, vertices)\n",
        "                print(\"Dados salvos com sucesso!\")\n",
        "            except NameError:\n",
        "                print(\"[Erro: Grafo não criado]\")\n",
        "\n",
        "        elif choice == 3: # Insere vértice\n",
        "            print(\"Palavra a ser inserida: \")\n",
        "            palavra = input()\n",
        "            try:\n",
        "                insereVertice(grafo, n_palavras, vertices, palavra)\n",
        "                print(\"Vértice inserido com sucesso!\")\n",
        "            except NameError:\n",
        "                print(\"[Erro: Grafo não criado]\")\n",
        "\n",
        "        elif choice == 4: # Insere aresta\n",
        "            try:\n",
        "                print(\"Aresta inserida com sucesso!\")\n",
        "            except NameError:\n",
        "                print(\"[Erro: Grafo não criado]\")\n",
        "\n",
        "        elif choice == 5: # Remove vértice\n",
        "            try:\n",
        "                print(\"Vértice removido com sucesso!\")\n",
        "            except NameError:\n",
        "                print(\"[Erro: Grafo não criado]\")\n",
        "\n",
        "        elif choice == 6: # Remove aresta\n",
        "            try:\n",
        "                print(\"Aresta removida com sucesso!\")\n",
        "            except NameError:\n",
        "                print(\"[Erro: Grafo não criado]\")\n",
        "\n",
        "        elif choice == 7: # Exibe grafo\n",
        "            try:\n",
        "                grafo.imprimeGrafo(v)\n",
        "                #ok = input(\"Aperte ENTER para continuar\")\n",
        "            except NameError:\n",
        "                print(\"[Erro: Grafo não criado]\")\n",
        "\n",
        "        elif choice == 8: # Exibe matriz\n",
        "            try:\n",
        "                grafo.showMin()\n",
        "                ok = input(\"Aperte ENTER para continuar\")\n",
        "            except NameError:\n",
        "                print(\"[Erro: Grafo não criado]\")\n",
        "\n",
        "        elif choice == 9: # Apresenta a conexidade do grafo e grafo reduzido\n",
        "            try:\n",
        "                print(\"oi\")\n",
        "            except NameError:\n",
        "                print(\"[Erro: Grafo não criado]\")\n",
        "\n",
        "        elif choice == 10: # Encerra\n",
        "            fim = True\n",
        "            print(\"Encerrando programa...\")\n",
        "\n",
        "        else:\n",
        "            print(\"Opção inválida.\")\n",
        "\n",
        "        try:\n",
        "            from IPython.display import clear_output\n",
        "\n",
        "            time.sleep(2)\n",
        "            clear_output(wait=True) # Limpa o terminal caso esteja no Google Colab\n",
        "\n",
        "        except ImportError:\n",
        "          time.sleep(2)\n",
        "          if os.name == 'nt': # Limpa o terminal caso o OS seja Windows\n",
        "              os.system('cls')\n",
        "          else:\n",
        "              os.system('clear') # Limpa o terminal caso o OS seja Linux ou MacOS"
      ]
    },
    {
      "cell_type": "markdown",
      "source": [
        "## Aplicação"
      ],
      "metadata": {
        "id": "WhZxWel7D4uW"
      }
    },
    {
      "cell_type": "code",
      "source": [
        "menu()"
      ],
      "metadata": {
        "colab": {
          "base_uri": "https://localhost:8080/"
        },
        "collapsed": true,
        "id": "G9pdN9NSD_vR",
        "outputId": "025f1520-7899-4297-bbdb-133b4cc4c79a"
      },
      "execution_count": 748,
      "outputs": [
        {
          "output_type": "stream",
          "name": "stdout",
          "text": [
            "\n",
            "    Menu:\n",
            "        1) Ler dados do arquivo\n",
            "        2) Gravar dados no arquivo grafo.txt\n",
            "        3) Inserir vértice\n",
            "        4) Inserir aresta\n",
            "        5) Remover vértice\n",
            "        6) Remover aresta\n",
            "        7) Exibir grafo\n",
            "        8) Exibir matriz\n",
            "        9) Apresentar a conexidade do grafo e o reduzido\n",
            "        10) Encerrar a aplicação\n",
            "    \n",
            "10\n",
            "Encerrando programa...\n"
          ]
        }
      ]
    }
  ],
  "metadata": {
    "colab": {
      "collapsed_sections": [
        "XYffMUNr2Ila",
        "f4Fd36vBfY_m",
        "jUL4VcKo2JAl",
        "g2sI3d7Qz7ck",
        "XMuxrf07kEw_",
        "cxpnmvFW3RZ_",
        "u6KpszTx9wbx",
        "XCD1aKeV-eSW",
        "rsUUPVLa2JAs",
        "rcUaBUFE2JAs",
        "-8PvH4ed2JAt",
        "nMVke0Al2JAt",
        "cvUaJjZS2JAu",
        "kS8x6Fjd2JA2",
        "hs6GqASM2JA2",
        "7YNbDvEe2JA3"
      ],
      "provenance": [],
      "toc_visible": true,
      "include_colab_link": true
    },
    "kernelspec": {
      "display_name": "Python 3 (ipykernel)",
      "language": "python",
      "name": "python3"
    },
    "language_info": {
      "codemirror_mode": {
        "name": "ipython",
        "version": 3
      },
      "file_extension": ".py",
      "mimetype": "text/x-python",
      "name": "python",
      "nbconvert_exporter": "python",
      "pygments_lexer": "ipython3",
      "version": "3.10.11"
    }
  },
  "nbformat": 4,
  "nbformat_minor": 0
}