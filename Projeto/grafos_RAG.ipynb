{
  "cells": [
    {
      "cell_type": "markdown",
      "metadata": {
        "id": "view-in-github",
        "colab_type": "text"
      },
      "source": [
        "<a href=\"https://colab.research.google.com/github/Cehiim/TeoriaDosGrafos/blob/main/Projeto/grafos_RAG.ipynb\" target=\"_parent\"><img src=\"https://colab.research.google.com/assets/colab-badge.svg\" alt=\"Open In Colab\"/></a>"
      ]
    },
    {
      "cell_type": "markdown",
      "source": [
        "# Informações gerais"
      ],
      "metadata": {
        "id": "XYffMUNr2Ila"
      }
    },
    {
      "cell_type": "markdown",
      "source": [
        "## Integrantes\n",
        "* Cesar Hideki Imai - 10402758\n",
        "* João Victor Dallapé Madeira - 10400725\n",
        "* David Varão Lima Bentes Pessoa - 10402647"
      ],
      "metadata": {
        "id": "3Ox-VDbp2LbY"
      }
    },
    {
      "cell_type": "markdown",
      "metadata": {
        "id": "oX9e_J1rfR8k"
      },
      "source": [
        "# Setup"
      ]
    },
    {
      "cell_type": "markdown",
      "metadata": {
        "id": "f4Fd36vBfY_m"
      },
      "source": [
        "## Integração dos pacotes"
      ]
    },
    {
      "cell_type": "markdown",
      "metadata": {
        "id": "YI_J43xnrFIo"
      },
      "source": [
        "O pacote `vectordb2` é usado para armazenar e recuperar textos usando técnicas de *chunking* (segmentação de texto), *embedding* (conversão de texto para vetores numéricos) e busca vetorial."
      ]
    },
    {
      "cell_type": "code",
      "execution_count": 135,
      "metadata": {
        "colab": {
          "base_uri": "https://localhost:8080/"
        },
        "collapsed": true,
        "id": "yy3H5b34UlKV",
        "jupyter": {
          "outputs_hidden": true
        },
        "outputId": "f503681e-9245-4026-b768-65833f168508"
      },
      "outputs": [
        {
          "output_type": "stream",
          "name": "stdout",
          "text": [
            "Requirement already satisfied: vectordb2 in /usr/local/lib/python3.10/dist-packages (0.1.9)\n",
            "Requirement already satisfied: torch>=1.9.0 in /usr/local/lib/python3.10/dist-packages (from vectordb2) (2.4.1+cu121)\n",
            "Requirement already satisfied: transformers>=4.10.0 in /usr/local/lib/python3.10/dist-packages (from vectordb2) (4.44.2)\n",
            "Requirement already satisfied: numpy>=1.21.0 in /usr/local/lib/python3.10/dist-packages (from vectordb2) (1.26.4)\n",
            "Requirement already satisfied: scikit-learn>=0.24.0 in /usr/local/lib/python3.10/dist-packages (from vectordb2) (1.5.2)\n",
            "Requirement already satisfied: scipy>=1.7.0 in /usr/local/lib/python3.10/dist-packages (from vectordb2) (1.13.1)\n",
            "Requirement already satisfied: sentence-transformers in /usr/local/lib/python3.10/dist-packages (from vectordb2) (3.1.1)\n",
            "Requirement already satisfied: faiss-cpu in /usr/local/lib/python3.10/dist-packages (from vectordb2) (1.8.0.post1)\n",
            "Requirement already satisfied: tensorflow-text in /usr/local/lib/python3.10/dist-packages (from vectordb2) (2.17.0)\n",
            "Requirement already satisfied: joblib>=1.2.0 in /usr/local/lib/python3.10/dist-packages (from scikit-learn>=0.24.0->vectordb2) (1.4.2)\n",
            "Requirement already satisfied: threadpoolctl>=3.1.0 in /usr/local/lib/python3.10/dist-packages (from scikit-learn>=0.24.0->vectordb2) (3.5.0)\n",
            "Requirement already satisfied: filelock in /usr/local/lib/python3.10/dist-packages (from torch>=1.9.0->vectordb2) (3.16.1)\n",
            "Requirement already satisfied: typing-extensions>=4.8.0 in /usr/local/lib/python3.10/dist-packages (from torch>=1.9.0->vectordb2) (4.12.2)\n",
            "Requirement already satisfied: sympy in /usr/local/lib/python3.10/dist-packages (from torch>=1.9.0->vectordb2) (1.13.3)\n",
            "Requirement already satisfied: networkx in /usr/local/lib/python3.10/dist-packages (from torch>=1.9.0->vectordb2) (3.3)\n",
            "Requirement already satisfied: jinja2 in /usr/local/lib/python3.10/dist-packages (from torch>=1.9.0->vectordb2) (3.1.4)\n",
            "Requirement already satisfied: fsspec in /usr/local/lib/python3.10/dist-packages (from torch>=1.9.0->vectordb2) (2024.6.1)\n",
            "Requirement already satisfied: huggingface-hub<1.0,>=0.23.2 in /usr/local/lib/python3.10/dist-packages (from transformers>=4.10.0->vectordb2) (0.24.7)\n",
            "Requirement already satisfied: packaging>=20.0 in /usr/local/lib/python3.10/dist-packages (from transformers>=4.10.0->vectordb2) (24.1)\n",
            "Requirement already satisfied: pyyaml>=5.1 in /usr/local/lib/python3.10/dist-packages (from transformers>=4.10.0->vectordb2) (6.0.2)\n",
            "Requirement already satisfied: regex!=2019.12.17 in /usr/local/lib/python3.10/dist-packages (from transformers>=4.10.0->vectordb2) (2024.9.11)\n",
            "Requirement already satisfied: requests in /usr/local/lib/python3.10/dist-packages (from transformers>=4.10.0->vectordb2) (2.32.3)\n",
            "Requirement already satisfied: safetensors>=0.4.1 in /usr/local/lib/python3.10/dist-packages (from transformers>=4.10.0->vectordb2) (0.4.5)\n",
            "Requirement already satisfied: tokenizers<0.20,>=0.19 in /usr/local/lib/python3.10/dist-packages (from transformers>=4.10.0->vectordb2) (0.19.1)\n",
            "Requirement already satisfied: tqdm>=4.27 in /usr/local/lib/python3.10/dist-packages (from transformers>=4.10.0->vectordb2) (4.66.5)\n",
            "Requirement already satisfied: Pillow in /usr/local/lib/python3.10/dist-packages (from sentence-transformers->vectordb2) (10.4.0)\n",
            "Requirement already satisfied: tensorflow<2.18,>=2.17.0 in /usr/local/lib/python3.10/dist-packages (from tensorflow-text->vectordb2) (2.17.0)\n",
            "Requirement already satisfied: absl-py>=1.0.0 in /usr/local/lib/python3.10/dist-packages (from tensorflow<2.18,>=2.17.0->tensorflow-text->vectordb2) (1.4.0)\n",
            "Requirement already satisfied: astunparse>=1.6.0 in /usr/local/lib/python3.10/dist-packages (from tensorflow<2.18,>=2.17.0->tensorflow-text->vectordb2) (1.6.3)\n",
            "Requirement already satisfied: flatbuffers>=24.3.25 in /usr/local/lib/python3.10/dist-packages (from tensorflow<2.18,>=2.17.0->tensorflow-text->vectordb2) (24.3.25)\n",
            "Requirement already satisfied: gast!=0.5.0,!=0.5.1,!=0.5.2,>=0.2.1 in /usr/local/lib/python3.10/dist-packages (from tensorflow<2.18,>=2.17.0->tensorflow-text->vectordb2) (0.6.0)\n",
            "Requirement already satisfied: google-pasta>=0.1.1 in /usr/local/lib/python3.10/dist-packages (from tensorflow<2.18,>=2.17.0->tensorflow-text->vectordb2) (0.2.0)\n",
            "Requirement already satisfied: h5py>=3.10.0 in /usr/local/lib/python3.10/dist-packages (from tensorflow<2.18,>=2.17.0->tensorflow-text->vectordb2) (3.11.0)\n",
            "Requirement already satisfied: libclang>=13.0.0 in /usr/local/lib/python3.10/dist-packages (from tensorflow<2.18,>=2.17.0->tensorflow-text->vectordb2) (18.1.1)\n",
            "Requirement already satisfied: ml-dtypes<0.5.0,>=0.3.1 in /usr/local/lib/python3.10/dist-packages (from tensorflow<2.18,>=2.17.0->tensorflow-text->vectordb2) (0.4.1)\n",
            "Requirement already satisfied: opt-einsum>=2.3.2 in /usr/local/lib/python3.10/dist-packages (from tensorflow<2.18,>=2.17.0->tensorflow-text->vectordb2) (3.3.0)\n",
            "Requirement already satisfied: protobuf!=4.21.0,!=4.21.1,!=4.21.2,!=4.21.3,!=4.21.4,!=4.21.5,<5.0.0dev,>=3.20.3 in /usr/local/lib/python3.10/dist-packages (from tensorflow<2.18,>=2.17.0->tensorflow-text->vectordb2) (3.20.3)\n",
            "Requirement already satisfied: setuptools in /usr/local/lib/python3.10/dist-packages (from tensorflow<2.18,>=2.17.0->tensorflow-text->vectordb2) (71.0.4)\n",
            "Requirement already satisfied: six>=1.12.0 in /usr/local/lib/python3.10/dist-packages (from tensorflow<2.18,>=2.17.0->tensorflow-text->vectordb2) (1.16.0)\n",
            "Requirement already satisfied: termcolor>=1.1.0 in /usr/local/lib/python3.10/dist-packages (from tensorflow<2.18,>=2.17.0->tensorflow-text->vectordb2) (2.4.0)\n",
            "Requirement already satisfied: wrapt>=1.11.0 in /usr/local/lib/python3.10/dist-packages (from tensorflow<2.18,>=2.17.0->tensorflow-text->vectordb2) (1.16.0)\n",
            "Requirement already satisfied: grpcio<2.0,>=1.24.3 in /usr/local/lib/python3.10/dist-packages (from tensorflow<2.18,>=2.17.0->tensorflow-text->vectordb2) (1.64.1)\n",
            "Requirement already satisfied: tensorboard<2.18,>=2.17 in /usr/local/lib/python3.10/dist-packages (from tensorflow<2.18,>=2.17.0->tensorflow-text->vectordb2) (2.17.0)\n",
            "Requirement already satisfied: keras>=3.2.0 in /usr/local/lib/python3.10/dist-packages (from tensorflow<2.18,>=2.17.0->tensorflow-text->vectordb2) (3.4.1)\n",
            "Requirement already satisfied: tensorflow-io-gcs-filesystem>=0.23.1 in /usr/local/lib/python3.10/dist-packages (from tensorflow<2.18,>=2.17.0->tensorflow-text->vectordb2) (0.37.1)\n",
            "Requirement already satisfied: charset-normalizer<4,>=2 in /usr/local/lib/python3.10/dist-packages (from requests->transformers>=4.10.0->vectordb2) (3.3.2)\n",
            "Requirement already satisfied: idna<4,>=2.5 in /usr/local/lib/python3.10/dist-packages (from requests->transformers>=4.10.0->vectordb2) (3.10)\n",
            "Requirement already satisfied: urllib3<3,>=1.21.1 in /usr/local/lib/python3.10/dist-packages (from requests->transformers>=4.10.0->vectordb2) (2.2.3)\n",
            "Requirement already satisfied: certifi>=2017.4.17 in /usr/local/lib/python3.10/dist-packages (from requests->transformers>=4.10.0->vectordb2) (2024.8.30)\n",
            "Requirement already satisfied: MarkupSafe>=2.0 in /usr/local/lib/python3.10/dist-packages (from jinja2->torch>=1.9.0->vectordb2) (2.1.5)\n",
            "Requirement already satisfied: mpmath<1.4,>=1.1.0 in /usr/local/lib/python3.10/dist-packages (from sympy->torch>=1.9.0->vectordb2) (1.3.0)\n",
            "Requirement already satisfied: wheel<1.0,>=0.23.0 in /usr/local/lib/python3.10/dist-packages (from astunparse>=1.6.0->tensorflow<2.18,>=2.17.0->tensorflow-text->vectordb2) (0.44.0)\n",
            "Requirement already satisfied: rich in /usr/local/lib/python3.10/dist-packages (from keras>=3.2.0->tensorflow<2.18,>=2.17.0->tensorflow-text->vectordb2) (13.8.1)\n",
            "Requirement already satisfied: namex in /usr/local/lib/python3.10/dist-packages (from keras>=3.2.0->tensorflow<2.18,>=2.17.0->tensorflow-text->vectordb2) (0.0.8)\n",
            "Requirement already satisfied: optree in /usr/local/lib/python3.10/dist-packages (from keras>=3.2.0->tensorflow<2.18,>=2.17.0->tensorflow-text->vectordb2) (0.12.1)\n",
            "Requirement already satisfied: markdown>=2.6.8 in /usr/local/lib/python3.10/dist-packages (from tensorboard<2.18,>=2.17->tensorflow<2.18,>=2.17.0->tensorflow-text->vectordb2) (3.7)\n",
            "Requirement already satisfied: tensorboard-data-server<0.8.0,>=0.7.0 in /usr/local/lib/python3.10/dist-packages (from tensorboard<2.18,>=2.17->tensorflow<2.18,>=2.17.0->tensorflow-text->vectordb2) (0.7.2)\n",
            "Requirement already satisfied: werkzeug>=1.0.1 in /usr/local/lib/python3.10/dist-packages (from tensorboard<2.18,>=2.17->tensorflow<2.18,>=2.17.0->tensorflow-text->vectordb2) (3.0.4)\n",
            "Requirement already satisfied: markdown-it-py>=2.2.0 in /usr/local/lib/python3.10/dist-packages (from rich->keras>=3.2.0->tensorflow<2.18,>=2.17.0->tensorflow-text->vectordb2) (3.0.0)\n",
            "Requirement already satisfied: pygments<3.0.0,>=2.13.0 in /usr/local/lib/python3.10/dist-packages (from rich->keras>=3.2.0->tensorflow<2.18,>=2.17.0->tensorflow-text->vectordb2) (2.18.0)\n",
            "Requirement already satisfied: mdurl~=0.1 in /usr/local/lib/python3.10/dist-packages (from markdown-it-py>=2.2.0->rich->keras>=3.2.0->tensorflow<2.18,>=2.17.0->tensorflow-text->vectordb2) (0.1.2)\n"
          ]
        }
      ],
      "source": [
        "%pip install vectordb2"
      ]
    },
    {
      "cell_type": "markdown",
      "metadata": {
        "id": "WZDIGMyXB04o"
      },
      "source": [
        "O pacote requests pode ser usado para recuperar o arquivo por meio de requisição em HTTP (esse pacote é opcional)."
      ]
    },
    {
      "cell_type": "code",
      "execution_count": 136,
      "metadata": {
        "colab": {
          "base_uri": "https://localhost:8080/"
        },
        "collapsed": true,
        "id": "FucP-UzdB1B3",
        "outputId": "0bd1b4dc-abe9-4784-827b-babf6f13a097"
      },
      "outputs": [
        {
          "output_type": "stream",
          "name": "stdout",
          "text": [
            "Requirement already satisfied: requests in /usr/local/lib/python3.10/dist-packages (2.32.3)\n",
            "Requirement already satisfied: charset-normalizer<4,>=2 in /usr/local/lib/python3.10/dist-packages (from requests) (3.3.2)\n",
            "Requirement already satisfied: idna<4,>=2.5 in /usr/local/lib/python3.10/dist-packages (from requests) (3.10)\n",
            "Requirement already satisfied: urllib3<3,>=1.21.1 in /usr/local/lib/python3.10/dist-packages (from requests) (2.2.3)\n",
            "Requirement already satisfied: certifi>=2017.4.17 in /usr/local/lib/python3.10/dist-packages (from requests) (2024.8.30)\n"
          ]
        }
      ],
      "source": [
        "%pip install requests"
      ]
    },
    {
      "cell_type": "markdown",
      "source": [
        "O pacote `network pyvis` é usado para criar uma visualização interativa de grafos."
      ],
      "metadata": {
        "id": "CJARvWmDyVVU"
      }
    },
    {
      "cell_type": "code",
      "source": [
        "%pip install networkx pyvis"
      ],
      "metadata": {
        "colab": {
          "base_uri": "https://localhost:8080/"
        },
        "id": "8TlOa8gVyTsq",
        "outputId": "56cc7c20-2e48-401d-8ad1-80969a5af3d5"
      },
      "execution_count": 137,
      "outputs": [
        {
          "output_type": "stream",
          "name": "stdout",
          "text": [
            "Requirement already satisfied: networkx in /usr/local/lib/python3.10/dist-packages (3.3)\n",
            "Requirement already satisfied: pyvis in /usr/local/lib/python3.10/dist-packages (0.3.2)\n",
            "Requirement already satisfied: ipython>=5.3.0 in /usr/local/lib/python3.10/dist-packages (from pyvis) (7.34.0)\n",
            "Requirement already satisfied: jinja2>=2.9.6 in /usr/local/lib/python3.10/dist-packages (from pyvis) (3.1.4)\n",
            "Requirement already satisfied: jsonpickle>=1.4.1 in /usr/local/lib/python3.10/dist-packages (from pyvis) (3.3.0)\n",
            "Requirement already satisfied: setuptools>=18.5 in /usr/local/lib/python3.10/dist-packages (from ipython>=5.3.0->pyvis) (71.0.4)\n",
            "Requirement already satisfied: jedi>=0.16 in /usr/local/lib/python3.10/dist-packages (from ipython>=5.3.0->pyvis) (0.19.1)\n",
            "Requirement already satisfied: decorator in /usr/local/lib/python3.10/dist-packages (from ipython>=5.3.0->pyvis) (4.4.2)\n",
            "Requirement already satisfied: pickleshare in /usr/local/lib/python3.10/dist-packages (from ipython>=5.3.0->pyvis) (0.7.5)\n",
            "Requirement already satisfied: traitlets>=4.2 in /usr/local/lib/python3.10/dist-packages (from ipython>=5.3.0->pyvis) (5.7.1)\n",
            "Requirement already satisfied: prompt-toolkit!=3.0.0,!=3.0.1,<3.1.0,>=2.0.0 in /usr/local/lib/python3.10/dist-packages (from ipython>=5.3.0->pyvis) (3.0.47)\n",
            "Requirement already satisfied: pygments in /usr/local/lib/python3.10/dist-packages (from ipython>=5.3.0->pyvis) (2.18.0)\n",
            "Requirement already satisfied: backcall in /usr/local/lib/python3.10/dist-packages (from ipython>=5.3.0->pyvis) (0.2.0)\n",
            "Requirement already satisfied: matplotlib-inline in /usr/local/lib/python3.10/dist-packages (from ipython>=5.3.0->pyvis) (0.1.7)\n",
            "Requirement already satisfied: pexpect>4.3 in /usr/local/lib/python3.10/dist-packages (from ipython>=5.3.0->pyvis) (4.9.0)\n",
            "Requirement already satisfied: MarkupSafe>=2.0 in /usr/local/lib/python3.10/dist-packages (from jinja2>=2.9.6->pyvis) (2.1.5)\n",
            "Requirement already satisfied: parso<0.9.0,>=0.8.3 in /usr/local/lib/python3.10/dist-packages (from jedi>=0.16->ipython>=5.3.0->pyvis) (0.8.4)\n",
            "Requirement already satisfied: ptyprocess>=0.5 in /usr/local/lib/python3.10/dist-packages (from pexpect>4.3->ipython>=5.3.0->pyvis) (0.7.0)\n",
            "Requirement already satisfied: wcwidth in /usr/local/lib/python3.10/dist-packages (from prompt-toolkit!=3.0.0,!=3.0.1,<3.1.0,>=2.0.0->ipython>=5.3.0->pyvis) (0.2.13)\n"
          ]
        }
      ]
    },
    {
      "cell_type": "markdown",
      "metadata": {
        "id": "DjtCEtpOCxs2"
      },
      "source": [
        "Importação das bibliotecas"
      ]
    },
    {
      "cell_type": "code",
      "execution_count": 138,
      "metadata": {
        "id": "DA_HyrBKC6J0"
      },
      "outputs": [],
      "source": [
        "from vectordb import Memory\n",
        "import requests\n",
        "from pyvis.network import Network\n",
        "import matplotlib.pyplot as plt # Será usado para apresentação visual do grafo\n",
        "import os # Será usado métodos para limpar o terminal para atualizar a interface em cada iteração do sistema\n",
        "import time # Será usado método de espera para atualizar a interface gradualmente"
      ]
    },
    {
      "cell_type": "markdown",
      "metadata": {
        "id": "jUL4VcKo2JAl",
        "jp-MarkdownHeadingCollapsed": true
      },
      "source": [
        "## Classe Grafo"
      ]
    },
    {
      "cell_type": "code",
      "execution_count": 139,
      "metadata": {
        "id": "yAaYISkbfzOE"
      },
      "outputs": [],
      "source": [
        "# -*- coding: utf-8 -*-\n",
        "\"\"\"\n",
        "Created on Mon Feb 13 13:59:10 2023\n",
        "\n",
        "@author: icalc\n",
        "\"\"\"\n",
        "class Grafo:\n",
        "    TAM_MAX_DEFAULT = 100 # qtde de vértices máxima default\n",
        "    # construtor da classe grafo\n",
        "    def __init__(self, n=TAM_MAX_DEFAULT):\n",
        "        self.n = n # número de vértices\n",
        "        self.m = 0 # número de arestas\n",
        "        # matriz de adjacência\n",
        "        self.adj = [[0 for i in range(n)] for j in range(n)]\n",
        "\n",
        "\t# Insere uma aresta no Grafo tal que\n",
        "\t# v é adjacente a w\n",
        "    def insereA(self, v, w):\n",
        "        if self.adj[v][w] == 0:\n",
        "            self.adj[v][w] = 1\n",
        "            self.m+=1 # atualiza qtd arestas\n",
        "\n",
        "# remove uma aresta v->w do Grafo\n",
        "    def removeA(self, v, w):\n",
        "        if(v == w):\n",
        "            return\n",
        "        # testa se temos a aresta\n",
        "        if self.adj[v][w] == 1:\n",
        "            self.adj[v][w] = 0\n",
        "            self.m -= 1  # atualiza qtd arestas\n",
        "\n",
        "\t# Apresenta o Grafo contendo\n",
        "\t# número de vértices, arestas\n",
        "\t# e a matriz de adjacência obtida\n",
        "    def show(self):\n",
        "        print(f\"\\n n: {self.n:2d} \", end=\"\")\n",
        "        print(f\"m: {self.m:2d}\\n\")\n",
        "        for i in range(self.n):\n",
        "            for w in range(self.n):\n",
        "                if self.adj[i][w] == 1:\n",
        "                    print(f\"Adj[{i:2d},{w:2d}] = 1 \", end=\"\")\n",
        "                else:\n",
        "                    print(f\"Adj[{i:2d},{w:2d}] = 0 \", end=\"\")\n",
        "            print(\"\\n\")\n",
        "        print(\"\\nfim da impressao do grafo.\" )\n",
        "\n",
        "\n",
        "\t# Apresenta o Grafo contendo\n",
        "\t# número de vértices, arestas\n",
        "\t# e a matriz de adjacência obtida\n",
        "    # Apresentando apenas os valores 0 ou 1\n",
        "    def showMin(self):\n",
        "        print(f\"\\n n: {self.n:2d} \", end=\"\")\n",
        "        print(f\"m: {self.m:2d}\\n\")\n",
        "        for i in range(self.n):\n",
        "            for w in range(self.n):\n",
        "                if self.adj[i][w] == 1:\n",
        "                    print(\" 1 \", end=\"\")\n",
        "                else:\n",
        "                    print(\" 0 \", end=\"\")\n",
        "            print(\"\\n\")\n",
        "        print(\"\\nfim da impressao do grafo.\" )"
      ]
    },
    {
      "cell_type": "markdown",
      "metadata": {
        "id": "g2sI3d7Qz7ck"
      },
      "source": [
        "## Classe GrafoR (Grafo direcionado rotulado)"
      ]
    },
    {
      "cell_type": "code",
      "execution_count": 185,
      "metadata": {
        "id": "F1sOCb5P0ITt",
        "colab": {
          "base_uri": "https://localhost:8080/",
          "height": 0
        },
        "outputId": "ad3dada7-9bad-4ade-bf95-b77370d09411"
      },
      "outputs": [
        {
          "output_type": "execute_result",
          "data": {
            "text/plain": [
              "\"\\n    def dfs_edges(self):\\n        visitados = [False] * len(self.vertices)\\n        edges = []\\n\\n        def dfs(v):\\n            visitados[v] = True\\n            for i in range(len(self.vertices)):\\n                if self.matriz_adj[v][i] == 1 and not visitados[i]:\\n                    edges.append((v, i))\\n                    dfs(i)\\n\\n        for nodo in range(len(self.vertices)):\\n            if not visitados[nodo]:\\n                dfs(nodo)\\n\\n        return edges\\n\\n    def tem_ciclo(self):\\n        visitados = [False] * len(self.vertices)\\n        rec_stack = [False] * len(self.vertices)\\n\\n    def classificar_complexidade(grafo):\\n        if grafo.number_of_nodes() == 0:\\n            return 'C0'  # Grafo vazio\\n\\n        if grafo.number_of_edges() == 0:\\n            return 'C1'  # Grafo com um único vértice ou sem arestas\\n\\n        if grafo.tem_ciclo():\\n            return 'C3'  # Grafo tem ciclos\\n\\n        if len(grafo.dfs_edges()) > 0:\\n            return 'C2'  # Grafo não tem ciclos, mas tem caminhos com mais de um vértice\\n\\n        return 'C1'  # Grafo sem ciclos, todos os caminhos com exatamente um vértice\\n\\n    def cfc(self):\\n        stack = []\\n        visitados = [False] * len(self.vertices)\\n\\n        # Passo 1: Preencher a pilha com base na ordem de finalização do DFS\\n        for i in range(len(self.vertices)):\\n            if not visitados[i]:\\n                self.dfs_util(i, visitados, stack)\\n\\n        # Passo 2: Criar o grafo transposto\\n        g_transposto = self.transpose()\\n\\n        # Passo 3: Fazer DFS no grafo transposto de acordo com a pilha\\n        visitados = [False] * len(self.vertices)\\n        componentes = []\\n\\n        while stack:\\n            v = stack.pop()\\n            if not visitados[v]:\\n                componente = []\\n                g_transposto.dfs_explorar(v, visitados, componente)\\n                componentes.append(componente)\\n\\n        return componentes\\n\\n    def grafo_reduzido(grafo):\\n        componentes = grafo.cfc()\\n        mapeamento = {}\\n        for i, componente in enumerate(componentes):\\n            for v in componente:\\n                mapeamento[v] = i\\n\\n        matriz_reduzida = [[0 for _ in range(len(componentes))] for _ in range(len(componentes))]\\n\\n        for u, v in grafo.arestas:\\n            if mapeamento[u] != mapeamento[v]:\\n                matriz_reduzida[mapeamento[u]][mapeamento[v]] = 1\\n\\n        return matriz_reduzida\\n\""
            ],
            "application/vnd.google.colaboratory.intrinsic+json": {
              "type": "string"
            }
          },
          "metadata": {},
          "execution_count": 185
        }
      ],
      "source": [
        "# Grafo como uma matriz de adjacência rotulado\n",
        "class GrafoR(Grafo):\n",
        "# Não bota o init, vai bugar a classe\n",
        "\n",
        "    def insereA(self, v, w, p):\n",
        "        if self.adj[v][w] == 0:\n",
        "            self.adj[v][w] = p\n",
        "            self.m += 1  # atualiza qtd arestas\n",
        "\n",
        "    def removeA(self, v, w):\n",
        "        if(v == w):\n",
        "            return\n",
        "        # testa se temos a aresta\n",
        "        if self.adj[v][w] != 0:\n",
        "            self.adj[v][w] = 0\n",
        "            self.m -= 1  # atualiza qtd arestas\n",
        "\n",
        "    def show(self):\n",
        "        print(f\"\\n n: {self.n:2d} \", end=\"\")\n",
        "        print(f\"m: {self.m:2d}\\n\")\n",
        "        for i in range(self.n):\n",
        "            for w in range(self.n):\n",
        "                print(f\"Adj[{i:2d},{w:2d}] = {self.adj[i][w]:.2f} \", end=\"\")\n",
        "            print(\"\\n\")\n",
        "        print(\"\\nfim da impressao do grafo.\" )\n",
        "\n",
        "\t# Apresenta o Grafo contendo\n",
        "\t# número de vértices, arestas\n",
        "\t# e a matriz de adjacência obtida\n",
        "    # Apresentando apenas os valores 0 ou 1\n",
        "    def showMin(self):\n",
        "        print(f\"\\n n: {self.n:2d} \", end=\"\")\n",
        "        print(f\"m: {self.m:2d}\\n\")\n",
        "        for i in range(self.n):\n",
        "            for w in range(self.n):\n",
        "                print(f\" {self.adj[i][w]:.2f} \", end=\"\")\n",
        "            print(\"\\n\")\n",
        "        print(\"\\nfim da impressao do grafo.\" )\n",
        "\n",
        "    def insereV(self):\n",
        "        for i in range(self.n):\n",
        "            self.adj[i].append(0)\n",
        "        self.n += 1\n",
        "        self.adj.append([0]*self.n)\n",
        "\n",
        "    def removeV(self, vertice):\n",
        "        if(vertice >= self.n or vertice < 0):\n",
        "            return False\n",
        "        for i in range(self.n):\n",
        "            if(i == vertice):\n",
        "                for j in range(self.n):\n",
        "                    self.removeA(vertice, j) # Exclui arestas fantasmas\n",
        "            self.removeA(i,vertice)\n",
        "            if(i >= vertice and i != self.n-1): # Substitui as conexões do vértice a ser retirado e\n",
        "                              # os vértices posteriores a ele com as conexões do próximo vértice\n",
        "                self.adj[i] = self.adj[i+1]\n",
        "            self.adj[i].pop(vertice) # Remove o vértice escolhido da linha da matriz\n",
        "        self.adj.pop() # Remove a última linha da matriz\n",
        "        self.n -= 1\n",
        "        return True\n",
        "\n",
        "'''\n",
        "    def dfs_edges(self):\n",
        "        visitados = [False] * len(self.vertices)\n",
        "        edges = []\n",
        "\n",
        "        def dfs(v):\n",
        "            visitados[v] = True\n",
        "            for i in range(len(self.vertices)):\n",
        "                if self.matriz_adj[v][i] == 1 and not visitados[i]:\n",
        "                    edges.append((v, i))\n",
        "                    dfs(i)\n",
        "\n",
        "        for nodo in range(len(self.vertices)):\n",
        "            if not visitados[nodo]:\n",
        "                dfs(nodo)\n",
        "\n",
        "        return edges\n",
        "\n",
        "    def tem_ciclo(self):\n",
        "        visitados = [False] * len(self.vertices)\n",
        "        rec_stack = [False] * len(self.vertices)\n",
        "\n",
        "    def classificar_complexidade(grafo):\n",
        "        if grafo.number_of_nodes() == 0:\n",
        "            return 'C0'  # Grafo vazio\n",
        "\n",
        "        if grafo.number_of_edges() == 0:\n",
        "            return 'C1'  # Grafo com um único vértice ou sem arestas\n",
        "\n",
        "        if grafo.tem_ciclo():\n",
        "            return 'C3'  # Grafo tem ciclos\n",
        "\n",
        "        if len(grafo.dfs_edges()) > 0:\n",
        "            return 'C2'  # Grafo não tem ciclos, mas tem caminhos com mais de um vértice\n",
        "\n",
        "        return 'C1'  # Grafo sem ciclos, todos os caminhos com exatamente um vértice\n",
        "\n",
        "    def cfc(self):\n",
        "        stack = []\n",
        "        visitados = [False] * len(self.vertices)\n",
        "\n",
        "        # Passo 1: Preencher a pilha com base na ordem de finalização do DFS\n",
        "        for i in range(len(self.vertices)):\n",
        "            if not visitados[i]:\n",
        "                self.dfs_util(i, visitados, stack)\n",
        "\n",
        "        # Passo 2: Criar o grafo transposto\n",
        "        g_transposto = self.transpose()\n",
        "\n",
        "        # Passo 3: Fazer DFS no grafo transposto de acordo com a pilha\n",
        "        visitados = [False] * len(self.vertices)\n",
        "        componentes = []\n",
        "\n",
        "        while stack:\n",
        "            v = stack.pop()\n",
        "            if not visitados[v]:\n",
        "                componente = []\n",
        "                g_transposto.dfs_explorar(v, visitados, componente)\n",
        "                componentes.append(componente)\n",
        "\n",
        "        return componentes\n",
        "\n",
        "    def grafo_reduzido(grafo):\n",
        "        componentes = grafo.cfc()\n",
        "        mapeamento = {}\n",
        "        for i, componente in enumerate(componentes):\n",
        "            for v in componente:\n",
        "                mapeamento[v] = i\n",
        "\n",
        "        matriz_reduzida = [[0 for _ in range(len(componentes))] for _ in range(len(componentes))]\n",
        "\n",
        "        for u, v in grafo.arestas:\n",
        "            if mapeamento[u] != mapeamento[v]:\n",
        "                matriz_reduzida[mapeamento[u]][mapeamento[v]] = 1\n",
        "\n",
        "        return matriz_reduzida\n",
        "'''"
      ]
    },
    {
      "cell_type": "markdown",
      "metadata": {
        "id": "XMuxrf07kEw_"
      },
      "source": [
        "## Classe Memory"
      ]
    },
    {
      "cell_type": "markdown",
      "metadata": {
        "id": "a6uWsA4dkZwE"
      },
      "source": [
        "Aqui é utilizado a biblioteca VectorDB para criar uma memória virtual.\n",
        "\n",
        "```\n",
        "memoria = Memory(chunking_strategy={\"mode\": \"sliding_window\", \"window_size\": 1, \"overlap\": 0})\n",
        "```\n",
        "\n",
        "- `chunking_strategy` define a estratégia de fragmentação dos dados. No modo \"sliding_window\", os dados são divididos em *chunks* (pedaços de texto) de tamanho fixo.\n",
        "\n",
        "- `window_size` define a quantidade de palavras que um *chunk* representa. Neste caso, cada *chunk* representa uma palavra.\n",
        "\n",
        "- `overlap` define quantos elementos de sobreposição existirão entre os *chunks* adjacentes. Neste caso, não haverá sobreposição já que as palavras usadas não formam frases, logo são independentes uma das outras."
      ]
    },
    {
      "cell_type": "markdown",
      "source": [
        "### Método SAVE"
      ],
      "metadata": {
        "id": "mLOuJFjZ66pZ"
      }
    },
    {
      "cell_type": "markdown",
      "source": [
        "O método é usado para fazer o *embedding* de uma palavra e inserir na memória.\n",
        "```\n",
        "memoria.save(\"palavra\")\n",
        "```\n",
        "* `palavra` é a *string* da palavra desejada para inserir na memória."
      ],
      "metadata": {
        "id": "tBUvKn0YJ1vU"
      }
    },
    {
      "cell_type": "markdown",
      "source": [
        "### Método SEARCH"
      ],
      "metadata": {
        "id": "tykSWUsj65G_"
      }
    },
    {
      "cell_type": "markdown",
      "source": [
        "O método é usado para fazer o *embedding* de uma palavra para consultar a proximidade com as palavras salvas na memória através da busca vetorial.\n",
        "```\n",
        "busca = memoria.search(palavra, top_n=4)\n",
        "```\n",
        "* `palavra` é a string da palavra usada para consultar a proximidade com as palavras salvas na memória.\n",
        "* `top_n` define o número de palavras retornadas da consulta.\n"
      ],
      "metadata": {
        "id": "vBW75f05JpHt"
      }
    },
    {
      "cell_type": "markdown",
      "source": [
        "### [Referência](https://vectordb.com/)"
      ],
      "metadata": {
        "id": "xvaddfZSJlrp"
      }
    },
    {
      "cell_type": "markdown",
      "source": [
        "## Classe Network"
      ],
      "metadata": {
        "id": "by7AfxYr5Wwg"
      }
    },
    {
      "cell_type": "markdown",
      "source": [
        "Aqui é utilizado a biblioteca Pyvis para criar uma instância para visualizar redes/grafos de forma interativa.\n",
        "\n",
        "```\n",
        "net = Network(notebook=True, cdn_resources='remote', directed=True)\n",
        "```\n",
        "* `notebook=True`: Esta opção indica que a visualização da rede será exibida diretamente em um notebook Jupyter.\n",
        "\n",
        "* `cdn_resources='remote'`: Esta opção especifica que os recursos necessários (como bibliotecas JavaScript e CSS) serão carregados de um Content Delivery Network (CDN) remoto. Isso pode ajudar a reduzir o tempo de carregamento e garantir que você esteja usando as versões mais recentes desses recursos.\n",
        "\n",
        "* `directed=True`: Especifica para que o grafo seja direcionado."
      ],
      "metadata": {
        "id": "wT2RnA145hp5"
      }
    },
    {
      "cell_type": "markdown",
      "source": [
        "### [Referência](https://pyvis.readthedocs.io/en/latest/documentation.html)"
      ],
      "metadata": {
        "id": "0XATAgPRJn1u"
      }
    },
    {
      "cell_type": "markdown",
      "source": [
        "## Funções auxiliares"
      ],
      "metadata": {
        "id": "zWYODqQXiaGN"
      }
    },
    {
      "cell_type": "markdown",
      "source": [
        "### Cria vértice"
      ],
      "metadata": {
        "id": "TmqCgxE0isy5"
      }
    },
    {
      "cell_type": "code",
      "source": [
        "def criaVertice(palavra, indice):\n",
        "  vertice = {\n",
        "      \"palavra\": palavra, # Recupera cada palavra e tira o \"\\n\"\n",
        "      \"indice\": indice,\n",
        "      \"n_vizinhos\": 0,\n",
        "      \"proximos\": []\n",
        "  }\n",
        "  return vertice"
      ],
      "metadata": {
        "id": "TAiwXMCqirUg"
      },
      "execution_count": 219,
      "outputs": []
    },
    {
      "cell_type": "markdown",
      "source": [
        "### Lê arquivo"
      ],
      "metadata": {
        "id": "CGlKvBrCi3qp"
      }
    },
    {
      "cell_type": "markdown",
      "source": [
        "Os dados do documento são importados e guardados na variável `dados`."
      ],
      "metadata": {
        "id": "sL9fnr6ni8iH"
      }
    },
    {
      "cell_type": "code",
      "source": [
        "def leArquivoHTTP(url):\n",
        "  arquivo = requests.get(url).text\n",
        "\n",
        "  lista = arquivo.split() # Distribui cada elemento do arquivo numa lista\n",
        "  n_palavras = int(lista.pop(0)) # Separa o número de palavras (primeira linha do arquivo)\n",
        "  vertices = []\n",
        "  for i in range(n_palavras):\n",
        "    vertice = criaVertice(lista[i], i)\n",
        "    vertices.append(vertice)\n",
        "\n",
        "  dados = [n_palavras]\n",
        "  dados.append(vertices)\n",
        "\n",
        "  return dados"
      ],
      "metadata": {
        "id": "4nEo6zd1i6D5"
      },
      "execution_count": 220,
      "outputs": []
    },
    {
      "cell_type": "code",
      "source": [
        "def leArquivo(origem):\n",
        "  try:\n",
        "    with open(origem, 'r', encoding='utf-8') as arquivo:\n",
        "      n_palavras = int(arquivo.readline()) # Recupera o número de palavras (primeira linha do arquivo)\n",
        "\n",
        "      vertices = []\n",
        "      for i in range(n_palavras):\n",
        "        vertice = criaVertice(arquivo.readline().strip(), i)\n",
        "        vertices.append(vertice)\n",
        "\n",
        "    dados = [n_palavras]\n",
        "    dados.append(vertices)\n",
        "\n",
        "    return dados\n",
        "\n",
        "  except FileNotFoundError:\n",
        "      print(\"[Erro: Arquivo não encontrado]\")"
      ],
      "metadata": {
        "id": "Md6it9mdjAlL"
      },
      "execution_count": 221,
      "outputs": []
    },
    {
      "cell_type": "markdown",
      "source": [
        "### Embedding"
      ],
      "metadata": {
        "id": "xvG7B29cjGjs"
      }
    },
    {
      "cell_type": "markdown",
      "source": [
        "Cada palavra é convertida para um vetor numérico e guardada na memória."
      ],
      "metadata": {
        "id": "edfR0j4ojLiV"
      }
    },
    {
      "cell_type": "code",
      "source": [
        "def embedding(memoria, n_palavras, vertices): # Método para fazer o embedding e inserção na memória de todas as palavras\n",
        "  for i in range(n_palavras):\n",
        "    memoria.save(vertices[i][\"palavra\"])"
      ],
      "metadata": {
        "id": "eC-dinSyjKEn"
      },
      "execution_count": 222,
      "outputs": []
    },
    {
      "cell_type": "markdown",
      "source": [
        "### Busca vetorial"
      ],
      "metadata": {
        "id": "0RbhmJRQjX7y"
      }
    },
    {
      "cell_type": "markdown",
      "source": [
        "Quanto menor é a distância, maior é a proximidade semântica."
      ],
      "metadata": {
        "id": "II8guSv1jZ78"
      }
    },
    {
      "cell_type": "code",
      "source": [
        "def buscaVetorial(memoria, palavra): # Método para retornar os quatro elementos com maior proximidade semântica de uma palavra\n",
        "  busca = memoria.search(palavra, top_n=4)\n",
        "  return busca"
      ],
      "metadata": {
        "id": "d8YlAteUjdEg"
      },
      "execution_count": 223,
      "outputs": []
    },
    {
      "cell_type": "markdown",
      "source": [
        "### Busca índice"
      ],
      "metadata": {
        "id": "D2GpxPLMjiC5"
      }
    },
    {
      "cell_type": "markdown",
      "source": [
        "Busca um índice através da palavra dentro da lista de vértices."
      ],
      "metadata": {
        "id": "e_H47lOpjlcg"
      }
    },
    {
      "cell_type": "code",
      "source": [
        "def buscaIndice(n_palavras, vertices, palavra):\n",
        "  for i in range(n_palavras):\n",
        "    if(vertices[i][\"palavra\"] == palavra):\n",
        "      return vertices[i][\"indice\"]\n",
        "  return -1"
      ],
      "metadata": {
        "id": "CJ8GGcW8jjjV"
      },
      "execution_count": 224,
      "outputs": []
    },
    {
      "cell_type": "markdown",
      "source": [
        "### Busca palavra"
      ],
      "metadata": {
        "id": "uuinIkupjvJp"
      }
    },
    {
      "cell_type": "markdown",
      "source": [
        "Busca uma palavra através do índice dentro da lista de vértices."
      ],
      "metadata": {
        "id": "UMZ4XLBujxKn"
      }
    },
    {
      "cell_type": "code",
      "source": [
        "def buscaPalavra(n_palavras, vertices, indice):\n",
        "  if(indice >= n_palavras or indice < 0):\n",
        "    return \"[Erro: índice inválido]\"\n",
        "  for i in range(n_palavras):\n",
        "    if(vertices[i][\"indice\"] == indice):\n",
        "      return vertices[i][\"palavra\"]\n",
        "  return \"[Erro: índice não encontrado]\""
      ],
      "metadata": {
        "id": "LBj18pbljxeq"
      },
      "execution_count": 225,
      "outputs": []
    },
    {
      "cell_type": "markdown",
      "source": [
        "### Cria vizinho"
      ],
      "metadata": {
        "id": "nY8qxhFskHeU"
      }
    },
    {
      "cell_type": "code",
      "source": [
        "def criaVizinho(palavra, indice, distancia):\n",
        "  proximo = {\n",
        "      \"vizinho\": palavra,\n",
        "      \"indice\": indice,\n",
        "      \"distancia\": distancia\n",
        "  }\n",
        "  return proximo"
      ],
      "metadata": {
        "id": "GG8eGVgxkJlr"
      },
      "execution_count": 226,
      "outputs": []
    },
    {
      "cell_type": "markdown",
      "source": [
        "### Integra grafo"
      ],
      "metadata": {
        "id": "akYDFZCNkVNn"
      }
    },
    {
      "cell_type": "markdown",
      "source": [
        "A palavra mais próxima armazenada na memória é ela mesma, portanto para encontrar as outras três palavras mais próximas foram recuperadas as palavras de índice 1 até 4."
      ],
      "metadata": {
        "id": "a1pMlLG1kZjo"
      }
    },
    {
      "cell_type": "code",
      "source": [
        "def integraGrafo(memoria, n_palavras, vertices):\n",
        "  grafo = GrafoR(n_palavras) # Cria um grafo rotulado\n",
        "  for i in range(n_palavras):\n",
        "    busca = buscaVetorial(memoria, vertices[i][\"palavra\"])\n",
        "    proximos = []\n",
        "    for j in range(1,4):\n",
        "      palavra = busca[j]['chunk']\n",
        "      distancia = busca[j]['distance']\n",
        "      proximo = criaVizinho(palavra, buscaIndice(n_palavras, vertices, palavra), distancia)\n",
        "      proximos.append(proximo)\n",
        "      vertices[i][\"n_vizinhos\"] += 1\n",
        "      grafo.insereA(vertices[i][\"indice\"], proximo[\"indice\"], proximo[\"distancia\"])\n",
        "    vertices[i][\"proximos\"] = proximos\n",
        "  return grafo"
      ],
      "metadata": {
        "id": "cDCMxOBHkWsz"
      },
      "execution_count": 227,
      "outputs": []
    },
    {
      "cell_type": "markdown",
      "source": [
        "### Grava dados"
      ],
      "metadata": {
        "id": "2PeqvyNUkgfI"
      }
    },
    {
      "cell_type": "code",
      "source": [
        "def gravaDados(n_palavras, vertices):\n",
        "  with open(\"grafo.txt\", \"w\") as arquivo:\n",
        "    for i in range(n_palavras):\n",
        "      palavra = vertices[i][\"palavra\"]\n",
        "      arquivo.write(palavra+\"\\n\")"
      ],
      "metadata": {
        "id": "10rSV0ahkjeI"
      },
      "execution_count": 228,
      "outputs": []
    },
    {
      "cell_type": "markdown",
      "source": [
        "### Insere vértice"
      ],
      "metadata": {
        "id": "5L5R6K1ak9y6"
      }
    },
    {
      "cell_type": "code",
      "source": [
        "def insereVertice(grafo, n_palavras, vertices, palavra):\n",
        "  if(buscaIndice(n_palavras, vertices, palavra) == -1):\n",
        "    grafo.insereV()\n",
        "    vertices.append(criaVertice(palavra, n_palavras))\n",
        "  else:\n",
        "    print(\"[Erro: Palavra já existe]\")"
      ],
      "metadata": {
        "id": "KDtRcWq_k_bV"
      },
      "execution_count": 229,
      "outputs": []
    },
    {
      "cell_type": "markdown",
      "source": [
        "### Cria aresta"
      ],
      "metadata": {
        "id": "OCilppoasxOJ"
      }
    },
    {
      "cell_type": "code",
      "source": [
        "def criaAresta(origem, destino):\n",
        "  aresta = [0] * 2\n",
        "  aresta[0] = origem\n",
        "  aresta[1] = destino\n",
        "  return aresta"
      ],
      "metadata": {
        "id": "JutVUDz5s0tg"
      },
      "execution_count": 230,
      "outputs": []
    },
    {
      "cell_type": "markdown",
      "source": [
        "### Busca vizinho"
      ],
      "metadata": {
        "id": "WTHEWrEos1bx"
      }
    },
    {
      "cell_type": "code",
      "source": [
        "def buscaVizinho(n_vizinhos, vizinhos, indice):\n",
        "  for i in range(n_vizinhos):\n",
        "    if(vizinhos[i][\"indice\"] == indice):\n",
        "      return i\n",
        "  return -1"
      ],
      "metadata": {
        "id": "FdWfskq3s5AC"
      },
      "execution_count": 231,
      "outputs": []
    },
    {
      "cell_type": "markdown",
      "source": [
        "### Insere aresta"
      ],
      "metadata": {
        "id": "k-MC5QZ-s9fh"
      }
    },
    {
      "cell_type": "code",
      "source": [
        "def insereAresta(grafo, n_palavras, vertices, aresta, peso):\n",
        "  origem = aresta[0]\n",
        "  destino = aresta[1]\n",
        "  if(origem >= n_palavras or origem < 0):\n",
        "    print(\"[Erro: origem não existe]\")\n",
        "\n",
        "  elif(destino >= n_palavras or destino < 0):\n",
        "    print(\"[Erro: destino não existe]\")\n",
        "\n",
        "  else:\n",
        "    n_vizinhos = vertices[origem][\"n_vizinhos\"]\n",
        "    vizinhos = vertices[origem][\"proximos\"]\n",
        "\n",
        "    if(buscaVizinho(n_vizinhos, vizinhos, destino) != -1):\n",
        "      print(\"[Erro: aresta já existe]\")\n",
        "\n",
        "    else:\n",
        "      grafo.insereA(origem, destino, peso)\n",
        "      palavra_destino = buscaPalavra(n_palavras, vertices, destino)\n",
        "      vertices[origem][\"proximos\"].append(criaVizinho(palavra_destino, destino, peso))\n",
        "      vertices[origem][\"n_vizinhos\"] += 1"
      ],
      "metadata": {
        "id": "SF5ki2ems-xS"
      },
      "execution_count": 232,
      "outputs": []
    },
    {
      "cell_type": "markdown",
      "source": [
        "### Remove vértice"
      ],
      "metadata": {
        "id": "S0kXytc8M-uW"
      }
    },
    {
      "cell_type": "code",
      "source": [
        "def removeVertice(grafo, n_palavras, vertices, removido):\n",
        "  if(removido >= n_palavras or removido < 0):\n",
        "    print(\"[Erro: vértice não existe]\")\n",
        "  else:\n",
        "    grafo.removeV(removido)\n",
        "    for i in range(n_palavras - 1):\n",
        "      if(i >= removido):\n",
        "        vertices[i] = vertices[i+1]\n",
        "        vertices[i][\"indice\"] = i\n",
        "\n",
        "      n_vizinhos = vertices[i][\"n_vizinhos\"]\n",
        "      vizinhos = vertices[i][\"proximos\"]\n",
        "      posicao = buscaVizinho(n_vizinhos, vizinhos, removido)\n",
        "\n",
        "      if(posicao != -1):\n",
        "        aresta = criaAresta(vertices[i][\"indice\"], removido)\n",
        "        removeAresta(grafo, n_palavras, vertices, aresta)\n",
        "\n",
        "    vertices.pop()"
      ],
      "metadata": {
        "id": "RzfbCnjJNCCb"
      },
      "execution_count": 233,
      "outputs": []
    },
    {
      "cell_type": "markdown",
      "source": [
        "### Remove aresta"
      ],
      "metadata": {
        "id": "m4zLz70nNLil"
      }
    },
    {
      "cell_type": "code",
      "source": [
        "def removeAresta(grafo, n_palavras, vertices, aresta):\n",
        "  origem = aresta[0]\n",
        "  destino = aresta[1]\n",
        "  if(origem >= n_palavras or origem < 0):\n",
        "    print(\"[Erro: origem não existe]\")\n",
        "\n",
        "  elif(destino >= n_palavras or destino < 0):\n",
        "    print(\"[Erro: destino não existe]\")\n",
        "\n",
        "  else:\n",
        "    n_vizinhos = vertices[origem][\"n_vizinhos\"]\n",
        "    vizinhos = vertices[origem][\"proximos\"]\n",
        "    posicao = buscaVizinho(n_vizinhos, vizinhos, destino)\n",
        "    if(posicao == -1):\n",
        "      print(\"[Erro: aresta não existe]\")\n",
        "\n",
        "    else:\n",
        "      grafo.removeA(origem, destino)\n",
        "      vertices[origem][\"proximos\"].pop(posicao)\n",
        "      vertices[origem][\"n_vizinhos\"] -= 1"
      ],
      "metadata": {
        "id": "7WlXNaVzNNAs"
      },
      "execution_count": 234,
      "outputs": []
    },
    {
      "cell_type": "markdown",
      "source": [
        "### Imprime vértices"
      ],
      "metadata": {
        "id": "8LyuaiqbGnQr"
      }
    },
    {
      "cell_type": "code",
      "source": [
        "def imprimeVertices(network, n_palavras, vertices):\n",
        "  for i in range(n_palavras):\n",
        "    network.add_node( # Adiciona vértices\n",
        "        i, # Índice\n",
        "        label=vertices[i][\"palavra\"], # Descrição do vértice\n",
        "        color=\"yellow\"\n",
        "    )"
      ],
      "metadata": {
        "id": "pr6spoUrGmrl"
      },
      "execution_count": 235,
      "outputs": []
    },
    {
      "cell_type": "markdown",
      "source": [
        "### Imprime arestas"
      ],
      "metadata": {
        "id": "FCn2z_GwGrMA"
      }
    },
    {
      "cell_type": "code",
      "source": [
        "def imprimeArestas(network, n_palavras, vertices):\n",
        "  for i in range(n_palavras):\n",
        "    vizinhos = vertices[i][\"proximos\"]\n",
        "    for j in range(vertices[i][\"n_vizinhos\"]):\n",
        "      distancia = float(vizinhos[j][\"distancia\"])\n",
        "      if(distancia >= 0 and distancia <= 1):\n",
        "        peso = (1-distancia) # Caso seja um valor entre a escala da distância semântica\n",
        "      else:\n",
        "        peso = distancia # Caso seja um valor fora do limite\n",
        "      network.add_edge( # Adiciona as arestas\n",
        "          vertices[i][\"indice\"], # Origem\n",
        "          vizinhos[j][\"indice\"], # Destino\n",
        "          value=peso, # Peso\n",
        "          title=f'''\n",
        "          Origem: {vertices[i][\"palavra\"]}\n",
        "          Destino: {vizinhos[j][\"vizinho\"]}\n",
        "          Peso: {peso:.2f}\n",
        "                        ''', # Descrição\n",
        "          color=\"red\"\n",
        "      )"
      ],
      "metadata": {
        "id": "OtxYhq8jGxyj"
      },
      "execution_count": 236,
      "outputs": []
    },
    {
      "cell_type": "markdown",
      "source": [
        "### Imprime grafo"
      ],
      "metadata": {
        "id": "j3fUMtozG0nK"
      }
    },
    {
      "cell_type": "code",
      "source": [
        "def imprimeGrafo(n_palavras, vertices):\n",
        "  net = Network(notebook=True, cdn_resources='remote', directed=True, height=\"1200px\", width=\"100%\", bgcolor=\"black\", font_color=\"white\")\n",
        "  imprimeVertices(net, n_palavras, vertices)\n",
        "  imprimeArestas(net, n_palavras, vertices)\n",
        "  net.barnes_hut() # Dispersa melhor os vértices\n",
        "  net.show(\"grafo.html\") # Salva o grafo"
      ],
      "metadata": {
        "id": "OGnMeqekG13i"
      },
      "execution_count": 237,
      "outputs": []
    },
    {
      "cell_type": "markdown",
      "source": [
        "### Mostra vértice"
      ],
      "metadata": {
        "id": "Cxg23MaPQT-n"
      }
    },
    {
      "cell_type": "code",
      "source": [
        "def mostraVertice(vertices, indice):\n",
        "  palavra = vertices[indice][\"palavra\"]\n",
        "  n_vizinhos = vertices[indice][\"n_vizinhos\"]\n",
        "  vizinhos = vertices[indice][\"proximos\"]\n",
        "  print(f\"\\nPalavra: {palavra}\\n\")\n",
        "  for i in range(n_vizinhos):\n",
        "    vizinho =  vizinhos[i][\"vizinho\"]\n",
        "    distancia = vizinhos[i][\"distancia\"]\n",
        "    print(f'''\n",
        "    Vizinho: {vizinho}\n",
        "    Distância: {distancia}''')"
      ],
      "metadata": {
        "id": "u7P9I5OlQVyH"
      },
      "execution_count": 265,
      "outputs": []
    },
    {
      "cell_type": "markdown",
      "metadata": {
        "id": "ro4oq-cagY8g"
      },
      "source": [
        "# Testes"
      ]
    },
    {
      "cell_type": "markdown",
      "metadata": {
        "id": "fj8LIYV32JAo"
      },
      "source": [
        "## 1. Ler dados (Feito)"
      ]
    },
    {
      "cell_type": "code",
      "execution_count": 238,
      "metadata": {
        "colab": {
          "base_uri": "https://localhost:8080/"
        },
        "collapsed": true,
        "id": "WJkcynqo2JAr",
        "outputId": "aae4528c-4978-413b-b5b5-20f93c336f14"
      },
      "outputs": [
        {
          "output_type": "stream",
          "name": "stdout",
          "text": [
            "[8, [{'palavra': 'Ecossistema', 'indice': 0, 'n_vizinhos': 0, 'proximos': []}, {'palavra': 'Sustentabilidade', 'indice': 1, 'n_vizinhos': 0, 'proximos': []}, {'palavra': 'Biodiversidade', 'indice': 2, 'n_vizinhos': 0, 'proximos': []}, {'palavra': 'Reciclagem', 'indice': 3, 'n_vizinhos': 0, 'proximos': []}, {'palavra': 'Conservação', 'indice': 4, 'n_vizinhos': 0, 'proximos': []}, {'palavra': 'Poluição', 'indice': 5, 'n_vizinhos': 0, 'proximos': []}, {'palavra': 'Desmatamento', 'indice': 6, 'n_vizinhos': 0, 'proximos': []}, {'palavra': 'Reflorestamento', 'indice': 7, 'n_vizinhos': 0, 'proximos': []}]]\n"
          ]
        }
      ],
      "source": [
        "d = leArquivoHTTP('https://raw.githubusercontent.com/Cehiim/TeoriaDosGrafos/refs/heads/main/Projeto/teste.txt')\n",
        "#d = leArquivo(\"palavras.txt\")\n",
        "print(d)"
      ]
    },
    {
      "cell_type": "markdown",
      "metadata": {
        "id": "LKs0zciNBHL_"
      },
      "source": [
        "A palavra mais próxima armazenada na memória é ela mesma, portanto para encontrar as outras três palavras mais próximas foram recuperadas as palavras de índice 1 até 4."
      ]
    },
    {
      "cell_type": "code",
      "execution_count": 239,
      "metadata": {
        "colab": {
          "base_uri": "https://localhost:8080/"
        },
        "id": "jBe9Eq_I-ozC",
        "outputId": "c519525a-4e72-412d-8f7b-23e08050a211",
        "collapsed": true
      },
      "outputs": [
        {
          "output_type": "stream",
          "name": "stdout",
          "text": [
            "Initiliazing embeddings:  normal\n",
            "OK.\n",
            "[{'chunk': 'Biodiversidade', 'metadata': {}, 'distance': 0.0}, {'chunk': 'Sustentabilidade', 'metadata': {}, 'distance': 0.44970125}, {'chunk': 'Ecossistema', 'metadata': {}, 'distance': 0.5811522}, {'chunk': 'Poluição', 'metadata': {}, 'distance': 0.6769276}]\n",
            "\n",
            "\n",
            "Busca: Biodiversidade\n",
            "\n",
            "Palavra: Sustentabilidade\n",
            "Distância: 0.45\n",
            "\n",
            "Palavra: Ecossistema\n",
            "Distância: 0.58\n",
            "\n",
            "Palavra: Poluição\n",
            "Distância: 0.68\n",
            "\n"
          ]
        }
      ],
      "source": [
        "m = Memory(chunking_strategy={\"mode\": \"sliding_window\", \"window_size\": 1, \"overlap\": 0}) # Memória\n",
        "n = d[0] # Número de palavras\n",
        "v = d[1] # Lista de vértices (cada vértice é organizado em palavra, índice e vizinhos próximos)\n",
        "\n",
        "embedding(m, n, v)\n",
        "\n",
        "b = buscaVetorial(m, \"Biodiversidade\")\n",
        "print(b)\n",
        "print(f\"\\n\\nBusca: Biodiversidade\\n\")\n",
        "for i in range(1,4):\n",
        "  palavra = b[i]['chunk']\n",
        "  distancia = b[i]['distance']\n",
        "  print(f\"Palavra: {palavra}\\nDistância: {distancia:.2f}\\n\")"
      ]
    },
    {
      "cell_type": "code",
      "source": [
        "g = integraGrafo(m, n, v)\n",
        "print(v[0]) # Informações do primeiro elemento da lista de vértices\n",
        "g.showMin()"
      ],
      "metadata": {
        "colab": {
          "base_uri": "https://localhost:8080/"
        },
        "id": "OwrIDFFLvemn",
        "outputId": "539fc213-7fec-412d-d0c4-3252f5d55894",
        "collapsed": true
      },
      "execution_count": 240,
      "outputs": [
        {
          "output_type": "stream",
          "name": "stdout",
          "text": [
            "{'palavra': 'Ecossistema', 'indice': 0, 'n_vizinhos': 3, 'proximos': [{'vizinho': 'Biodiversidade', 'indice': 2, 'distancia': 0.5811522}, {'vizinho': 'Sustentabilidade', 'indice': 1, 'distancia': 0.59003323}, {'vizinho': 'Reflorestamento', 'indice': 7, 'distancia': 0.7258596}]}\n",
            "\n",
            " n:  8 m: 24\n",
            "\n",
            " 0.00  0.59  0.58  0.00  0.00  0.00  0.00  0.73 \n",
            "\n",
            " 0.59  0.00  0.45  0.00  0.00  0.00  0.00  0.69 \n",
            "\n",
            " 0.58  0.45  0.00  0.00  0.00  0.68  0.00  0.00 \n",
            "\n",
            " 0.80  0.00  0.00  0.00  0.00  0.78  0.00  0.64 \n",
            "\n",
            " 0.00  0.78  0.00  0.00  0.00  0.78  0.86  0.00 \n",
            "\n",
            " 0.00  0.00  0.68  0.00  0.00  0.00  0.72  0.65 \n",
            "\n",
            " 0.00  0.00  0.79  0.00  0.00  0.72  0.00  0.69 \n",
            "\n",
            " 0.00  0.00  0.00  0.64  0.00  0.65  0.69  0.00 \n",
            "\n",
            "\n",
            "fim da impressao do grafo.\n"
          ]
        }
      ]
    },
    {
      "cell_type": "markdown",
      "metadata": {
        "id": "rsUUPVLa2JAs"
      },
      "source": [
        "## 2. Gravar dados (Feito)"
      ]
    },
    {
      "cell_type": "code",
      "source": [
        "gravaDados(n,v)"
      ],
      "metadata": {
        "id": "TzhEGEtaC70z"
      },
      "execution_count": 241,
      "outputs": []
    },
    {
      "cell_type": "markdown",
      "source": [
        "No Google Colab o arquivo nomeado como `grafo.txt` poderá ser acessado nos arquivos localizado no canto esquerdo.\n",
        "\n",
        "![unnamed.png](data:image/png;base64,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)"
      ],
      "metadata": {
        "id": "aUrn6Ez9xHsQ"
      }
    },
    {
      "cell_type": "markdown",
      "metadata": {
        "id": "rcUaBUFE2JAs"
      },
      "source": [
        "## 3. Inserir vértice (Feito)"
      ]
    },
    {
      "cell_type": "code",
      "source": [
        "insereVertice(g, n, v, \"Maritaca\")\n",
        "n += 1\n",
        "print(n)\n",
        "print(v)\n",
        "g.showMin()"
      ],
      "metadata": {
        "colab": {
          "base_uri": "https://localhost:8080/"
        },
        "collapsed": true,
        "id": "T-URKlaHw0kG",
        "outputId": "8dbfa66f-30f0-4285-d9cd-2b4e1061b07a"
      },
      "execution_count": 242,
      "outputs": [
        {
          "output_type": "stream",
          "name": "stdout",
          "text": [
            "9\n",
            "[{'palavra': 'Ecossistema', 'indice': 0, 'n_vizinhos': 3, 'proximos': [{'vizinho': 'Biodiversidade', 'indice': 2, 'distancia': 0.5811522}, {'vizinho': 'Sustentabilidade', 'indice': 1, 'distancia': 0.59003323}, {'vizinho': 'Reflorestamento', 'indice': 7, 'distancia': 0.7258596}]}, {'palavra': 'Sustentabilidade', 'indice': 1, 'n_vizinhos': 3, 'proximos': [{'vizinho': 'Biodiversidade', 'indice': 2, 'distancia': 0.44970125}, {'vizinho': 'Ecossistema', 'indice': 0, 'distancia': 0.59003323}, {'vizinho': 'Reflorestamento', 'indice': 7, 'distancia': 0.692708}]}, {'palavra': 'Biodiversidade', 'indice': 2, 'n_vizinhos': 3, 'proximos': [{'vizinho': 'Sustentabilidade', 'indice': 1, 'distancia': 0.44970125}, {'vizinho': 'Ecossistema', 'indice': 0, 'distancia': 0.5811522}, {'vizinho': 'Poluição', 'indice': 5, 'distancia': 0.6769276}]}, {'palavra': 'Reciclagem', 'indice': 3, 'n_vizinhos': 3, 'proximos': [{'vizinho': 'Reflorestamento', 'indice': 7, 'distancia': 0.63607174}, {'vizinho': 'Poluição', 'indice': 5, 'distancia': 0.78495324}, {'vizinho': 'Ecossistema', 'indice': 0, 'distancia': 0.80120957}]}, {'palavra': 'Conservação', 'indice': 4, 'n_vizinhos': 3, 'proximos': [{'vizinho': 'Poluição', 'indice': 5, 'distancia': 0.7833704}, {'vizinho': 'Sustentabilidade', 'indice': 1, 'distancia': 0.7846519}, {'vizinho': 'Desmatamento', 'indice': 6, 'distancia': 0.86300147}]}, {'palavra': 'Poluição', 'indice': 5, 'n_vizinhos': 3, 'proximos': [{'vizinho': 'Reflorestamento', 'indice': 7, 'distancia': 0.65016866}, {'vizinho': 'Biodiversidade', 'indice': 2, 'distancia': 0.6769276}, {'vizinho': 'Desmatamento', 'indice': 6, 'distancia': 0.71925545}]}, {'palavra': 'Desmatamento', 'indice': 6, 'n_vizinhos': 3, 'proximos': [{'vizinho': 'Reflorestamento', 'indice': 7, 'distancia': 0.6854651}, {'vizinho': 'Poluição', 'indice': 5, 'distancia': 0.71925545}, {'vizinho': 'Biodiversidade', 'indice': 2, 'distancia': 0.78797036}]}, {'palavra': 'Reflorestamento', 'indice': 7, 'n_vizinhos': 3, 'proximos': [{'vizinho': 'Reciclagem', 'indice': 3, 'distancia': 0.63607174}, {'vizinho': 'Poluição', 'indice': 5, 'distancia': 0.65016866}, {'vizinho': 'Desmatamento', 'indice': 6, 'distancia': 0.6854651}]}, {'palavra': 'Maritaca', 'indice': 8, 'n_vizinhos': 0, 'proximos': []}]\n",
            "\n",
            " n:  9 m: 24\n",
            "\n",
            " 0.00  0.59  0.58  0.00  0.00  0.00  0.00  0.73  0.00 \n",
            "\n",
            " 0.59  0.00  0.45  0.00  0.00  0.00  0.00  0.69  0.00 \n",
            "\n",
            " 0.58  0.45  0.00  0.00  0.00  0.68  0.00  0.00  0.00 \n",
            "\n",
            " 0.80  0.00  0.00  0.00  0.00  0.78  0.00  0.64  0.00 \n",
            "\n",
            " 0.00  0.78  0.00  0.00  0.00  0.78  0.86  0.00  0.00 \n",
            "\n",
            " 0.00  0.00  0.68  0.00  0.00  0.00  0.72  0.65  0.00 \n",
            "\n",
            " 0.00  0.00  0.79  0.00  0.00  0.72  0.00  0.69  0.00 \n",
            "\n",
            " 0.00  0.00  0.00  0.64  0.00  0.65  0.69  0.00  0.00 \n",
            "\n",
            " 0.00  0.00  0.00  0.00  0.00  0.00  0.00  0.00  0.00 \n",
            "\n",
            "\n",
            "fim da impressao do grafo.\n"
          ]
        }
      ]
    },
    {
      "cell_type": "markdown",
      "metadata": {
        "id": "-8PvH4ed2JAt"
      },
      "source": [
        "## 4. Inserir aresta (Feito)"
      ]
    },
    {
      "cell_type": "code",
      "source": [
        "a = criaAresta(8, 4)\n",
        "a2 = criaAresta(8, 0)\n",
        "insereAresta(g, n, v, a, 0.8)\n",
        "print(v[8])\n",
        "insereAresta(g, n, v, a, 0.8)\n",
        "insereAresta(g, n, v, a2, 0.4)\n",
        "print(v[8])\n",
        "g.showMin()"
      ],
      "metadata": {
        "colab": {
          "base_uri": "https://localhost:8080/"
        },
        "id": "c6ZFQ_yic5FM",
        "outputId": "521493d9-b2a6-4b17-cf08-70893f848e02"
      },
      "execution_count": 243,
      "outputs": [
        {
          "output_type": "stream",
          "name": "stdout",
          "text": [
            "{'palavra': 'Maritaca', 'indice': 8, 'n_vizinhos': 1, 'proximos': [{'vizinho': 'Conservação', 'indice': 4, 'distancia': 0.8}]}\n",
            "[Erro: aresta já existe]\n",
            "{'palavra': 'Maritaca', 'indice': 8, 'n_vizinhos': 2, 'proximos': [{'vizinho': 'Conservação', 'indice': 4, 'distancia': 0.8}, {'vizinho': 'Ecossistema', 'indice': 0, 'distancia': 0.4}]}\n",
            "\n",
            " n:  9 m: 26\n",
            "\n",
            " 0.00  0.59  0.58  0.00  0.00  0.00  0.00  0.73  0.00 \n",
            "\n",
            " 0.59  0.00  0.45  0.00  0.00  0.00  0.00  0.69  0.00 \n",
            "\n",
            " 0.58  0.45  0.00  0.00  0.00  0.68  0.00  0.00  0.00 \n",
            "\n",
            " 0.80  0.00  0.00  0.00  0.00  0.78  0.00  0.64  0.00 \n",
            "\n",
            " 0.00  0.78  0.00  0.00  0.00  0.78  0.86  0.00  0.00 \n",
            "\n",
            " 0.00  0.00  0.68  0.00  0.00  0.00  0.72  0.65  0.00 \n",
            "\n",
            " 0.00  0.00  0.79  0.00  0.00  0.72  0.00  0.69  0.00 \n",
            "\n",
            " 0.00  0.00  0.00  0.64  0.00  0.65  0.69  0.00  0.00 \n",
            "\n",
            " 0.40  0.00  0.00  0.00  0.80  0.00  0.00  0.00  0.00 \n",
            "\n",
            "\n",
            "fim da impressao do grafo.\n"
          ]
        }
      ]
    },
    {
      "cell_type": "markdown",
      "metadata": {
        "id": "nMVke0Al2JAt"
      },
      "source": [
        "## 5. Remover vértice (Feito)"
      ]
    },
    {
      "cell_type": "code",
      "source": [
        "removeVertice(g, n, v, 8)\n",
        "n -= 1\n",
        "print(n)\n",
        "print(v)\n",
        "g.showMin()"
      ],
      "metadata": {
        "colab": {
          "base_uri": "https://localhost:8080/"
        },
        "id": "H_IfwWjSFCyN",
        "outputId": "1c349101-39b2-4656-c80b-c96337ded1c5"
      },
      "execution_count": 244,
      "outputs": [
        {
          "output_type": "stream",
          "name": "stdout",
          "text": [
            "8\n",
            "[{'palavra': 'Ecossistema', 'indice': 0, 'n_vizinhos': 3, 'proximos': [{'vizinho': 'Biodiversidade', 'indice': 2, 'distancia': 0.5811522}, {'vizinho': 'Sustentabilidade', 'indice': 1, 'distancia': 0.59003323}, {'vizinho': 'Reflorestamento', 'indice': 7, 'distancia': 0.7258596}]}, {'palavra': 'Sustentabilidade', 'indice': 1, 'n_vizinhos': 3, 'proximos': [{'vizinho': 'Biodiversidade', 'indice': 2, 'distancia': 0.44970125}, {'vizinho': 'Ecossistema', 'indice': 0, 'distancia': 0.59003323}, {'vizinho': 'Reflorestamento', 'indice': 7, 'distancia': 0.692708}]}, {'palavra': 'Biodiversidade', 'indice': 2, 'n_vizinhos': 3, 'proximos': [{'vizinho': 'Sustentabilidade', 'indice': 1, 'distancia': 0.44970125}, {'vizinho': 'Ecossistema', 'indice': 0, 'distancia': 0.5811522}, {'vizinho': 'Poluição', 'indice': 5, 'distancia': 0.6769276}]}, {'palavra': 'Reciclagem', 'indice': 3, 'n_vizinhos': 3, 'proximos': [{'vizinho': 'Reflorestamento', 'indice': 7, 'distancia': 0.63607174}, {'vizinho': 'Poluição', 'indice': 5, 'distancia': 0.78495324}, {'vizinho': 'Ecossistema', 'indice': 0, 'distancia': 0.80120957}]}, {'palavra': 'Conservação', 'indice': 4, 'n_vizinhos': 3, 'proximos': [{'vizinho': 'Poluição', 'indice': 5, 'distancia': 0.7833704}, {'vizinho': 'Sustentabilidade', 'indice': 1, 'distancia': 0.7846519}, {'vizinho': 'Desmatamento', 'indice': 6, 'distancia': 0.86300147}]}, {'palavra': 'Poluição', 'indice': 5, 'n_vizinhos': 3, 'proximos': [{'vizinho': 'Reflorestamento', 'indice': 7, 'distancia': 0.65016866}, {'vizinho': 'Biodiversidade', 'indice': 2, 'distancia': 0.6769276}, {'vizinho': 'Desmatamento', 'indice': 6, 'distancia': 0.71925545}]}, {'palavra': 'Desmatamento', 'indice': 6, 'n_vizinhos': 3, 'proximos': [{'vizinho': 'Reflorestamento', 'indice': 7, 'distancia': 0.6854651}, {'vizinho': 'Poluição', 'indice': 5, 'distancia': 0.71925545}, {'vizinho': 'Biodiversidade', 'indice': 2, 'distancia': 0.78797036}]}, {'palavra': 'Reflorestamento', 'indice': 7, 'n_vizinhos': 3, 'proximos': [{'vizinho': 'Reciclagem', 'indice': 3, 'distancia': 0.63607174}, {'vizinho': 'Poluição', 'indice': 5, 'distancia': 0.65016866}, {'vizinho': 'Desmatamento', 'indice': 6, 'distancia': 0.6854651}]}]\n",
            "\n",
            " n:  8 m: 24\n",
            "\n",
            " 0.00  0.59  0.58  0.00  0.00  0.00  0.00  0.73 \n",
            "\n",
            " 0.59  0.00  0.45  0.00  0.00  0.00  0.00  0.69 \n",
            "\n",
            " 0.58  0.45  0.00  0.00  0.00  0.68  0.00  0.00 \n",
            "\n",
            " 0.80  0.00  0.00  0.00  0.00  0.78  0.00  0.64 \n",
            "\n",
            " 0.00  0.78  0.00  0.00  0.00  0.78  0.86  0.00 \n",
            "\n",
            " 0.00  0.00  0.68  0.00  0.00  0.00  0.72  0.65 \n",
            "\n",
            " 0.00  0.00  0.79  0.00  0.00  0.72  0.00  0.69 \n",
            "\n",
            " 0.00  0.00  0.00  0.64  0.00  0.65  0.69  0.00 \n",
            "\n",
            "\n",
            "fim da impressao do grafo.\n"
          ]
        }
      ]
    },
    {
      "cell_type": "markdown",
      "metadata": {
        "id": "cvUaJjZS2JAu"
      },
      "source": [
        "## 6. Remover aresta (Feito)"
      ]
    },
    {
      "cell_type": "code",
      "source": [
        "a3 = criaAresta(0,7)\n",
        "removeAresta(g,n,v,a3)\n",
        "print(v[0])\n",
        "g.showMin()"
      ],
      "metadata": {
        "colab": {
          "base_uri": "https://localhost:8080/"
        },
        "id": "U6rZGBhvBQ4K",
        "outputId": "db8a2900-7b4c-453f-b915-22baab0690d8"
      },
      "execution_count": 245,
      "outputs": [
        {
          "output_type": "stream",
          "name": "stdout",
          "text": [
            "{'palavra': 'Ecossistema', 'indice': 0, 'n_vizinhos': 2, 'proximos': [{'vizinho': 'Biodiversidade', 'indice': 2, 'distancia': 0.5811522}, {'vizinho': 'Sustentabilidade', 'indice': 1, 'distancia': 0.59003323}]}\n",
            "\n",
            " n:  8 m: 23\n",
            "\n",
            " 0.00  0.59  0.58  0.00  0.00  0.00  0.00  0.00 \n",
            "\n",
            " 0.59  0.00  0.45  0.00  0.00  0.00  0.00  0.69 \n",
            "\n",
            " 0.58  0.45  0.00  0.00  0.00  0.68  0.00  0.00 \n",
            "\n",
            " 0.80  0.00  0.00  0.00  0.00  0.78  0.00  0.64 \n",
            "\n",
            " 0.00  0.78  0.00  0.00  0.00  0.78  0.86  0.00 \n",
            "\n",
            " 0.00  0.00  0.68  0.00  0.00  0.00  0.72  0.65 \n",
            "\n",
            " 0.00  0.00  0.79  0.00  0.00  0.72  0.00  0.69 \n",
            "\n",
            " 0.00  0.00  0.00  0.64  0.00  0.65  0.69  0.00 \n",
            "\n",
            "\n",
            "fim da impressao do grafo.\n"
          ]
        }
      ]
    },
    {
      "cell_type": "markdown",
      "metadata": {
        "id": "4f8SKdKg2JAv"
      },
      "source": [
        "## 7. Exibir grafo (Feito)"
      ]
    },
    {
      "cell_type": "markdown",
      "source": [
        "É feito o *download* de um arquivo HTML com a representação do grafo."
      ],
      "metadata": {
        "id": "f39hSNBeHCZJ"
      }
    },
    {
      "cell_type": "code",
      "source": [
        "print(f\"Grafo direcionado com {g.n} vértices e {g.m} arestas\")\n",
        "imprimeGrafo(n,v)"
      ],
      "metadata": {
        "colab": {
          "base_uri": "https://localhost:8080/"
        },
        "id": "onSiBLgk4kgO",
        "outputId": "de2a69f3-f5a3-4d7b-942d-6e76c5372679"
      },
      "execution_count": 246,
      "outputs": [
        {
          "output_type": "stream",
          "name": "stdout",
          "text": [
            "Grafo direcionado com 8 vértices e 23 arestas\n",
            "grafo.html\n"
          ]
        }
      ]
    },
    {
      "cell_type": "markdown",
      "source": [
        "No Google Colab o arquivo nomeado como `grafo.html` poderá ser acessado nos arquivos localizado no canto esquerdo.\n",
        "\n",
        "![image.png](data:image/png;base64,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)"
      ],
      "metadata": {
        "id": "fv3muLMdS1zt"
      }
    },
    {
      "cell_type": "markdown",
      "source": [
        "* As arestas mais grossas e com cores mais fortes têm peso maior.\n",
        "\n",
        "* Clique na aresta para mostrar o seu peso.\n",
        "\n",
        "![image.png](data:image/png;base64,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)"
      ],
      "metadata": {
        "id": "exBHuQGsHMe0"
      }
    },
    {
      "cell_type": "markdown",
      "metadata": {
        "id": "kS8x6Fjd2JA2"
      },
      "source": [
        "## 8. Exibir matriz (Feito)"
      ]
    },
    {
      "cell_type": "code",
      "execution_count": 247,
      "metadata": {
        "id": "tlbI-jgd2JA1",
        "collapsed": true,
        "colab": {
          "base_uri": "https://localhost:8080/"
        },
        "outputId": "358cd91c-f07f-48a4-da66-ee3a35768634"
      },
      "outputs": [
        {
          "output_type": "stream",
          "name": "stdout",
          "text": [
            "\n",
            " n:  8 m: 23\n",
            "\n",
            " 0.00  0.59  0.58  0.00  0.00  0.00  0.00  0.00 \n",
            "\n",
            " 0.59  0.00  0.45  0.00  0.00  0.00  0.00  0.69 \n",
            "\n",
            " 0.58  0.45  0.00  0.00  0.00  0.68  0.00  0.00 \n",
            "\n",
            " 0.80  0.00  0.00  0.00  0.00  0.78  0.00  0.64 \n",
            "\n",
            " 0.00  0.78  0.00  0.00  0.00  0.78  0.86  0.00 \n",
            "\n",
            " 0.00  0.00  0.68  0.00  0.00  0.00  0.72  0.65 \n",
            "\n",
            " 0.00  0.00  0.79  0.00  0.00  0.72  0.00  0.69 \n",
            "\n",
            " 0.00  0.00  0.00  0.64  0.00  0.65  0.69  0.00 \n",
            "\n",
            "\n",
            "fim da impressao do grafo.\n"
          ]
        }
      ],
      "source": [
        "g.showMin()"
      ]
    },
    {
      "cell_type": "markdown",
      "metadata": {
        "id": "hs6GqASM2JA2"
      },
      "source": [
        "## 9. Apresentar conexidade do grafo e o reduzido"
      ]
    },
    {
      "cell_type": "code",
      "execution_count": 248,
      "metadata": {
        "id": "sUTjaER52JA2"
      },
      "outputs": [],
      "source": []
    },
    {
      "cell_type": "markdown",
      "metadata": {
        "id": "7YNbDvEe2JA3"
      },
      "source": [
        "# Menu"
      ]
    },
    {
      "cell_type": "markdown",
      "source": [
        "## Código"
      ],
      "metadata": {
        "id": "XJqMmXW4Dx3P"
      }
    },
    {
      "cell_type": "code",
      "execution_count": 266,
      "metadata": {
        "collapsed": true,
        "id": "AdLQfMUkWbyX"
      },
      "outputs": [],
      "source": [
        "def menu():\n",
        "    memoria = Memory(chunking_strategy={\"mode\": \"sliding_window\", \"window_size\": 1, \"overlap\": 0})\n",
        "    fim = False\n",
        "\n",
        "    while(fim == False):\n",
        "        print(\n",
        "    '''\n",
        "    Menu:\n",
        "\n",
        "        1) Ler dados do arquivo\n",
        "        2) Gravar dados no arquivo grafo.txt\n",
        "        3) Inserir vértice\n",
        "        4) Inserir aresta\n",
        "        5) Remover vértice\n",
        "        6) Remover aresta\n",
        "        7) Exibir grafo\n",
        "        8) Exibir matriz\n",
        "        9) Apresentar a conexidade do grafo e o reduzido\n",
        "        10) Encerrar a aplicação\n",
        "        11) Buscar um índice pela palavra\n",
        "        12) Buscar uma palavra pelo índice\n",
        "        13) Mostrar informações do vértice\n",
        "    ''')\n",
        "        choice = int(input())\n",
        "        if choice == 1: # Cria grafo\n",
        "            dados = leArquivoHTTP('https://raw.githubusercontent.com/Cehiim/TeoriaDosGrafos/refs/heads/main/Projeto/palavras.txt')\n",
        "            #dados = leArquivo(\"palavras.txt\")\n",
        "            n_palavras = dados[0]\n",
        "            vertices = dados[1]\n",
        "            embedding(memoria, n_palavras, vertices)\n",
        "            grafo = integraGrafo(memoria, n_palavras, vertices)\n",
        "            print(\"Grafo criado com sucesso!\")\n",
        "\n",
        "        elif choice == 2: # Grava dados no arquivo .txt\n",
        "            try:\n",
        "                gravaDados(n_palavras, vertices)\n",
        "                print(\"Os dados foram salvos no arquivo 'grafo.txt'.\")\n",
        "            except NameError:\n",
        "                print(\"[Erro: Grafo não criado]\")\n",
        "\n",
        "        elif choice == 3: # Insere vértice\n",
        "            palavra = input(\"Palavra a ser inserida: \")\n",
        "            try:\n",
        "                insereVertice(grafo, n_palavras, vertices, palavra)\n",
        "                n_palavras += 1\n",
        "                print(\"Vértice inserido com sucesso!\")\n",
        "\n",
        "            except NameError:\n",
        "                print(\"[Erro: Grafo não criado]\")\n",
        "\n",
        "        elif choice == 4: # Insere aresta\n",
        "            try:\n",
        "                origem = int(input(\"Insira o índice de origem: \"))\n",
        "                destino = int(input(\"Insira o índice de destino: \"))\n",
        "                peso = float(input(\"Insira o peso: \"))\n",
        "                aresta = criaAresta(origem, destino)\n",
        "                try:\n",
        "                    insereAresta(grafo, n_palavras, vertices, aresta, peso)\n",
        "                    print(\"Aresta inserida com sucesso!\")\n",
        "\n",
        "                except NameError:\n",
        "                    print(\"[Erro: Grafo não criado]\")\n",
        "\n",
        "            except ValueError:\n",
        "                print(\"[Erro: a entrada não é do tipo int]\")\n",
        "\n",
        "        elif choice == 5: # Remove vértice\n",
        "            try:\n",
        "                indice = int(input(\"Insira o índice do vértice: \"))\n",
        "                try:\n",
        "                    removeVertice(grafo, n_palavras, vertices, indice)\n",
        "                    n_palavras -= 1\n",
        "                    print(\"Vértice removido com sucesso!\")\n",
        "\n",
        "                except NameError:\n",
        "                    print(\"[Erro: Grafo não criado]\")\n",
        "\n",
        "            except ValueError:\n",
        "                print(\"[Erro: a entrada não é do tipo int]\")\n",
        "\n",
        "        elif choice == 6: # Remove aresta\n",
        "            try:\n",
        "                origem = int(input(\"Insira o índice de origem: \"))\n",
        "                destino = int(input(\"Insira o índice de destino: \"))\n",
        "                aresta = criaAresta(origem, destino)\n",
        "                try:\n",
        "                    removeAresta(grafo, n_palavras, vertices, aresta)\n",
        "                    print(\"Aresta removida com sucesso!\")\n",
        "\n",
        "                except NameError:\n",
        "                    print(\"[Erro: Grafo não criado]\")\n",
        "\n",
        "            except ValueError:\n",
        "                print(\"[Erro: a entrada não é do tipo int]\")\n",
        "\n",
        "        elif choice == 7: # Exibe grafo\n",
        "            try:\n",
        "                imprimeGrafo(n_palavras, vertices)\n",
        "                print(f\"Grafo direcionado com {g.n} vértices e {g.m} arestas\\n\")\n",
        "                print(\"O grafo visual foi criado no arquivo 'grafo.html'.\")\n",
        "            except NameError:\n",
        "                print(\"[Erro: Grafo não criado]\")\n",
        "\n",
        "        elif choice == 8: # Exibe matriz\n",
        "            try:\n",
        "                grafo.showMin()\n",
        "                print((\"\\nAperte ENTER para continuar \"))\n",
        "                ok = input()\n",
        "            except NameError:\n",
        "                print(\"[Erro: Grafo não criado]\")\n",
        "\n",
        "        elif choice == 9: # Apresenta a conexidade do grafo e grafo reduzido\n",
        "            try:\n",
        "                print(\"oi\")\n",
        "            except NameError:\n",
        "                print(\"[Erro: Grafo não criado]\")\n",
        "\n",
        "        elif choice == 10: # Encerra\n",
        "            fim = True\n",
        "            print(\"Encerrando programa...\")\n",
        "\n",
        "        elif choice == 11: # Busca um índice pela palavra\n",
        "            try:\n",
        "                palavra = input(\"Palavra a ser consultada: \")\n",
        "                indice = buscaIndice(n_palavras, vertices, palavra)\n",
        "                if(indice == -1):\n",
        "                    print(\"[Erro: palavra não encontrada]\")\n",
        "                else:\n",
        "                    print(f\"Índice de {palavra}: {indice}\")\n",
        "                    print((\"\\nAperte ENTER para continuar \"))\n",
        "                    ok = input()\n",
        "            except NameError:\n",
        "                print(\"[Erro: Grafo não criado]\")\n",
        "\n",
        "        elif choice == 12: # Busca um índice pela palavra\n",
        "            try:\n",
        "                indice = int(input(\"Índice a ser consultado: \"))\n",
        "                try:\n",
        "                    palavra = buscaPalavra(n_palavras, vertices, indice)\n",
        "                    if(indice == -1):\n",
        "                        print(\"[Erro: palavra não encontrada]\")\n",
        "                    else:\n",
        "                        print(f\"Palavra do índice {indice}: {palavra}\")\n",
        "                        print((\"\\nAperte ENTER para continuar \"))\n",
        "                        ok = input()\n",
        "                except NameError:\n",
        "                  print(\"[Erro: Grafo não criado]\")\n",
        "            except ValueError:\n",
        "                print(\"[Erro: a entrada não é do tipo int]\")\n",
        "\n",
        "        elif choice == 13: # Mostra informações do vértice\n",
        "            try:\n",
        "                indice = int(input(\"Índice do vértice: \"))\n",
        "                try:\n",
        "                    mostraVertice(vertices, indice)\n",
        "                    print((\"\\nAperte ENTER para continuar \"))\n",
        "                    ok = input()\n",
        "                except NameError:\n",
        "                  print(\"[Erro: Grafo não criado]\")\n",
        "            except ValueError:\n",
        "                print(\"[Erro: a entrada não é do tipo int]\")\n",
        "\n",
        "        else:\n",
        "            print(\"Opção inválida.\")\n",
        "\n",
        "        time.sleep(1)\n",
        "        try:\n",
        "            from IPython.display import clear_output\n",
        "\n",
        "            clear_output(wait=True) # Limpa o terminal caso esteja no Google Colab\n",
        "\n",
        "        except ImportError:\n",
        "            if os.name == 'nt': # Limpa o terminal caso o OS seja Windows\n",
        "                os.system('cls')\n",
        "            else:\n",
        "                os.system('clear') # Limpa o terminal caso o OS seja Linux ou MacOS"
      ]
    },
    {
      "cell_type": "markdown",
      "source": [
        "## Aplicação"
      ],
      "metadata": {
        "id": "WhZxWel7D4uW"
      }
    },
    {
      "cell_type": "code",
      "source": [
        "menu()"
      ],
      "metadata": {
        "colab": {
          "base_uri": "https://localhost:8080/"
        },
        "collapsed": true,
        "id": "G9pdN9NSD_vR",
        "outputId": "c717318f-bb4a-401b-c68f-ed55db175a44"
      },
      "execution_count": 267,
      "outputs": [
        {
          "output_type": "stream",
          "name": "stdout",
          "text": [
            "\n",
            "    Menu:\n",
            "        1) Ler dados do arquivo\n",
            "        2) Gravar dados no arquivo grafo.txt\n",
            "        3) Inserir vértice\n",
            "        4) Inserir aresta\n",
            "        5) Remover vértice\n",
            "        6) Remover aresta\n",
            "        7) Exibir grafo\n",
            "        8) Exibir matriz\n",
            "        9) Apresentar a conexidade do grafo e o reduzido\n",
            "        10) Encerrar a aplicação\n",
            "        11) Buscar um índice pela palavra\n",
            "        12) Buscar uma palavra pelo índice\n",
            "        13) Mostrar informações do vértice\n",
            "    \n",
            "10\n",
            "Encerrando programa...\n"
          ]
        }
      ]
    }
  ],
  "metadata": {
    "colab": {
      "collapsed_sections": [
        "XYffMUNr2Ila",
        "f4Fd36vBfY_m",
        "jUL4VcKo2JAl",
        "XMuxrf07kEw_",
        "mLOuJFjZ66pZ",
        "tykSWUsj65G_",
        "by7AfxYr5Wwg",
        "CGlKvBrCi3qp",
        "xvG7B29cjGjs",
        "0RbhmJRQjX7y",
        "D2GpxPLMjiC5",
        "nY8qxhFskHeU",
        "akYDFZCNkVNn",
        "2PeqvyNUkgfI",
        "5L5R6K1ak9y6",
        "OCilppoasxOJ",
        "k-MC5QZ-s9fh",
        "8LyuaiqbGnQr",
        "FCn2z_GwGrMA",
        "j3fUMtozG0nK",
        "fj8LIYV32JAo",
        "rsUUPVLa2JAs",
        "rcUaBUFE2JAs",
        "-8PvH4ed2JAt",
        "cvUaJjZS2JAu",
        "4f8SKdKg2JAv",
        "kS8x6Fjd2JA2",
        "hs6GqASM2JA2"
      ],
      "provenance": [],
      "toc_visible": true,
      "include_colab_link": true
    },
    "kernelspec": {
      "display_name": "Python 3 (ipykernel)",
      "language": "python",
      "name": "python3"
    },
    "language_info": {
      "codemirror_mode": {
        "name": "ipython",
        "version": 3
      },
      "file_extension": ".py",
      "mimetype": "text/x-python",
      "name": "python",
      "nbconvert_exporter": "python",
      "pygments_lexer": "ipython3",
      "version": "3.10.11"
    }
  },
  "nbformat": 4,
  "nbformat_minor": 0
}