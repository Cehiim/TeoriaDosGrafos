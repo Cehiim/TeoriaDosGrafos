{
  "cells": [
    {
      "cell_type": "markdown",
      "metadata": {
        "id": "view-in-github",
        "colab_type": "text"
      },
      "source": [
        "<a href=\"https://colab.research.google.com/github/Cehiim/TeoriaDosGrafos/blob/main/Projeto/grafos_RAG.ipynb\" target=\"_parent\"><img src=\"https://colab.research.google.com/assets/colab-badge.svg\" alt=\"Open In Colab\"/></a>"
      ]
    },
    {
      "cell_type": "markdown",
      "source": [
        "# Informações gerais"
      ],
      "metadata": {
        "id": "XYffMUNr2Ila"
      }
    },
    {
      "cell_type": "markdown",
      "source": [
        "## Integrantes\n",
        "* Cesar Hideki Imai - 10402758\n",
        "* João Victor Dallapé Madeira - 10400725\n",
        "* David Varão Lima Bentes Pessoa - 10402647"
      ],
      "metadata": {
        "id": "3Ox-VDbp2LbY"
      }
    },
    {
      "cell_type": "markdown",
      "metadata": {
        "id": "oX9e_J1rfR8k"
      },
      "source": [
        "# Setup"
      ]
    },
    {
      "cell_type": "markdown",
      "metadata": {
        "id": "f4Fd36vBfY_m"
      },
      "source": [
        "## Integração dos pacotes"
      ]
    },
    {
      "cell_type": "markdown",
      "metadata": {
        "id": "YI_J43xnrFIo"
      },
      "source": [
        "O pacote `vectordb2` é usado para armazenar e recuperar textos usando técnicas de *chunking* (segmentação de texto), *embedding* (conversão de texto para vetores numéricos) e busca vetorial."
      ]
    },
    {
      "cell_type": "code",
      "execution_count": 727,
      "metadata": {
        "colab": {
          "base_uri": "https://localhost:8080/"
        },
        "collapsed": true,
        "id": "yy3H5b34UlKV",
        "jupyter": {
          "outputs_hidden": true
        },
        "outputId": "9f3273c7-a991-4042-c20a-653ad60163fd"
      },
      "outputs": [
        {
          "output_type": "stream",
          "name": "stdout",
          "text": [
            "Requirement already satisfied: vectordb2 in /usr/local/lib/python3.10/dist-packages (0.1.9)\n",
            "Requirement already satisfied: torch>=1.9.0 in /usr/local/lib/python3.10/dist-packages (from vectordb2) (2.4.1+cu121)\n",
            "Requirement already satisfied: transformers>=4.10.0 in /usr/local/lib/python3.10/dist-packages (from vectordb2) (4.44.2)\n",
            "Requirement already satisfied: numpy>=1.21.0 in /usr/local/lib/python3.10/dist-packages (from vectordb2) (1.26.4)\n",
            "Requirement already satisfied: scikit-learn>=0.24.0 in /usr/local/lib/python3.10/dist-packages (from vectordb2) (1.5.2)\n",
            "Requirement already satisfied: scipy>=1.7.0 in /usr/local/lib/python3.10/dist-packages (from vectordb2) (1.13.1)\n",
            "Requirement already satisfied: sentence-transformers in /usr/local/lib/python3.10/dist-packages (from vectordb2) (3.1.1)\n",
            "Requirement already satisfied: faiss-cpu in /usr/local/lib/python3.10/dist-packages (from vectordb2) (1.8.0.post1)\n",
            "Requirement already satisfied: tensorflow-text in /usr/local/lib/python3.10/dist-packages (from vectordb2) (2.17.0)\n",
            "Requirement already satisfied: joblib>=1.2.0 in /usr/local/lib/python3.10/dist-packages (from scikit-learn>=0.24.0->vectordb2) (1.4.2)\n",
            "Requirement already satisfied: threadpoolctl>=3.1.0 in /usr/local/lib/python3.10/dist-packages (from scikit-learn>=0.24.0->vectordb2) (3.5.0)\n",
            "Requirement already satisfied: filelock in /usr/local/lib/python3.10/dist-packages (from torch>=1.9.0->vectordb2) (3.16.1)\n",
            "Requirement already satisfied: typing-extensions>=4.8.0 in /usr/local/lib/python3.10/dist-packages (from torch>=1.9.0->vectordb2) (4.12.2)\n",
            "Requirement already satisfied: sympy in /usr/local/lib/python3.10/dist-packages (from torch>=1.9.0->vectordb2) (1.13.3)\n",
            "Requirement already satisfied: networkx in /usr/local/lib/python3.10/dist-packages (from torch>=1.9.0->vectordb2) (3.3)\n",
            "Requirement already satisfied: jinja2 in /usr/local/lib/python3.10/dist-packages (from torch>=1.9.0->vectordb2) (3.1.4)\n",
            "Requirement already satisfied: fsspec in /usr/local/lib/python3.10/dist-packages (from torch>=1.9.0->vectordb2) (2024.6.1)\n",
            "Requirement already satisfied: huggingface-hub<1.0,>=0.23.2 in /usr/local/lib/python3.10/dist-packages (from transformers>=4.10.0->vectordb2) (0.24.7)\n",
            "Requirement already satisfied: packaging>=20.0 in /usr/local/lib/python3.10/dist-packages (from transformers>=4.10.0->vectordb2) (24.1)\n",
            "Requirement already satisfied: pyyaml>=5.1 in /usr/local/lib/python3.10/dist-packages (from transformers>=4.10.0->vectordb2) (6.0.2)\n",
            "Requirement already satisfied: regex!=2019.12.17 in /usr/local/lib/python3.10/dist-packages (from transformers>=4.10.0->vectordb2) (2024.9.11)\n",
            "Requirement already satisfied: requests in /usr/local/lib/python3.10/dist-packages (from transformers>=4.10.0->vectordb2) (2.32.3)\n",
            "Requirement already satisfied: safetensors>=0.4.1 in /usr/local/lib/python3.10/dist-packages (from transformers>=4.10.0->vectordb2) (0.4.5)\n",
            "Requirement already satisfied: tokenizers<0.20,>=0.19 in /usr/local/lib/python3.10/dist-packages (from transformers>=4.10.0->vectordb2) (0.19.1)\n",
            "Requirement already satisfied: tqdm>=4.27 in /usr/local/lib/python3.10/dist-packages (from transformers>=4.10.0->vectordb2) (4.66.5)\n",
            "Requirement already satisfied: Pillow in /usr/local/lib/python3.10/dist-packages (from sentence-transformers->vectordb2) (10.4.0)\n",
            "Requirement already satisfied: tensorflow<2.18,>=2.17.0 in /usr/local/lib/python3.10/dist-packages (from tensorflow-text->vectordb2) (2.17.0)\n",
            "Requirement already satisfied: absl-py>=1.0.0 in /usr/local/lib/python3.10/dist-packages (from tensorflow<2.18,>=2.17.0->tensorflow-text->vectordb2) (1.4.0)\n",
            "Requirement already satisfied: astunparse>=1.6.0 in /usr/local/lib/python3.10/dist-packages (from tensorflow<2.18,>=2.17.0->tensorflow-text->vectordb2) (1.6.3)\n",
            "Requirement already satisfied: flatbuffers>=24.3.25 in /usr/local/lib/python3.10/dist-packages (from tensorflow<2.18,>=2.17.0->tensorflow-text->vectordb2) (24.3.25)\n",
            "Requirement already satisfied: gast!=0.5.0,!=0.5.1,!=0.5.2,>=0.2.1 in /usr/local/lib/python3.10/dist-packages (from tensorflow<2.18,>=2.17.0->tensorflow-text->vectordb2) (0.6.0)\n",
            "Requirement already satisfied: google-pasta>=0.1.1 in /usr/local/lib/python3.10/dist-packages (from tensorflow<2.18,>=2.17.0->tensorflow-text->vectordb2) (0.2.0)\n",
            "Requirement already satisfied: h5py>=3.10.0 in /usr/local/lib/python3.10/dist-packages (from tensorflow<2.18,>=2.17.0->tensorflow-text->vectordb2) (3.11.0)\n",
            "Requirement already satisfied: libclang>=13.0.0 in /usr/local/lib/python3.10/dist-packages (from tensorflow<2.18,>=2.17.0->tensorflow-text->vectordb2) (18.1.1)\n",
            "Requirement already satisfied: ml-dtypes<0.5.0,>=0.3.1 in /usr/local/lib/python3.10/dist-packages (from tensorflow<2.18,>=2.17.0->tensorflow-text->vectordb2) (0.4.1)\n",
            "Requirement already satisfied: opt-einsum>=2.3.2 in /usr/local/lib/python3.10/dist-packages (from tensorflow<2.18,>=2.17.0->tensorflow-text->vectordb2) (3.3.0)\n",
            "Requirement already satisfied: protobuf!=4.21.0,!=4.21.1,!=4.21.2,!=4.21.3,!=4.21.4,!=4.21.5,<5.0.0dev,>=3.20.3 in /usr/local/lib/python3.10/dist-packages (from tensorflow<2.18,>=2.17.0->tensorflow-text->vectordb2) (3.20.3)\n",
            "Requirement already satisfied: setuptools in /usr/local/lib/python3.10/dist-packages (from tensorflow<2.18,>=2.17.0->tensorflow-text->vectordb2) (71.0.4)\n",
            "Requirement already satisfied: six>=1.12.0 in /usr/local/lib/python3.10/dist-packages (from tensorflow<2.18,>=2.17.0->tensorflow-text->vectordb2) (1.16.0)\n",
            "Requirement already satisfied: termcolor>=1.1.0 in /usr/local/lib/python3.10/dist-packages (from tensorflow<2.18,>=2.17.0->tensorflow-text->vectordb2) (2.4.0)\n",
            "Requirement already satisfied: wrapt>=1.11.0 in /usr/local/lib/python3.10/dist-packages (from tensorflow<2.18,>=2.17.0->tensorflow-text->vectordb2) (1.16.0)\n",
            "Requirement already satisfied: grpcio<2.0,>=1.24.3 in /usr/local/lib/python3.10/dist-packages (from tensorflow<2.18,>=2.17.0->tensorflow-text->vectordb2) (1.64.1)\n",
            "Requirement already satisfied: tensorboard<2.18,>=2.17 in /usr/local/lib/python3.10/dist-packages (from tensorflow<2.18,>=2.17.0->tensorflow-text->vectordb2) (2.17.0)\n",
            "Requirement already satisfied: keras>=3.2.0 in /usr/local/lib/python3.10/dist-packages (from tensorflow<2.18,>=2.17.0->tensorflow-text->vectordb2) (3.4.1)\n",
            "Requirement already satisfied: tensorflow-io-gcs-filesystem>=0.23.1 in /usr/local/lib/python3.10/dist-packages (from tensorflow<2.18,>=2.17.0->tensorflow-text->vectordb2) (0.37.1)\n",
            "Requirement already satisfied: charset-normalizer<4,>=2 in /usr/local/lib/python3.10/dist-packages (from requests->transformers>=4.10.0->vectordb2) (3.3.2)\n",
            "Requirement already satisfied: idna<4,>=2.5 in /usr/local/lib/python3.10/dist-packages (from requests->transformers>=4.10.0->vectordb2) (3.10)\n",
            "Requirement already satisfied: urllib3<3,>=1.21.1 in /usr/local/lib/python3.10/dist-packages (from requests->transformers>=4.10.0->vectordb2) (2.2.3)\n",
            "Requirement already satisfied: certifi>=2017.4.17 in /usr/local/lib/python3.10/dist-packages (from requests->transformers>=4.10.0->vectordb2) (2024.8.30)\n",
            "Requirement already satisfied: MarkupSafe>=2.0 in /usr/local/lib/python3.10/dist-packages (from jinja2->torch>=1.9.0->vectordb2) (2.1.5)\n",
            "Requirement already satisfied: mpmath<1.4,>=1.1.0 in /usr/local/lib/python3.10/dist-packages (from sympy->torch>=1.9.0->vectordb2) (1.3.0)\n",
            "Requirement already satisfied: wheel<1.0,>=0.23.0 in /usr/local/lib/python3.10/dist-packages (from astunparse>=1.6.0->tensorflow<2.18,>=2.17.0->tensorflow-text->vectordb2) (0.44.0)\n",
            "Requirement already satisfied: rich in /usr/local/lib/python3.10/dist-packages (from keras>=3.2.0->tensorflow<2.18,>=2.17.0->tensorflow-text->vectordb2) (13.8.1)\n",
            "Requirement already satisfied: namex in /usr/local/lib/python3.10/dist-packages (from keras>=3.2.0->tensorflow<2.18,>=2.17.0->tensorflow-text->vectordb2) (0.0.8)\n",
            "Requirement already satisfied: optree in /usr/local/lib/python3.10/dist-packages (from keras>=3.2.0->tensorflow<2.18,>=2.17.0->tensorflow-text->vectordb2) (0.12.1)\n",
            "Requirement already satisfied: markdown>=2.6.8 in /usr/local/lib/python3.10/dist-packages (from tensorboard<2.18,>=2.17->tensorflow<2.18,>=2.17.0->tensorflow-text->vectordb2) (3.7)\n",
            "Requirement already satisfied: tensorboard-data-server<0.8.0,>=0.7.0 in /usr/local/lib/python3.10/dist-packages (from tensorboard<2.18,>=2.17->tensorflow<2.18,>=2.17.0->tensorflow-text->vectordb2) (0.7.2)\n",
            "Requirement already satisfied: werkzeug>=1.0.1 in /usr/local/lib/python3.10/dist-packages (from tensorboard<2.18,>=2.17->tensorflow<2.18,>=2.17.0->tensorflow-text->vectordb2) (3.0.4)\n",
            "Requirement already satisfied: markdown-it-py>=2.2.0 in /usr/local/lib/python3.10/dist-packages (from rich->keras>=3.2.0->tensorflow<2.18,>=2.17.0->tensorflow-text->vectordb2) (3.0.0)\n",
            "Requirement already satisfied: pygments<3.0.0,>=2.13.0 in /usr/local/lib/python3.10/dist-packages (from rich->keras>=3.2.0->tensorflow<2.18,>=2.17.0->tensorflow-text->vectordb2) (2.18.0)\n",
            "Requirement already satisfied: mdurl~=0.1 in /usr/local/lib/python3.10/dist-packages (from markdown-it-py>=2.2.0->rich->keras>=3.2.0->tensorflow<2.18,>=2.17.0->tensorflow-text->vectordb2) (0.1.2)\n"
          ]
        }
      ],
      "source": [
        "%pip install vectordb2"
      ]
    },
    {
      "cell_type": "markdown",
      "metadata": {
        "id": "WZDIGMyXB04o"
      },
      "source": [
        "O pacote requests pode ser usado para recuperar o arquivo por meio de requisição em HTTP (esse pacote é opcional)."
      ]
    },
    {
      "cell_type": "code",
      "execution_count": 728,
      "metadata": {
        "colab": {
          "base_uri": "https://localhost:8080/"
        },
        "collapsed": true,
        "id": "FucP-UzdB1B3",
        "outputId": "89a5bfcd-df92-4115-9ea4-4f4ae7abae17"
      },
      "outputs": [
        {
          "output_type": "stream",
          "name": "stdout",
          "text": [
            "Requirement already satisfied: requests in /usr/local/lib/python3.10/dist-packages (2.32.3)\n",
            "Requirement already satisfied: charset-normalizer<4,>=2 in /usr/local/lib/python3.10/dist-packages (from requests) (3.3.2)\n",
            "Requirement already satisfied: idna<4,>=2.5 in /usr/local/lib/python3.10/dist-packages (from requests) (3.10)\n",
            "Requirement already satisfied: urllib3<3,>=1.21.1 in /usr/local/lib/python3.10/dist-packages (from requests) (2.2.3)\n",
            "Requirement already satisfied: certifi>=2017.4.17 in /usr/local/lib/python3.10/dist-packages (from requests) (2024.8.30)\n"
          ]
        }
      ],
      "source": [
        "%pip install requests"
      ]
    },
    {
      "cell_type": "markdown",
      "source": [
        "O pacote `network pyvis` é usado para criar uma visualização interativa de grafos."
      ],
      "metadata": {
        "id": "CJARvWmDyVVU"
      }
    },
    {
      "cell_type": "code",
      "source": [
        "%pip install networkx pyvis"
      ],
      "metadata": {
        "colab": {
          "base_uri": "https://localhost:8080/"
        },
        "id": "8TlOa8gVyTsq",
        "outputId": "2584409e-8fc5-4f06-d9c3-5fdff1ed6a57"
      },
      "execution_count": 729,
      "outputs": [
        {
          "output_type": "stream",
          "name": "stdout",
          "text": [
            "Requirement already satisfied: networkx in /usr/local/lib/python3.10/dist-packages (3.3)\n",
            "Requirement already satisfied: pyvis in /usr/local/lib/python3.10/dist-packages (0.3.2)\n",
            "Requirement already satisfied: ipython>=5.3.0 in /usr/local/lib/python3.10/dist-packages (from pyvis) (7.34.0)\n",
            "Requirement already satisfied: jinja2>=2.9.6 in /usr/local/lib/python3.10/dist-packages (from pyvis) (3.1.4)\n",
            "Requirement already satisfied: jsonpickle>=1.4.1 in /usr/local/lib/python3.10/dist-packages (from pyvis) (3.3.0)\n",
            "Requirement already satisfied: setuptools>=18.5 in /usr/local/lib/python3.10/dist-packages (from ipython>=5.3.0->pyvis) (71.0.4)\n",
            "Requirement already satisfied: jedi>=0.16 in /usr/local/lib/python3.10/dist-packages (from ipython>=5.3.0->pyvis) (0.19.1)\n",
            "Requirement already satisfied: decorator in /usr/local/lib/python3.10/dist-packages (from ipython>=5.3.0->pyvis) (4.4.2)\n",
            "Requirement already satisfied: pickleshare in /usr/local/lib/python3.10/dist-packages (from ipython>=5.3.0->pyvis) (0.7.5)\n",
            "Requirement already satisfied: traitlets>=4.2 in /usr/local/lib/python3.10/dist-packages (from ipython>=5.3.0->pyvis) (5.7.1)\n",
            "Requirement already satisfied: prompt-toolkit!=3.0.0,!=3.0.1,<3.1.0,>=2.0.0 in /usr/local/lib/python3.10/dist-packages (from ipython>=5.3.0->pyvis) (3.0.47)\n",
            "Requirement already satisfied: pygments in /usr/local/lib/python3.10/dist-packages (from ipython>=5.3.0->pyvis) (2.18.0)\n",
            "Requirement already satisfied: backcall in /usr/local/lib/python3.10/dist-packages (from ipython>=5.3.0->pyvis) (0.2.0)\n",
            "Requirement already satisfied: matplotlib-inline in /usr/local/lib/python3.10/dist-packages (from ipython>=5.3.0->pyvis) (0.1.7)\n",
            "Requirement already satisfied: pexpect>4.3 in /usr/local/lib/python3.10/dist-packages (from ipython>=5.3.0->pyvis) (4.9.0)\n",
            "Requirement already satisfied: MarkupSafe>=2.0 in /usr/local/lib/python3.10/dist-packages (from jinja2>=2.9.6->pyvis) (2.1.5)\n",
            "Requirement already satisfied: parso<0.9.0,>=0.8.3 in /usr/local/lib/python3.10/dist-packages (from jedi>=0.16->ipython>=5.3.0->pyvis) (0.8.4)\n",
            "Requirement already satisfied: ptyprocess>=0.5 in /usr/local/lib/python3.10/dist-packages (from pexpect>4.3->ipython>=5.3.0->pyvis) (0.7.0)\n",
            "Requirement already satisfied: wcwidth in /usr/local/lib/python3.10/dist-packages (from prompt-toolkit!=3.0.0,!=3.0.1,<3.1.0,>=2.0.0->ipython>=5.3.0->pyvis) (0.2.13)\n"
          ]
        }
      ]
    },
    {
      "cell_type": "markdown",
      "metadata": {
        "id": "DjtCEtpOCxs2"
      },
      "source": [
        "Importação das bibliotecas"
      ]
    },
    {
      "cell_type": "code",
      "execution_count": 730,
      "metadata": {
        "id": "DA_HyrBKC6J0"
      },
      "outputs": [],
      "source": [
        "from vectordb import Memory\n",
        "import requests\n",
        "from pyvis.network import Network\n",
        "import matplotlib.pyplot as plt # Será usado para apresentação visual do grafo\n",
        "import os # Será usado métodos para limpar o terminal para atualizar a interface em cada iteração do sistema\n",
        "import time # Será usado método de espera para atualizar a interface gradualmente"
      ]
    },
    {
      "cell_type": "markdown",
      "metadata": {
        "id": "jUL4VcKo2JAl",
        "jp-MarkdownHeadingCollapsed": true
      },
      "source": [
        "## Classe Grafo"
      ]
    },
    {
      "cell_type": "code",
      "execution_count": 731,
      "metadata": {
        "id": "yAaYISkbfzOE"
      },
      "outputs": [],
      "source": [
        "# -*- coding: utf-8 -*-\n",
        "\"\"\"\n",
        "Created on Mon Feb 13 13:59:10 2023\n",
        "\n",
        "@author: icalc\n",
        "\"\"\"\n",
        "class Grafo:\n",
        "    TAM_MAX_DEFAULT = 100 # qtde de vértices máxima default\n",
        "    # construtor da classe grafo\n",
        "    def __init__(self, n=TAM_MAX_DEFAULT):\n",
        "        self.n = n # número de vértices\n",
        "        self.m = 0 # número de arestas\n",
        "        # matriz de adjacência\n",
        "        self.adj = [[0 for i in range(n)] for j in range(n)]\n",
        "\n",
        "\t# Insere uma aresta no Grafo tal que\n",
        "\t# v é adjacente a w\n",
        "    def insereA(self, v, w):\n",
        "        if self.adj[v][w] == 0:\n",
        "            self.adj[v][w] = 1\n",
        "            self.m+=1 # atualiza qtd arestas\n",
        "\n",
        "# remove uma aresta v->w do Grafo\n",
        "    def removeA(self, v, w):\n",
        "        if(v == w):\n",
        "            return\n",
        "        # testa se temos a aresta\n",
        "        if self.adj[v][w] == 1:\n",
        "            self.adj[v][w] = 0\n",
        "            self.m -= 1  # atualiza qtd arestas\n",
        "\n",
        "\t# Apresenta o Grafo contendo\n",
        "\t# número de vértices, arestas\n",
        "\t# e a matriz de adjacência obtida\n",
        "    def show(self):\n",
        "        print(f\"\\n n: {self.n:2d} \", end=\"\")\n",
        "        print(f\"m: {self.m:2d}\\n\")\n",
        "        for i in range(self.n):\n",
        "            for w in range(self.n):\n",
        "                if self.adj[i][w] == 1:\n",
        "                    print(f\"Adj[{i:2d},{w:2d}] = 1 \", end=\"\")\n",
        "                else:\n",
        "                    print(f\"Adj[{i:2d},{w:2d}] = 0 \", end=\"\")\n",
        "            print(\"\\n\")\n",
        "        print(\"\\nfim da impressao do grafo.\" )\n",
        "\n",
        "\n",
        "\t# Apresenta o Grafo contendo\n",
        "\t# número de vértices, arestas\n",
        "\t# e a matriz de adjacência obtida\n",
        "    # Apresentando apenas os valores 0 ou 1\n",
        "    def showMin(self):\n",
        "        print(f\"\\n n: {self.n:2d} \", end=\"\")\n",
        "        print(f\"m: {self.m:2d}\\n\")\n",
        "        for i in range(self.n):\n",
        "            for w in range(self.n):\n",
        "                if self.adj[i][w] == 1:\n",
        "                    print(\" 1 \", end=\"\")\n",
        "                else:\n",
        "                    print(\" 0 \", end=\"\")\n",
        "            print(\"\\n\")\n",
        "        print(\"\\nfim da impressao do grafo.\" )"
      ]
    },
    {
      "cell_type": "markdown",
      "metadata": {
        "id": "g2sI3d7Qz7ck"
      },
      "source": [
        "## Classe GrafoR (Grafo direcionado rotulado)"
      ]
    },
    {
      "cell_type": "code",
      "execution_count": 732,
      "metadata": {
        "id": "F1sOCb5P0ITt",
        "colab": {
          "base_uri": "https://localhost:8080/",
          "height": 0
        },
        "outputId": "f339576a-3755-40a2-9840-10b16d88bd67"
      },
      "outputs": [
        {
          "output_type": "execute_result",
          "data": {
            "text/plain": [
              "\"\\n    def dfs_edges(self):\\n        visitados = [False] * len(self.vertices)\\n        edges = []\\n\\n        def dfs(v):\\n            visitados[v] = True\\n            for i in range(len(self.vertices)):\\n                if self.matriz_adj[v][i] == 1 and not visitados[i]:\\n                    edges.append((v, i))\\n                    dfs(i)\\n\\n        for nodo in range(len(self.vertices)):\\n            if not visitados[nodo]:\\n                dfs(nodo)\\n\\n        return edges\\n\\n    def tem_ciclo(self):\\n        visitados = [False] * len(self.vertices)\\n        rec_stack = [False] * len(self.vertices)\\n\\n    def classificar_complexidade(grafo):\\n        if grafo.number_of_nodes() == 0:\\n            return 'C0'  # Grafo vazio\\n\\n        if grafo.number_of_edges() == 0:\\n            return 'C1'  # Grafo com um único vértice ou sem arestas\\n\\n        if grafo.tem_ciclo():\\n            return 'C3'  # Grafo tem ciclos\\n\\n        if len(grafo.dfs_edges()) > 0:\\n            return 'C2'  # Grafo não tem ciclos, mas tem caminhos com mais de um vértice\\n\\n        return 'C1'  # Grafo sem ciclos, todos os caminhos com exatamente um vértice\\n\\n    def cfc(self):\\n        stack = []\\n        visitados = [False] * len(self.vertices)\\n\\n        # Passo 1: Preencher a pilha com base na ordem de finalização do DFS\\n        for i in range(len(self.vertices)):\\n            if not visitados[i]:\\n                self.dfs_util(i, visitados, stack)\\n\\n        # Passo 2: Criar o grafo transposto\\n        g_transposto = self.transpose()\\n\\n        # Passo 3: Fazer DFS no grafo transposto de acordo com a pilha\\n        visitados = [False] * len(self.vertices)\\n        componentes = []\\n\\n        while stack:\\n            v = stack.pop()\\n            if not visitados[v]:\\n                componente = []\\n                g_transposto.dfs_explorar(v, visitados, componente)\\n                componentes.append(componente)\\n\\n        return componentes\\n\\n    def grafo_reduzido(grafo):\\n        componentes = grafo.cfc()\\n        mapeamento = {}\\n        for i, componente in enumerate(componentes):\\n            for v in componente:\\n                mapeamento[v] = i\\n\\n        matriz_reduzida = [[0 for _ in range(len(componentes))] for _ in range(len(componentes))]\\n\\n        for u, v in grafo.arestas:\\n            if mapeamento[u] != mapeamento[v]:\\n                matriz_reduzida[mapeamento[u]][mapeamento[v]] = 1\\n\\n        return matriz_reduzida\\n\""
            ],
            "application/vnd.google.colaboratory.intrinsic+json": {
              "type": "string"
            }
          },
          "metadata": {},
          "execution_count": 732
        }
      ],
      "source": [
        "# Grafo como uma matriz de adjacência rotulado\n",
        "class GrafoR(Grafo):\n",
        "# Não bota o init, vai bugar a classe\n",
        "\n",
        "    def insereA(self, v, w, p):\n",
        "        if self.adj[v][w] == 0:\n",
        "            self.adj[v][w] = p\n",
        "            self.m += 1  # atualiza qtd arestas\n",
        "\n",
        "    def removeA(self, v, w):\n",
        "        if(v == w):\n",
        "            return\n",
        "        # testa se temos a aresta\n",
        "        if self.adj[v][w] != 0:\n",
        "            self.adj[v][w] = 0\n",
        "            self.m -= 1  # atualiza qtd arestas\n",
        "\n",
        "    def show(self):\n",
        "        print(f\"\\n n: {self.n:2d} \", end=\"\")\n",
        "        print(f\"m: {self.m:2d}\\n\")\n",
        "        for i in range(self.n):\n",
        "            for w in range(self.n):\n",
        "                print(f\"Adj[{i:2d},{w:2d}] = {self.adj[i][w]:.2f} \", end=\"\")\n",
        "            print(\"\\n\")\n",
        "        print(\"\\nfim da impressao do grafo.\" )\n",
        "\n",
        "\t# Apresenta o Grafo contendo\n",
        "\t# número de vértices, arestas\n",
        "\t# e a matriz de adjacência obtida\n",
        "    # Apresentando apenas os valores 0 ou 1\n",
        "    def showMin(self):\n",
        "        print(f\"\\n n: {self.n:2d} \", end=\"\")\n",
        "        print(f\"m: {self.m:2d}\\n\")\n",
        "        for i in range(self.n):\n",
        "            for w in range(self.n):\n",
        "                print(f\" {self.adj[i][w]:.2f} \", end=\"\")\n",
        "            print(\"\\n\")\n",
        "        print(\"\\nfim da impressao do grafo.\" )\n",
        "\n",
        "    def insereV(self):\n",
        "        for i in range(self.n):\n",
        "            self.adj[i].append(0)\n",
        "        self.n += 1\n",
        "        self.adj.append([0]*self.n)\n",
        "\n",
        "    def removeV(self, vertice):\n",
        "        if(vertice >= self.n):\n",
        "            return False\n",
        "        for i in range(self.n-1):\n",
        "            if(i >= vertice): # Substitui as conexões do vértice a ser retirado e\n",
        "                              # os vértices posteriores a ele com as conexões do próximo vértice\n",
        "                self.adj[i] = self.adj[i+1]\n",
        "            self.removeA(i,vertice)\n",
        "            self.adj[i].pop(vertice) # Remove o vértice escolhido da linha da matriz\n",
        "        self.adj.pop() # Remove a última linha da matriz\n",
        "        self.n -= 1\n",
        "        return True\n",
        "\n",
        "'''\n",
        "    def dfs_edges(self):\n",
        "        visitados = [False] * len(self.vertices)\n",
        "        edges = []\n",
        "\n",
        "        def dfs(v):\n",
        "            visitados[v] = True\n",
        "            for i in range(len(self.vertices)):\n",
        "                if self.matriz_adj[v][i] == 1 and not visitados[i]:\n",
        "                    edges.append((v, i))\n",
        "                    dfs(i)\n",
        "\n",
        "        for nodo in range(len(self.vertices)):\n",
        "            if not visitados[nodo]:\n",
        "                dfs(nodo)\n",
        "\n",
        "        return edges\n",
        "\n",
        "    def tem_ciclo(self):\n",
        "        visitados = [False] * len(self.vertices)\n",
        "        rec_stack = [False] * len(self.vertices)\n",
        "\n",
        "    def classificar_complexidade(grafo):\n",
        "        if grafo.number_of_nodes() == 0:\n",
        "            return 'C0'  # Grafo vazio\n",
        "\n",
        "        if grafo.number_of_edges() == 0:\n",
        "            return 'C1'  # Grafo com um único vértice ou sem arestas\n",
        "\n",
        "        if grafo.tem_ciclo():\n",
        "            return 'C3'  # Grafo tem ciclos\n",
        "\n",
        "        if len(grafo.dfs_edges()) > 0:\n",
        "            return 'C2'  # Grafo não tem ciclos, mas tem caminhos com mais de um vértice\n",
        "\n",
        "        return 'C1'  # Grafo sem ciclos, todos os caminhos com exatamente um vértice\n",
        "\n",
        "    def cfc(self):\n",
        "        stack = []\n",
        "        visitados = [False] * len(self.vertices)\n",
        "\n",
        "        # Passo 1: Preencher a pilha com base na ordem de finalização do DFS\n",
        "        for i in range(len(self.vertices)):\n",
        "            if not visitados[i]:\n",
        "                self.dfs_util(i, visitados, stack)\n",
        "\n",
        "        # Passo 2: Criar o grafo transposto\n",
        "        g_transposto = self.transpose()\n",
        "\n",
        "        # Passo 3: Fazer DFS no grafo transposto de acordo com a pilha\n",
        "        visitados = [False] * len(self.vertices)\n",
        "        componentes = []\n",
        "\n",
        "        while stack:\n",
        "            v = stack.pop()\n",
        "            if not visitados[v]:\n",
        "                componente = []\n",
        "                g_transposto.dfs_explorar(v, visitados, componente)\n",
        "                componentes.append(componente)\n",
        "\n",
        "        return componentes\n",
        "\n",
        "    def grafo_reduzido(grafo):\n",
        "        componentes = grafo.cfc()\n",
        "        mapeamento = {}\n",
        "        for i, componente in enumerate(componentes):\n",
        "            for v in componente:\n",
        "                mapeamento[v] = i\n",
        "\n",
        "        matriz_reduzida = [[0 for _ in range(len(componentes))] for _ in range(len(componentes))]\n",
        "\n",
        "        for u, v in grafo.arestas:\n",
        "            if mapeamento[u] != mapeamento[v]:\n",
        "                matriz_reduzida[mapeamento[u]][mapeamento[v]] = 1\n",
        "\n",
        "        return matriz_reduzida\n",
        "'''"
      ]
    },
    {
      "cell_type": "markdown",
      "metadata": {
        "id": "XMuxrf07kEw_"
      },
      "source": [
        "## Classe Memory"
      ]
    },
    {
      "cell_type": "markdown",
      "metadata": {
        "id": "a6uWsA4dkZwE"
      },
      "source": [
        "Aqui é utilizado a biblioteca VectorDB para criar uma memória virtual.\n",
        "\n",
        "```\n",
        "memoria = Memory(chunking_strategy={\"mode\": \"sliding_window\", \"window_size\": 1, \"overlap\": 0})\n",
        "```\n",
        "\n",
        "- `chunking_strategy` define a estratégia de fragmentação dos dados. No modo \"sliding_window\", os dados são divididos em *chunks* (pedaços de texto) de tamanho fixo.\n",
        "\n",
        "- `window_size` define a quantidade de palavras que um *chunk* representa. Neste caso, cada *chunk* representa uma palavra.\n",
        "\n",
        "- `overlap` define quantos elementos de sobreposição existirão entre os *chunks* adjacentes. Neste caso, não haverá sobreposição já que as palavras usadas não formam frases, logo são independentes uma das outras."
      ]
    },
    {
      "cell_type": "markdown",
      "source": [
        "### Método SAVE"
      ],
      "metadata": {
        "id": "mLOuJFjZ66pZ"
      }
    },
    {
      "cell_type": "markdown",
      "source": [
        "O método é usado para fazer o *embedding* de uma palavra e inserir na memória.\n",
        "```\n",
        "memoria.save(\"palavra\")\n",
        "```\n",
        "* `palavra` é a *string* da palavra desejada para inserir na memória."
      ],
      "metadata": {
        "id": "tBUvKn0YJ1vU"
      }
    },
    {
      "cell_type": "markdown",
      "source": [
        "### Método SEARCH"
      ],
      "metadata": {
        "id": "tykSWUsj65G_"
      }
    },
    {
      "cell_type": "markdown",
      "source": [
        "O método é usado para fazer o *embedding* de uma palavra para consultar a proximidade com as palavras salvas na memória através da busca vetorial.\n",
        "```\n",
        "busca = memoria.search(palavra, top_n=4)\n",
        "```\n",
        "* `palavra` é a string da palavra usada para consultar a proximidade com as palavras salvas na memória.\n",
        "* `top_n` define o número de palavras retornadas da consulta.\n"
      ],
      "metadata": {
        "id": "vBW75f05JpHt"
      }
    },
    {
      "cell_type": "markdown",
      "source": [
        "### [Referência](https://vectordb.com/)"
      ],
      "metadata": {
        "id": "xvaddfZSJlrp"
      }
    },
    {
      "cell_type": "markdown",
      "source": [
        "## Classe Network"
      ],
      "metadata": {
        "id": "by7AfxYr5Wwg"
      }
    },
    {
      "cell_type": "markdown",
      "source": [
        "Aqui é utilizado a biblioteca Pyvis para criar uma instância para visualizar redes/grafos de forma interativa.\n",
        "\n",
        "```\n",
        "net = Network(notebook=True, cdn_resources='remote', directed=True)\n",
        "```\n",
        "* `notebook=True`: Esta opção indica que a visualização da rede será exibida diretamente em um notebook Jupyter.\n",
        "\n",
        "* `cdn_resources='remote'`: Esta opção especifica que os recursos necessários (como bibliotecas JavaScript e CSS) serão carregados de um Content Delivery Network (CDN) remoto. Isso pode ajudar a reduzir o tempo de carregamento e garantir que você esteja usando as versões mais recentes desses recursos.\n",
        "\n",
        "* `directed=True`: Especifica para que o grafo seja direcionado."
      ],
      "metadata": {
        "id": "wT2RnA145hp5"
      }
    },
    {
      "cell_type": "markdown",
      "source": [
        "### [Referência](https://pyvis.readthedocs.io/en/latest/documentation.html)"
      ],
      "metadata": {
        "id": "0XATAgPRJn1u"
      }
    },
    {
      "cell_type": "markdown",
      "source": [
        "## Funções auxiliares"
      ],
      "metadata": {
        "id": "zWYODqQXiaGN"
      }
    },
    {
      "cell_type": "markdown",
      "source": [
        "### Cria vértice"
      ],
      "metadata": {
        "id": "TmqCgxE0isy5"
      }
    },
    {
      "cell_type": "code",
      "source": [
        "def criaVertice(palavra, indice):\n",
        "  vertice = {\n",
        "      \"palavra\": palavra, # Recupera cada palavra e tira o \"\\n\"\n",
        "      \"indice\": indice,\n",
        "      \"n_vizinhos\": 0,\n",
        "      \"proximos\": []\n",
        "  }\n",
        "  return vertice"
      ],
      "metadata": {
        "id": "TAiwXMCqirUg"
      },
      "execution_count": 733,
      "outputs": []
    },
    {
      "cell_type": "markdown",
      "source": [
        "### Lê arquivo"
      ],
      "metadata": {
        "id": "CGlKvBrCi3qp"
      }
    },
    {
      "cell_type": "markdown",
      "source": [
        "Os dados do documento são importados e guardados na variável `dados`."
      ],
      "metadata": {
        "id": "sL9fnr6ni8iH"
      }
    },
    {
      "cell_type": "code",
      "source": [
        "def leArquivoHTTP(url):\n",
        "  arquivo = requests.get(url).text\n",
        "\n",
        "  lista = arquivo.split() # Distribui cada elemento do arquivo numa lista\n",
        "  n_palavras = int(lista.pop(0)) # Separa o número de palavras (primeira linha do arquivo)\n",
        "  vertices = []\n",
        "  for i in range(n_palavras):\n",
        "    vertice = criaVertice(lista[i], i)\n",
        "    vertices.append(vertice)\n",
        "\n",
        "  dados = [n_palavras]\n",
        "  dados.append(vertices)\n",
        "\n",
        "  return dados"
      ],
      "metadata": {
        "id": "4nEo6zd1i6D5"
      },
      "execution_count": 734,
      "outputs": []
    },
    {
      "cell_type": "code",
      "source": [
        "def leArquivo(origem):\n",
        "  try:\n",
        "    with open(origem, 'r', encoding='utf-8') as arquivo:\n",
        "      n_palavras = int(arquivo.readline()) # Recupera o número de palavras (primeira linha do arquivo)\n",
        "\n",
        "      vertices = []\n",
        "      for i in range(n_palavras):\n",
        "        vertice = criaVertice(arquivo.readline().strip(), i)\n",
        "        vertices.append(vertice)\n",
        "\n",
        "    dados = [n_palavras]\n",
        "    dados.append(vertices)\n",
        "\n",
        "    return dados\n",
        "\n",
        "  except FileNotFoundError:\n",
        "      print(\"[Erro: Arquivo não encontrado]\")"
      ],
      "metadata": {
        "id": "Md6it9mdjAlL"
      },
      "execution_count": 735,
      "outputs": []
    },
    {
      "cell_type": "markdown",
      "source": [
        "### Embedding"
      ],
      "metadata": {
        "id": "xvG7B29cjGjs"
      }
    },
    {
      "cell_type": "markdown",
      "source": [
        "Cada palavra é convertida para um vetor numérico e guardada na memória."
      ],
      "metadata": {
        "id": "edfR0j4ojLiV"
      }
    },
    {
      "cell_type": "code",
      "source": [
        "def embedding(memoria, n_palavras, vertices): # Método para fazer o embedding e inserção na memória de todas as palavras\n",
        "  for i in range(n_palavras):\n",
        "    memoria.save(vertices[i][\"palavra\"])"
      ],
      "metadata": {
        "id": "eC-dinSyjKEn"
      },
      "execution_count": 736,
      "outputs": []
    },
    {
      "cell_type": "markdown",
      "source": [
        "### Busca vetorial"
      ],
      "metadata": {
        "id": "0RbhmJRQjX7y"
      }
    },
    {
      "cell_type": "markdown",
      "source": [
        "Quanto menor é a distância, maior é a proximidade semântica."
      ],
      "metadata": {
        "id": "II8guSv1jZ78"
      }
    },
    {
      "cell_type": "code",
      "source": [
        "def buscaVetorial(memoria, palavra): # Método para retornar os quatro elementos com maior proximidade semântica de uma palavra\n",
        "  busca = memoria.search(palavra, top_n=4)\n",
        "  return busca"
      ],
      "metadata": {
        "id": "d8YlAteUjdEg"
      },
      "execution_count": 737,
      "outputs": []
    },
    {
      "cell_type": "markdown",
      "source": [
        "### Busca índice"
      ],
      "metadata": {
        "id": "D2GpxPLMjiC5"
      }
    },
    {
      "cell_type": "markdown",
      "source": [
        "Busca um índice através da palavra dentro da lista de vértices."
      ],
      "metadata": {
        "id": "e_H47lOpjlcg"
      }
    },
    {
      "cell_type": "code",
      "source": [
        "def buscaIndice(n_palavras, vertices, palavra):\n",
        "  for i in range(n_palavras):\n",
        "    if(vertices[i][\"palavra\"] == palavra):\n",
        "      return vertices[i][\"indice\"]\n",
        "  return -1"
      ],
      "metadata": {
        "id": "CJ8GGcW8jjjV"
      },
      "execution_count": 738,
      "outputs": []
    },
    {
      "cell_type": "markdown",
      "source": [
        "### Busca palavra"
      ],
      "metadata": {
        "id": "uuinIkupjvJp"
      }
    },
    {
      "cell_type": "markdown",
      "source": [
        "Busca uma palavra através do índice dentro da lista de vértices."
      ],
      "metadata": {
        "id": "UMZ4XLBujxKn"
      }
    },
    {
      "cell_type": "code",
      "source": [
        "def buscaPalavra(n_palavras, vertices, indice):\n",
        "  if(indice >= n_palavras or indice < 0):\n",
        "    return \"[Erro: índice inválido]\"\n",
        "  for i in range(n_palavras):\n",
        "    if(vertices[i][\"indice\"] == indice):\n",
        "      return vertices[i][\"palavra\"]\n",
        "  return \"[Erro: índice não encontrado]\""
      ],
      "metadata": {
        "id": "LBj18pbljxeq"
      },
      "execution_count": 739,
      "outputs": []
    },
    {
      "cell_type": "markdown",
      "source": [
        "### Cria vizinho"
      ],
      "metadata": {
        "id": "nY8qxhFskHeU"
      }
    },
    {
      "cell_type": "code",
      "source": [
        "def criaVizinho(palavra, indice, distancia):\n",
        "  proximo = {\n",
        "      \"vizinho\": palavra,\n",
        "      \"indice\": indice,\n",
        "      \"distancia\": distancia\n",
        "  }\n",
        "  return proximo"
      ],
      "metadata": {
        "id": "GG8eGVgxkJlr"
      },
      "execution_count": 740,
      "outputs": []
    },
    {
      "cell_type": "markdown",
      "source": [
        "### Integra grafo"
      ],
      "metadata": {
        "id": "akYDFZCNkVNn"
      }
    },
    {
      "cell_type": "markdown",
      "source": [
        "A palavra mais próxima armazenada na memória é ela mesma, portanto para encontrar as outras três palavras mais próximas foram recuperadas as palavras de índice 1 até 4."
      ],
      "metadata": {
        "id": "a1pMlLG1kZjo"
      }
    },
    {
      "cell_type": "code",
      "source": [
        "def integraGrafo(memoria, n_palavras, vertices):\n",
        "  grafo = GrafoR(n_palavras) # Cria um grafo rotulado\n",
        "  for i in range(n_palavras):\n",
        "    busca = buscaVetorial(memoria, vertices[i][\"palavra\"])\n",
        "    proximos = []\n",
        "    for j in range(1,4):\n",
        "      palavra = busca[j]['chunk']\n",
        "      distancia = busca[j]['distance']\n",
        "      proximo = criaVizinho(palavra, buscaIndice(n_palavras, vertices, palavra), distancia)\n",
        "      proximos.append(proximo)\n",
        "      vertices[i][\"n_vizinhos\"] += 1\n",
        "      grafo.insereA(vertices[i][\"indice\"], proximo[\"indice\"], proximo[\"distancia\"])\n",
        "    vertices[i][\"proximos\"] = proximos\n",
        "  return grafo"
      ],
      "metadata": {
        "id": "cDCMxOBHkWsz"
      },
      "execution_count": 741,
      "outputs": []
    },
    {
      "cell_type": "markdown",
      "source": [
        "### Grava dados"
      ],
      "metadata": {
        "id": "2PeqvyNUkgfI"
      }
    },
    {
      "cell_type": "code",
      "source": [
        "def gravaDados(n_palavras, vertices):\n",
        "  with open(\"grafo.txt\", \"w\") as arquivo:\n",
        "    for i in range(n_palavras):\n",
        "      palavra = vertices[i][\"palavra\"]\n",
        "      arquivo.write(palavra+\"\\n\")"
      ],
      "metadata": {
        "id": "10rSV0ahkjeI"
      },
      "execution_count": 742,
      "outputs": []
    },
    {
      "cell_type": "markdown",
      "source": [
        "### Insere vértice"
      ],
      "metadata": {
        "id": "5L5R6K1ak9y6"
      }
    },
    {
      "cell_type": "code",
      "source": [
        "def insereVertice(grafo, n_palavras, vertices, palavra):\n",
        "  if(buscaIndice(n_palavras, vertices, palavra) == -1):\n",
        "    grafo.insereV()\n",
        "    vertices.append(criaVertice(palavra, n_palavras))\n",
        "  else:\n",
        "    print(\"[Erro: Palavra já existe]\")"
      ],
      "metadata": {
        "id": "KDtRcWq_k_bV"
      },
      "execution_count": 743,
      "outputs": []
    },
    {
      "cell_type": "markdown",
      "source": [
        "### Imprime vértices"
      ],
      "metadata": {
        "id": "8LyuaiqbGnQr"
      }
    },
    {
      "cell_type": "code",
      "source": [
        "def imprimeVertices(network, n_palavras, vertices):\n",
        "  for i in range(n_palavras):\n",
        "    network.add_node( # Adiciona vértices\n",
        "        i, # Índice\n",
        "        label=vertices[i][\"palavra\"] # Descrição do vértice\n",
        "    )"
      ],
      "metadata": {
        "id": "pr6spoUrGmrl"
      },
      "execution_count": 744,
      "outputs": []
    },
    {
      "cell_type": "markdown",
      "source": [
        "### Imprime arestas"
      ],
      "metadata": {
        "id": "FCn2z_GwGrMA"
      }
    },
    {
      "cell_type": "code",
      "source": [
        "def imprimeArestas(network, n_palavras, vertices):\n",
        "  for i in range(n_palavras):\n",
        "    vizinhos = vertices[i][\"proximos\"]\n",
        "    for j in range(vertices[i][\"n_vizinhos\"]):\n",
        "      distancia = float(vizinhos[j][\"distancia\"])\n",
        "      if(distancia >= 0 and distancia <= 1):\n",
        "        peso = 1 - distancia # Caso seja um valor entre a escala da distância semântica\n",
        "      else:\n",
        "        peso = distancia # Caso seja um valor fora do limite\n",
        "      network.add_edge( # Adiciona as arestas\n",
        "          vertices[i][\"indice\"], # Origem\n",
        "          vizinhos[j][\"indice\"], # Destino\n",
        "          value=peso, # Peso\n",
        "          title=f\"Peso: {peso:.2f}\", # Descrição\n",
        "          smooth={'type': 'discrete'} # As arestas são desenhadas como linhas retas segmentadas\n",
        "      )"
      ],
      "metadata": {
        "id": "OtxYhq8jGxyj"
      },
      "execution_count": 745,
      "outputs": []
    },
    {
      "cell_type": "markdown",
      "source": [
        "### Imprime grafo"
      ],
      "metadata": {
        "id": "j3fUMtozG0nK"
      }
    },
    {
      "cell_type": "code",
      "source": [
        "def imprimeGrafo(n_palavras, vertices):\n",
        "  net = Network(notebook=True, cdn_resources='remote', directed=True)\n",
        "  imprimeVertices(net, n_palavras, vertices)\n",
        "  imprimeArestas(net, n_palavras, vertices)\n",
        "  net.toggle_physics(False) # Desabilita o ajuste automático do comprimento das arestas\n",
        "  net.show(\"grafo.html\") # Salva o grafo"
      ],
      "metadata": {
        "id": "OGnMeqekG13i"
      },
      "execution_count": 746,
      "outputs": []
    },
    {
      "cell_type": "markdown",
      "source": [
        "### Cria aresta"
      ],
      "metadata": {
        "id": "OCilppoasxOJ"
      }
    },
    {
      "cell_type": "code",
      "source": [
        "def criaAresta(origem, destino):\n",
        "  aresta = [0] * 2\n",
        "  aresta[0] = origem\n",
        "  aresta[1] = destino\n",
        "  return aresta"
      ],
      "metadata": {
        "id": "JutVUDz5s0tg"
      },
      "execution_count": 747,
      "outputs": []
    },
    {
      "cell_type": "markdown",
      "source": [
        "### Busca vizinho"
      ],
      "metadata": {
        "id": "WTHEWrEos1bx"
      }
    },
    {
      "cell_type": "code",
      "source": [
        "def buscaVizinho(n_vizinhos, vizinhos, palavra):\n",
        "  for i in range(n_vizinhos):\n",
        "    if(vizinhos[i][\"vizinho\"] == palavra):\n",
        "      return vizinhos[i][\"indice\"]\n",
        "  return -1"
      ],
      "metadata": {
        "id": "FdWfskq3s5AC"
      },
      "execution_count": 748,
      "outputs": []
    },
    {
      "cell_type": "markdown",
      "source": [
        "### Insere aresta"
      ],
      "metadata": {
        "id": "k-MC5QZ-s9fh"
      }
    },
    {
      "cell_type": "code",
      "source": [
        "def insereAresta(grafo, n_palavras, vertices, aresta, peso):\n",
        "  origem = aresta[0]\n",
        "  destino = aresta[1]\n",
        "  if(origem >= n_palavras or origem < 0):\n",
        "    print(\"[Erro: origem não existe]\")\n",
        "\n",
        "  elif(destino >= n_palavras or destino < 0):\n",
        "    print(\"[Erro: destino não existe]\")\n",
        "\n",
        "  else:\n",
        "    n_vizinhos = vertices[origem][\"n_vizinhos\"]\n",
        "    vizinhos = vertices[origem][\"proximos\"]\n",
        "    palavra_destino = buscaPalavra(n_palavras, vertices, destino)\n",
        "\n",
        "    if(buscaVizinho(n_vizinhos, vizinhos, palavra_destino) == -1):\n",
        "      grafo.insereA(origem, destino, peso)\n",
        "      vertices[origem][\"proximos\"].append(criaVizinho(palavra_destino, destino, peso))\n",
        "      vertices[origem][\"n_vizinhos\"] += 1\n",
        "\n",
        "    else:\n",
        "      print(\"[Erro: aresta já existe]\")"
      ],
      "metadata": {
        "id": "SF5ki2ems-xS"
      },
      "execution_count": 749,
      "outputs": []
    },
    {
      "cell_type": "markdown",
      "metadata": {
        "id": "ro4oq-cagY8g"
      },
      "source": [
        "# Opções"
      ]
    },
    {
      "cell_type": "markdown",
      "metadata": {
        "id": "fj8LIYV32JAo"
      },
      "source": [
        "## 1. Ler dados (Feito)"
      ]
    },
    {
      "cell_type": "code",
      "execution_count": 750,
      "metadata": {
        "colab": {
          "base_uri": "https://localhost:8080/"
        },
        "collapsed": true,
        "id": "WJkcynqo2JAr",
        "outputId": "8df77caf-589e-4f16-f765-448882696d94"
      },
      "outputs": [
        {
          "output_type": "stream",
          "name": "stdout",
          "text": [
            "[8, [{'palavra': 'Ecossistema', 'indice': 0, 'n_vizinhos': 0, 'proximos': []}, {'palavra': 'Sustentabilidade', 'indice': 1, 'n_vizinhos': 0, 'proximos': []}, {'palavra': 'Biodiversidade', 'indice': 2, 'n_vizinhos': 0, 'proximos': []}, {'palavra': 'Reciclagem', 'indice': 3, 'n_vizinhos': 0, 'proximos': []}, {'palavra': 'Conservação', 'indice': 4, 'n_vizinhos': 0, 'proximos': []}, {'palavra': 'Poluição', 'indice': 5, 'n_vizinhos': 0, 'proximos': []}, {'palavra': 'Desmatamento', 'indice': 6, 'n_vizinhos': 0, 'proximos': []}, {'palavra': 'Reflorestamento', 'indice': 7, 'n_vizinhos': 0, 'proximos': []}]]\n"
          ]
        }
      ],
      "source": [
        "d = leArquivoHTTP('https://raw.githubusercontent.com/Cehiim/TeoriaDosGrafos/refs/heads/main/Projeto/teste.txt')\n",
        "#d = leArquivo(\"palavras.txt\")\n",
        "print(d)"
      ]
    },
    {
      "cell_type": "markdown",
      "metadata": {
        "id": "LKs0zciNBHL_"
      },
      "source": [
        "A palavra mais próxima armazenada na memória é ela mesma, portanto para encontrar as outras três palavras mais próximas foram recuperadas as palavras de índice 1 até 4."
      ]
    },
    {
      "cell_type": "code",
      "execution_count": 751,
      "metadata": {
        "colab": {
          "base_uri": "https://localhost:8080/"
        },
        "id": "jBe9Eq_I-ozC",
        "outputId": "3f430d5c-382d-4777-b384-f10e48e4e083",
        "collapsed": true
      },
      "outputs": [
        {
          "output_type": "stream",
          "name": "stdout",
          "text": [
            "Initiliazing embeddings:  normal\n",
            "OK.\n",
            "[{'chunk': 'Biodiversidade', 'metadata': {}, 'distance': 0.0}, {'chunk': 'Sustentabilidade', 'metadata': {}, 'distance': 0.44970125}, {'chunk': 'Ecossistema', 'metadata': {}, 'distance': 0.5811522}, {'chunk': 'Poluição', 'metadata': {}, 'distance': 0.6769276}]\n",
            "\n",
            "\n",
            "Busca: Biodiversidade\n",
            "\n",
            "Palavra: Sustentabilidade\n",
            "Distância: 0.45\n",
            "\n",
            "Palavra: Ecossistema\n",
            "Distância: 0.58\n",
            "\n",
            "Palavra: Poluição\n",
            "Distância: 0.68\n",
            "\n"
          ]
        }
      ],
      "source": [
        "m = Memory(chunking_strategy={\"mode\": \"sliding_window\", \"window_size\": 1, \"overlap\": 0}) # Memória\n",
        "n = d[0] # Número de palavras\n",
        "v = d[1] # Lista de vértices (cada vértice é organizado em palavra, índice e vizinhos próximos)\n",
        "\n",
        "embedding(m, n, v)\n",
        "\n",
        "b = buscaVetorial(m, \"Biodiversidade\")\n",
        "print(b)\n",
        "print(f\"\\n\\nBusca: Biodiversidade\\n\")\n",
        "for i in range(1,4):\n",
        "  palavra = b[i]['chunk']\n",
        "  distancia = b[i]['distance']\n",
        "  print(f\"Palavra: {palavra}\\nDistância: {distancia:.2f}\\n\")"
      ]
    },
    {
      "cell_type": "code",
      "source": [
        "g = integraGrafo(m, n, v)\n",
        "print(v[0]) # Informações do primeiro elemento da lista de vértices\n",
        "g.showMin()"
      ],
      "metadata": {
        "colab": {
          "base_uri": "https://localhost:8080/"
        },
        "id": "OwrIDFFLvemn",
        "outputId": "1400ca79-659b-4308-b2f1-c3e202ee8686",
        "collapsed": true
      },
      "execution_count": 752,
      "outputs": [
        {
          "output_type": "stream",
          "name": "stdout",
          "text": [
            "{'palavra': 'Ecossistema', 'indice': 0, 'n_vizinhos': 3, 'proximos': [{'vizinho': 'Biodiversidade', 'indice': 2, 'distancia': 0.5811522}, {'vizinho': 'Sustentabilidade', 'indice': 1, 'distancia': 0.59003323}, {'vizinho': 'Reflorestamento', 'indice': 7, 'distancia': 0.7258596}]}\n",
            "\n",
            " n:  8 m: 24\n",
            "\n",
            " 0.00  0.59  0.58  0.00  0.00  0.00  0.00  0.73 \n",
            "\n",
            " 0.59  0.00  0.45  0.00  0.00  0.00  0.00  0.69 \n",
            "\n",
            " 0.58  0.45  0.00  0.00  0.00  0.68  0.00  0.00 \n",
            "\n",
            " 0.80  0.00  0.00  0.00  0.00  0.78  0.00  0.64 \n",
            "\n",
            " 0.00  0.78  0.00  0.00  0.00  0.78  0.86  0.00 \n",
            "\n",
            " 0.00  0.00  0.68  0.00  0.00  0.00  0.72  0.65 \n",
            "\n",
            " 0.00  0.00  0.79  0.00  0.00  0.72  0.00  0.69 \n",
            "\n",
            " 0.00  0.00  0.00  0.64  0.00  0.65  0.69  0.00 \n",
            "\n",
            "\n",
            "fim da impressao do grafo.\n"
          ]
        }
      ]
    },
    {
      "cell_type": "markdown",
      "metadata": {
        "id": "rsUUPVLa2JAs"
      },
      "source": [
        "## 2. Gravar dados (Feito)"
      ]
    },
    {
      "cell_type": "code",
      "source": [
        "gravaDados(n,v)"
      ],
      "metadata": {
        "id": "TzhEGEtaC70z"
      },
      "execution_count": 753,
      "outputs": []
    },
    {
      "cell_type": "markdown",
      "source": [
        "No Google Colab o arquivo nomeado como `grafo.txt` poderá ser acessado nos arquivos localizado no canto esquerdo.\n",
        "\n",
        "![unnamed.png](data:image/png;base64,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)"
      ],
      "metadata": {
        "id": "aUrn6Ez9xHsQ"
      }
    },
    {
      "cell_type": "markdown",
      "metadata": {
        "id": "rcUaBUFE2JAs"
      },
      "source": [
        "## 3. Inserir vértice (Feito)"
      ]
    },
    {
      "cell_type": "code",
      "source": [
        "insereVertice(g, n, v, \"Maritaca\")\n",
        "n += 1\n",
        "print(v)\n",
        "g.showMin()"
      ],
      "metadata": {
        "colab": {
          "base_uri": "https://localhost:8080/"
        },
        "collapsed": true,
        "id": "T-URKlaHw0kG",
        "outputId": "8a1459ca-4d91-4184-8146-071342e511af"
      },
      "execution_count": 754,
      "outputs": [
        {
          "output_type": "stream",
          "name": "stdout",
          "text": [
            "[{'palavra': 'Ecossistema', 'indice': 0, 'n_vizinhos': 3, 'proximos': [{'vizinho': 'Biodiversidade', 'indice': 2, 'distancia': 0.5811522}, {'vizinho': 'Sustentabilidade', 'indice': 1, 'distancia': 0.59003323}, {'vizinho': 'Reflorestamento', 'indice': 7, 'distancia': 0.7258596}]}, {'palavra': 'Sustentabilidade', 'indice': 1, 'n_vizinhos': 3, 'proximos': [{'vizinho': 'Biodiversidade', 'indice': 2, 'distancia': 0.44970125}, {'vizinho': 'Ecossistema', 'indice': 0, 'distancia': 0.59003323}, {'vizinho': 'Reflorestamento', 'indice': 7, 'distancia': 0.692708}]}, {'palavra': 'Biodiversidade', 'indice': 2, 'n_vizinhos': 3, 'proximos': [{'vizinho': 'Sustentabilidade', 'indice': 1, 'distancia': 0.44970125}, {'vizinho': 'Ecossistema', 'indice': 0, 'distancia': 0.5811522}, {'vizinho': 'Poluição', 'indice': 5, 'distancia': 0.6769276}]}, {'palavra': 'Reciclagem', 'indice': 3, 'n_vizinhos': 3, 'proximos': [{'vizinho': 'Reflorestamento', 'indice': 7, 'distancia': 0.63607174}, {'vizinho': 'Poluição', 'indice': 5, 'distancia': 0.78495324}, {'vizinho': 'Ecossistema', 'indice': 0, 'distancia': 0.80120957}]}, {'palavra': 'Conservação', 'indice': 4, 'n_vizinhos': 3, 'proximos': [{'vizinho': 'Poluição', 'indice': 5, 'distancia': 0.7833704}, {'vizinho': 'Sustentabilidade', 'indice': 1, 'distancia': 0.7846519}, {'vizinho': 'Desmatamento', 'indice': 6, 'distancia': 0.86300147}]}, {'palavra': 'Poluição', 'indice': 5, 'n_vizinhos': 3, 'proximos': [{'vizinho': 'Reflorestamento', 'indice': 7, 'distancia': 0.65016866}, {'vizinho': 'Biodiversidade', 'indice': 2, 'distancia': 0.6769276}, {'vizinho': 'Desmatamento', 'indice': 6, 'distancia': 0.71925545}]}, {'palavra': 'Desmatamento', 'indice': 6, 'n_vizinhos': 3, 'proximos': [{'vizinho': 'Reflorestamento', 'indice': 7, 'distancia': 0.6854651}, {'vizinho': 'Poluição', 'indice': 5, 'distancia': 0.71925545}, {'vizinho': 'Biodiversidade', 'indice': 2, 'distancia': 0.78797036}]}, {'palavra': 'Reflorestamento', 'indice': 7, 'n_vizinhos': 3, 'proximos': [{'vizinho': 'Reciclagem', 'indice': 3, 'distancia': 0.63607174}, {'vizinho': 'Poluição', 'indice': 5, 'distancia': 0.65016866}, {'vizinho': 'Desmatamento', 'indice': 6, 'distancia': 0.6854651}]}, {'palavra': 'Maritaca', 'indice': 8, 'n_vizinhos': 0, 'proximos': []}]\n",
            "\n",
            " n:  9 m: 24\n",
            "\n",
            " 0.00  0.59  0.58  0.00  0.00  0.00  0.00  0.73  0.00 \n",
            "\n",
            " 0.59  0.00  0.45  0.00  0.00  0.00  0.00  0.69  0.00 \n",
            "\n",
            " 0.58  0.45  0.00  0.00  0.00  0.68  0.00  0.00  0.00 \n",
            "\n",
            " 0.80  0.00  0.00  0.00  0.00  0.78  0.00  0.64  0.00 \n",
            "\n",
            " 0.00  0.78  0.00  0.00  0.00  0.78  0.86  0.00  0.00 \n",
            "\n",
            " 0.00  0.00  0.68  0.00  0.00  0.00  0.72  0.65  0.00 \n",
            "\n",
            " 0.00  0.00  0.79  0.00  0.00  0.72  0.00  0.69  0.00 \n",
            "\n",
            " 0.00  0.00  0.00  0.64  0.00  0.65  0.69  0.00  0.00 \n",
            "\n",
            " 0.00  0.00  0.00  0.00  0.00  0.00  0.00  0.00  0.00 \n",
            "\n",
            "\n",
            "fim da impressao do grafo.\n"
          ]
        }
      ]
    },
    {
      "cell_type": "markdown",
      "metadata": {
        "id": "-8PvH4ed2JAt"
      },
      "source": [
        "## 4. Inserir aresta (Feito)"
      ]
    },
    {
      "cell_type": "code",
      "source": [
        "a = criaAresta(8, 4)\n",
        "a2 = criaAresta(8, 0)\n",
        "insereAresta(g, n, v, a, 0.8)\n",
        "print(v[8])\n",
        "insereAresta(g, n, v, a, 0.8)\n",
        "insereAresta(g, n, v, a2, 0.4)\n",
        "print(v[8])\n",
        "g.showMin()"
      ],
      "metadata": {
        "colab": {
          "base_uri": "https://localhost:8080/"
        },
        "id": "c6ZFQ_yic5FM",
        "outputId": "84059d55-b0da-4c7a-93d2-d9172ea259a6"
      },
      "execution_count": 755,
      "outputs": [
        {
          "output_type": "stream",
          "name": "stdout",
          "text": [
            "{'palavra': 'Maritaca', 'indice': 8, 'n_vizinhos': 1, 'proximos': [{'vizinho': 'Conservação', 'indice': 4, 'distancia': 0.8}]}\n",
            "[Erro: aresta já existe]\n",
            "{'palavra': 'Maritaca', 'indice': 8, 'n_vizinhos': 2, 'proximos': [{'vizinho': 'Conservação', 'indice': 4, 'distancia': 0.8}, {'vizinho': 'Ecossistema', 'indice': 0, 'distancia': 0.4}]}\n",
            "\n",
            " n:  9 m: 26\n",
            "\n",
            " 0.00  0.59  0.58  0.00  0.00  0.00  0.00  0.73  0.00 \n",
            "\n",
            " 0.59  0.00  0.45  0.00  0.00  0.00  0.00  0.69  0.00 \n",
            "\n",
            " 0.58  0.45  0.00  0.00  0.00  0.68  0.00  0.00  0.00 \n",
            "\n",
            " 0.80  0.00  0.00  0.00  0.00  0.78  0.00  0.64  0.00 \n",
            "\n",
            " 0.00  0.78  0.00  0.00  0.00  0.78  0.86  0.00  0.00 \n",
            "\n",
            " 0.00  0.00  0.68  0.00  0.00  0.00  0.72  0.65  0.00 \n",
            "\n",
            " 0.00  0.00  0.79  0.00  0.00  0.72  0.00  0.69  0.00 \n",
            "\n",
            " 0.00  0.00  0.00  0.64  0.00  0.65  0.69  0.00  0.00 \n",
            "\n",
            " 0.40  0.00  0.00  0.00  0.80  0.00  0.00  0.00  0.00 \n",
            "\n",
            "\n",
            "fim da impressao do grafo.\n"
          ]
        }
      ]
    },
    {
      "cell_type": "markdown",
      "metadata": {
        "id": "nMVke0Al2JAt"
      },
      "source": [
        "## 5. Remover vértice"
      ]
    },
    {
      "cell_type": "code",
      "execution_count": 755,
      "metadata": {
        "id": "CqO6N1PP2JAu"
      },
      "outputs": [],
      "source": []
    },
    {
      "cell_type": "markdown",
      "metadata": {
        "id": "cvUaJjZS2JAu"
      },
      "source": [
        "## 6. Remover aresta"
      ]
    },
    {
      "cell_type": "code",
      "execution_count": 755,
      "metadata": {
        "id": "hmD-cjiW2JAu"
      },
      "outputs": [],
      "source": []
    },
    {
      "cell_type": "markdown",
      "metadata": {
        "id": "4f8SKdKg2JAv"
      },
      "source": [
        "## 7. Exibir grafo (Feito)"
      ]
    },
    {
      "cell_type": "markdown",
      "source": [
        "É feito o *download* de um arquivo HTML com a representação do grafo."
      ],
      "metadata": {
        "id": "f39hSNBeHCZJ"
      }
    },
    {
      "cell_type": "code",
      "source": [
        "imprimeGrafo(n,v)"
      ],
      "metadata": {
        "colab": {
          "base_uri": "https://localhost:8080/"
        },
        "id": "onSiBLgk4kgO",
        "outputId": "0774896b-39b6-4e95-8547-3aaa025435dd"
      },
      "execution_count": 756,
      "outputs": [
        {
          "output_type": "stream",
          "name": "stdout",
          "text": [
            "grafo.html\n"
          ]
        }
      ]
    },
    {
      "cell_type": "markdown",
      "source": [
        "No Google Colab o arquivo nomeado como `grafo.html` poderá ser acessado nos arquivos localizado no canto esquerdo.\n",
        "\n",
        "![image.png](data:image/png;base64,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)"
      ],
      "metadata": {
        "id": "fv3muLMdS1zt"
      }
    },
    {
      "cell_type": "markdown",
      "source": [
        "* As arestas mais grossas têm peso maior.\n",
        "\n",
        "* Clique no vértice para mostrar o peso de uma aresta.\n",
        "\n",
        "![image.png](data:image/png;base64,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)"
      ],
      "metadata": {
        "id": "exBHuQGsHMe0"
      }
    },
    {
      "cell_type": "markdown",
      "metadata": {
        "id": "kS8x6Fjd2JA2"
      },
      "source": [
        "## 8. Exibir matriz (Feito)"
      ]
    },
    {
      "cell_type": "code",
      "execution_count": 757,
      "metadata": {
        "id": "tlbI-jgd2JA1",
        "collapsed": true,
        "colab": {
          "base_uri": "https://localhost:8080/"
        },
        "outputId": "fb7f7409-6dac-4aea-e321-77365bee57e6"
      },
      "outputs": [
        {
          "output_type": "stream",
          "name": "stdout",
          "text": [
            "\n",
            " n:  9 m: 26\n",
            "\n",
            " 0.00  0.59  0.58  0.00  0.00  0.00  0.00  0.73  0.00 \n",
            "\n",
            " 0.59  0.00  0.45  0.00  0.00  0.00  0.00  0.69  0.00 \n",
            "\n",
            " 0.58  0.45  0.00  0.00  0.00  0.68  0.00  0.00  0.00 \n",
            "\n",
            " 0.80  0.00  0.00  0.00  0.00  0.78  0.00  0.64  0.00 \n",
            "\n",
            " 0.00  0.78  0.00  0.00  0.00  0.78  0.86  0.00  0.00 \n",
            "\n",
            " 0.00  0.00  0.68  0.00  0.00  0.00  0.72  0.65  0.00 \n",
            "\n",
            " 0.00  0.00  0.79  0.00  0.00  0.72  0.00  0.69  0.00 \n",
            "\n",
            " 0.00  0.00  0.00  0.64  0.00  0.65  0.69  0.00  0.00 \n",
            "\n",
            " 0.40  0.00  0.00  0.00  0.80  0.00  0.00  0.00  0.00 \n",
            "\n",
            "\n",
            "fim da impressao do grafo.\n"
          ]
        }
      ],
      "source": [
        "g.showMin()"
      ]
    },
    {
      "cell_type": "markdown",
      "metadata": {
        "id": "hs6GqASM2JA2"
      },
      "source": [
        "## 9. Apresentar conexidade do grafo e o reduzido"
      ]
    },
    {
      "cell_type": "code",
      "execution_count": 757,
      "metadata": {
        "id": "sUTjaER52JA2"
      },
      "outputs": [],
      "source": []
    },
    {
      "cell_type": "markdown",
      "metadata": {
        "id": "7YNbDvEe2JA3"
      },
      "source": [
        "# Menu"
      ]
    },
    {
      "cell_type": "markdown",
      "source": [
        "## Código"
      ],
      "metadata": {
        "id": "XJqMmXW4Dx3P"
      }
    },
    {
      "cell_type": "code",
      "execution_count": 758,
      "metadata": {
        "collapsed": true,
        "id": "AdLQfMUkWbyX"
      },
      "outputs": [],
      "source": [
        "def menu():\n",
        "    memoria = Memory(chunking_strategy={\"mode\": \"sliding_window\", \"window_size\": 1, \"overlap\": 0})\n",
        "    fim = False\n",
        "\n",
        "    while(fim == False):\n",
        "        print(\n",
        "    '''\n",
        "    Menu:\n",
        "        1) Ler dados do arquivo\n",
        "        2) Gravar dados no arquivo grafo.txt\n",
        "        3) Inserir vértice\n",
        "        4) Inserir aresta\n",
        "        5) Remover vértice\n",
        "        6) Remover aresta\n",
        "        7) Exibir grafo\n",
        "        8) Exibir matriz\n",
        "        9) Apresentar a conexidade do grafo e o reduzido\n",
        "        10) Encerrar a aplicação\n",
        "        11) Buscar um índice pela palavra\n",
        "        12) Buscar uma palavra pelo índice\n",
        "    ''')\n",
        "        choice = int(input())\n",
        "        if choice == 1: # Cria grafo\n",
        "            dados = leArquivoHTTP('https://raw.githubusercontent.com/Cehiim/TeoriaDosGrafos/refs/heads/main/Projeto/palavras.txt')\n",
        "            #dados = leArquivo(\"palavras.txt\")\n",
        "            n_palavras = dados[0]\n",
        "            vertices = dados[1]\n",
        "            embedding(memoria, n_palavras, vertices)\n",
        "            grafo = integraGrafo(memoria, n_palavras, vertices)\n",
        "            print(\"Grafo criado com sucesso!\")\n",
        "\n",
        "        elif choice == 2: # Grava dados no arquivo .txt\n",
        "            try:\n",
        "                gravaDados(n_palavras, vertices)\n",
        "                print(\"Os dados foram salvos no arquivo 'grafo.txt'.\")\n",
        "            except NameError:\n",
        "                print(\"[Erro: Grafo não criado]\")\n",
        "\n",
        "        elif choice == 3: # Insere vértice\n",
        "            palavra = input(\"Palavra a ser inserida: \")\n",
        "            try:\n",
        "                insereVertice(grafo, n_palavras, vertices, palavra)\n",
        "                n_palavras += 1\n",
        "                print(\"Vértice inserido com sucesso!\")\n",
        "            except NameError:\n",
        "                print(\"[Erro: Grafo não criado]\")\n",
        "\n",
        "        elif choice == 4: # Insere aresta\n",
        "            try:\n",
        "                origem = int(input(\"Insira o índice de origem: \"))\n",
        "                destino = int(input(\"Insira o índice de destino: \"))\n",
        "                peso = float(input(\"Insira o peso: \"))\n",
        "                aresta = criaAresta(origem, destino)\n",
        "                insereAresta(grafo, n_palavras, vertices, aresta, peso)\n",
        "                print(\"Aresta inserida com sucesso!\")\n",
        "            except NameError:\n",
        "                print(\"[Erro: Grafo não criado]\")\n",
        "\n",
        "        elif choice == 5: # Remove vértice\n",
        "            try:\n",
        "                print(\"Vértice removido com sucesso!\")\n",
        "            except NameError:\n",
        "                print(\"[Erro: Grafo não criado]\")\n",
        "\n",
        "        elif choice == 6: # Remove aresta\n",
        "            try:\n",
        "                print(\"Aresta removida com sucesso!\")\n",
        "            except NameError:\n",
        "                print(\"[Erro: Grafo não criado]\")\n",
        "\n",
        "        elif choice == 7: # Exibe grafo\n",
        "            try:\n",
        "                imprimeGrafo(n_palavras, vertices)\n",
        "                print(\"O grafo visual foi criado no arquivo 'grafo.html'.\")\n",
        "            except NameError:\n",
        "                print(\"[Erro: Grafo não criado]\")\n",
        "\n",
        "        elif choice == 8: # Exibe matriz\n",
        "            try:\n",
        "                grafo.showMin()\n",
        "                print((\"\\nAperte ENTER para continuar \"))\n",
        "                ok = input()\n",
        "            except NameError:\n",
        "                print(\"[Erro: Grafo não criado]\")\n",
        "\n",
        "        elif choice == 9: # Apresenta a conexidade do grafo e grafo reduzido\n",
        "            try:\n",
        "                print(\"oi\")\n",
        "            except NameError:\n",
        "                print(\"[Erro: Grafo não criado]\")\n",
        "\n",
        "        elif choice == 10: # Encerra\n",
        "            fim = True\n",
        "            print(\"Encerrando programa...\")\n",
        "\n",
        "        elif choice == 11: # Busca um índice pela palavra\n",
        "            try:\n",
        "                palavra = input(\"Palavra a ser consultada: \")\n",
        "                indice = buscaIndice(n_palavras, vertices, palavra)\n",
        "                if(indice == -1):\n",
        "                    print(\"[Erro: palavra não encontrada]\")\n",
        "                else:\n",
        "                    print(f\"Índice de {palavra}: {indice}\")\n",
        "                    print((\"\\nAperte ENTER para continuar \"))\n",
        "                    ok = input()\n",
        "            except NameError:\n",
        "                print(\"[Erro: Grafo não criado]\")\n",
        "\n",
        "        elif choice == 12: # Busca um índice pela palavra\n",
        "            try:\n",
        "                indice = int(input(\"Índice a ser consultado: \"))\n",
        "                palavra = buscaPalavra(n_palavras, vertices, indice)\n",
        "                if(indice == -1):\n",
        "                    print(\"[Erro: palavra não encontrada]\")\n",
        "                else:\n",
        "                    print(f\"Palavra do índice {indice}: {palavra}\")\n",
        "                    print((\"\\nAperte ENTER para continuar \"))\n",
        "                    ok = input()\n",
        "            except NameError:\n",
        "                print(\"[Erro: Grafo não criado]\")\n",
        "\n",
        "        else:\n",
        "            print(\"Opção inválida.\")\n",
        "\n",
        "        time.sleep(1)\n",
        "        try:\n",
        "            from IPython.display import clear_output\n",
        "\n",
        "            clear_output(wait=True) # Limpa o terminal caso esteja no Google Colab\n",
        "\n",
        "        except ImportError:\n",
        "            if os.name == 'nt': # Limpa o terminal caso o OS seja Windows\n",
        "                os.system('cls')\n",
        "            else:\n",
        "                os.system('clear') # Limpa o terminal caso o OS seja Linux ou MacOS"
      ]
    },
    {
      "cell_type": "markdown",
      "source": [
        "## Aplicação"
      ],
      "metadata": {
        "id": "WhZxWel7D4uW"
      }
    },
    {
      "cell_type": "code",
      "source": [
        "menu()"
      ],
      "metadata": {
        "colab": {
          "base_uri": "https://localhost:8080/"
        },
        "collapsed": true,
        "id": "G9pdN9NSD_vR",
        "outputId": "a3fcc222-1c08-4f00-a673-b6cb7dda459e"
      },
      "execution_count": 759,
      "outputs": [
        {
          "output_type": "stream",
          "name": "stdout",
          "text": [
            "Initiliazing embeddings:  normal\n",
            "OK.\n",
            "\n",
            "    Menu:\n",
            "        1) Ler dados do arquivo\n",
            "        2) Gravar dados no arquivo grafo.txt\n",
            "        3) Inserir vértice\n",
            "        4) Inserir aresta\n",
            "        5) Remover vértice\n",
            "        6) Remover aresta\n",
            "        7) Exibir grafo\n",
            "        8) Exibir matriz\n",
            "        9) Apresentar a conexidade do grafo e o reduzido\n",
            "        10) Encerrar a aplicação\n",
            "        11) Buscar um índice pela palavra\n",
            "        12) Buscar uma palavra pelo índice\n",
            "    \n",
            "10\n",
            "Encerrando programa...\n"
          ]
        }
      ]
    }
  ],
  "metadata": {
    "colab": {
      "collapsed_sections": [
        "XYffMUNr2Ila",
        "f4Fd36vBfY_m",
        "jUL4VcKo2JAl",
        "g2sI3d7Qz7ck",
        "XMuxrf07kEw_",
        "mLOuJFjZ66pZ",
        "tykSWUsj65G_",
        "by7AfxYr5Wwg",
        "zWYODqQXiaGN",
        "TmqCgxE0isy5",
        "CGlKvBrCi3qp",
        "xvG7B29cjGjs",
        "0RbhmJRQjX7y",
        "D2GpxPLMjiC5",
        "uuinIkupjvJp",
        "nY8qxhFskHeU",
        "akYDFZCNkVNn",
        "2PeqvyNUkgfI",
        "5L5R6K1ak9y6",
        "8LyuaiqbGnQr",
        "FCn2z_GwGrMA",
        "OCilppoasxOJ",
        "WTHEWrEos1bx",
        "k-MC5QZ-s9fh",
        "fj8LIYV32JAo",
        "rsUUPVLa2JAs",
        "rcUaBUFE2JAs",
        "-8PvH4ed2JAt",
        "nMVke0Al2JAt",
        "cvUaJjZS2JAu",
        "4f8SKdKg2JAv",
        "kS8x6Fjd2JA2",
        "hs6GqASM2JA2",
        "XJqMmXW4Dx3P"
      ],
      "provenance": [],
      "include_colab_link": true
    },
    "kernelspec": {
      "display_name": "Python 3 (ipykernel)",
      "language": "python",
      "name": "python3"
    },
    "language_info": {
      "codemirror_mode": {
        "name": "ipython",
        "version": 3
      },
      "file_extension": ".py",
      "mimetype": "text/x-python",
      "name": "python",
      "nbconvert_exporter": "python",
      "pygments_lexer": "ipython3",
      "version": "3.10.11"
    }
  },
  "nbformat": 4,
  "nbformat_minor": 0
}