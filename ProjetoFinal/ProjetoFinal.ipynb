{
  "cells": [
    {
      "cell_type": "markdown",
      "metadata": {
        "id": "view-in-github",
        "colab_type": "text"
      },
      "source": [
        "<a href=\"https://colab.research.google.com/github/Cehiim/TeoriaDosGrafos/blob/main/ProjetoFinal/ProjetoFinal.ipynb\" target=\"_parent\"><img src=\"https://colab.research.google.com/assets/colab-badge.svg\" alt=\"Open In Colab\"/></a>"
      ]
    },
    {
      "cell_type": "markdown",
      "metadata": {
        "id": "XYffMUNr2Ila"
      },
      "source": [
        "# Informações gerais\n",
        "\n",
        "## Tema\n",
        "* Aplicação com busca semântica para representação de grafos.\n",
        "\n",
        "## Integrantes\n",
        "* Cesar Hideki Imai - 10402758.\n",
        "* João Victor Dallapé Madeira - 10400725.\n",
        "* David Varão Lima Bentes Pessoa - 10402647.\n",
        "* André Franco Ranieri - 10390470."
      ]
    },
    {
      "cell_type": "markdown",
      "metadata": {
        "id": "oX9e_J1rfR8k"
      },
      "source": [
        "# Setup"
      ]
    },
    {
      "cell_type": "markdown",
      "metadata": {
        "id": "f4Fd36vBfY_m"
      },
      "source": [
        "## Integração dos pacotes"
      ]
    },
    {
      "cell_type": "markdown",
      "metadata": {
        "id": "YI_J43xnrFIo"
      },
      "source": [
        "O pacote `vectordb2` é usado para armazenar e recuperar textos usando técnicas de *chunking* (segmentação de texto), *embedding* (conversão de texto para vetores numéricos) e busca vetorial.\n",
        "\n",
        "[Referência](https://vectordb.com/)"
      ]
    },
    {
      "cell_type": "code",
      "execution_count": 68,
      "metadata": {
        "colab": {
          "base_uri": "https://localhost:8080/"
        },
        "collapsed": true,
        "id": "yy3H5b34UlKV",
        "outputId": "20f20bcb-76ae-4cee-ecd2-1d980b3ab93c"
      },
      "outputs": [
        {
          "output_type": "stream",
          "name": "stdout",
          "text": [
            "Requirement already satisfied: vectordb2 in /usr/local/lib/python3.10/dist-packages (0.1.9)\n",
            "Requirement already satisfied: torch>=1.9.0 in /usr/local/lib/python3.10/dist-packages (from vectordb2) (2.5.0+cu121)\n",
            "Requirement already satisfied: transformers>=4.10.0 in /usr/local/lib/python3.10/dist-packages (from vectordb2) (4.44.2)\n",
            "Requirement already satisfied: numpy>=1.21.0 in /usr/local/lib/python3.10/dist-packages (from vectordb2) (1.26.4)\n",
            "Requirement already satisfied: scikit-learn>=0.24.0 in /usr/local/lib/python3.10/dist-packages (from vectordb2) (1.5.2)\n",
            "Requirement already satisfied: scipy>=1.7.0 in /usr/local/lib/python3.10/dist-packages (from vectordb2) (1.13.1)\n",
            "Requirement already satisfied: sentence-transformers in /usr/local/lib/python3.10/dist-packages (from vectordb2) (3.2.1)\n",
            "Requirement already satisfied: faiss-cpu in /usr/local/lib/python3.10/dist-packages (from vectordb2) (1.9.0)\n",
            "Requirement already satisfied: tensorflow-text in /usr/local/lib/python3.10/dist-packages (from vectordb2) (2.18.0)\n",
            "Requirement already satisfied: joblib>=1.2.0 in /usr/local/lib/python3.10/dist-packages (from scikit-learn>=0.24.0->vectordb2) (1.4.2)\n",
            "Requirement already satisfied: threadpoolctl>=3.1.0 in /usr/local/lib/python3.10/dist-packages (from scikit-learn>=0.24.0->vectordb2) (3.5.0)\n",
            "Requirement already satisfied: filelock in /usr/local/lib/python3.10/dist-packages (from torch>=1.9.0->vectordb2) (3.16.1)\n",
            "Requirement already satisfied: typing-extensions>=4.8.0 in /usr/local/lib/python3.10/dist-packages (from torch>=1.9.0->vectordb2) (4.12.2)\n",
            "Requirement already satisfied: networkx in /usr/local/lib/python3.10/dist-packages (from torch>=1.9.0->vectordb2) (3.4.2)\n",
            "Requirement already satisfied: jinja2 in /usr/local/lib/python3.10/dist-packages (from torch>=1.9.0->vectordb2) (3.1.4)\n",
            "Requirement already satisfied: fsspec in /usr/local/lib/python3.10/dist-packages (from torch>=1.9.0->vectordb2) (2024.10.0)\n",
            "Requirement already satisfied: sympy==1.13.1 in /usr/local/lib/python3.10/dist-packages (from torch>=1.9.0->vectordb2) (1.13.1)\n",
            "Requirement already satisfied: mpmath<1.4,>=1.1.0 in /usr/local/lib/python3.10/dist-packages (from sympy==1.13.1->torch>=1.9.0->vectordb2) (1.3.0)\n",
            "Requirement already satisfied: huggingface-hub<1.0,>=0.23.2 in /usr/local/lib/python3.10/dist-packages (from transformers>=4.10.0->vectordb2) (0.24.7)\n",
            "Requirement already satisfied: packaging>=20.0 in /usr/local/lib/python3.10/dist-packages (from transformers>=4.10.0->vectordb2) (24.1)\n",
            "Requirement already satisfied: pyyaml>=5.1 in /usr/local/lib/python3.10/dist-packages (from transformers>=4.10.0->vectordb2) (6.0.2)\n",
            "Requirement already satisfied: regex!=2019.12.17 in /usr/local/lib/python3.10/dist-packages (from transformers>=4.10.0->vectordb2) (2024.9.11)\n",
            "Requirement already satisfied: requests in /usr/local/lib/python3.10/dist-packages (from transformers>=4.10.0->vectordb2) (2.32.3)\n",
            "Requirement already satisfied: safetensors>=0.4.1 in /usr/local/lib/python3.10/dist-packages (from transformers>=4.10.0->vectordb2) (0.4.5)\n",
            "Requirement already satisfied: tokenizers<0.20,>=0.19 in /usr/local/lib/python3.10/dist-packages (from transformers>=4.10.0->vectordb2) (0.19.1)\n",
            "Requirement already satisfied: tqdm>=4.27 in /usr/local/lib/python3.10/dist-packages (from transformers>=4.10.0->vectordb2) (4.66.6)\n",
            "Requirement already satisfied: Pillow in /usr/local/lib/python3.10/dist-packages (from sentence-transformers->vectordb2) (10.4.0)\n",
            "Requirement already satisfied: tensorflow<2.19,>=2.18.0 in /usr/local/lib/python3.10/dist-packages (from tensorflow-text->vectordb2) (2.18.0)\n",
            "Requirement already satisfied: absl-py>=1.0.0 in /usr/local/lib/python3.10/dist-packages (from tensorflow<2.19,>=2.18.0->tensorflow-text->vectordb2) (1.4.0)\n",
            "Requirement already satisfied: astunparse>=1.6.0 in /usr/local/lib/python3.10/dist-packages (from tensorflow<2.19,>=2.18.0->tensorflow-text->vectordb2) (1.6.3)\n",
            "Requirement already satisfied: flatbuffers>=24.3.25 in /usr/local/lib/python3.10/dist-packages (from tensorflow<2.19,>=2.18.0->tensorflow-text->vectordb2) (24.3.25)\n",
            "Requirement already satisfied: gast!=0.5.0,!=0.5.1,!=0.5.2,>=0.2.1 in /usr/local/lib/python3.10/dist-packages (from tensorflow<2.19,>=2.18.0->tensorflow-text->vectordb2) (0.6.0)\n",
            "Requirement already satisfied: google-pasta>=0.1.1 in /usr/local/lib/python3.10/dist-packages (from tensorflow<2.19,>=2.18.0->tensorflow-text->vectordb2) (0.2.0)\n",
            "Requirement already satisfied: libclang>=13.0.0 in /usr/local/lib/python3.10/dist-packages (from tensorflow<2.19,>=2.18.0->tensorflow-text->vectordb2) (18.1.1)\n",
            "Requirement already satisfied: opt-einsum>=2.3.2 in /usr/local/lib/python3.10/dist-packages (from tensorflow<2.19,>=2.18.0->tensorflow-text->vectordb2) (3.4.0)\n",
            "Requirement already satisfied: protobuf!=4.21.0,!=4.21.1,!=4.21.2,!=4.21.3,!=4.21.4,!=4.21.5,<6.0.0dev,>=3.20.3 in /usr/local/lib/python3.10/dist-packages (from tensorflow<2.19,>=2.18.0->tensorflow-text->vectordb2) (3.20.3)\n",
            "Requirement already satisfied: setuptools in /usr/local/lib/python3.10/dist-packages (from tensorflow<2.19,>=2.18.0->tensorflow-text->vectordb2) (75.1.0)\n",
            "Requirement already satisfied: six>=1.12.0 in /usr/local/lib/python3.10/dist-packages (from tensorflow<2.19,>=2.18.0->tensorflow-text->vectordb2) (1.16.0)\n",
            "Requirement already satisfied: termcolor>=1.1.0 in /usr/local/lib/python3.10/dist-packages (from tensorflow<2.19,>=2.18.0->tensorflow-text->vectordb2) (2.5.0)\n",
            "Requirement already satisfied: wrapt>=1.11.0 in /usr/local/lib/python3.10/dist-packages (from tensorflow<2.19,>=2.18.0->tensorflow-text->vectordb2) (1.16.0)\n",
            "Requirement already satisfied: grpcio<2.0,>=1.24.3 in /usr/local/lib/python3.10/dist-packages (from tensorflow<2.19,>=2.18.0->tensorflow-text->vectordb2) (1.64.1)\n",
            "Requirement already satisfied: tensorboard<2.19,>=2.18 in /usr/local/lib/python3.10/dist-packages (from tensorflow<2.19,>=2.18.0->tensorflow-text->vectordb2) (2.18.0)\n",
            "Requirement already satisfied: keras>=3.5.0 in /usr/local/lib/python3.10/dist-packages (from tensorflow<2.19,>=2.18.0->tensorflow-text->vectordb2) (3.6.0)\n",
            "Requirement already satisfied: h5py>=3.11.0 in /usr/local/lib/python3.10/dist-packages (from tensorflow<2.19,>=2.18.0->tensorflow-text->vectordb2) (3.12.1)\n",
            "Requirement already satisfied: ml-dtypes<0.5.0,>=0.4.0 in /usr/local/lib/python3.10/dist-packages (from tensorflow<2.19,>=2.18.0->tensorflow-text->vectordb2) (0.4.1)\n",
            "Requirement already satisfied: tensorflow-io-gcs-filesystem>=0.23.1 in /usr/local/lib/python3.10/dist-packages (from tensorflow<2.19,>=2.18.0->tensorflow-text->vectordb2) (0.37.1)\n",
            "Requirement already satisfied: charset-normalizer<4,>=2 in /usr/local/lib/python3.10/dist-packages (from requests->transformers>=4.10.0->vectordb2) (3.4.0)\n",
            "Requirement already satisfied: idna<4,>=2.5 in /usr/local/lib/python3.10/dist-packages (from requests->transformers>=4.10.0->vectordb2) (3.10)\n",
            "Requirement already satisfied: urllib3<3,>=1.21.1 in /usr/local/lib/python3.10/dist-packages (from requests->transformers>=4.10.0->vectordb2) (2.2.3)\n",
            "Requirement already satisfied: certifi>=2017.4.17 in /usr/local/lib/python3.10/dist-packages (from requests->transformers>=4.10.0->vectordb2) (2024.8.30)\n",
            "Requirement already satisfied: MarkupSafe>=2.0 in /usr/local/lib/python3.10/dist-packages (from jinja2->torch>=1.9.0->vectordb2) (3.0.2)\n",
            "Requirement already satisfied: wheel<1.0,>=0.23.0 in /usr/local/lib/python3.10/dist-packages (from astunparse>=1.6.0->tensorflow<2.19,>=2.18.0->tensorflow-text->vectordb2) (0.44.0)\n",
            "Requirement already satisfied: rich in /usr/local/lib/python3.10/dist-packages (from keras>=3.5.0->tensorflow<2.19,>=2.18.0->tensorflow-text->vectordb2) (13.9.3)\n",
            "Requirement already satisfied: namex in /usr/local/lib/python3.10/dist-packages (from keras>=3.5.0->tensorflow<2.19,>=2.18.0->tensorflow-text->vectordb2) (0.0.8)\n",
            "Requirement already satisfied: optree in /usr/local/lib/python3.10/dist-packages (from keras>=3.5.0->tensorflow<2.19,>=2.18.0->tensorflow-text->vectordb2) (0.13.0)\n",
            "Requirement already satisfied: markdown>=2.6.8 in /usr/local/lib/python3.10/dist-packages (from tensorboard<2.19,>=2.18->tensorflow<2.19,>=2.18.0->tensorflow-text->vectordb2) (3.7)\n",
            "Requirement already satisfied: tensorboard-data-server<0.8.0,>=0.7.0 in /usr/local/lib/python3.10/dist-packages (from tensorboard<2.19,>=2.18->tensorflow<2.19,>=2.18.0->tensorflow-text->vectordb2) (0.7.2)\n",
            "Requirement already satisfied: werkzeug>=1.0.1 in /usr/local/lib/python3.10/dist-packages (from tensorboard<2.19,>=2.18->tensorflow<2.19,>=2.18.0->tensorflow-text->vectordb2) (3.0.6)\n",
            "Requirement already satisfied: markdown-it-py>=2.2.0 in /usr/local/lib/python3.10/dist-packages (from rich->keras>=3.5.0->tensorflow<2.19,>=2.18.0->tensorflow-text->vectordb2) (3.0.0)\n",
            "Requirement already satisfied: pygments<3.0.0,>=2.13.0 in /usr/local/lib/python3.10/dist-packages (from rich->keras>=3.5.0->tensorflow<2.19,>=2.18.0->tensorflow-text->vectordb2) (2.18.0)\n",
            "Requirement already satisfied: mdurl~=0.1 in /usr/local/lib/python3.10/dist-packages (from markdown-it-py>=2.2.0->rich->keras>=3.5.0->tensorflow<2.19,>=2.18.0->tensorflow-text->vectordb2) (0.1.2)\n"
          ]
        }
      ],
      "source": [
        "%pip install vectordb2"
      ]
    },
    {
      "cell_type": "markdown",
      "metadata": {
        "id": "WZDIGMyXB04o"
      },
      "source": [
        "O pacote `requests` é ser usado para recuperar o arquivo por meio de requisição em HTTP."
      ]
    },
    {
      "cell_type": "code",
      "execution_count": 69,
      "metadata": {
        "colab": {
          "base_uri": "https://localhost:8080/"
        },
        "collapsed": true,
        "id": "FucP-UzdB1B3",
        "outputId": "e7b67e3f-679a-4ae2-f4cc-c62804adcd01"
      },
      "outputs": [
        {
          "output_type": "stream",
          "name": "stdout",
          "text": [
            "Requirement already satisfied: requests in /usr/local/lib/python3.10/dist-packages (2.32.3)\n",
            "Requirement already satisfied: charset-normalizer<4,>=2 in /usr/local/lib/python3.10/dist-packages (from requests) (3.4.0)\n",
            "Requirement already satisfied: idna<4,>=2.5 in /usr/local/lib/python3.10/dist-packages (from requests) (3.10)\n",
            "Requirement already satisfied: urllib3<3,>=1.21.1 in /usr/local/lib/python3.10/dist-packages (from requests) (2.2.3)\n",
            "Requirement already satisfied: certifi>=2017.4.17 in /usr/local/lib/python3.10/dist-packages (from requests) (2024.8.30)\n"
          ]
        }
      ],
      "source": [
        "%pip install requests"
      ]
    },
    {
      "cell_type": "markdown",
      "metadata": {
        "id": "CJARvWmDyVVU"
      },
      "source": [
        "O pacote `network pyvis` é usado para criar uma visualização interativa de grafos.\n",
        "\n",
        "[Referência](https://pyvis.readthedocs.io/en/latest/documentation.html)"
      ]
    },
    {
      "cell_type": "code",
      "execution_count": 70,
      "metadata": {
        "colab": {
          "base_uri": "https://localhost:8080/"
        },
        "collapsed": true,
        "id": "8TlOa8gVyTsq",
        "outputId": "8b47a24a-bec5-4343-9af8-bac57807c1ea"
      },
      "outputs": [
        {
          "output_type": "stream",
          "name": "stdout",
          "text": [
            "Requirement already satisfied: networkx in /usr/local/lib/python3.10/dist-packages (3.4.2)\n",
            "Requirement already satisfied: pyvis in /usr/local/lib/python3.10/dist-packages (0.3.2)\n",
            "Requirement already satisfied: ipython>=5.3.0 in /usr/local/lib/python3.10/dist-packages (from pyvis) (7.34.0)\n",
            "Requirement already satisfied: jinja2>=2.9.6 in /usr/local/lib/python3.10/dist-packages (from pyvis) (3.1.4)\n",
            "Requirement already satisfied: jsonpickle>=1.4.1 in /usr/local/lib/python3.10/dist-packages (from pyvis) (3.3.0)\n",
            "Requirement already satisfied: setuptools>=18.5 in /usr/local/lib/python3.10/dist-packages (from ipython>=5.3.0->pyvis) (75.1.0)\n",
            "Requirement already satisfied: jedi>=0.16 in /usr/local/lib/python3.10/dist-packages (from ipython>=5.3.0->pyvis) (0.19.1)\n",
            "Requirement already satisfied: decorator in /usr/local/lib/python3.10/dist-packages (from ipython>=5.3.0->pyvis) (4.4.2)\n",
            "Requirement already satisfied: pickleshare in /usr/local/lib/python3.10/dist-packages (from ipython>=5.3.0->pyvis) (0.7.5)\n",
            "Requirement already satisfied: traitlets>=4.2 in /usr/local/lib/python3.10/dist-packages (from ipython>=5.3.0->pyvis) (5.7.1)\n",
            "Requirement already satisfied: prompt-toolkit!=3.0.0,!=3.0.1,<3.1.0,>=2.0.0 in /usr/local/lib/python3.10/dist-packages (from ipython>=5.3.0->pyvis) (3.0.48)\n",
            "Requirement already satisfied: pygments in /usr/local/lib/python3.10/dist-packages (from ipython>=5.3.0->pyvis) (2.18.0)\n",
            "Requirement already satisfied: backcall in /usr/local/lib/python3.10/dist-packages (from ipython>=5.3.0->pyvis) (0.2.0)\n",
            "Requirement already satisfied: matplotlib-inline in /usr/local/lib/python3.10/dist-packages (from ipython>=5.3.0->pyvis) (0.1.7)\n",
            "Requirement already satisfied: pexpect>4.3 in /usr/local/lib/python3.10/dist-packages (from ipython>=5.3.0->pyvis) (4.9.0)\n",
            "Requirement already satisfied: MarkupSafe>=2.0 in /usr/local/lib/python3.10/dist-packages (from jinja2>=2.9.6->pyvis) (3.0.2)\n",
            "Requirement already satisfied: parso<0.9.0,>=0.8.3 in /usr/local/lib/python3.10/dist-packages (from jedi>=0.16->ipython>=5.3.0->pyvis) (0.8.4)\n",
            "Requirement already satisfied: ptyprocess>=0.5 in /usr/local/lib/python3.10/dist-packages (from pexpect>4.3->ipython>=5.3.0->pyvis) (0.7.0)\n",
            "Requirement already satisfied: wcwidth in /usr/local/lib/python3.10/dist-packages (from prompt-toolkit!=3.0.0,!=3.0.1,<3.1.0,>=2.0.0->ipython>=5.3.0->pyvis) (0.2.13)\n"
          ]
        }
      ],
      "source": [
        "%pip install networkx pyvis"
      ]
    },
    {
      "cell_type": "markdown",
      "metadata": {
        "id": "DjtCEtpOCxs2"
      },
      "source": [
        "## Importação das bibliotecas"
      ]
    },
    {
      "cell_type": "code",
      "execution_count": 71,
      "metadata": {
        "id": "DA_HyrBKC6J0"
      },
      "outputs": [],
      "source": [
        "from vectordb import Memory\n",
        "import requests\n",
        "from pyvis.network import Network\n",
        "import os # Será usado métodos para limpar o terminal para atualizar a interface em cada iteração do sistema\n",
        "import time # Será usado método de espera para atualizar a interface gradualmente\n",
        "from ipywidgets import widgets # Será usado para criar interfaces de usuário interativas com widgets\n",
        "from IPython.display import display, clear_output #Será usado para mostrar interações visuais de maneira mais sofisticada"
      ]
    },
    {
      "cell_type": "markdown",
      "metadata": {
        "id": "g2sI3d7Qz7ck"
      },
      "source": [
        "## Classe GrafoNDR"
      ]
    },
    {
      "cell_type": "code",
      "execution_count": 72,
      "metadata": {
        "id": "F1sOCb5P0ITt"
      },
      "outputs": [],
      "source": [
        "# Grafo como uma matriz de adjacência não-direcionado rotulado\n",
        "class GrafoNDR(): # Ex 8\n",
        "    TAM_MAX_DEFAULT = 100 # qtde de vértices máxima default\n",
        "    # construtor da classe grafo\n",
        "    def __init__(self, n=TAM_MAX_DEFAULT):\n",
        "        self.n = n # número de vértices\n",
        "        self.m = 0 # número de arestas\n",
        "        # matriz de adjacência\n",
        "        self.adj = [[0 for i in range(n)] for j in range(n)]\n",
        "\n",
        "    def insereA(self, v, w, p):\n",
        "        if(v == w):\n",
        "            return\n",
        "        if self.adj[v][w] == 0:\n",
        "            self.adj[v][w] = p\n",
        "            self.adj[w][v] = p\n",
        "            self.m += 1  # atualiza qtd arestas\n",
        "\n",
        "# remove uma aresta v->w do Grafo\n",
        "    def removeA(self, v, w):\n",
        "        if(v == w):\n",
        "            return\n",
        "        # testa se temos a aresta\n",
        "        if self.adj[v][w] != 0:\n",
        "            self.adj[v][w] = 0\n",
        "            self.adj[w][v] = 0\n",
        "            self.m -= 1  # atualiza qtd arestas\n",
        "\n",
        "    def show(self):\n",
        "        print(f\"\\n n: {self.n:2d} \", end=\"\")\n",
        "        print(f\"m: {self.m:2d}\\n\")\n",
        "        for i in range(self.n):\n",
        "            for w in range(self.n):\n",
        "                print(f\"Adj[{i:2d},{w:2d}] = {self.adj[i][w]:.2f} \", end=\"\")\n",
        "            print(\"\\n\")\n",
        "        print(\"\\nfim da impressao do grafo.\" )\n",
        "\n",
        "\n",
        "\t# Apresenta o Grafo contendo\n",
        "\t# número de vértices, arestas\n",
        "\t# e a matriz de adjacência obtida\n",
        "    # Apresentando apenas os valores 0 ou 1\n",
        "    def showMin(self):\n",
        "        print(f\"\\n n: {self.n:2d} \", end=\"\")\n",
        "        print(f\"m: {self.m:2d}\\n\")\n",
        "        for i in range(self.n):\n",
        "            for w in range(self.n):\n",
        "                print(f\" {self.adj[i][w]:.2f} \", end=\"\")\n",
        "            print(\"\\n\")\n",
        "        print(\"\\nfim da impressao do grafo.\" )\n",
        "\n",
        "    def insereV(self):\n",
        "        for i in range(self.n):\n",
        "            self.adj[i].append(0)\n",
        "        self.n += 1\n",
        "        self.adj.append([0]*self.n)\n",
        "\n",
        "    def removeV(self, vertice):\n",
        "        if(vertice >= self.n or vertice < 0):\n",
        "            return False\n",
        "        for i in range(self.n):\n",
        "            if(i == vertice):\n",
        "                for j in range(self.n):\n",
        "                    self.removeA(vertice, j) # Exclui arestas fantasmas\n",
        "            self.removeA(i,vertice)\n",
        "            if(i >= vertice and i != self.n-1): # Substitui as conexões do vértice a ser retirado e\n",
        "                              # os vértices posteriores a ele com as conexões do próximo vértice\n",
        "                self.adj[i] = self.adj[i+1]\n",
        "            self.adj[i].pop(vertice) # Remove o vértice escolhido da linha da matriz\n",
        "        self.adj.pop() # Remove a última linha da matriz\n",
        "        self.n -= 1\n",
        "        return True\n",
        "\n",
        "    def dfs(self, visitados, vertice): # Depth First Search\n",
        "        visitados[vertice] = True\n",
        "        for i in range(self.n):\n",
        "            if(self.adj[vertice][i] != 0 and visitados[i] == False): # Caso haja acesso para um próximo vértice que não foi visitado\n",
        "                self.dfs(visitados, i)\n",
        "\n",
        "    def conexidade(self):\n",
        "        for i in range(self.n):\n",
        "            visitados = [False] * self.n\n",
        "            self.dfs(visitados, i)\n",
        "            if(all(visitados)): # Caso todos tenham sido visitados\n",
        "                return True\n",
        "        return False"
      ]
    },
    {
      "cell_type": "markdown",
      "metadata": {
        "id": "zWYODqQXiaGN"
      },
      "source": [
        "## Funções auxiliares"
      ]
    },
    {
      "cell_type": "markdown",
      "metadata": {
        "id": "TmqCgxE0isy5"
      },
      "source": [
        "### Cria vértice"
      ]
    },
    {
      "cell_type": "code",
      "execution_count": 73,
      "metadata": {
        "id": "TAiwXMCqirUg"
      },
      "outputs": [],
      "source": [
        "def criaVertice(palavra, indice):\n",
        "  vertice = {\n",
        "      \"palavra\": palavra, # Recupera cada palavra e tira o \"\\n\"\n",
        "      \"indice\": indice,\n",
        "      \"n_vizinhos\": 0,\n",
        "      \"proximos\": []\n",
        "  }\n",
        "  return vertice"
      ]
    },
    {
      "cell_type": "markdown",
      "metadata": {
        "id": "CGlKvBrCi3qp"
      },
      "source": [
        "### Lê arquivo"
      ]
    },
    {
      "cell_type": "markdown",
      "metadata": {
        "id": "sL9fnr6ni8iH"
      },
      "source": [
        "Os dados do documento são importados e guardados na variável `dados`."
      ]
    },
    {
      "cell_type": "code",
      "execution_count": 74,
      "metadata": {
        "id": "4nEo6zd1i6D5"
      },
      "outputs": [],
      "source": [
        "def leArquivoHTTP(url):\n",
        "  arquivo = requests.get(url).text\n",
        "\n",
        "  lista = arquivo.split() # Distribui cada elemento do arquivo numa lista\n",
        "  n_palavras = int(lista.pop(0)) # Separa o número de palavras (primeira linha do arquivo)\n",
        "  vertices = []\n",
        "  for i in range(n_palavras):\n",
        "    vertice = criaVertice(lista[i], i)\n",
        "    vertices.append(vertice)\n",
        "\n",
        "  dados = [n_palavras]\n",
        "  dados.append(vertices)\n",
        "\n",
        "  return dados"
      ]
    },
    {
      "cell_type": "code",
      "execution_count": 75,
      "metadata": {
        "id": "Md6it9mdjAlL"
      },
      "outputs": [],
      "source": [
        "def leArquivo(origem):\n",
        "  try:\n",
        "    with open(origem, 'r', encoding='utf-8') as arquivo:\n",
        "      n_palavras = int(arquivo.readline()) # Recupera o número de palavras (primeira linha do arquivo)\n",
        "\n",
        "      vertices = []\n",
        "      for i in range(n_palavras):\n",
        "        vertice = criaVertice(arquivo.readline().strip(), i)\n",
        "        vertices.append(vertice)\n",
        "\n",
        "    dados = [n_palavras]\n",
        "    dados.append(vertices)\n",
        "\n",
        "    return dados\n",
        "\n",
        "  except FileNotFoundError:\n",
        "      print(\"[Erro: Arquivo não encontrado]\")"
      ]
    },
    {
      "cell_type": "markdown",
      "metadata": {
        "id": "xvG7B29cjGjs"
      },
      "source": [
        "### Embedding"
      ]
    },
    {
      "cell_type": "markdown",
      "metadata": {
        "id": "edfR0j4ojLiV"
      },
      "source": [
        "Cada palavra é convertida para um vetor numérico e guardada na memória."
      ]
    },
    {
      "cell_type": "code",
      "execution_count": 76,
      "metadata": {
        "id": "eC-dinSyjKEn"
      },
      "outputs": [],
      "source": [
        "def embedding(memoria, n_palavras, vertices): # Método para fazer o embedding e inserção na memória de todas as palavras\n",
        "  for i in range(n_palavras):\n",
        "    memoria.save(vertices[i][\"palavra\"])"
      ]
    },
    {
      "cell_type": "markdown",
      "metadata": {
        "id": "0RbhmJRQjX7y"
      },
      "source": [
        "### Busca vetorial"
      ]
    },
    {
      "cell_type": "markdown",
      "metadata": {
        "id": "II8guSv1jZ78"
      },
      "source": [
        "Quanto menor é a distância, maior é a proximidade semântica."
      ]
    },
    {
      "cell_type": "code",
      "execution_count": 77,
      "metadata": {
        "id": "d8YlAteUjdEg"
      },
      "outputs": [],
      "source": [
        "def buscaVetorial(memoria, palavra): # Método para retornar os quatro elementos com maior proximidade semântica de uma palavra\n",
        "  busca = memoria.search(palavra, top_n=4)\n",
        "  return busca"
      ]
    },
    {
      "cell_type": "markdown",
      "metadata": {
        "id": "D2GpxPLMjiC5"
      },
      "source": [
        "### Busca índice"
      ]
    },
    {
      "cell_type": "markdown",
      "metadata": {
        "id": "e_H47lOpjlcg"
      },
      "source": [
        "Busca um índice através da palavra dentro da lista de vértices."
      ]
    },
    {
      "cell_type": "code",
      "execution_count": 78,
      "metadata": {
        "id": "CJ8GGcW8jjjV"
      },
      "outputs": [],
      "source": [
        "def buscaIndice(n_palavras, vertices, palavra):\n",
        "  for i in range(n_palavras):\n",
        "    if(vertices[i][\"palavra\"] == palavra):\n",
        "      return vertices[i][\"indice\"]\n",
        "  return -1"
      ]
    },
    {
      "cell_type": "markdown",
      "metadata": {
        "id": "uuinIkupjvJp"
      },
      "source": [
        "### Busca palavra"
      ]
    },
    {
      "cell_type": "markdown",
      "metadata": {
        "id": "UMZ4XLBujxKn"
      },
      "source": [
        "Busca uma palavra através do índice dentro da lista de vértices."
      ]
    },
    {
      "cell_type": "code",
      "execution_count": 79,
      "metadata": {
        "id": "LBj18pbljxeq"
      },
      "outputs": [],
      "source": [
        "def buscaPalavra(n_palavras, vertices, indice):\n",
        "  if(indice >= n_palavras or indice < 0):\n",
        "    return \"[Erro: índice inválido]\"\n",
        "  for i in range(n_palavras):\n",
        "    if(vertices[i][\"indice\"] == indice):\n",
        "      return vertices[i][\"palavra\"]\n",
        "  return \"[Erro: índice não encontrado]\""
      ]
    },
    {
      "cell_type": "markdown",
      "metadata": {
        "id": "nY8qxhFskHeU"
      },
      "source": [
        "### Cria vizinho"
      ]
    },
    {
      "cell_type": "code",
      "execution_count": 80,
      "metadata": {
        "id": "GG8eGVgxkJlr"
      },
      "outputs": [],
      "source": [
        "def criaVizinho(palavra, indice, distancia):\n",
        "  proximo = {\n",
        "      \"vizinho\": palavra,\n",
        "      \"indice\": indice,\n",
        "      \"distancia\": distancia\n",
        "  }\n",
        "  return proximo"
      ]
    },
    {
      "cell_type": "markdown",
      "metadata": {
        "id": "akYDFZCNkVNn"
      },
      "source": [
        "### Integra grafo"
      ]
    },
    {
      "cell_type": "markdown",
      "metadata": {
        "id": "a1pMlLG1kZjo"
      },
      "source": [
        "A palavra mais próxima armazenada na memória é ela mesma, portanto para encontrar as outras três palavras mais próximas foram recuperadas as palavras de índice 1 até 4."
      ]
    },
    {
      "cell_type": "code",
      "execution_count": 81,
      "metadata": {
        "id": "cDCMxOBHkWsz"
      },
      "outputs": [],
      "source": [
        "def integraGrafo(memoria, n_palavras, vertices):\n",
        "  grafo = GrafoNDR(n_palavras) # Cria um grafo rotulado\n",
        "  for i in range(n_palavras):\n",
        "    busca = buscaVetorial(memoria, vertices[i][\"palavra\"])\n",
        "    proximos = []\n",
        "    for j in range(1,4):\n",
        "      palavra = busca[j]['chunk']\n",
        "      distancia = busca[j]['distance']\n",
        "      proximo = criaVizinho(palavra, buscaIndice(n_palavras, vertices, palavra), distancia)\n",
        "      proximos.append(proximo)\n",
        "      vertices[i][\"n_vizinhos\"] += 1\n",
        "      grafo.insereA(vertices[i][\"indice\"], proximo[\"indice\"], proximo[\"distancia\"])\n",
        "    vertices[i][\"proximos\"] = proximos\n",
        "  return grafo"
      ]
    },
    {
      "cell_type": "markdown",
      "metadata": {
        "id": "2PeqvyNUkgfI"
      },
      "source": [
        "### Grava dados"
      ]
    },
    {
      "cell_type": "code",
      "execution_count": 82,
      "metadata": {
        "id": "10rSV0ahkjeI"
      },
      "outputs": [],
      "source": [
        "def gravaDados(n_palavras, vertices):\n",
        "  with open(\"grafo.txt\", \"w\") as arquivo:\n",
        "    for i in range(n_palavras):\n",
        "      palavra = vertices[i][\"palavra\"]\n",
        "      arquivo.write(palavra+\"\\n\")"
      ]
    },
    {
      "cell_type": "markdown",
      "metadata": {
        "id": "5L5R6K1ak9y6"
      },
      "source": [
        "### Insere vértice"
      ]
    },
    {
      "cell_type": "code",
      "execution_count": 83,
      "metadata": {
        "id": "KDtRcWq_k_bV"
      },
      "outputs": [],
      "source": [
        "def insereVertice(grafo, n_palavras, vertices, palavra):\n",
        "  if(buscaIndice(n_palavras, vertices, palavra) == -1):\n",
        "    grafo.insereV()\n",
        "    vertices.append(criaVertice(palavra, n_palavras))\n",
        "  else:\n",
        "    print(\"[Erro: Palavra já existe]\")"
      ]
    },
    {
      "cell_type": "markdown",
      "metadata": {
        "id": "OCilppoasxOJ"
      },
      "source": [
        "### Cria aresta"
      ]
    },
    {
      "cell_type": "code",
      "execution_count": 84,
      "metadata": {
        "id": "JutVUDz5s0tg"
      },
      "outputs": [],
      "source": [
        "def criaAresta(origem, destino):\n",
        "  aresta = [0] * 2\n",
        "  aresta[0] = origem\n",
        "  aresta[1] = destino\n",
        "  return aresta"
      ]
    },
    {
      "cell_type": "markdown",
      "metadata": {
        "id": "WTHEWrEos1bx"
      },
      "source": [
        "### Busca vizinho"
      ]
    },
    {
      "cell_type": "code",
      "execution_count": 85,
      "metadata": {
        "id": "FdWfskq3s5AC"
      },
      "outputs": [],
      "source": [
        "def buscaVizinho(n_vizinhos, vizinhos, indice):\n",
        "  for i in range(n_vizinhos):\n",
        "    if(vizinhos[i][\"indice\"] == indice):\n",
        "      return i\n",
        "  return -1"
      ]
    },
    {
      "cell_type": "markdown",
      "metadata": {
        "id": "k-MC5QZ-s9fh"
      },
      "source": [
        "### Insere aresta"
      ]
    },
    {
      "cell_type": "code",
      "execution_count": 86,
      "metadata": {
        "id": "SF5ki2ems-xS"
      },
      "outputs": [],
      "source": [
        "def insereAresta(grafo, n_palavras, vertices, aresta, peso):\n",
        "  origem = aresta[0]\n",
        "  destino = aresta[1]\n",
        "  if(origem >= n_palavras or origem < 0):\n",
        "    print(\"[Erro: origem não existe]\")\n",
        "\n",
        "  elif(destino >= n_palavras or destino < 0):\n",
        "    print(\"[Erro: destino não existe]\")\n",
        "\n",
        "  else:\n",
        "    n_vizinhos = vertices[origem][\"n_vizinhos\"]\n",
        "    vizinhos = vertices[origem][\"proximos\"]\n",
        "\n",
        "    if(buscaVizinho(n_vizinhos, vizinhos, destino) != -1):\n",
        "      print(\"[Erro: aresta já existe]\")\n",
        "\n",
        "    else:\n",
        "      grafo.insereA(origem, destino, peso)\n",
        "      palavra_destino = buscaPalavra(n_palavras, vertices, destino)\n",
        "      vertices[origem][\"proximos\"].append(criaVizinho(palavra_destino, destino, peso))\n",
        "      vertices[origem][\"n_vizinhos\"] += 1"
      ]
    },
    {
      "cell_type": "markdown",
      "metadata": {
        "id": "m4zLz70nNLil"
      },
      "source": [
        "### Remove aresta"
      ]
    },
    {
      "cell_type": "code",
      "execution_count": 87,
      "metadata": {
        "id": "7WlXNaVzNNAs"
      },
      "outputs": [],
      "source": [
        "def removeAresta(grafo, n_palavras, vertices, aresta):\n",
        "  origem = aresta[0]\n",
        "  destino = aresta[1]\n",
        "  if(origem >= n_palavras or origem < 0):\n",
        "    print(\"[Erro: origem não existe]\")\n",
        "\n",
        "  elif(destino >= n_palavras or destino < 0):\n",
        "    print(\"[Erro: destino não existe]\")\n",
        "\n",
        "  else:\n",
        "    n_vizinhos = vertices[origem][\"n_vizinhos\"]\n",
        "    vizinhos = vertices[origem][\"proximos\"]\n",
        "    posicao = buscaVizinho(n_vizinhos, vizinhos, destino)\n",
        "    if(posicao == -1):\n",
        "      print(\"[Erro: aresta não existe]\")\n",
        "\n",
        "    else:\n",
        "      grafo.removeA(origem, destino)\n",
        "      vertices[origem][\"proximos\"].pop(posicao)\n",
        "      vertices[origem][\"n_vizinhos\"] -= 1"
      ]
    },
    {
      "cell_type": "markdown",
      "metadata": {
        "id": "S0kXytc8M-uW"
      },
      "source": [
        "### Remove vértice"
      ]
    },
    {
      "cell_type": "code",
      "execution_count": 88,
      "metadata": {
        "id": "RzfbCnjJNCCb"
      },
      "outputs": [],
      "source": [
        "def removeVertice(grafo, n_palavras, vertices, removido):\n",
        "  if(removido >= n_palavras or removido < 0):\n",
        "    print(\"[Erro: vértice não existe]\")\n",
        "  else:\n",
        "    grafo.removeV(removido)\n",
        "    for i in range(n_palavras - 1):\n",
        "      if(i >= removido):\n",
        "        vertices[i] = vertices[i+1]\n",
        "        vertices[i][\"indice\"] = i\n",
        "\n",
        "      n_vizinhos = vertices[i][\"n_vizinhos\"]\n",
        "      vizinhos = vertices[i][\"proximos\"]\n",
        "      posicao = buscaVizinho(n_vizinhos, vizinhos, removido)\n",
        "\n",
        "      if(posicao != -1):\n",
        "        aresta = criaAresta(vertices[i][\"indice\"], removido)\n",
        "        removeAresta(grafo, n_palavras, vertices, aresta)\n",
        "\n",
        "    vertices.pop()"
      ]
    },
    {
      "cell_type": "markdown",
      "metadata": {
        "id": "8LyuaiqbGnQr"
      },
      "source": [
        "### Imprime vértices"
      ]
    },
    {
      "cell_type": "code",
      "execution_count": 89,
      "metadata": {
        "id": "pr6spoUrGmrl"
      },
      "outputs": [],
      "source": [
        "def imprimeVertices(network, n_palavras, vertices):\n",
        "  for i in range(n_palavras):\n",
        "    network.add_node( # Adiciona vértices\n",
        "        i, # Índice\n",
        "        label=vertices[i][\"palavra\"], # Descrição do vértice\n",
        "        color=\"yellow\"\n",
        "    )"
      ]
    },
    {
      "cell_type": "markdown",
      "metadata": {
        "id": "FCn2z_GwGrMA"
      },
      "source": [
        "### Imprime arestas"
      ]
    },
    {
      "cell_type": "code",
      "execution_count": 90,
      "metadata": {
        "id": "OtxYhq8jGxyj"
      },
      "outputs": [],
      "source": [
        "def imprimeArestas(network, n_palavras, vertices):\n",
        "  for i in range(n_palavras):\n",
        "    vizinhos = vertices[i][\"proximos\"]\n",
        "    for j in range(vertices[i][\"n_vizinhos\"]):\n",
        "      distancia = float(vizinhos[j][\"distancia\"])\n",
        "      if(distancia > 0 and distancia < 1):\n",
        "        peso = (1-distancia) # Caso seja um valor entre a escala da distância semântica\n",
        "      else:\n",
        "        peso = distancia # Caso seja um valor fora do limite\n",
        "      network.add_edge( # Adiciona as arestas\n",
        "          vertices[i][\"indice\"], # Origem\n",
        "          vizinhos[j][\"indice\"], # Destino\n",
        "          value=peso, # Peso\n",
        "          title=f'''\n",
        "          {vertices[i][\"palavra\"]}\n",
        "          {vizinhos[j][\"vizinho\"]}\n",
        "          Peso: {peso:.2f}\n",
        "                        ''', # Descrição\n",
        "          color=\"red\"\n",
        "      )"
      ]
    },
    {
      "cell_type": "markdown",
      "metadata": {
        "id": "j3fUMtozG0nK"
      },
      "source": [
        "### Imprime grafo"
      ]
    },
    {
      "cell_type": "code",
      "execution_count": 91,
      "metadata": {
        "id": "OGnMeqekG13i"
      },
      "outputs": [],
      "source": [
        "def imprimeGrafo(n_palavras, vertices):\n",
        "  net = Network(notebook=True, cdn_resources='remote', directed=False, height=\"1200px\", width=\"100%\", bgcolor=\"black\", font_color=\"white\")\n",
        "  imprimeVertices(net, n_palavras, vertices)\n",
        "  imprimeArestas(net, n_palavras, vertices)\n",
        "  net.barnes_hut() # Dispersa melhor os vértices\n",
        "  net.show(\"grafo.html\") # Salva o grafo"
      ]
    },
    {
      "cell_type": "markdown",
      "metadata": {
        "id": "Cxg23MaPQT-n"
      },
      "source": [
        "### Mostra vértice"
      ]
    },
    {
      "cell_type": "code",
      "execution_count": 92,
      "metadata": {
        "id": "u7P9I5OlQVyH"
      },
      "outputs": [],
      "source": [
        "def mostraVertice(vertices, indice):\n",
        "  palavra = vertices[indice][\"palavra\"]\n",
        "  n_vizinhos = vertices[indice][\"n_vizinhos\"]\n",
        "  vizinhos = vertices[indice][\"proximos\"]\n",
        "  print(f\"\\nPalavra: {palavra}\\n\")\n",
        "  for i in range(n_vizinhos):\n",
        "    vizinho =  vizinhos[i][\"vizinho\"]\n",
        "    distancia = vizinhos[i][\"distancia\"]\n",
        "    print(f'''\n",
        "    Vizinho: {vizinho}\n",
        "    Distância: {distancia}''')"
      ]
    },
    {
      "cell_type": "markdown",
      "metadata": {
        "id": "ro4oq-cagY8g"
      },
      "source": [
        "# Aplicação"
      ]
    },
    {
      "cell_type": "markdown",
      "metadata": {
        "id": "Ei5OmfcVdG8b"
      },
      "source": [
        "## Código"
      ]
    },
    {
      "cell_type": "code",
      "execution_count": 93,
      "metadata": {
        "id": "Y5im7oHTdHic"
      },
      "outputs": [],
      "source": [
        "def menu():\n",
        "    memoria = Memory(chunking_strategy={\"mode\": \"sliding_window\", \"window_size\": 1, \"overlap\": 0})\n",
        "    fim = False\n",
        "\n",
        "    while(fim == False):\n",
        "        print(\n",
        "    '''\n",
        "    Menu:\n",
        "\n",
        "        1) Ler dados do arquivo\n",
        "        2) Gravar dados no arquivo grafo.txt\n",
        "        3) Inserir vértice\n",
        "        4) Inserir aresta\n",
        "        5) Remover vértice\n",
        "        6) Remover aresta\n",
        "        7) Exibir grafo\n",
        "        8) Exibir matriz\n",
        "        9) Apresentar a conexidade do grafo\n",
        "        10) Encerrar a aplicação\n",
        "        11) Buscar um índice pela palavra\n",
        "        12) Buscar uma palavra pelo índice\n",
        "        13) Mostrar informações do vértice\n",
        "        14) Fazer busca vetorial\n",
        "    ''')\n",
        "\n",
        "        choice = input()\n",
        "        try:\n",
        "            choice = int(choice)\n",
        "            if choice == 1: # Cria grafo\n",
        "                dados = leArquivoHTTP('https://raw.githubusercontent.com/Cehiim/TeoriaDosGrafos/refs/heads/main/Projeto/palavras.txt')\n",
        "                #dados = leArquivo(\"palavras.txt\")\n",
        "                n_palavras = dados[0]\n",
        "                vertices = dados[1]\n",
        "                embedding(memoria, n_palavras, vertices)\n",
        "                grafo = integraGrafo(memoria, n_palavras, vertices)\n",
        "                print(\"Grafo criado com sucesso!\")\n",
        "\n",
        "            elif choice == 2: # Grava dados no arquivo .txt\n",
        "                try:\n",
        "                    gravaDados(n_palavras, vertices)\n",
        "                    print(\"Os dados foram salvos no arquivo 'grafo.txt'.\")\n",
        "                except NameError:\n",
        "                    print(\"[Erro: Grafo não criado]\")\n",
        "\n",
        "            elif choice == 3: # Insere vértice\n",
        "                palavra = input(\"Palavra a ser inserida: \")\n",
        "                try:\n",
        "                    insereVertice(grafo, n_palavras, vertices, palavra)\n",
        "                    n_palavras += 1\n",
        "                    print(\"Vértice inserido com sucesso!\")\n",
        "\n",
        "                except NameError:\n",
        "                    print(\"[Erro: Grafo não criado]\")\n",
        "\n",
        "            elif choice == 4: # Insere aresta\n",
        "                try:\n",
        "                    origem = int(input(\"Insira o índice de origem: \"))\n",
        "                    destino = int(input(\"Insira o índice de destino: \"))\n",
        "                    peso = float(input(\"Insira o peso: \"))\n",
        "                    aresta = criaAresta(origem, destino)\n",
        "                    try:\n",
        "                        insereAresta(grafo, n_palavras, vertices, aresta, peso)\n",
        "                        print(\"Aresta inserida com sucesso!\")\n",
        "\n",
        "                    except NameError:\n",
        "                        print(\"[Erro: Grafo não criado]\")\n",
        "\n",
        "                except ValueError:\n",
        "                    print(\"[Erro: a entrada não é do tipo int]\")\n",
        "\n",
        "            elif choice == 5: # Remove vértice\n",
        "                try:\n",
        "                    indice = int(input(\"Insira o índice do vértice: \"))\n",
        "                    try:\n",
        "                        removeVertice(grafo, n_palavras, vertices, indice)\n",
        "                        n_palavras -= 1\n",
        "                        print(\"Vértice removido com sucesso!\")\n",
        "\n",
        "                    except NameError:\n",
        "                        print(\"[Erro: Grafo não criado]\")\n",
        "\n",
        "                except ValueError:\n",
        "                    print(\"[Erro: a entrada não é do tipo int]\")\n",
        "\n",
        "            elif choice == 6: # Remove aresta\n",
        "                try:\n",
        "                    origem = int(input(\"Insira o índice de origem: \"))\n",
        "                    destino = int(input(\"Insira o índice de destino: \"))\n",
        "                    aresta = criaAresta(origem, destino)\n",
        "                    try:\n",
        "                        removeAresta(grafo, n_palavras, vertices, aresta)\n",
        "                        print(\"Aresta removida com sucesso!\")\n",
        "\n",
        "                    except NameError:\n",
        "                        print(\"[Erro: Grafo não criado]\")\n",
        "\n",
        "                except ValueError:\n",
        "                    print(\"[Erro: a entrada não é do tipo int]\")\n",
        "\n",
        "            elif choice == 7: # Exibe grafo\n",
        "                try:\n",
        "                    imprimeGrafo(n_palavras, vertices)\n",
        "                    print(f\"\\nGrafo não-direcionado rotulado com {grafo.n} vértices e {grafo.m} arestas\\n\")\n",
        "                    print(\"O grafo visual foi criado no arquivo 'grafo.html'.\")\n",
        "                    print((\"\\nAperte ENTER para continuar \"))\n",
        "                    ok = input()\n",
        "                except NameError:\n",
        "                    print(\"[Erro: Grafo não criado]\")\n",
        "\n",
        "            elif choice == 8: # Exibe matriz\n",
        "                try:\n",
        "                    grafo.showMin()\n",
        "                    print((\"\\nAperte ENTER para continuar \"))\n",
        "                    ok = input()\n",
        "                except NameError:\n",
        "                    print(\"[Erro: Grafo não criado]\")\n",
        "\n",
        "            elif choice == 9: # Apresenta a conexidade do grafo e grafo reduzido\n",
        "                try:\n",
        "                    if(grafo.conexidade()):\n",
        "                        print(\"O grafo é conexo.\")\n",
        "                    else:\n",
        "                        print(\"O grafo não é conexo.\")\n",
        "                    print((\"\\nAperte ENTER para continuar \"))\n",
        "                    ok = input()\n",
        "                except NameError:\n",
        "                    print(\"[Erro: Grafo não criado]\")\n",
        "\n",
        "            elif choice == 10: # Encerra\n",
        "                fim = True\n",
        "                print(\"Encerrando programa...\")\n",
        "\n",
        "            elif choice == 11: # Busca um índice pela palavra\n",
        "                try:\n",
        "                    palavra = input(\"Palavra a ser consultada: \")\n",
        "                    indice = buscaIndice(n_palavras, vertices, palavra)\n",
        "                    if(indice == -1):\n",
        "                        print(\"[Erro: palavra não encontrada]\")\n",
        "                    else:\n",
        "                        print(f\"Índice de {palavra}: {indice}\")\n",
        "                        print((\"\\nAperte ENTER para continuar \"))\n",
        "                        ok = input()\n",
        "                except NameError:\n",
        "                    print(\"[Erro: Grafo não criado]\")\n",
        "\n",
        "            elif choice == 12: # Busca um índice pela palavra\n",
        "                try:\n",
        "                    indice = int(input(\"Índice a ser consultado: \"))\n",
        "                    try:\n",
        "                        palavra = buscaPalavra(n_palavras, vertices, indice)\n",
        "                        if(indice == -1):\n",
        "                            print(\"[Erro: palavra não encontrada]\")\n",
        "                        else:\n",
        "                            print(f\"Palavra do índice {indice}: {palavra}\")\n",
        "                            print((\"\\nAperte ENTER para continuar \"))\n",
        "                            ok = input()\n",
        "                    except NameError:\n",
        "                      print(\"[Erro: Grafo não criado]\")\n",
        "                except ValueError:\n",
        "                    print(\"[Erro: a entrada não é do tipo int]\")\n",
        "\n",
        "            elif choice == 13: # Mostra informações do vértice\n",
        "                try:\n",
        "                    indice = int(input(\"Índice do vértice: \"))\n",
        "                    try:\n",
        "                        mostraVertice(vertices, indice)\n",
        "                        print((\"\\nAperte ENTER para continuar \"))\n",
        "                        ok = input()\n",
        "                    except NameError:\n",
        "                      print(\"[Erro: Grafo não criado]\")\n",
        "                except ValueError:\n",
        "                    print(\"[Erro: a entrada não é do tipo int]\")\n",
        "\n",
        "            elif choice == 14: # Fazer busca vetorial de uma palavra\n",
        "                busca = input(\"Insira uma palavra: \")\n",
        "                try:\n",
        "                    resultado = memoria.search(busca, top_n=3)\n",
        "                    print(f\"\\n\\nBusca: {busca}\\n\")\n",
        "                    for i in range(3):\n",
        "                        palavra = resultado[i]['chunk']\n",
        "                        distancia = resultado[i]['distance']\n",
        "                        print(f\"Palavra: {palavra}\\nDistância: {distancia:.2f}\\n\")\n",
        "                    print((\"\\nAperte ENTER para continuar \"))\n",
        "                    ok = input()\n",
        "                except IndexError:\n",
        "                    print(\"[Erro: Grafo não criado]\")\n",
        "\n",
        "            else:\n",
        "                print(\"Opção inválida.\")\n",
        "\n",
        "        except ValueError:\n",
        "            print(\"[Erro: a entrada não é do tipo int]\")\n",
        "\n",
        "        #time.sleep(1)\n",
        "\n",
        "        clear_output(wait=True) # Limpa o terminal caso esteja no Google Colab"
      ]
    },
    {
      "cell_type": "markdown",
      "metadata": {
        "id": "SXqFOQCddLe1"
      },
      "source": [
        "## Menu"
      ]
    },
    {
      "cell_type": "code",
      "execution_count": 94,
      "metadata": {
        "colab": {
          "base_uri": "https://localhost:8080/",
          "height": 599
        },
        "id": "Nh-VU0JBdMVk",
        "outputId": "89fd589e-e842-4ec2-8b78-e463590b783d",
        "collapsed": true
      },
      "outputs": [
        {
          "output_type": "stream",
          "name": "stdout",
          "text": [
            "\n",
            "    Menu:\n",
            "\n",
            "        1) Ler dados do arquivo\n",
            "        2) Gravar dados no arquivo grafo.txt\n",
            "        3) Inserir vértice\n",
            "        4) Inserir aresta\n",
            "        5) Remover vértice\n",
            "        6) Remover aresta\n",
            "        7) Exibir grafo\n",
            "        8) Exibir matriz\n",
            "        9) Apresentar a conexidade do grafo\n",
            "        10) Encerrar a aplicação\n",
            "        11) Buscar um índice pela palavra\n",
            "        12) Buscar uma palavra pelo índice\n",
            "        13) Mostrar informações do vértice\n",
            "        14) Fazer busca vetorial\n",
            "    \n"
          ]
        },
        {
          "output_type": "error",
          "ename": "KeyboardInterrupt",
          "evalue": "Interrupted by user",
          "traceback": [
            "\u001b[0;31m---------------------------------------------------------------------------\u001b[0m",
            "\u001b[0;31mKeyboardInterrupt\u001b[0m                         Traceback (most recent call last)",
            "\u001b[0;32m<ipython-input-94-a554a8713acc>\u001b[0m in \u001b[0;36m<cell line: 1>\u001b[0;34m()\u001b[0m\n\u001b[0;32m----> 1\u001b[0;31m \u001b[0mmenu\u001b[0m\u001b[0;34m(\u001b[0m\u001b[0;34m)\u001b[0m\u001b[0;34m\u001b[0m\u001b[0;34m\u001b[0m\u001b[0m\n\u001b[0m",
            "\u001b[0;32m<ipython-input-93-e65cf610a217>\u001b[0m in \u001b[0;36mmenu\u001b[0;34m()\u001b[0m\n\u001b[1;32m     24\u001b[0m     ''')\n\u001b[1;32m     25\u001b[0m \u001b[0;34m\u001b[0m\u001b[0m\n\u001b[0;32m---> 26\u001b[0;31m         \u001b[0mchoice\u001b[0m \u001b[0;34m=\u001b[0m \u001b[0minput\u001b[0m\u001b[0;34m(\u001b[0m\u001b[0;34m)\u001b[0m\u001b[0;34m\u001b[0m\u001b[0;34m\u001b[0m\u001b[0m\n\u001b[0m\u001b[1;32m     27\u001b[0m         \u001b[0;32mtry\u001b[0m\u001b[0;34m:\u001b[0m\u001b[0;34m\u001b[0m\u001b[0;34m\u001b[0m\u001b[0m\n\u001b[1;32m     28\u001b[0m             \u001b[0mchoice\u001b[0m \u001b[0;34m=\u001b[0m \u001b[0mint\u001b[0m\u001b[0;34m(\u001b[0m\u001b[0mchoice\u001b[0m\u001b[0;34m)\u001b[0m\u001b[0;34m\u001b[0m\u001b[0;34m\u001b[0m\u001b[0m\n",
            "\u001b[0;32m/usr/local/lib/python3.10/dist-packages/ipykernel/kernelbase.py\u001b[0m in \u001b[0;36mraw_input\u001b[0;34m(self, prompt)\u001b[0m\n\u001b[1;32m    849\u001b[0m                 \u001b[0;34m\"raw_input was called, but this frontend does not support input requests.\"\u001b[0m\u001b[0;34m\u001b[0m\u001b[0;34m\u001b[0m\u001b[0m\n\u001b[1;32m    850\u001b[0m             )\n\u001b[0;32m--> 851\u001b[0;31m         return self._input_request(str(prompt),\n\u001b[0m\u001b[1;32m    852\u001b[0m             \u001b[0mself\u001b[0m\u001b[0;34m.\u001b[0m\u001b[0m_parent_ident\u001b[0m\u001b[0;34m,\u001b[0m\u001b[0;34m\u001b[0m\u001b[0;34m\u001b[0m\u001b[0m\n\u001b[1;32m    853\u001b[0m             \u001b[0mself\u001b[0m\u001b[0;34m.\u001b[0m\u001b[0m_parent_header\u001b[0m\u001b[0;34m,\u001b[0m\u001b[0;34m\u001b[0m\u001b[0;34m\u001b[0m\u001b[0m\n",
            "\u001b[0;32m/usr/local/lib/python3.10/dist-packages/ipykernel/kernelbase.py\u001b[0m in \u001b[0;36m_input_request\u001b[0;34m(self, prompt, ident, parent, password)\u001b[0m\n\u001b[1;32m    893\u001b[0m             \u001b[0;32mexcept\u001b[0m \u001b[0mKeyboardInterrupt\u001b[0m\u001b[0;34m:\u001b[0m\u001b[0;34m\u001b[0m\u001b[0;34m\u001b[0m\u001b[0m\n\u001b[1;32m    894\u001b[0m                 \u001b[0;31m# re-raise KeyboardInterrupt, to truncate traceback\u001b[0m\u001b[0;34m\u001b[0m\u001b[0;34m\u001b[0m\u001b[0m\n\u001b[0;32m--> 895\u001b[0;31m                 \u001b[0;32mraise\u001b[0m \u001b[0mKeyboardInterrupt\u001b[0m\u001b[0;34m(\u001b[0m\u001b[0;34m\"Interrupted by user\"\u001b[0m\u001b[0;34m)\u001b[0m \u001b[0;32mfrom\u001b[0m \u001b[0;32mNone\u001b[0m\u001b[0;34m\u001b[0m\u001b[0;34m\u001b[0m\u001b[0m\n\u001b[0m\u001b[1;32m    896\u001b[0m             \u001b[0;32mexcept\u001b[0m \u001b[0mException\u001b[0m \u001b[0;32mas\u001b[0m \u001b[0me\u001b[0m\u001b[0;34m:\u001b[0m\u001b[0;34m\u001b[0m\u001b[0;34m\u001b[0m\u001b[0m\n\u001b[1;32m    897\u001b[0m                 \u001b[0mself\u001b[0m\u001b[0;34m.\u001b[0m\u001b[0mlog\u001b[0m\u001b[0;34m.\u001b[0m\u001b[0mwarning\u001b[0m\u001b[0;34m(\u001b[0m\u001b[0;34m\"Invalid Message:\"\u001b[0m\u001b[0;34m,\u001b[0m \u001b[0mexc_info\u001b[0m\u001b[0;34m=\u001b[0m\u001b[0;32mTrue\u001b[0m\u001b[0;34m)\u001b[0m\u001b[0;34m\u001b[0m\u001b[0;34m\u001b[0m\u001b[0m\n",
            "\u001b[0;31mKeyboardInterrupt\u001b[0m: Interrupted by user"
          ]
        }
      ],
      "source": [
        "menu()"
      ]
    },
    {
      "cell_type": "markdown",
      "source": [
        "# Testes"
      ],
      "metadata": {
        "id": "b2CZx-coS0AM"
      }
    },
    {
      "cell_type": "code",
      "source": [
        "from ipywidgets import widgets\n",
        "from IPython.display import display, clear_output\n",
        "\n",
        "# Função para exibir o menu\n",
        "def exibir_menu():\n",
        "    menu_text = widgets.HTML(value=\"\"\"\n",
        "    <h1>Menu:</h1>\n",
        "    <ol>\n",
        "        <li>Ler dados do arquivo</li>\n",
        "        <li>Gravar dados no arquivo grafo.txt</li>\n",
        "        <li>Inserir vértice</li>\n",
        "        <li>Inserir aresta</li>\n",
        "        <li>Remover vértice</li>\n",
        "        <li>Remover aresta</li>\n",
        "        <li>Exibir grafo</li>\n",
        "        <li>Exibir matriz</li>\n",
        "        <li>Apresentar a conexidade do grafo</li>\n",
        "        <li>Encerrar a aplicação</li>\n",
        "        <li>Buscar um índice pela palavra</li>\n",
        "        <li>Buscar uma palavra pelo índice</li>\n",
        "        <li>Mostrar informações do vértice</li>\n",
        "        <li>Fazer busca vetorial</li>\n",
        "    </ol>\n",
        "    \"\"\")\n",
        "    display(menu_text)\n",
        "\n",
        "# Função para capturar a escolha do usuário\n",
        "def capturar_escolha(btn):\n",
        "    clear_output(wait=True)\n",
        "    escolha = int(entrada.value)\n",
        "    if escolha == 10:\n",
        "        print(\"Encerrando programa...\")\n",
        "        return\n",
        "    print(f\"Você escolheu a opção {escolha}\")\n",
        "    # Adicione aqui a lógica para cada opção do menu\n",
        "    exibir_menu()  # Exibe o menu novamente após a escolha do usuário\n",
        "    display(entrada, botao)\n",
        "\n",
        "# Widgets de entrada e botão\n",
        "entrada = widgets.Text(placeholder='Digite uma opção...')\n",
        "botao = widgets.Button(description=\"Confirmar\")\n",
        "botao.on_click(capturar_escolha)\n",
        "\n",
        "# Exibir menu e widgets\n",
        "exibir_menu()\n",
        "display(entrada, botao)\n"
      ],
      "metadata": {
        "colab": {
          "base_uri": "https://localhost:8080/",
          "height": 81,
          "referenced_widgets": [
            "5caf6dd095c5485bbcdcafba4a817c80",
            "db49c040e2ef4980b128fec6c59ac8aa",
            "22a3fcf7a6844c2ab5d8e6f31760512d",
            "09986a23a5654f5caa80aa82478106de",
            "73ad4a034656447fa070622a5d5859d9",
            "1fae65007eb6448aa2f16a08c186abe3"
          ]
        },
        "id": "ynzzSLkqBvN_",
        "outputId": "af59d2c3-11e5-436c-cbea-af79ad6a4d08"
      },
      "execution_count": 113,
      "outputs": [
        {
          "output_type": "display_data",
          "data": {
            "text/plain": [
              "Text(value='', placeholder='Digite uma opção...')"
            ],
            "application/vnd.jupyter.widget-view+json": {
              "version_major": 2,
              "version_minor": 0,
              "model_id": "5caf6dd095c5485bbcdcafba4a817c80"
            }
          },
          "metadata": {}
        },
        {
          "output_type": "display_data",
          "data": {
            "text/plain": [
              "Button(description='Confirmar', style=ButtonStyle())"
            ],
            "application/vnd.jupyter.widget-view+json": {
              "version_major": 2,
              "version_minor": 0,
              "model_id": "09986a23a5654f5caa80aa82478106de"
            }
          },
          "metadata": {}
        }
      ]
    }
  ],
  "metadata": {
    "colab": {
      "collapsed_sections": [
        "g2sI3d7Qz7ck",
        "zWYODqQXiaGN",
        "TmqCgxE0isy5",
        "CGlKvBrCi3qp",
        "xvG7B29cjGjs",
        "0RbhmJRQjX7y",
        "D2GpxPLMjiC5",
        "uuinIkupjvJp",
        "nY8qxhFskHeU",
        "akYDFZCNkVNn",
        "2PeqvyNUkgfI",
        "5L5R6K1ak9y6",
        "OCilppoasxOJ",
        "WTHEWrEos1bx",
        "k-MC5QZ-s9fh",
        "m4zLz70nNLil",
        "S0kXytc8M-uW",
        "8LyuaiqbGnQr",
        "FCn2z_GwGrMA",
        "j3fUMtozG0nK",
        "Cxg23MaPQT-n"
      ],
      "provenance": [],
      "toc_visible": true,
      "include_colab_link": true
    },
    "kernelspec": {
      "display_name": "Python 3",
      "name": "python3"
    },
    "language_info": {
      "codemirror_mode": {
        "name": "ipython",
        "version": 3
      },
      "file_extension": ".py",
      "mimetype": "text/x-python",
      "name": "python",
      "nbconvert_exporter": "python",
      "pygments_lexer": "ipython3",
      "version": "3.10.11"
    },
    "widgets": {
      "application/vnd.jupyter.widget-state+json": {
        "5caf6dd095c5485bbcdcafba4a817c80": {
          "model_module": "@jupyter-widgets/controls",
          "model_name": "TextModel",
          "model_module_version": "1.5.0",
          "state": {
            "_dom_classes": [],
            "_model_module": "@jupyter-widgets/controls",
            "_model_module_version": "1.5.0",
            "_model_name": "TextModel",
            "_view_count": null,
            "_view_module": "@jupyter-widgets/controls",
            "_view_module_version": "1.5.0",
            "_view_name": "TextView",
            "continuous_update": true,
            "description": "",
            "description_tooltip": null,
            "disabled": false,
            "layout": "IPY_MODEL_db49c040e2ef4980b128fec6c59ac8aa",
            "placeholder": "Digite uma opção...",
            "style": "IPY_MODEL_22a3fcf7a6844c2ab5d8e6f31760512d",
            "value": ""
          }
        },
        "db49c040e2ef4980b128fec6c59ac8aa": {
          "model_module": "@jupyter-widgets/base",
          "model_name": "LayoutModel",
          "model_module_version": "1.2.0",
          "state": {
            "_model_module": "@jupyter-widgets/base",
            "_model_module_version": "1.2.0",
            "_model_name": "LayoutModel",
            "_view_count": null,
            "_view_module": "@jupyter-widgets/base",
            "_view_module_version": "1.2.0",
            "_view_name": "LayoutView",
            "align_content": null,
            "align_items": null,
            "align_self": null,
            "border": null,
            "bottom": null,
            "display": null,
            "flex": null,
            "flex_flow": null,
            "grid_area": null,
            "grid_auto_columns": null,
            "grid_auto_flow": null,
            "grid_auto_rows": null,
            "grid_column": null,
            "grid_gap": null,
            "grid_row": null,
            "grid_template_areas": null,
            "grid_template_columns": null,
            "grid_template_rows": null,
            "height": null,
            "justify_content": null,
            "justify_items": null,
            "left": null,
            "margin": null,
            "max_height": null,
            "max_width": null,
            "min_height": null,
            "min_width": null,
            "object_fit": null,
            "object_position": null,
            "order": null,
            "overflow": null,
            "overflow_x": null,
            "overflow_y": null,
            "padding": null,
            "right": null,
            "top": null,
            "visibility": null,
            "width": null
          }
        },
        "22a3fcf7a6844c2ab5d8e6f31760512d": {
          "model_module": "@jupyter-widgets/controls",
          "model_name": "DescriptionStyleModel",
          "model_module_version": "1.5.0",
          "state": {
            "_model_module": "@jupyter-widgets/controls",
            "_model_module_version": "1.5.0",
            "_model_name": "DescriptionStyleModel",
            "_view_count": null,
            "_view_module": "@jupyter-widgets/base",
            "_view_module_version": "1.2.0",
            "_view_name": "StyleView",
            "description_width": ""
          }
        },
        "09986a23a5654f5caa80aa82478106de": {
          "model_module": "@jupyter-widgets/controls",
          "model_name": "ButtonModel",
          "model_module_version": "1.5.0",
          "state": {
            "_dom_classes": [],
            "_model_module": "@jupyter-widgets/controls",
            "_model_module_version": "1.5.0",
            "_model_name": "ButtonModel",
            "_view_count": null,
            "_view_module": "@jupyter-widgets/controls",
            "_view_module_version": "1.5.0",
            "_view_name": "ButtonView",
            "button_style": "",
            "description": "Confirmar",
            "disabled": false,
            "icon": "",
            "layout": "IPY_MODEL_73ad4a034656447fa070622a5d5859d9",
            "style": "IPY_MODEL_1fae65007eb6448aa2f16a08c186abe3",
            "tooltip": ""
          }
        },
        "73ad4a034656447fa070622a5d5859d9": {
          "model_module": "@jupyter-widgets/base",
          "model_name": "LayoutModel",
          "model_module_version": "1.2.0",
          "state": {
            "_model_module": "@jupyter-widgets/base",
            "_model_module_version": "1.2.0",
            "_model_name": "LayoutModel",
            "_view_count": null,
            "_view_module": "@jupyter-widgets/base",
            "_view_module_version": "1.2.0",
            "_view_name": "LayoutView",
            "align_content": null,
            "align_items": null,
            "align_self": null,
            "border": null,
            "bottom": null,
            "display": null,
            "flex": null,
            "flex_flow": null,
            "grid_area": null,
            "grid_auto_columns": null,
            "grid_auto_flow": null,
            "grid_auto_rows": null,
            "grid_column": null,
            "grid_gap": null,
            "grid_row": null,
            "grid_template_areas": null,
            "grid_template_columns": null,
            "grid_template_rows": null,
            "height": null,
            "justify_content": null,
            "justify_items": null,
            "left": null,
            "margin": null,
            "max_height": null,
            "max_width": null,
            "min_height": null,
            "min_width": null,
            "object_fit": null,
            "object_position": null,
            "order": null,
            "overflow": null,
            "overflow_x": null,
            "overflow_y": null,
            "padding": null,
            "right": null,
            "top": null,
            "visibility": null,
            "width": null
          }
        },
        "1fae65007eb6448aa2f16a08c186abe3": {
          "model_module": "@jupyter-widgets/controls",
          "model_name": "ButtonStyleModel",
          "model_module_version": "1.5.0",
          "state": {
            "_model_module": "@jupyter-widgets/controls",
            "_model_module_version": "1.5.0",
            "_model_name": "ButtonStyleModel",
            "_view_count": null,
            "_view_module": "@jupyter-widgets/base",
            "_view_module_version": "1.2.0",
            "_view_name": "StyleView",
            "button_color": null,
            "font_weight": ""
          }
        }
      }
    }
  },
  "nbformat": 4,
  "nbformat_minor": 0
}