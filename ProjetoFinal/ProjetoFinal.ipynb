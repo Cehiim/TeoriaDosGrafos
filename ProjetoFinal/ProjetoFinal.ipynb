{
  "cells": [
    {
      "cell_type": "markdown",
      "metadata": {
        "id": "view-in-github",
        "colab_type": "text"
      },
      "source": [
        "<a href=\"https://colab.research.google.com/github/Cehiim/TeoriaDosGrafos/blob/main/ProjetoFinal/ProjetoFinal.ipynb\" target=\"_parent\"><img src=\"https://colab.research.google.com/assets/colab-badge.svg\" alt=\"Open In Colab\"/></a>"
      ]
    },
    {
      "cell_type": "markdown",
      "source": [
        "# Informações gerais\n",
        "\n",
        "## Tema\n",
        "* Aplicação com busca semântica para representação de grafos.\n",
        "\n",
        "## Integrantes\n",
        "* Cesar Hideki Imai - 10402758.\n",
        "* João Victor Dallapé Madeira - 10400725.\n",
        "* David Varão Lima Bentes Pessoa - 10402647.\n",
        "* André Franco Ranieri - 10390470."
      ],
      "metadata": {
        "id": "XYffMUNr2Ila"
      }
    },
    {
      "cell_type": "markdown",
      "metadata": {
        "id": "oX9e_J1rfR8k"
      },
      "source": [
        "# Setup"
      ]
    },
    {
      "cell_type": "markdown",
      "metadata": {
        "id": "f4Fd36vBfY_m"
      },
      "source": [
        "## Integração dos pacotes"
      ]
    },
    {
      "cell_type": "markdown",
      "metadata": {
        "id": "YI_J43xnrFIo"
      },
      "source": [
        "O pacote `vectordb2` é usado para armazenar e recuperar textos usando técnicas de *chunking* (segmentação de texto), *embedding* (conversão de texto para vetores numéricos) e busca vetorial.\n",
        "\n",
        "[Referência](https://vectordb.com/)"
      ]
    },
    {
      "cell_type": "code",
      "execution_count": null,
      "metadata": {
        "colab": {
          "base_uri": "https://localhost:8080/"
        },
        "collapsed": true,
        "id": "yy3H5b34UlKV",
        "jupyter": {
          "outputs_hidden": true
        },
        "outputId": "cf515036-56c2-4aff-a226-d2f2ba908163"
      },
      "outputs": [
        {
          "output_type": "stream",
          "name": "stdout",
          "text": [
            "Requirement already satisfied: vectordb2 in /usr/local/lib/python3.10/dist-packages (0.1.9)\n",
            "Requirement already satisfied: torch>=1.9.0 in /usr/local/lib/python3.10/dist-packages (from vectordb2) (2.5.0+cu121)\n",
            "Requirement already satisfied: transformers>=4.10.0 in /usr/local/lib/python3.10/dist-packages (from vectordb2) (4.44.2)\n",
            "Requirement already satisfied: numpy>=1.21.0 in /usr/local/lib/python3.10/dist-packages (from vectordb2) (1.26.4)\n",
            "Requirement already satisfied: scikit-learn>=0.24.0 in /usr/local/lib/python3.10/dist-packages (from vectordb2) (1.5.2)\n",
            "Requirement already satisfied: scipy>=1.7.0 in /usr/local/lib/python3.10/dist-packages (from vectordb2) (1.13.1)\n",
            "Requirement already satisfied: sentence-transformers in /usr/local/lib/python3.10/dist-packages (from vectordb2) (3.2.1)\n",
            "Requirement already satisfied: faiss-cpu in /usr/local/lib/python3.10/dist-packages (from vectordb2) (1.9.0)\n",
            "Requirement already satisfied: tensorflow-text in /usr/local/lib/python3.10/dist-packages (from vectordb2) (2.18.0)\n",
            "Requirement already satisfied: joblib>=1.2.0 in /usr/local/lib/python3.10/dist-packages (from scikit-learn>=0.24.0->vectordb2) (1.4.2)\n",
            "Requirement already satisfied: threadpoolctl>=3.1.0 in /usr/local/lib/python3.10/dist-packages (from scikit-learn>=0.24.0->vectordb2) (3.5.0)\n",
            "Requirement already satisfied: filelock in /usr/local/lib/python3.10/dist-packages (from torch>=1.9.0->vectordb2) (3.16.1)\n",
            "Requirement already satisfied: typing-extensions>=4.8.0 in /usr/local/lib/python3.10/dist-packages (from torch>=1.9.0->vectordb2) (4.12.2)\n",
            "Requirement already satisfied: networkx in /usr/local/lib/python3.10/dist-packages (from torch>=1.9.0->vectordb2) (3.4.2)\n",
            "Requirement already satisfied: jinja2 in /usr/local/lib/python3.10/dist-packages (from torch>=1.9.0->vectordb2) (3.1.4)\n",
            "Requirement already satisfied: fsspec in /usr/local/lib/python3.10/dist-packages (from torch>=1.9.0->vectordb2) (2024.10.0)\n",
            "Requirement already satisfied: sympy==1.13.1 in /usr/local/lib/python3.10/dist-packages (from torch>=1.9.0->vectordb2) (1.13.1)\n",
            "Requirement already satisfied: mpmath<1.4,>=1.1.0 in /usr/local/lib/python3.10/dist-packages (from sympy==1.13.1->torch>=1.9.0->vectordb2) (1.3.0)\n",
            "Requirement already satisfied: huggingface-hub<1.0,>=0.23.2 in /usr/local/lib/python3.10/dist-packages (from transformers>=4.10.0->vectordb2) (0.24.7)\n",
            "Requirement already satisfied: packaging>=20.0 in /usr/local/lib/python3.10/dist-packages (from transformers>=4.10.0->vectordb2) (24.1)\n",
            "Requirement already satisfied: pyyaml>=5.1 in /usr/local/lib/python3.10/dist-packages (from transformers>=4.10.0->vectordb2) (6.0.2)\n",
            "Requirement already satisfied: regex!=2019.12.17 in /usr/local/lib/python3.10/dist-packages (from transformers>=4.10.0->vectordb2) (2024.9.11)\n",
            "Requirement already satisfied: requests in /usr/local/lib/python3.10/dist-packages (from transformers>=4.10.0->vectordb2) (2.32.3)\n",
            "Requirement already satisfied: safetensors>=0.4.1 in /usr/local/lib/python3.10/dist-packages (from transformers>=4.10.0->vectordb2) (0.4.5)\n",
            "Requirement already satisfied: tokenizers<0.20,>=0.19 in /usr/local/lib/python3.10/dist-packages (from transformers>=4.10.0->vectordb2) (0.19.1)\n",
            "Requirement already satisfied: tqdm>=4.27 in /usr/local/lib/python3.10/dist-packages (from transformers>=4.10.0->vectordb2) (4.66.6)\n",
            "Requirement already satisfied: Pillow in /usr/local/lib/python3.10/dist-packages (from sentence-transformers->vectordb2) (10.4.0)\n",
            "Requirement already satisfied: tensorflow<2.19,>=2.18.0 in /usr/local/lib/python3.10/dist-packages (from tensorflow-text->vectordb2) (2.18.0)\n",
            "Requirement already satisfied: absl-py>=1.0.0 in /usr/local/lib/python3.10/dist-packages (from tensorflow<2.19,>=2.18.0->tensorflow-text->vectordb2) (1.4.0)\n",
            "Requirement already satisfied: astunparse>=1.6.0 in /usr/local/lib/python3.10/dist-packages (from tensorflow<2.19,>=2.18.0->tensorflow-text->vectordb2) (1.6.3)\n",
            "Requirement already satisfied: flatbuffers>=24.3.25 in /usr/local/lib/python3.10/dist-packages (from tensorflow<2.19,>=2.18.0->tensorflow-text->vectordb2) (24.3.25)\n",
            "Requirement already satisfied: gast!=0.5.0,!=0.5.1,!=0.5.2,>=0.2.1 in /usr/local/lib/python3.10/dist-packages (from tensorflow<2.19,>=2.18.0->tensorflow-text->vectordb2) (0.6.0)\n",
            "Requirement already satisfied: google-pasta>=0.1.1 in /usr/local/lib/python3.10/dist-packages (from tensorflow<2.19,>=2.18.0->tensorflow-text->vectordb2) (0.2.0)\n",
            "Requirement already satisfied: libclang>=13.0.0 in /usr/local/lib/python3.10/dist-packages (from tensorflow<2.19,>=2.18.0->tensorflow-text->vectordb2) (18.1.1)\n",
            "Requirement already satisfied: opt-einsum>=2.3.2 in /usr/local/lib/python3.10/dist-packages (from tensorflow<2.19,>=2.18.0->tensorflow-text->vectordb2) (3.4.0)\n",
            "Requirement already satisfied: protobuf!=4.21.0,!=4.21.1,!=4.21.2,!=4.21.3,!=4.21.4,!=4.21.5,<6.0.0dev,>=3.20.3 in /usr/local/lib/python3.10/dist-packages (from tensorflow<2.19,>=2.18.0->tensorflow-text->vectordb2) (3.20.3)\n",
            "Requirement already satisfied: setuptools in /usr/local/lib/python3.10/dist-packages (from tensorflow<2.19,>=2.18.0->tensorflow-text->vectordb2) (75.1.0)\n",
            "Requirement already satisfied: six>=1.12.0 in /usr/local/lib/python3.10/dist-packages (from tensorflow<2.19,>=2.18.0->tensorflow-text->vectordb2) (1.16.0)\n",
            "Requirement already satisfied: termcolor>=1.1.0 in /usr/local/lib/python3.10/dist-packages (from tensorflow<2.19,>=2.18.0->tensorflow-text->vectordb2) (2.5.0)\n",
            "Requirement already satisfied: wrapt>=1.11.0 in /usr/local/lib/python3.10/dist-packages (from tensorflow<2.19,>=2.18.0->tensorflow-text->vectordb2) (1.16.0)\n",
            "Requirement already satisfied: grpcio<2.0,>=1.24.3 in /usr/local/lib/python3.10/dist-packages (from tensorflow<2.19,>=2.18.0->tensorflow-text->vectordb2) (1.64.1)\n",
            "Requirement already satisfied: tensorboard<2.19,>=2.18 in /usr/local/lib/python3.10/dist-packages (from tensorflow<2.19,>=2.18.0->tensorflow-text->vectordb2) (2.18.0)\n",
            "Requirement already satisfied: keras>=3.5.0 in /usr/local/lib/python3.10/dist-packages (from tensorflow<2.19,>=2.18.0->tensorflow-text->vectordb2) (3.6.0)\n",
            "Requirement already satisfied: h5py>=3.11.0 in /usr/local/lib/python3.10/dist-packages (from tensorflow<2.19,>=2.18.0->tensorflow-text->vectordb2) (3.12.1)\n",
            "Requirement already satisfied: ml-dtypes<0.5.0,>=0.4.0 in /usr/local/lib/python3.10/dist-packages (from tensorflow<2.19,>=2.18.0->tensorflow-text->vectordb2) (0.4.1)\n",
            "Requirement already satisfied: tensorflow-io-gcs-filesystem>=0.23.1 in /usr/local/lib/python3.10/dist-packages (from tensorflow<2.19,>=2.18.0->tensorflow-text->vectordb2) (0.37.1)\n",
            "Requirement already satisfied: charset-normalizer<4,>=2 in /usr/local/lib/python3.10/dist-packages (from requests->transformers>=4.10.0->vectordb2) (3.4.0)\n",
            "Requirement already satisfied: idna<4,>=2.5 in /usr/local/lib/python3.10/dist-packages (from requests->transformers>=4.10.0->vectordb2) (3.10)\n",
            "Requirement already satisfied: urllib3<3,>=1.21.1 in /usr/local/lib/python3.10/dist-packages (from requests->transformers>=4.10.0->vectordb2) (2.2.3)\n",
            "Requirement already satisfied: certifi>=2017.4.17 in /usr/local/lib/python3.10/dist-packages (from requests->transformers>=4.10.0->vectordb2) (2024.8.30)\n",
            "Requirement already satisfied: MarkupSafe>=2.0 in /usr/local/lib/python3.10/dist-packages (from jinja2->torch>=1.9.0->vectordb2) (3.0.2)\n",
            "Requirement already satisfied: wheel<1.0,>=0.23.0 in /usr/local/lib/python3.10/dist-packages (from astunparse>=1.6.0->tensorflow<2.19,>=2.18.0->tensorflow-text->vectordb2) (0.44.0)\n",
            "Requirement already satisfied: rich in /usr/local/lib/python3.10/dist-packages (from keras>=3.5.0->tensorflow<2.19,>=2.18.0->tensorflow-text->vectordb2) (13.9.3)\n",
            "Requirement already satisfied: namex in /usr/local/lib/python3.10/dist-packages (from keras>=3.5.0->tensorflow<2.19,>=2.18.0->tensorflow-text->vectordb2) (0.0.8)\n",
            "Requirement already satisfied: optree in /usr/local/lib/python3.10/dist-packages (from keras>=3.5.0->tensorflow<2.19,>=2.18.0->tensorflow-text->vectordb2) (0.13.0)\n",
            "Requirement already satisfied: markdown>=2.6.8 in /usr/local/lib/python3.10/dist-packages (from tensorboard<2.19,>=2.18->tensorflow<2.19,>=2.18.0->tensorflow-text->vectordb2) (3.7)\n",
            "Requirement already satisfied: tensorboard-data-server<0.8.0,>=0.7.0 in /usr/local/lib/python3.10/dist-packages (from tensorboard<2.19,>=2.18->tensorflow<2.19,>=2.18.0->tensorflow-text->vectordb2) (0.7.2)\n",
            "Requirement already satisfied: werkzeug>=1.0.1 in /usr/local/lib/python3.10/dist-packages (from tensorboard<2.19,>=2.18->tensorflow<2.19,>=2.18.0->tensorflow-text->vectordb2) (3.0.6)\n",
            "Requirement already satisfied: markdown-it-py>=2.2.0 in /usr/local/lib/python3.10/dist-packages (from rich->keras>=3.5.0->tensorflow<2.19,>=2.18.0->tensorflow-text->vectordb2) (3.0.0)\n",
            "Requirement already satisfied: pygments<3.0.0,>=2.13.0 in /usr/local/lib/python3.10/dist-packages (from rich->keras>=3.5.0->tensorflow<2.19,>=2.18.0->tensorflow-text->vectordb2) (2.18.0)\n",
            "Requirement already satisfied: mdurl~=0.1 in /usr/local/lib/python3.10/dist-packages (from markdown-it-py>=2.2.0->rich->keras>=3.5.0->tensorflow<2.19,>=2.18.0->tensorflow-text->vectordb2) (0.1.2)\n"
          ]
        }
      ],
      "source": [
        "%pip install vectordb2"
      ]
    },
    {
      "cell_type": "markdown",
      "metadata": {
        "id": "WZDIGMyXB04o"
      },
      "source": [
        "O pacote `requests` é ser usado para recuperar o arquivo por meio de requisição em HTTP."
      ]
    },
    {
      "cell_type": "code",
      "execution_count": null,
      "metadata": {
        "colab": {
          "base_uri": "https://localhost:8080/"
        },
        "collapsed": true,
        "id": "FucP-UzdB1B3",
        "outputId": "8c79c353-6c4d-4e3e-bded-5b95232684a9"
      },
      "outputs": [
        {
          "output_type": "stream",
          "name": "stdout",
          "text": [
            "Requirement already satisfied: requests in /usr/local/lib/python3.10/dist-packages (2.32.3)\n",
            "Requirement already satisfied: charset-normalizer<4,>=2 in /usr/local/lib/python3.10/dist-packages (from requests) (3.4.0)\n",
            "Requirement already satisfied: idna<4,>=2.5 in /usr/local/lib/python3.10/dist-packages (from requests) (3.10)\n",
            "Requirement already satisfied: urllib3<3,>=1.21.1 in /usr/local/lib/python3.10/dist-packages (from requests) (2.2.3)\n",
            "Requirement already satisfied: certifi>=2017.4.17 in /usr/local/lib/python3.10/dist-packages (from requests) (2024.8.30)\n"
          ]
        }
      ],
      "source": [
        "%pip install requests"
      ]
    },
    {
      "cell_type": "markdown",
      "source": [
        "O pacote `network pyvis` é usado para criar uma visualização interativa de grafos.\n",
        "\n",
        "[Referência](https://pyvis.readthedocs.io/en/latest/documentation.html)"
      ],
      "metadata": {
        "id": "CJARvWmDyVVU"
      }
    },
    {
      "cell_type": "code",
      "source": [
        "%pip install networkx pyvis"
      ],
      "metadata": {
        "colab": {
          "base_uri": "https://localhost:8080/"
        },
        "id": "8TlOa8gVyTsq",
        "outputId": "1858a3aa-5613-4bba-e838-f334d6e7dd81",
        "collapsed": true
      },
      "execution_count": null,
      "outputs": [
        {
          "output_type": "stream",
          "name": "stdout",
          "text": [
            "Requirement already satisfied: networkx in /usr/local/lib/python3.10/dist-packages (3.4.2)\n",
            "Requirement already satisfied: pyvis in /usr/local/lib/python3.10/dist-packages (0.3.2)\n",
            "Requirement already satisfied: ipython>=5.3.0 in /usr/local/lib/python3.10/dist-packages (from pyvis) (7.34.0)\n",
            "Requirement already satisfied: jinja2>=2.9.6 in /usr/local/lib/python3.10/dist-packages (from pyvis) (3.1.4)\n",
            "Requirement already satisfied: jsonpickle>=1.4.1 in /usr/local/lib/python3.10/dist-packages (from pyvis) (3.3.0)\n",
            "Requirement already satisfied: setuptools>=18.5 in /usr/local/lib/python3.10/dist-packages (from ipython>=5.3.0->pyvis) (75.1.0)\n",
            "Requirement already satisfied: jedi>=0.16 in /usr/local/lib/python3.10/dist-packages (from ipython>=5.3.0->pyvis) (0.19.1)\n",
            "Requirement already satisfied: decorator in /usr/local/lib/python3.10/dist-packages (from ipython>=5.3.0->pyvis) (4.4.2)\n",
            "Requirement already satisfied: pickleshare in /usr/local/lib/python3.10/dist-packages (from ipython>=5.3.0->pyvis) (0.7.5)\n",
            "Requirement already satisfied: traitlets>=4.2 in /usr/local/lib/python3.10/dist-packages (from ipython>=5.3.0->pyvis) (5.7.1)\n",
            "Requirement already satisfied: prompt-toolkit!=3.0.0,!=3.0.1,<3.1.0,>=2.0.0 in /usr/local/lib/python3.10/dist-packages (from ipython>=5.3.0->pyvis) (3.0.48)\n",
            "Requirement already satisfied: pygments in /usr/local/lib/python3.10/dist-packages (from ipython>=5.3.0->pyvis) (2.18.0)\n",
            "Requirement already satisfied: backcall in /usr/local/lib/python3.10/dist-packages (from ipython>=5.3.0->pyvis) (0.2.0)\n",
            "Requirement already satisfied: matplotlib-inline in /usr/local/lib/python3.10/dist-packages (from ipython>=5.3.0->pyvis) (0.1.7)\n",
            "Requirement already satisfied: pexpect>4.3 in /usr/local/lib/python3.10/dist-packages (from ipython>=5.3.0->pyvis) (4.9.0)\n",
            "Requirement already satisfied: MarkupSafe>=2.0 in /usr/local/lib/python3.10/dist-packages (from jinja2>=2.9.6->pyvis) (3.0.2)\n",
            "Requirement already satisfied: parso<0.9.0,>=0.8.3 in /usr/local/lib/python3.10/dist-packages (from jedi>=0.16->ipython>=5.3.0->pyvis) (0.8.4)\n",
            "Requirement already satisfied: ptyprocess>=0.5 in /usr/local/lib/python3.10/dist-packages (from pexpect>4.3->ipython>=5.3.0->pyvis) (0.7.0)\n",
            "Requirement already satisfied: wcwidth in /usr/local/lib/python3.10/dist-packages (from prompt-toolkit!=3.0.0,!=3.0.1,<3.1.0,>=2.0.0->ipython>=5.3.0->pyvis) (0.2.13)\n"
          ]
        }
      ]
    },
    {
      "cell_type": "markdown",
      "metadata": {
        "id": "DjtCEtpOCxs2"
      },
      "source": [
        "## Importação das bibliotecas"
      ]
    },
    {
      "cell_type": "code",
      "execution_count": null,
      "metadata": {
        "id": "DA_HyrBKC6J0",
        "collapsed": true
      },
      "outputs": [],
      "source": [
        "from vectordb import Memory\n",
        "import requests\n",
        "from pyvis.network import Network\n",
        "import os # Será usado métodos para limpar o terminal para atualizar a interface em cada iteração do sistema\n",
        "import time # Será usado método de espera para atualizar a interface gradualmente\n",
        "from ipywidgets import widgets # Será usado para criar interfaces de usuário interativas com widgets\n",
        "from IPython.display import display, clear_output # Será usado para mostrar interações visuais de maneira mais sofisticada"
      ]
    },
    {
      "cell_type": "markdown",
      "metadata": {
        "id": "g2sI3d7Qz7ck"
      },
      "source": [
        "## Classes"
      ]
    },
    {
      "cell_type": "markdown",
      "source": [
        "### GrafoNDR"
      ],
      "metadata": {
        "id": "Yfl6sRmvhI6E"
      }
    },
    {
      "cell_type": "code",
      "execution_count": 197,
      "metadata": {
        "id": "F1sOCb5P0ITt"
      },
      "outputs": [],
      "source": [
        "# Grafo como uma matriz de adjacência não-direcionado rotulado\n",
        "class GrafoNDR(): # Ex 8\n",
        "    TAM_MAX_DEFAULT = 100 # qtde de vértices máxima default\n",
        "    # construtor da classe grafo\n",
        "    def __init__(self, n=TAM_MAX_DEFAULT):\n",
        "        self.n = n # número de vértices\n",
        "        self.m = 0 # número de arestas\n",
        "        # matriz de adjacência\n",
        "        self.adj = [[0 for i in range(n)] for j in range(n)]\n",
        "\n",
        "    def insereA(self, v, w, p):\n",
        "        if(v == w or self.adj[v][w] != 0):\n",
        "            return\n",
        "\n",
        "        else:\n",
        "            self.adj[v][w] = p\n",
        "            self.adj[w][v] = p\n",
        "            self.m += 1  # atualiza qtd arestas\n",
        "\n",
        "# remove uma aresta v->w do Grafo\n",
        "    def removeA(self, v, w):\n",
        "        if(v == w or self.adj[v][w] == 0):\n",
        "            return\n",
        "        # testa se temos a aresta\n",
        "        else:\n",
        "            self.adj[v][w] = 0\n",
        "            self.adj[w][v] = 0\n",
        "            self.m -= 1  # atualiza qtd arestas\n",
        "\n",
        "    def show(self):\n",
        "        print(f\"\\n n: {self.n:2d} \", end=\"\")\n",
        "        print(f\"m: {self.m:2d}\\n\")\n",
        "        for i in range(self.n):\n",
        "            for w in range(self.n):\n",
        "                print(f\"Adj[{i:2d},{w:2d}] = {self.adj[i][w]:.2f} \", end=\"\")\n",
        "            print(\"\\n\")\n",
        "        print(\"\\nfim da impressao do grafo.\" )\n",
        "\n",
        "\n",
        "\t# Apresenta o Grafo contendo\n",
        "\t# número de vértices, arestas\n",
        "\t# e a matriz de adjacência obtida\n",
        "    # Apresentando apenas os valores 0 ou 1\n",
        "    def showMin(self):\n",
        "        print(f\"\\n n: {self.n:2d} \", end=\"\")\n",
        "        print(f\"m: {self.m:2d}\\n\")\n",
        "        for i in range(self.n):\n",
        "            for w in range(self.n):\n",
        "                print(f\" {self.adj[i][w]:.2f} \", end=\"\")\n",
        "            print(\"\\n\")\n",
        "        print(\"\\nfim da impressao do grafo.\" )\n",
        "\n",
        "    def insereV(self):\n",
        "        for i in range(self.n):\n",
        "            self.adj[i].append(0)\n",
        "        self.n += 1\n",
        "        self.adj.append([0]*self.n)\n",
        "\n",
        "    def removeV(self, vertice):\n",
        "        if(vertice >= self.n or vertice < 0):\n",
        "            return False\n",
        "\n",
        "        for i in range(self.n - 1):\n",
        "            if(i >= vertice and i != self.n-1): # Substitui as conexões do vértice a ser retirado e\n",
        "                self.adj[i] = self.adj[i+1]     # os vértices posteriores a ele com as conexões do próximo vértice\n",
        "\n",
        "            self.removeA(i,vertice)\n",
        "            self.adj[i].pop(vertice) # Remove o vértice escolhido da linha da matriz\n",
        "        self.adj.pop() # Remove a última linha da matriz\n",
        "        self.n -= 1\n",
        "        return True\n",
        "\n",
        "    def dfs(self, visitados, vertice): # Depth First Search\n",
        "        visitados[vertice] = True\n",
        "        for i in range(self.n):\n",
        "            if(self.adj[vertice][i] != 0 and visitados[i] == False): # Caso haja acesso para um próximo vértice que não foi visitado\n",
        "                self.dfs(visitados, i)\n",
        "\n",
        "    def conexidade(self):\n",
        "        for i in range(self.n):\n",
        "            visitados = [False] * self.n\n",
        "            self.dfs(visitados, i)\n",
        "            if(all(visitados)): # Caso todos tenham sido visitados\n",
        "                return \"O grafo é conexo\"\n",
        "        return \"O grafo não é conexo\"\n",
        "\n",
        "    def EhAdjacente(self, v, x): #verifica se o vértice v é adjacente a x\n",
        "        if self.adj[v][x] != 0:\n",
        "            return True\n",
        "        else:\n",
        "            return False\n",
        "\n",
        "    def coloreV(self):\n",
        "        lista_colorida = self.n * [0]\n",
        "        n_cores = 0\n",
        "        for i in range(self.n):\n",
        "            other_colors = []\n",
        "            for j in range(self.n):\n",
        "                if self.EhAdjacente(i, j) and lista_colorida[j] != 0:\n",
        "                    other_colors.append(lista_colorida[j])\n",
        "\n",
        "            if other_colors == []:\n",
        "                lista_colorida[i] = 1\n",
        "\n",
        "            elif other_colors != []:\n",
        "                for k in range(1, self.n):\n",
        "                    if k not in other_colors:\n",
        "                        if(k > n_cores):\n",
        "                            n_cores = k\n",
        "\n",
        "                        lista_colorida[i] = k\n",
        "                        break\n",
        "\n",
        "        info = [n_cores,lista_colorida]\n",
        "\n",
        "        return info\n",
        "\n",
        "    def _find(self, parent, i):\n",
        "        if parent[i] == i:\n",
        "            return i\n",
        "        return self._find(parent, parent[i])\n",
        "\n",
        "    # Função para unir dois subconjuntos no Union-Find\n",
        "    def _union(self, parent, rank, x, y):\n",
        "        root_x = self._find(parent, x)\n",
        "        root_y = self._find(parent, y)\n",
        "\n",
        "        # Anexar a árvore de menor rank sob a árvore de maior rank\n",
        "        if rank[root_x] < rank[root_y]:\n",
        "            parent[root_x] = root_y\n",
        "        elif rank[root_x] > rank[root_y]:\n",
        "            parent[root_y] = root_x\n",
        "        else:\n",
        "            parent[root_y] = root_x\n",
        "            rank[root_x] += 1\n",
        "\n",
        "    # Implementação do Algoritmo de Kruskal\n",
        "    def kruskal(self):\n",
        "        arestas = [] #Obtém as arestas do grafo\n",
        "        for i in range(self.n):\n",
        "            for j in range(i, self.n):\n",
        "                if self.adj[i][j] > 0:\n",
        "                    aresta = (i, j, self.adj[i][j])\n",
        "                    arestas.append(aresta)\n",
        "\n",
        "        # Ordenar as arestas por peso\n",
        "        arestas.sort(key=lambda x: x[2])\n",
        "\n",
        "        # Inicializar a estrutura Union-Find\n",
        "        parent = []\n",
        "        rank = []\n",
        "\n",
        "        for node in range(self.n):\n",
        "            parent.append(node)\n",
        "            rank.append(0)\n",
        "\n",
        "        # Lista para armazenar a árvore geradora mínima (MST)\n",
        "        arvore_parcial = []\n",
        "\n",
        "        # Número de arestas na MST\n",
        "        e = 0\n",
        "        i = 0\n",
        "\n",
        "        # Iterar pelas arestas em ordem de peso\n",
        "        while e < self.n - 1 and i < len(arestas):\n",
        "            # Escolher a menor aresta\n",
        "            u, v, peso = arestas[i]\n",
        "            i += 1\n",
        "\n",
        "            # Encontrar os representantes (subconjuntos) dos vértices u e v\n",
        "            x = self._find(parent, u)\n",
        "            y = self._find(parent, v)\n",
        "\n",
        "            # Se u e v não pertencem ao mesmo subconjunto, adicionar a aresta à MST\n",
        "            if x != y:\n",
        "                e += 1\n",
        "                arvore_parcial.append([u, v, peso])\n",
        "                self._union(parent, rank, x, y)\n",
        "\n",
        "        for i in range(len(arvore_parcial)): #Ajusta índice dos vértices\n",
        "            arvore_parcial[i][0] += 1\n",
        "            arvore_parcial[i][1] += 1\n",
        "\n",
        "        return arvore_parcial"
      ]
    },
    {
      "cell_type": "markdown",
      "source": [
        "### Memory"
      ],
      "metadata": {
        "id": "S5h_ns9chNkv"
      }
    },
    {
      "cell_type": "markdown",
      "source": [
        "Aqui é utilizado a biblioteca VectorDB para criar uma memória virtual.\n",
        "\n",
        "```\n",
        "memoria = Memory(chunking_strategy={\"mode\": \"sliding_window\", \"window_size\": 1, \"overlap\": 0})\n",
        "```\n",
        "\n",
        "- `chunking_strategy` define a estratégia de fragmentação dos dados. No modo \"sliding_window\", os dados são divididos em *chunks* (pedaços de texto) de tamanho fixo.\n",
        "\n",
        "- `window_size` define a quantidade de palavras que um *chunk* representa. Neste caso, cada *chunk* representa uma palavra.\n",
        "\n",
        "- `overlap` define quantos elementos de sobreposição existirão entre os *chunks* adjacentes. Neste caso, não haverá sobreposição já que as palavras usadas não formam frases, logo são independentes uma das outras."
      ],
      "metadata": {
        "id": "v2GiUeGnhP5c"
      }
    },
    {
      "cell_type": "markdown",
      "source": [
        "### Network"
      ],
      "metadata": {
        "id": "IpHL4p1ihSzB"
      }
    },
    {
      "cell_type": "markdown",
      "source": [
        "Aqui é utilizado a biblioteca Pyvis para criar uma instância para visualizar redes/grafos de forma interativa.\n",
        "\n",
        "```\n",
        "net = Network(notebook=True, cdn_resources='remote', directed=False)\n",
        "```\n",
        "* `notebook=True`: Esta opção indica que a visualização da rede será exibida diretamente em um notebook Jupyter.\n",
        "\n",
        "* `cdn_resources='remote'`: Esta opção especifica que os recursos necessários (como bibliotecas JavaScript e CSS) serão carregados de um Content Delivery Network (CDN) remoto. Isso pode ajudar a reduzir o tempo de carregamento e garantir que seja usado as versões mais recentes desses recursos.\n",
        "\n",
        "* `directed=False`: Especifica para que o grafo não seja direcionado."
      ],
      "metadata": {
        "id": "33bLqaslhVIt"
      }
    },
    {
      "cell_type": "markdown",
      "source": [
        "## Funções auxiliares"
      ],
      "metadata": {
        "id": "zWYODqQXiaGN"
      }
    },
    {
      "cell_type": "markdown",
      "source": [
        "### Cria vértice"
      ],
      "metadata": {
        "id": "TmqCgxE0isy5"
      }
    },
    {
      "cell_type": "code",
      "source": [
        "def criaVertice(palavra, indice):\n",
        "  vertice = {\n",
        "      \"palavra\": palavra, # Recupera cada palavra e tira o \"\\n\"\n",
        "      \"indice\": indice,\n",
        "  }\n",
        "  return vertice"
      ],
      "metadata": {
        "id": "TAiwXMCqirUg"
      },
      "execution_count": 198,
      "outputs": []
    },
    {
      "cell_type": "markdown",
      "source": [
        "### Lê arquivo"
      ],
      "metadata": {
        "id": "CGlKvBrCi3qp"
      }
    },
    {
      "cell_type": "markdown",
      "source": [
        "Os dados do documento são importados e guardados na variável `dados`."
      ],
      "metadata": {
        "id": "sL9fnr6ni8iH"
      }
    },
    {
      "cell_type": "code",
      "source": [
        "def leArquivoHTTP(url):\n",
        "  arquivo = requests.get(url).text\n",
        "\n",
        "  lista = arquivo.split() # Distribui cada elemento do arquivo numa lista\n",
        "  n_palavras = int(lista.pop(0)) # Separa o número de palavras (primeira linha do arquivo)\n",
        "  vertices = []\n",
        "  for i in range(n_palavras):\n",
        "    vertice = criaVertice(lista[i], i)\n",
        "    vertices.append(vertice)\n",
        "\n",
        "  dados = [n_palavras]\n",
        "  dados.append(vertices)\n",
        "\n",
        "  return dados"
      ],
      "metadata": {
        "id": "4nEo6zd1i6D5"
      },
      "execution_count": 199,
      "outputs": []
    },
    {
      "cell_type": "code",
      "source": [
        "def leArquivo(origem):\n",
        "  try:\n",
        "    with open(origem, 'r', encoding='utf-8') as arquivo:\n",
        "      n_palavras = int(arquivo.readline()) # Recupera o número de palavras (primeira linha do arquivo)\n",
        "\n",
        "      vertices = []\n",
        "      for i in range(n_palavras):\n",
        "        vertice = criaVertice(arquivo.readline().strip(), i)\n",
        "        vertices.append(vertice)\n",
        "\n",
        "    dados = [n_palavras]\n",
        "    dados.append(vertices)\n",
        "\n",
        "    return dados\n",
        "\n",
        "  except FileNotFoundError:\n",
        "      print(\"[Erro: Arquivo não encontrado]\")"
      ],
      "metadata": {
        "id": "Md6it9mdjAlL"
      },
      "execution_count": 200,
      "outputs": []
    },
    {
      "cell_type": "markdown",
      "source": [
        "### Embedding"
      ],
      "metadata": {
        "id": "xvG7B29cjGjs"
      }
    },
    {
      "cell_type": "markdown",
      "source": [
        "Cada palavra é convertida para um vetor numérico e guardada na memória."
      ],
      "metadata": {
        "id": "edfR0j4ojLiV"
      }
    },
    {
      "cell_type": "code",
      "source": [
        "def embedding(memoria, n_palavras, vertices): # Método para fazer o embedding e inserção na memória de todas as palavras\n",
        "  for i in range(n_palavras):\n",
        "    memoria.save(vertices[i][\"palavra\"])"
      ],
      "metadata": {
        "id": "eC-dinSyjKEn"
      },
      "execution_count": 201,
      "outputs": []
    },
    {
      "cell_type": "markdown",
      "source": [
        "### Busca vetorial"
      ],
      "metadata": {
        "id": "0RbhmJRQjX7y"
      }
    },
    {
      "cell_type": "markdown",
      "source": [
        "Quanto menor é a distância, maior é a proximidade semântica."
      ],
      "metadata": {
        "id": "II8guSv1jZ78"
      }
    },
    {
      "cell_type": "code",
      "source": [
        "def buscaVetorial(memoria, palavra): # Método para retornar os quatro elementos com maior proximidade semântica de uma palavra\n",
        "  busca = memoria.search(palavra, top_n=4)\n",
        "  return busca"
      ],
      "metadata": {
        "id": "d8YlAteUjdEg"
      },
      "execution_count": 202,
      "outputs": []
    },
    {
      "cell_type": "markdown",
      "source": [
        "### Busca índice"
      ],
      "metadata": {
        "id": "D2GpxPLMjiC5"
      }
    },
    {
      "cell_type": "markdown",
      "source": [
        "Busca um índice através da palavra dentro da lista de vértices."
      ],
      "metadata": {
        "id": "e_H47lOpjlcg"
      }
    },
    {
      "cell_type": "code",
      "source": [
        "def buscaIndice(n_palavras, vertices, palavra):\n",
        "  for i in range(n_palavras):\n",
        "    if(vertices[i][\"palavra\"] == palavra):\n",
        "      return vertices[i][\"indice\"]\n",
        "  return -1"
      ],
      "metadata": {
        "id": "CJ8GGcW8jjjV"
      },
      "execution_count": 203,
      "outputs": []
    },
    {
      "cell_type": "markdown",
      "source": [
        "### Busca palavra"
      ],
      "metadata": {
        "id": "uuinIkupjvJp"
      }
    },
    {
      "cell_type": "markdown",
      "source": [
        "Busca uma palavra através do índice dentro da lista de vértices."
      ],
      "metadata": {
        "id": "UMZ4XLBujxKn"
      }
    },
    {
      "cell_type": "code",
      "source": [
        "def buscaPalavra(n_palavras, vertices, indice):\n",
        "  if(indice >= n_palavras or indice < 0):\n",
        "    return \"[Erro: índice inválido]\"\n",
        "  for i in range(n_palavras):\n",
        "    if(vertices[i][\"indice\"] == indice):\n",
        "      return vertices[i][\"palavra\"]\n",
        "  return \"[Erro: índice não encontrado]\""
      ],
      "metadata": {
        "id": "LBj18pbljxeq"
      },
      "execution_count": 204,
      "outputs": []
    },
    {
      "cell_type": "markdown",
      "source": [
        "### Integra grafo"
      ],
      "metadata": {
        "id": "akYDFZCNkVNn"
      }
    },
    {
      "cell_type": "markdown",
      "source": [
        "A palavra mais próxima armazenada na memória é ela mesma, portanto para encontrar as outras três palavras mais próximas foram recuperadas as palavras de índice 1 até 4."
      ],
      "metadata": {
        "id": "a1pMlLG1kZjo"
      }
    },
    {
      "cell_type": "code",
      "source": [
        "def integraGrafo(memoria, n_palavras, vertices):\n",
        "  grafo = GrafoNDR(n_palavras) # Cria o grafo\n",
        "\n",
        "  for i in range(n_palavras):\n",
        "    busca = buscaVetorial(memoria, vertices[i][\"palavra\"])\n",
        "\n",
        "    for j in range(1,4):\n",
        "      palavra = busca[j]['chunk']\n",
        "      distancia = busca[j]['distance']\n",
        "      indice = buscaIndice(n_palavras, vertices, palavra)\n",
        "      grafo.insereA(vertices[i][\"indice\"], indice, distancia)\n",
        "\n",
        "  return grafo"
      ],
      "metadata": {
        "id": "cDCMxOBHkWsz"
      },
      "execution_count": 205,
      "outputs": []
    },
    {
      "cell_type": "markdown",
      "source": [
        "### Grava dados"
      ],
      "metadata": {
        "id": "2PeqvyNUkgfI"
      }
    },
    {
      "cell_type": "code",
      "source": [
        "def gravaDados(n_palavras, vertices):\n",
        "  with open(\"grafo.txt\", \"w\") as arquivo:\n",
        "    for i in range(n_palavras):\n",
        "      palavra = vertices[i][\"palavra\"]\n",
        "      arquivo.write(palavra+\"\\n\")"
      ],
      "metadata": {
        "id": "10rSV0ahkjeI"
      },
      "execution_count": 206,
      "outputs": []
    },
    {
      "cell_type": "markdown",
      "source": [
        "### Insere vértice"
      ],
      "metadata": {
        "id": "5L5R6K1ak9y6"
      }
    },
    {
      "cell_type": "code",
      "source": [
        "def insereVertice(grafo, n_palavras, vertices, palavra):\n",
        "  if(buscaIndice(n_palavras, vertices, palavra) == -1):\n",
        "    grafo.insereV()\n",
        "    vertices.append(criaVertice(palavra, n_palavras))\n",
        "  else:\n",
        "    print(\"[Erro: Palavra já existe]\")"
      ],
      "metadata": {
        "id": "KDtRcWq_k_bV"
      },
      "execution_count": 207,
      "outputs": []
    },
    {
      "cell_type": "markdown",
      "source": [
        "### Insere aresta"
      ],
      "metadata": {
        "id": "k-MC5QZ-s9fh"
      }
    },
    {
      "cell_type": "code",
      "source": [
        "def insereAresta(grafo, n_palavras, vertices, origem, destino, peso):\n",
        "  if(origem >= n_palavras or origem < 0):\n",
        "    print(\"[Erro: origem não existe]\")\n",
        "\n",
        "  elif(destino >= n_palavras or destino < 0):\n",
        "    print(\"[Erro: destino não existe]\")\n",
        "\n",
        "  else:\n",
        "    grafo.insereA(origem, destino, peso)"
      ],
      "metadata": {
        "id": "SF5ki2ems-xS"
      },
      "execution_count": 208,
      "outputs": []
    },
    {
      "cell_type": "markdown",
      "source": [
        "### Remove aresta"
      ],
      "metadata": {
        "id": "m4zLz70nNLil"
      }
    },
    {
      "cell_type": "code",
      "source": [
        "def removeAresta(grafo, n_palavras, vertices, origem, destino):\n",
        "  if(origem >= n_palavras or origem < 0):\n",
        "    print(\"[Erro: origem não existe]\")\n",
        "\n",
        "  elif(destino >= n_palavras or destino < 0):\n",
        "    print(\"[Erro: destino não existe]\")\n",
        "\n",
        "  else:\n",
        "      grafo.removeA(origem, destino)"
      ],
      "metadata": {
        "id": "7WlXNaVzNNAs"
      },
      "execution_count": 209,
      "outputs": []
    },
    {
      "cell_type": "markdown",
      "source": [
        "### Remove vértice"
      ],
      "metadata": {
        "id": "S0kXytc8M-uW"
      }
    },
    {
      "cell_type": "code",
      "source": [
        "def removeVertice(grafo, n_palavras, vertices, removido):\n",
        "  if(removido >= n_palavras or removido < 0):\n",
        "    print(\"[Erro: vértice não existe]\")\n",
        "\n",
        "  else:\n",
        "    for i in range(n_palavras - 1):\n",
        "      if(i >= removido):\n",
        "        vertices[i][\"palavra\"] = vertices[i+1][\"palavra\"]\n",
        "\n",
        "      if(grafo.adj[i][removido] != 0):\n",
        "        origem = vertices[i][\"indice\"]\n",
        "        destino = removido\n",
        "        removeAresta(grafo, n_palavras, vertices, origem, destino)\n",
        "\n",
        "    grafo.removeV(removido)\n",
        "    vertices.pop()"
      ],
      "metadata": {
        "id": "RzfbCnjJNCCb"
      },
      "execution_count": 210,
      "outputs": []
    },
    {
      "cell_type": "markdown",
      "source": [
        "### Imprime vértices"
      ],
      "metadata": {
        "id": "8LyuaiqbGnQr"
      }
    },
    {
      "cell_type": "code",
      "source": [
        "def imprimeVertices(network, n_palavras, vertices):\n",
        "  for i in range(n_palavras):\n",
        "    network.add_node( # Adiciona vértices\n",
        "        i, # Índice\n",
        "        label=vertices[i][\"palavra\"], # Descrição do vértice\n",
        "        color=\"yellow\"\n",
        "    )"
      ],
      "metadata": {
        "id": "pr6spoUrGmrl"
      },
      "execution_count": 211,
      "outputs": []
    },
    {
      "cell_type": "markdown",
      "source": [
        "### Imprime arestas"
      ],
      "metadata": {
        "id": "FCn2z_GwGrMA"
      }
    },
    {
      "cell_type": "code",
      "source": [
        "def imprimeArestas(network, n_palavras, vertices, grafo):\n",
        "  for i in range(n_palavras):\n",
        "    for j in range(n_palavras):\n",
        "      distancia = grafo.adj[i][j]\n",
        "      if(distancia != 0):\n",
        "        if(distancia > 0 and distancia < 1):\n",
        "          peso = (1-distancia) # Caso seja um valor entre a escala da distância semântica\n",
        "\n",
        "        else:\n",
        "          peso = distancia # Caso seja um valor fora do limite\n",
        "\n",
        "        network.add_edge( # Adiciona as arestas\n",
        "            i, # Origem\n",
        "            j, # Destino\n",
        "            value=peso, # Peso\n",
        "            title=f'''\n",
        "            {vertices[i][\"palavra\"]}\n",
        "            {vertices[j][\"palavra\"]}\n",
        "            Peso: {peso:.2f}\n",
        "                          ''', # Descrição\n",
        "            color=\"gray\"\n",
        "        )"
      ],
      "metadata": {
        "id": "OtxYhq8jGxyj"
      },
      "execution_count": 212,
      "outputs": []
    },
    {
      "cell_type": "markdown",
      "source": [
        "### Imprime grafo"
      ],
      "metadata": {
        "id": "j3fUMtozG0nK"
      }
    },
    {
      "cell_type": "code",
      "source": [
        "def imprimeGrafo(n_palavras, vertices, grafo):\n",
        "  net = Network(notebook=True, cdn_resources='remote', directed=False, height=\"1200px\", width=\"100%\", bgcolor=\"black\", font_color=\"white\")\n",
        "  imprimeVertices(net, n_palavras, vertices)\n",
        "  imprimeArestas(net, n_palavras, vertices, grafo)\n",
        "  net.barnes_hut() # Dispersa melhor os vértices\n",
        "  net.show(\"grafo.html\") # Salva o grafo"
      ],
      "metadata": {
        "id": "OGnMeqekG13i"
      },
      "execution_count": 213,
      "outputs": []
    },
    {
      "cell_type": "markdown",
      "source": [
        "### Imprime vértices coloridos"
      ],
      "metadata": {
        "id": "3ht5vTvgbCLH"
      }
    },
    {
      "cell_type": "code",
      "source": [
        "def imprimeVerticesColoridos(network, n_palavras, vertices, cores, grupos):\n",
        "  for i in range(n_palavras):\n",
        "    num = grupos[i]\n",
        "    network.add_node( # Adiciona vértices\n",
        "        i, # Índice\n",
        "        label=vertices[i][\"palavra\"], # Descrição do vértice\n",
        "        color=cores[num - 1]\n",
        "    )"
      ],
      "metadata": {
        "id": "pwmJzwaPbFWn"
      },
      "execution_count": 214,
      "outputs": []
    },
    {
      "cell_type": "markdown",
      "source": [
        "### Imprime grafo colorido"
      ],
      "metadata": {
        "id": "iQqooHina6mi"
      }
    },
    {
      "cell_type": "code",
      "source": [
        "def imprimeGrafoColorido(n_palavras, vertices, grafo, n_grupos, grupos):\n",
        "  cores = [\n",
        "      \"blue\",\n",
        "      \"green\",\n",
        "      \"yellow\",\n",
        "      \"red\",\n",
        "      \"purple\",\n",
        "      \"coral\",\n",
        "      \"turquoise\",\n",
        "      \"magenta\",\n",
        "      \"caramel\",\n",
        "      \"beige\",\n",
        "  ]\n",
        "  n_cores = 10\n",
        "\n",
        "  if(n_grupos > n_cores):\n",
        "    return False\n",
        "\n",
        "  else:\n",
        "    net = Network(notebook=True, cdn_resources='remote', directed=False, height=\"1200px\", width=\"100%\", bgcolor=\"black\", font_color=\"white\")\n",
        "    imprimeVerticesColoridos(net, n_palavras, vertices, cores, grupos)\n",
        "    imprimeArestas(net, n_palavras, vertices, grafo)\n",
        "    net.barnes_hut() # Dispersa melhor os vértices\n",
        "    net.show(\"grafo_colorido.html\") # Salva o grafo\n",
        "    return True"
      ],
      "metadata": {
        "id": "ziK-UE35a-GU"
      },
      "execution_count": 215,
      "outputs": []
    },
    {
      "cell_type": "markdown",
      "source": [
        "### Imprime APCM (Árvore Parcial de Custo Mínimo)"
      ],
      "metadata": {
        "id": "2MbUiBmn-_uc"
      }
    },
    {
      "cell_type": "code",
      "source": [
        "def imprimeAPCM(n_palavras, vertices, grafo):\n",
        "    net = Network(notebook=True, cdn_resources='remote', directed=False, height=\"1200px\", width=\"100%\", bgcolor=\"black\", font_color=\"white\")\n",
        "    imprimeVertices(net, n_palavras, vertices)\n",
        "\n",
        "    arvore_parcial = grafo.kruskal()\n",
        "    print(\"Árvore Parcial de Custo mínimo:\")\n",
        "    for i in range(len(arvore_parcial)):\n",
        "        indice1 = arvore_parcial[i][0] - 1\n",
        "        indice2 = arvore_parcial[i][1] - 1\n",
        "        vertice1 = vertices[indice1][\"palavra\"]\n",
        "        vertice2 = vertices[indice2][\"palavra\"]\n",
        "        #print(f\"[{indice1}, {indice2}] --> [{vertice1}, {vertice2}]\")\n",
        "\n",
        "        distancia = grafo.adj[indice1][indice2]\n",
        "        if(distancia != 0):\n",
        "          if(distancia > 0 and distancia < 1):\n",
        "            peso = (1-distancia) # Caso seja um valor entre a escala da distância semântica\n",
        "\n",
        "          else:\n",
        "            peso = distancia # Caso seja um valor fora do limite\n",
        "\n",
        "        net.add_edge( # Adiciona a aresta\n",
        "            indice1, # Origem\n",
        "            indice2, # Destino\n",
        "            value=peso, # Peso\n",
        "            title=f'''\n",
        "            {vertice1}\n",
        "            {vertice2}\n",
        "            Peso: {peso:.2f}\n",
        "                          ''', # Descrição\n",
        "            color=\"gray\"\n",
        "        )\n",
        "\n",
        "    net.barnes_hut() # Dispersa melhor os vértices\n",
        "    net.show(\"apcm.html\") # Salva o grafo"
      ],
      "metadata": {
        "id": "tv2MQELQ_Ael"
      },
      "execution_count": 216,
      "outputs": []
    },
    {
      "cell_type": "markdown",
      "source": [
        "# Aplicação"
      ],
      "metadata": {
        "id": "BsJEBAOoq33z"
      }
    },
    {
      "cell_type": "markdown",
      "source": [
        "## Código"
      ],
      "metadata": {
        "id": "FGRvFRzYq9mk"
      }
    },
    {
      "cell_type": "markdown",
      "source": [
        "### Front"
      ],
      "metadata": {
        "id": "mF1yKHNqts1f"
      }
    },
    {
      "cell_type": "code",
      "source": [
        "def mostraMenu():\n",
        "    menu_text = widgets.HTML(value=\"\"\"\n",
        "    <h1>Menu:</h1>\n",
        "    <ol>\n",
        "        <li>Ler dados do arquivo</li>\n",
        "        <li>Gravar dados no arquivo grafo.txt</li>\n",
        "        <li>Inserir vértice</li>\n",
        "        <li>Inserir aresta</li>\n",
        "        <li>Remover vértice</li>\n",
        "        <li>Remover aresta</li>\n",
        "        <li>Exibir grafo</li>\n",
        "        <li>Exibir matriz</li>\n",
        "        <li>Apresentar a conexidade do grafo</li>\n",
        "        <li>Encerrar a aplicação</li>\n",
        "        <li>Buscar um índice pela palavra</li>\n",
        "        <li>Buscar uma palavra pelo índice</li>\n",
        "        <li>Fazer busca vetorial</li>\n",
        "        <li>Exibir grafo colorido</li>\n",
        "        <li>Exibir árvore parcial de custo mínimo</li>\n",
        "    </ol>\n",
        "    \"\"\")\n",
        "    display(menu_text)"
      ],
      "metadata": {
        "id": "e23Mg1XlrDi3"
      },
      "execution_count": 220,
      "outputs": []
    },
    {
      "cell_type": "markdown",
      "source": [
        "### Back"
      ],
      "metadata": {
        "id": "MAl45z_9tuuC"
      }
    },
    {
      "cell_type": "code",
      "source": [
        "def menu():\n",
        "    memoria = Memory(chunking_strategy={\"mode\": \"sliding_window\", \"window_size\": 1, \"overlap\": 0})\n",
        "    fim = False\n",
        "\n",
        "    while(fim == False):\n",
        "        time.sleep(1)\n",
        "        clear_output(wait = True) # Limpa o terminal no Jupyter Notebook\n",
        "        mostraMenu()\n",
        "        choice = input()\n",
        "        try:\n",
        "            choice = int(choice)\n",
        "            if choice == 1: # Cria grafo\n",
        "                dados = leArquivoHTTP('https://raw.githubusercontent.com/Cehiim/TeoriaDosGrafos/refs/heads/main/Projeto/palavras.txt')\n",
        "                #dados = leArquivo(\"palavras.txt\")\n",
        "                n_palavras = dados[0]\n",
        "                vertices = dados[1]\n",
        "                embedding(memoria, n_palavras, vertices)\n",
        "                grafo = integraGrafo(memoria, n_palavras, vertices)\n",
        "                print(\"Grafo criado com sucesso!\")\n",
        "\n",
        "            elif choice == 2: # Grava dados no arquivo .txt\n",
        "                try:\n",
        "                    gravaDados(n_palavras, vertices)\n",
        "                    print(\"Os dados foram salvos no arquivo 'grafo.txt'.\")\n",
        "                except NameError:\n",
        "                    print(\"[Erro: Grafo não criado]\")\n",
        "\n",
        "            elif choice == 3: # Insere vértice\n",
        "                palavra = input(\"Palavra a ser inserida: \")\n",
        "                try:\n",
        "                    insereVertice(grafo, n_palavras, vertices, palavra)\n",
        "                    n_palavras += 1\n",
        "                    print(\"Vértice inserido com sucesso!\")\n",
        "\n",
        "                except NameError:\n",
        "                    print(\"[Erro: Grafo não criado]\")\n",
        "\n",
        "            elif choice == 4: # Insere aresta\n",
        "                try:\n",
        "                    origem = int(input(\"Insira o índice de origem: \"))\n",
        "                    destino = int(input(\"Insira o índice de destino: \"))\n",
        "                    peso = float(input(\"Insira o peso: \"))\n",
        "                    try:\n",
        "                        insereAresta(grafo, n_palavras, vertices, origem, destino, peso)\n",
        "                        print(\"Aresta inserida com sucesso!\")\n",
        "\n",
        "                    except NameError:\n",
        "                        print(\"[Erro: Grafo não criado]\")\n",
        "\n",
        "                except ValueError:\n",
        "                    print(\"[Erro: a entrada não é do tipo int]\")\n",
        "\n",
        "            elif choice == 5: # Remove vértice\n",
        "                try:\n",
        "                    indice = int(input(\"Insira o índice do vértice: \"))\n",
        "                    try:\n",
        "                        removeVertice(grafo, n_palavras, vertices, indice)\n",
        "                        n_palavras -= 1\n",
        "                        print(\"Vértice removido com sucesso!\")\n",
        "\n",
        "                    except NameError:\n",
        "                        print(\"[Erro: Grafo não criado]\")\n",
        "\n",
        "                except ValueError:\n",
        "                    print(\"[Erro: a entrada não é do tipo int]\")\n",
        "\n",
        "            elif choice == 6: # Remove aresta\n",
        "                try:\n",
        "                    origem = int(input(\"Insira o índice de origem: \"))\n",
        "                    destino = int(input(\"Insira o índice de destino: \"))\n",
        "                    try:\n",
        "                        removeAresta(grafo, n_palavras, vertices, origem, destino)\n",
        "                        print(\"Aresta removida com sucesso!\")\n",
        "\n",
        "                    except NameError:\n",
        "                        print(\"[Erro: Grafo não criado]\")\n",
        "\n",
        "                except ValueError:\n",
        "                    print(\"[Erro: a entrada não é do tipo int]\")\n",
        "\n",
        "            elif choice == 7: # Exibe grafo\n",
        "                try:\n",
        "                    imprimeGrafo(n_palavras, vertices, grafo)\n",
        "                    print(f\"\\nGrafo não-direcionado rotulado com {grafo.n} vértices e {grafo.m} arestas\\n\")\n",
        "                    print(\"O grafo visual foi criado no arquivo 'grafo.html'.\")\n",
        "                    time.sleep(5)\n",
        "                except NameError:\n",
        "                    print(\"[Erro: Grafo não criado]\")\n",
        "\n",
        "            elif choice == 8: # Exibe matriz\n",
        "                try:\n",
        "                    grafo.showMin()\n",
        "                    print((\"\\nAperte ENTER para continuar \"))\n",
        "                    ok = input()\n",
        "                except NameError:\n",
        "                    print(\"[Erro: Grafo não criado]\")\n",
        "\n",
        "            elif choice == 9: # Apresenta a conexidade do grafo e grafo reduzido\n",
        "                try:\n",
        "                    if(grafo.conexidade()):\n",
        "                        print(\"O grafo é conexo.\")\n",
        "                    else:\n",
        "                        print(\"O grafo não é conexo.\")\n",
        "                    time.sleep(5)\n",
        "                except NameError:\n",
        "                    print(\"[Erro: Grafo não criado]\")\n",
        "\n",
        "            elif choice == 10: # Encerra\n",
        "                fim = True\n",
        "                print(\"Encerrando programa...\")\n",
        "\n",
        "            elif choice == 11: # Busca um índice pela palavra\n",
        "                try:\n",
        "                    palavra = input(\"Palavra a ser consultada: \")\n",
        "                    indice = buscaIndice(n_palavras, vertices, palavra)\n",
        "                    if(indice == -1):\n",
        "                        print(\"[Erro: palavra não encontrada]\")\n",
        "                    else:\n",
        "                        print(f\"Índice de {palavra}: {indice}\")\n",
        "                        time.sleep(5)\n",
        "                except NameError:\n",
        "                    print(\"[Erro: Grafo não criado]\")\n",
        "\n",
        "            elif choice == 12: # Busca um índice pela palavra\n",
        "                try:\n",
        "                    indice = int(input(\"Índice a ser consultado: \"))\n",
        "                    try:\n",
        "                        palavra = buscaPalavra(n_palavras, vertices, indice)\n",
        "                        if(indice == -1):\n",
        "                            print(\"[Erro: palavra não encontrada]\")\n",
        "                        else:\n",
        "                            print(f\"Palavra do índice {indice}: {palavra}\")\n",
        "                            time.sleep(5)\n",
        "                    except NameError:\n",
        "                      print(\"[Erro: Grafo não criado]\")\n",
        "                except ValueError:\n",
        "                    print(\"[Erro: a entrada não é do tipo int]\")\n",
        "\n",
        "            elif choice == 13: # Fazer busca vetorial de uma palavra\n",
        "                busca = input(\"Insira uma palavra: \")\n",
        "                try:\n",
        "                    resultado = memoria.search(busca, top_n=3)\n",
        "                    print(f\"\\n\\nBusca: {busca}\\n\")\n",
        "                    for i in range(3):\n",
        "                        palavra = resultado[i]['chunk']\n",
        "                        distancia = resultado[i]['distance']\n",
        "                        print(f\"Palavra: {palavra}\\nDistância: {distancia:.2f}\\n\")\n",
        "                    print((\"\\nAperte ENTER para continuar \"))\n",
        "                    ok = input()\n",
        "                except IndexError:\n",
        "                    print(\"[Erro: Grafo não criado]\")\n",
        "\n",
        "            elif choice == 14: # Exibir árvore parcial de custo mínimo\n",
        "                try:\n",
        "                    lista_colorida = grafo.coloreV()\n",
        "                    n_cores = lista_colorida[0]\n",
        "                    cores = lista_colorida[1]\n",
        "                    if(imprimeGrafoColorido(n_palavras, vertices, grafo, n_cores, cores)):\n",
        "                        print(f\"\\nGrafo não-direcionado rotulado com {grafo.n} vértices, {grafo.m} arestas e {n_cores} cores\\n\")\n",
        "                        print(\"O grafo visual foi criado no arquivo 'grafo_colorido.html'.\")\n",
        "                        time.sleep(5)\n",
        "                    else:\n",
        "                        print(\"[Erro:Não é possível exibir um grafo com mais de 10 cores]\")\n",
        "                except NameError:\n",
        "                    print(\"[Erro: Grafo não criado]\")\n",
        "\n",
        "            elif choice == 15: # Exibir árvore parcial de custo mínimo\n",
        "                try:\n",
        "                    imprimeAPCM(n_palavras, vertices, grafo)\n",
        "                    print(\"O grafo visual foi criado no arquivo 'apcm.html'.\")\n",
        "                    time.sleep(5)\n",
        "                except NameError:\n",
        "                    print(\"[Erro: Grafo não criado]\")\n",
        "\n",
        "            else:\n",
        "                print(\"Opção inválida.\")\n",
        "\n",
        "        except ValueError:\n",
        "            # print(\"[Erro: a entrada não é do tipo int]\")\n",
        "            pass"
      ],
      "metadata": {
        "id": "RFnrcS1qrF1w"
      },
      "execution_count": 221,
      "outputs": []
    },
    {
      "cell_type": "markdown",
      "source": [
        "## Menu"
      ],
      "metadata": {
        "id": "0WqontbWrAbF"
      }
    },
    {
      "cell_type": "code",
      "source": [
        "menu()"
      ],
      "metadata": {
        "colab": {
          "base_uri": "https://localhost:8080/",
          "height": 547,
          "referenced_widgets": [
            "d242988c07224e95897e5d0ac78fa28c",
            "95d6fad5c95a41b8b527594a5ceac275",
            "407df4a0c4604be3b2f53300cf95629b",
            "e403e0c1c09e494b933a4d6e172f42f8",
            "6dee5c37ce094e018ce726d849f997ca",
            "accb43a6a7c14485a5ce7d211bd45145",
            "51a05de96a554a8aad56bffb3b390f09",
            "aa0b8d5fb8a149dbaf2895f98329f992",
            "f4b32c202e1444968dc0cc9ee1adfa18",
            "6b566cc6583d4f18aa208cedf3558ab0",
            "33e8df08c1844b94a8e09ddf180dfa4c",
            "e1e994a5e33f4b49950642be604575f1",
            "5b1efe76679d455691e3793edb61fef0",
            "8e0c392756a64dbe8b268c1840d5222b",
            "839a5a849c284ad38fc16d0fb2c91ff6",
            "7cd91a1da9874049ba41fcc0aaa37808",
            "2b6a732557c84894a04d032255ae543a",
            "a38b0908d9c54d4ea4474090a78bd8ad",
            "ddcf734096ad434798c48b95e545d99e",
            "23ad76412bfc4cac9d707084d426316b",
            "3015d1622bb44ea4835ae249a13cfce7",
            "5c082d6d790e47109c8d051f96014830",
            "7e94836e70b54ed58c774793f5a76836",
            "92c7eb14f1b945f5af7137a68d3e7281",
            "8cfd92ae13464fae9c527d178ae9f2bc",
            "10c380a0047b404391a92a8002348dc8",
            "3529069e7ee049a5b59c602a89122946",
            "cdd3d5edf6bf4f53a35e6d8cd783c3b4",
            "da217e28e23d4eb58e72b47b79b4fa64",
            "939cd307523d4f15af0cf8ffab14714e",
            "7a560cb1eb174941bb7777679526f7ca",
            "ded7ee52e2584d8db5a595df13473fdb",
            "cd3644b74ed743268815966f1fe1d239"
          ]
        },
        "id": "Th3FH-eHrIFU",
        "outputId": "ab9932f1-5d1f-49c5-e47e-1f8640c9a989"
      },
      "execution_count": 223,
      "outputs": [
        {
          "output_type": "display_data",
          "data": {
            "text/plain": [
              "HTML(value='\\n    <h1>Menu:</h1>\\n    <ol>\\n        <li>Ler dados do arquivo</li>\\n        <li>Gravar dados no…"
            ],
            "application/vnd.jupyter.widget-view+json": {
              "version_major": 2,
              "version_minor": 0,
              "model_id": "7a560cb1eb174941bb7777679526f7ca"
            }
          },
          "metadata": {}
        },
        {
          "output_type": "stream",
          "name": "stdout",
          "text": [
            "10\n",
            "Encerrando programa...\n"
          ]
        }
      ]
    }
  ],
  "metadata": {
    "colab": {
      "collapsed_sections": [
        "oX9e_J1rfR8k",
        "f4Fd36vBfY_m",
        "DjtCEtpOCxs2",
        "g2sI3d7Qz7ck",
        "Yfl6sRmvhI6E",
        "S5h_ns9chNkv",
        "IpHL4p1ihSzB",
        "zWYODqQXiaGN",
        "TmqCgxE0isy5",
        "CGlKvBrCi3qp",
        "xvG7B29cjGjs",
        "0RbhmJRQjX7y",
        "uuinIkupjvJp",
        "FGRvFRzYq9mk",
        "mF1yKHNqts1f"
      ],
      "provenance": [],
      "toc_visible": true,
      "include_colab_link": true
    },
    "kernelspec": {
      "display_name": "Python 3 (ipykernel)",
      "language": "python",
      "name": "python3"
    },
    "language_info": {
      "codemirror_mode": {
        "name": "ipython",
        "version": 3
      },
      "file_extension": ".py",
      "mimetype": "text/x-python",
      "name": "python",
      "nbconvert_exporter": "python",
      "pygments_lexer": "ipython3",
      "version": "3.10.11"
    },
    "widgets": {
      "application/vnd.jupyter.widget-state+json": {
        "d242988c07224e95897e5d0ac78fa28c": {
          "model_module": "@jupyter-widgets/controls",
          "model_name": "HTMLModel",
          "model_module_version": "1.5.0",
          "state": {
            "_dom_classes": [],
            "_model_module": "@jupyter-widgets/controls",
            "_model_module_version": "1.5.0",
            "_model_name": "HTMLModel",
            "_view_count": null,
            "_view_module": "@jupyter-widgets/controls",
            "_view_module_version": "1.5.0",
            "_view_name": "HTMLView",
            "description": "",
            "description_tooltip": null,
            "layout": "IPY_MODEL_95d6fad5c95a41b8b527594a5ceac275",
            "placeholder": "​",
            "style": "IPY_MODEL_407df4a0c4604be3b2f53300cf95629b",
            "value": "\n    <h1>Menu:</h1>\n    <ol>\n        <li>Ler dados do arquivo</li>\n        <li>Gravar dados no arquivo grafo.txt</li>\n        <li>Inserir vértice</li>\n        <li>Inserir aresta</li>\n        <li>Remover vértice</li>\n        <li>Remover aresta</li>\n        <li>Exibir grafo</li>\n        <li>Exibir matriz</li>\n        <li>Apresentar a conexidade do grafo</li>\n        <li>Encerrar a aplicação</li>\n        <li>Buscar um índice pela palavra</li>\n        <li>Buscar uma palavra pelo índice</li>\n        <li>Fazer busca vetorial</li>\n        <li>Exibir grafo colorido</li>\n        <li>Exibir árvore parcial de custo mínimo</li>\n    </ol>\n    "
          }
        },
        "95d6fad5c95a41b8b527594a5ceac275": {
          "model_module": "@jupyter-widgets/base",
          "model_name": "LayoutModel",
          "model_module_version": "1.2.0",
          "state": {
            "_model_module": "@jupyter-widgets/base",
            "_model_module_version": "1.2.0",
            "_model_name": "LayoutModel",
            "_view_count": null,
            "_view_module": "@jupyter-widgets/base",
            "_view_module_version": "1.2.0",
            "_view_name": "LayoutView",
            "align_content": null,
            "align_items": null,
            "align_self": null,
            "border": null,
            "bottom": null,
            "display": null,
            "flex": null,
            "flex_flow": null,
            "grid_area": null,
            "grid_auto_columns": null,
            "grid_auto_flow": null,
            "grid_auto_rows": null,
            "grid_column": null,
            "grid_gap": null,
            "grid_row": null,
            "grid_template_areas": null,
            "grid_template_columns": null,
            "grid_template_rows": null,
            "height": null,
            "justify_content": null,
            "justify_items": null,
            "left": null,
            "margin": null,
            "max_height": null,
            "max_width": null,
            "min_height": null,
            "min_width": null,
            "object_fit": null,
            "object_position": null,
            "order": null,
            "overflow": null,
            "overflow_x": null,
            "overflow_y": null,
            "padding": null,
            "right": null,
            "top": null,
            "visibility": null,
            "width": null
          }
        },
        "407df4a0c4604be3b2f53300cf95629b": {
          "model_module": "@jupyter-widgets/controls",
          "model_name": "DescriptionStyleModel",
          "model_module_version": "1.5.0",
          "state": {
            "_model_module": "@jupyter-widgets/controls",
            "_model_module_version": "1.5.0",
            "_model_name": "DescriptionStyleModel",
            "_view_count": null,
            "_view_module": "@jupyter-widgets/base",
            "_view_module_version": "1.2.0",
            "_view_name": "StyleView",
            "description_width": ""
          }
        },
        "e403e0c1c09e494b933a4d6e172f42f8": {
          "model_module": "@jupyter-widgets/controls",
          "model_name": "HTMLModel",
          "model_module_version": "1.5.0",
          "state": {
            "_dom_classes": [],
            "_model_module": "@jupyter-widgets/controls",
            "_model_module_version": "1.5.0",
            "_model_name": "HTMLModel",
            "_view_count": null,
            "_view_module": "@jupyter-widgets/controls",
            "_view_module_version": "1.5.0",
            "_view_name": "HTMLView",
            "description": "",
            "description_tooltip": null,
            "layout": "IPY_MODEL_6dee5c37ce094e018ce726d849f997ca",
            "placeholder": "​",
            "style": "IPY_MODEL_accb43a6a7c14485a5ce7d211bd45145",
            "value": "\n    <h1>Menu:</h1>\n    <ol>\n        <li>Ler dados do arquivo</li>\n        <li>Gravar dados no arquivo grafo.txt</li>\n        <li>Inserir vértice</li>\n        <li>Inserir aresta</li>\n        <li>Remover vértice</li>\n        <li>Remover aresta</li>\n        <li>Exibir grafo</li>\n        <li>Exibir matriz</li>\n        <li>Apresentar a conexidade do grafo</li>\n        <li>Encerrar a aplicação</li>\n        <li>Buscar um índice pela palavra</li>\n        <li>Buscar uma palavra pelo índice</li>\n        <li>Fazer busca vetorial</li>\n        <li>Exibir grafo colorido</li>\n        <li>Exibir árvore parcial de custo mínimo</li>\n    </ol>\n    "
          }
        },
        "6dee5c37ce094e018ce726d849f997ca": {
          "model_module": "@jupyter-widgets/base",
          "model_name": "LayoutModel",
          "model_module_version": "1.2.0",
          "state": {
            "_model_module": "@jupyter-widgets/base",
            "_model_module_version": "1.2.0",
            "_model_name": "LayoutModel",
            "_view_count": null,
            "_view_module": "@jupyter-widgets/base",
            "_view_module_version": "1.2.0",
            "_view_name": "LayoutView",
            "align_content": null,
            "align_items": null,
            "align_self": null,
            "border": null,
            "bottom": null,
            "display": null,
            "flex": null,
            "flex_flow": null,
            "grid_area": null,
            "grid_auto_columns": null,
            "grid_auto_flow": null,
            "grid_auto_rows": null,
            "grid_column": null,
            "grid_gap": null,
            "grid_row": null,
            "grid_template_areas": null,
            "grid_template_columns": null,
            "grid_template_rows": null,
            "height": null,
            "justify_content": null,
            "justify_items": null,
            "left": null,
            "margin": null,
            "max_height": null,
            "max_width": null,
            "min_height": null,
            "min_width": null,
            "object_fit": null,
            "object_position": null,
            "order": null,
            "overflow": null,
            "overflow_x": null,
            "overflow_y": null,
            "padding": null,
            "right": null,
            "top": null,
            "visibility": null,
            "width": null
          }
        },
        "accb43a6a7c14485a5ce7d211bd45145": {
          "model_module": "@jupyter-widgets/controls",
          "model_name": "DescriptionStyleModel",
          "model_module_version": "1.5.0",
          "state": {
            "_model_module": "@jupyter-widgets/controls",
            "_model_module_version": "1.5.0",
            "_model_name": "DescriptionStyleModel",
            "_view_count": null,
            "_view_module": "@jupyter-widgets/base",
            "_view_module_version": "1.2.0",
            "_view_name": "StyleView",
            "description_width": ""
          }
        },
        "51a05de96a554a8aad56bffb3b390f09": {
          "model_module": "@jupyter-widgets/controls",
          "model_name": "HTMLModel",
          "model_module_version": "1.5.0",
          "state": {
            "_dom_classes": [],
            "_model_module": "@jupyter-widgets/controls",
            "_model_module_version": "1.5.0",
            "_model_name": "HTMLModel",
            "_view_count": null,
            "_view_module": "@jupyter-widgets/controls",
            "_view_module_version": "1.5.0",
            "_view_name": "HTMLView",
            "description": "",
            "description_tooltip": null,
            "layout": "IPY_MODEL_aa0b8d5fb8a149dbaf2895f98329f992",
            "placeholder": "​",
            "style": "IPY_MODEL_f4b32c202e1444968dc0cc9ee1adfa18",
            "value": "\n    <h1>Menu:</h1>\n    <ol>\n        <li>Ler dados do arquivo</li>\n        <li>Gravar dados no arquivo grafo.txt</li>\n        <li>Inserir vértice</li>\n        <li>Inserir aresta</li>\n        <li>Remover vértice</li>\n        <li>Remover aresta</li>\n        <li>Exibir grafo</li>\n        <li>Exibir matriz</li>\n        <li>Apresentar a conexidade do grafo</li>\n        <li>Encerrar a aplicação</li>\n        <li>Buscar um índice pela palavra</li>\n        <li>Buscar uma palavra pelo índice</li>\n        <li>Fazer busca vetorial</li>\n        <li>Exibir grafo colorido</li>\n        <li>Exibir árvore parcial de custo mínimo</li>\n    </ol>\n    "
          }
        },
        "aa0b8d5fb8a149dbaf2895f98329f992": {
          "model_module": "@jupyter-widgets/base",
          "model_name": "LayoutModel",
          "model_module_version": "1.2.0",
          "state": {
            "_model_module": "@jupyter-widgets/base",
            "_model_module_version": "1.2.0",
            "_model_name": "LayoutModel",
            "_view_count": null,
            "_view_module": "@jupyter-widgets/base",
            "_view_module_version": "1.2.0",
            "_view_name": "LayoutView",
            "align_content": null,
            "align_items": null,
            "align_self": null,
            "border": null,
            "bottom": null,
            "display": null,
            "flex": null,
            "flex_flow": null,
            "grid_area": null,
            "grid_auto_columns": null,
            "grid_auto_flow": null,
            "grid_auto_rows": null,
            "grid_column": null,
            "grid_gap": null,
            "grid_row": null,
            "grid_template_areas": null,
            "grid_template_columns": null,
            "grid_template_rows": null,
            "height": null,
            "justify_content": null,
            "justify_items": null,
            "left": null,
            "margin": null,
            "max_height": null,
            "max_width": null,
            "min_height": null,
            "min_width": null,
            "object_fit": null,
            "object_position": null,
            "order": null,
            "overflow": null,
            "overflow_x": null,
            "overflow_y": null,
            "padding": null,
            "right": null,
            "top": null,
            "visibility": null,
            "width": null
          }
        },
        "f4b32c202e1444968dc0cc9ee1adfa18": {
          "model_module": "@jupyter-widgets/controls",
          "model_name": "DescriptionStyleModel",
          "model_module_version": "1.5.0",
          "state": {
            "_model_module": "@jupyter-widgets/controls",
            "_model_module_version": "1.5.0",
            "_model_name": "DescriptionStyleModel",
            "_view_count": null,
            "_view_module": "@jupyter-widgets/base",
            "_view_module_version": "1.2.0",
            "_view_name": "StyleView",
            "description_width": ""
          }
        },
        "6b566cc6583d4f18aa208cedf3558ab0": {
          "model_module": "@jupyter-widgets/controls",
          "model_name": "HTMLModel",
          "model_module_version": "1.5.0",
          "state": {
            "_dom_classes": [],
            "_model_module": "@jupyter-widgets/controls",
            "_model_module_version": "1.5.0",
            "_model_name": "HTMLModel",
            "_view_count": null,
            "_view_module": "@jupyter-widgets/controls",
            "_view_module_version": "1.5.0",
            "_view_name": "HTMLView",
            "description": "",
            "description_tooltip": null,
            "layout": "IPY_MODEL_33e8df08c1844b94a8e09ddf180dfa4c",
            "placeholder": "​",
            "style": "IPY_MODEL_e1e994a5e33f4b49950642be604575f1",
            "value": "\n    <h1>Menu:</h1>\n    <ol>\n        <li>Ler dados do arquivo</li>\n        <li>Gravar dados no arquivo grafo.txt</li>\n        <li>Inserir vértice</li>\n        <li>Inserir aresta</li>\n        <li>Remover vértice</li>\n        <li>Remover aresta</li>\n        <li>Exibir grafo</li>\n        <li>Exibir matriz</li>\n        <li>Apresentar a conexidade do grafo</li>\n        <li>Encerrar a aplicação</li>\n        <li>Buscar um índice pela palavra</li>\n        <li>Buscar uma palavra pelo índice</li>\n        <li>Fazer busca vetorial</li>\n        <li>Exibir grafo colorido</li>\n        <li>Exibir árvore parcial de custo mínimo</li>\n    </ol>\n    "
          }
        },
        "33e8df08c1844b94a8e09ddf180dfa4c": {
          "model_module": "@jupyter-widgets/base",
          "model_name": "LayoutModel",
          "model_module_version": "1.2.0",
          "state": {
            "_model_module": "@jupyter-widgets/base",
            "_model_module_version": "1.2.0",
            "_model_name": "LayoutModel",
            "_view_count": null,
            "_view_module": "@jupyter-widgets/base",
            "_view_module_version": "1.2.0",
            "_view_name": "LayoutView",
            "align_content": null,
            "align_items": null,
            "align_self": null,
            "border": null,
            "bottom": null,
            "display": null,
            "flex": null,
            "flex_flow": null,
            "grid_area": null,
            "grid_auto_columns": null,
            "grid_auto_flow": null,
            "grid_auto_rows": null,
            "grid_column": null,
            "grid_gap": null,
            "grid_row": null,
            "grid_template_areas": null,
            "grid_template_columns": null,
            "grid_template_rows": null,
            "height": null,
            "justify_content": null,
            "justify_items": null,
            "left": null,
            "margin": null,
            "max_height": null,
            "max_width": null,
            "min_height": null,
            "min_width": null,
            "object_fit": null,
            "object_position": null,
            "order": null,
            "overflow": null,
            "overflow_x": null,
            "overflow_y": null,
            "padding": null,
            "right": null,
            "top": null,
            "visibility": null,
            "width": null
          }
        },
        "e1e994a5e33f4b49950642be604575f1": {
          "model_module": "@jupyter-widgets/controls",
          "model_name": "DescriptionStyleModel",
          "model_module_version": "1.5.0",
          "state": {
            "_model_module": "@jupyter-widgets/controls",
            "_model_module_version": "1.5.0",
            "_model_name": "DescriptionStyleModel",
            "_view_count": null,
            "_view_module": "@jupyter-widgets/base",
            "_view_module_version": "1.2.0",
            "_view_name": "StyleView",
            "description_width": ""
          }
        },
        "5b1efe76679d455691e3793edb61fef0": {
          "model_module": "@jupyter-widgets/controls",
          "model_name": "HTMLModel",
          "model_module_version": "1.5.0",
          "state": {
            "_dom_classes": [],
            "_model_module": "@jupyter-widgets/controls",
            "_model_module_version": "1.5.0",
            "_model_name": "HTMLModel",
            "_view_count": null,
            "_view_module": "@jupyter-widgets/controls",
            "_view_module_version": "1.5.0",
            "_view_name": "HTMLView",
            "description": "",
            "description_tooltip": null,
            "layout": "IPY_MODEL_8e0c392756a64dbe8b268c1840d5222b",
            "placeholder": "​",
            "style": "IPY_MODEL_839a5a849c284ad38fc16d0fb2c91ff6",
            "value": "\n    <h1>Menu:</h1>\n    <ol>\n        <li>Ler dados do arquivo</li>\n        <li>Gravar dados no arquivo grafo.txt</li>\n        <li>Inserir vértice</li>\n        <li>Inserir aresta</li>\n        <li>Remover vértice</li>\n        <li>Remover aresta</li>\n        <li>Exibir grafo</li>\n        <li>Exibir matriz</li>\n        <li>Apresentar a conexidade do grafo</li>\n        <li>Encerrar a aplicação</li>\n        <li>Buscar um índice pela palavra</li>\n        <li>Buscar uma palavra pelo índice</li>\n        <li>Fazer busca vetorial</li>\n        <li>Exibir grafo colorido</li>\n        <li>Exibir árvore parcial de custo mínimo</li>\n    </ol>\n    "
          }
        },
        "8e0c392756a64dbe8b268c1840d5222b": {
          "model_module": "@jupyter-widgets/base",
          "model_name": "LayoutModel",
          "model_module_version": "1.2.0",
          "state": {
            "_model_module": "@jupyter-widgets/base",
            "_model_module_version": "1.2.0",
            "_model_name": "LayoutModel",
            "_view_count": null,
            "_view_module": "@jupyter-widgets/base",
            "_view_module_version": "1.2.0",
            "_view_name": "LayoutView",
            "align_content": null,
            "align_items": null,
            "align_self": null,
            "border": null,
            "bottom": null,
            "display": null,
            "flex": null,
            "flex_flow": null,
            "grid_area": null,
            "grid_auto_columns": null,
            "grid_auto_flow": null,
            "grid_auto_rows": null,
            "grid_column": null,
            "grid_gap": null,
            "grid_row": null,
            "grid_template_areas": null,
            "grid_template_columns": null,
            "grid_template_rows": null,
            "height": null,
            "justify_content": null,
            "justify_items": null,
            "left": null,
            "margin": null,
            "max_height": null,
            "max_width": null,
            "min_height": null,
            "min_width": null,
            "object_fit": null,
            "object_position": null,
            "order": null,
            "overflow": null,
            "overflow_x": null,
            "overflow_y": null,
            "padding": null,
            "right": null,
            "top": null,
            "visibility": null,
            "width": null
          }
        },
        "839a5a849c284ad38fc16d0fb2c91ff6": {
          "model_module": "@jupyter-widgets/controls",
          "model_name": "DescriptionStyleModel",
          "model_module_version": "1.5.0",
          "state": {
            "_model_module": "@jupyter-widgets/controls",
            "_model_module_version": "1.5.0",
            "_model_name": "DescriptionStyleModel",
            "_view_count": null,
            "_view_module": "@jupyter-widgets/base",
            "_view_module_version": "1.2.0",
            "_view_name": "StyleView",
            "description_width": ""
          }
        },
        "7cd91a1da9874049ba41fcc0aaa37808": {
          "model_module": "@jupyter-widgets/controls",
          "model_name": "HTMLModel",
          "model_module_version": "1.5.0",
          "state": {
            "_dom_classes": [],
            "_model_module": "@jupyter-widgets/controls",
            "_model_module_version": "1.5.0",
            "_model_name": "HTMLModel",
            "_view_count": null,
            "_view_module": "@jupyter-widgets/controls",
            "_view_module_version": "1.5.0",
            "_view_name": "HTMLView",
            "description": "",
            "description_tooltip": null,
            "layout": "IPY_MODEL_2b6a732557c84894a04d032255ae543a",
            "placeholder": "​",
            "style": "IPY_MODEL_a38b0908d9c54d4ea4474090a78bd8ad",
            "value": "\n    <h1>Menu:</h1>\n    <ol>\n        <li>Ler dados do arquivo</li>\n        <li>Gravar dados no arquivo grafo.txt</li>\n        <li>Inserir vértice</li>\n        <li>Inserir aresta</li>\n        <li>Remover vértice</li>\n        <li>Remover aresta</li>\n        <li>Exibir grafo</li>\n        <li>Exibir matriz</li>\n        <li>Apresentar a conexidade do grafo</li>\n        <li>Encerrar a aplicação</li>\n        <li>Buscar um índice pela palavra</li>\n        <li>Buscar uma palavra pelo índice</li>\n        <li>Fazer busca vetorial</li>\n        <li>Exibir grafo colorido</li>\n        <li>Exibir árvore parcial de custo mínimo</li>\n    </ol>\n    "
          }
        },
        "2b6a732557c84894a04d032255ae543a": {
          "model_module": "@jupyter-widgets/base",
          "model_name": "LayoutModel",
          "model_module_version": "1.2.0",
          "state": {
            "_model_module": "@jupyter-widgets/base",
            "_model_module_version": "1.2.0",
            "_model_name": "LayoutModel",
            "_view_count": null,
            "_view_module": "@jupyter-widgets/base",
            "_view_module_version": "1.2.0",
            "_view_name": "LayoutView",
            "align_content": null,
            "align_items": null,
            "align_self": null,
            "border": null,
            "bottom": null,
            "display": null,
            "flex": null,
            "flex_flow": null,
            "grid_area": null,
            "grid_auto_columns": null,
            "grid_auto_flow": null,
            "grid_auto_rows": null,
            "grid_column": null,
            "grid_gap": null,
            "grid_row": null,
            "grid_template_areas": null,
            "grid_template_columns": null,
            "grid_template_rows": null,
            "height": null,
            "justify_content": null,
            "justify_items": null,
            "left": null,
            "margin": null,
            "max_height": null,
            "max_width": null,
            "min_height": null,
            "min_width": null,
            "object_fit": null,
            "object_position": null,
            "order": null,
            "overflow": null,
            "overflow_x": null,
            "overflow_y": null,
            "padding": null,
            "right": null,
            "top": null,
            "visibility": null,
            "width": null
          }
        },
        "a38b0908d9c54d4ea4474090a78bd8ad": {
          "model_module": "@jupyter-widgets/controls",
          "model_name": "DescriptionStyleModel",
          "model_module_version": "1.5.0",
          "state": {
            "_model_module": "@jupyter-widgets/controls",
            "_model_module_version": "1.5.0",
            "_model_name": "DescriptionStyleModel",
            "_view_count": null,
            "_view_module": "@jupyter-widgets/base",
            "_view_module_version": "1.2.0",
            "_view_name": "StyleView",
            "description_width": ""
          }
        },
        "ddcf734096ad434798c48b95e545d99e": {
          "model_module": "@jupyter-widgets/controls",
          "model_name": "HTMLModel",
          "model_module_version": "1.5.0",
          "state": {
            "_dom_classes": [],
            "_model_module": "@jupyter-widgets/controls",
            "_model_module_version": "1.5.0",
            "_model_name": "HTMLModel",
            "_view_count": null,
            "_view_module": "@jupyter-widgets/controls",
            "_view_module_version": "1.5.0",
            "_view_name": "HTMLView",
            "description": "",
            "description_tooltip": null,
            "layout": "IPY_MODEL_23ad76412bfc4cac9d707084d426316b",
            "placeholder": "​",
            "style": "IPY_MODEL_3015d1622bb44ea4835ae249a13cfce7",
            "value": "\n    <h1>Menu:</h1>\n    <ol>\n        <li>Ler dados do arquivo</li>\n        <li>Gravar dados no arquivo grafo.txt</li>\n        <li>Inserir vértice</li>\n        <li>Inserir aresta</li>\n        <li>Remover vértice</li>\n        <li>Remover aresta</li>\n        <li>Exibir grafo</li>\n        <li>Exibir matriz</li>\n        <li>Apresentar a conexidade do grafo</li>\n        <li>Encerrar a aplicação</li>\n        <li>Buscar um índice pela palavra</li>\n        <li>Buscar uma palavra pelo índice</li>\n        <li>Fazer busca vetorial</li>\n        <li>Exibir grafo colorido</li>\n        <li>Exibir árvore parcial de custo mínimo</li>\n    </ol>\n    "
          }
        },
        "23ad76412bfc4cac9d707084d426316b": {
          "model_module": "@jupyter-widgets/base",
          "model_name": "LayoutModel",
          "model_module_version": "1.2.0",
          "state": {
            "_model_module": "@jupyter-widgets/base",
            "_model_module_version": "1.2.0",
            "_model_name": "LayoutModel",
            "_view_count": null,
            "_view_module": "@jupyter-widgets/base",
            "_view_module_version": "1.2.0",
            "_view_name": "LayoutView",
            "align_content": null,
            "align_items": null,
            "align_self": null,
            "border": null,
            "bottom": null,
            "display": null,
            "flex": null,
            "flex_flow": null,
            "grid_area": null,
            "grid_auto_columns": null,
            "grid_auto_flow": null,
            "grid_auto_rows": null,
            "grid_column": null,
            "grid_gap": null,
            "grid_row": null,
            "grid_template_areas": null,
            "grid_template_columns": null,
            "grid_template_rows": null,
            "height": null,
            "justify_content": null,
            "justify_items": null,
            "left": null,
            "margin": null,
            "max_height": null,
            "max_width": null,
            "min_height": null,
            "min_width": null,
            "object_fit": null,
            "object_position": null,
            "order": null,
            "overflow": null,
            "overflow_x": null,
            "overflow_y": null,
            "padding": null,
            "right": null,
            "top": null,
            "visibility": null,
            "width": null
          }
        },
        "3015d1622bb44ea4835ae249a13cfce7": {
          "model_module": "@jupyter-widgets/controls",
          "model_name": "DescriptionStyleModel",
          "model_module_version": "1.5.0",
          "state": {
            "_model_module": "@jupyter-widgets/controls",
            "_model_module_version": "1.5.0",
            "_model_name": "DescriptionStyleModel",
            "_view_count": null,
            "_view_module": "@jupyter-widgets/base",
            "_view_module_version": "1.2.0",
            "_view_name": "StyleView",
            "description_width": ""
          }
        },
        "5c082d6d790e47109c8d051f96014830": {
          "model_module": "@jupyter-widgets/controls",
          "model_name": "HTMLModel",
          "model_module_version": "1.5.0",
          "state": {
            "_dom_classes": [],
            "_model_module": "@jupyter-widgets/controls",
            "_model_module_version": "1.5.0",
            "_model_name": "HTMLModel",
            "_view_count": null,
            "_view_module": "@jupyter-widgets/controls",
            "_view_module_version": "1.5.0",
            "_view_name": "HTMLView",
            "description": "",
            "description_tooltip": null,
            "layout": "IPY_MODEL_7e94836e70b54ed58c774793f5a76836",
            "placeholder": "​",
            "style": "IPY_MODEL_92c7eb14f1b945f5af7137a68d3e7281",
            "value": "\n    <h1>Menu:</h1>\n    <ol>\n        <li>Ler dados do arquivo</li>\n        <li>Gravar dados no arquivo grafo.txt</li>\n        <li>Inserir vértice</li>\n        <li>Inserir aresta</li>\n        <li>Remover vértice</li>\n        <li>Remover aresta</li>\n        <li>Exibir grafo</li>\n        <li>Exibir matriz</li>\n        <li>Apresentar a conexidade do grafo</li>\n        <li>Encerrar a aplicação</li>\n        <li>Buscar um índice pela palavra</li>\n        <li>Buscar uma palavra pelo índice</li>\n        <li>Fazer busca vetorial</li>\n        <li>Exibir grafo colorido</li>\n        <li>Exibir árvore parcial de custo mínimo</li>\n    </ol>\n    "
          }
        },
        "7e94836e70b54ed58c774793f5a76836": {
          "model_module": "@jupyter-widgets/base",
          "model_name": "LayoutModel",
          "model_module_version": "1.2.0",
          "state": {
            "_model_module": "@jupyter-widgets/base",
            "_model_module_version": "1.2.0",
            "_model_name": "LayoutModel",
            "_view_count": null,
            "_view_module": "@jupyter-widgets/base",
            "_view_module_version": "1.2.0",
            "_view_name": "LayoutView",
            "align_content": null,
            "align_items": null,
            "align_self": null,
            "border": null,
            "bottom": null,
            "display": null,
            "flex": null,
            "flex_flow": null,
            "grid_area": null,
            "grid_auto_columns": null,
            "grid_auto_flow": null,
            "grid_auto_rows": null,
            "grid_column": null,
            "grid_gap": null,
            "grid_row": null,
            "grid_template_areas": null,
            "grid_template_columns": null,
            "grid_template_rows": null,
            "height": null,
            "justify_content": null,
            "justify_items": null,
            "left": null,
            "margin": null,
            "max_height": null,
            "max_width": null,
            "min_height": null,
            "min_width": null,
            "object_fit": null,
            "object_position": null,
            "order": null,
            "overflow": null,
            "overflow_x": null,
            "overflow_y": null,
            "padding": null,
            "right": null,
            "top": null,
            "visibility": null,
            "width": null
          }
        },
        "92c7eb14f1b945f5af7137a68d3e7281": {
          "model_module": "@jupyter-widgets/controls",
          "model_name": "DescriptionStyleModel",
          "model_module_version": "1.5.0",
          "state": {
            "_model_module": "@jupyter-widgets/controls",
            "_model_module_version": "1.5.0",
            "_model_name": "DescriptionStyleModel",
            "_view_count": null,
            "_view_module": "@jupyter-widgets/base",
            "_view_module_version": "1.2.0",
            "_view_name": "StyleView",
            "description_width": ""
          }
        },
        "8cfd92ae13464fae9c527d178ae9f2bc": {
          "model_module": "@jupyter-widgets/controls",
          "model_name": "HTMLModel",
          "model_module_version": "1.5.0",
          "state": {
            "_dom_classes": [],
            "_model_module": "@jupyter-widgets/controls",
            "_model_module_version": "1.5.0",
            "_model_name": "HTMLModel",
            "_view_count": null,
            "_view_module": "@jupyter-widgets/controls",
            "_view_module_version": "1.5.0",
            "_view_name": "HTMLView",
            "description": "",
            "description_tooltip": null,
            "layout": "IPY_MODEL_10c380a0047b404391a92a8002348dc8",
            "placeholder": "​",
            "style": "IPY_MODEL_3529069e7ee049a5b59c602a89122946",
            "value": "\n    <h1>Menu:</h1>\n    <ol>\n        <li>Ler dados do arquivo</li>\n        <li>Gravar dados no arquivo grafo.txt</li>\n        <li>Inserir vértice</li>\n        <li>Inserir aresta</li>\n        <li>Remover vértice</li>\n        <li>Remover aresta</li>\n        <li>Exibir grafo</li>\n        <li>Exibir matriz</li>\n        <li>Apresentar a conexidade do grafo</li>\n        <li>Encerrar a aplicação</li>\n        <li>Buscar um índice pela palavra</li>\n        <li>Buscar uma palavra pelo índice</li>\n        <li>Fazer busca vetorial</li>\n        <li>Exibir grafo colorido</li>\n        <li>Exibir árvore parcial de custo mínimo</li>\n    </ol>\n    "
          }
        },
        "10c380a0047b404391a92a8002348dc8": {
          "model_module": "@jupyter-widgets/base",
          "model_name": "LayoutModel",
          "model_module_version": "1.2.0",
          "state": {
            "_model_module": "@jupyter-widgets/base",
            "_model_module_version": "1.2.0",
            "_model_name": "LayoutModel",
            "_view_count": null,
            "_view_module": "@jupyter-widgets/base",
            "_view_module_version": "1.2.0",
            "_view_name": "LayoutView",
            "align_content": null,
            "align_items": null,
            "align_self": null,
            "border": null,
            "bottom": null,
            "display": null,
            "flex": null,
            "flex_flow": null,
            "grid_area": null,
            "grid_auto_columns": null,
            "grid_auto_flow": null,
            "grid_auto_rows": null,
            "grid_column": null,
            "grid_gap": null,
            "grid_row": null,
            "grid_template_areas": null,
            "grid_template_columns": null,
            "grid_template_rows": null,
            "height": null,
            "justify_content": null,
            "justify_items": null,
            "left": null,
            "margin": null,
            "max_height": null,
            "max_width": null,
            "min_height": null,
            "min_width": null,
            "object_fit": null,
            "object_position": null,
            "order": null,
            "overflow": null,
            "overflow_x": null,
            "overflow_y": null,
            "padding": null,
            "right": null,
            "top": null,
            "visibility": null,
            "width": null
          }
        },
        "3529069e7ee049a5b59c602a89122946": {
          "model_module": "@jupyter-widgets/controls",
          "model_name": "DescriptionStyleModel",
          "model_module_version": "1.5.0",
          "state": {
            "_model_module": "@jupyter-widgets/controls",
            "_model_module_version": "1.5.0",
            "_model_name": "DescriptionStyleModel",
            "_view_count": null,
            "_view_module": "@jupyter-widgets/base",
            "_view_module_version": "1.2.0",
            "_view_name": "StyleView",
            "description_width": ""
          }
        },
        "cdd3d5edf6bf4f53a35e6d8cd783c3b4": {
          "model_module": "@jupyter-widgets/controls",
          "model_name": "HTMLModel",
          "model_module_version": "1.5.0",
          "state": {
            "_dom_classes": [],
            "_model_module": "@jupyter-widgets/controls",
            "_model_module_version": "1.5.0",
            "_model_name": "HTMLModel",
            "_view_count": null,
            "_view_module": "@jupyter-widgets/controls",
            "_view_module_version": "1.5.0",
            "_view_name": "HTMLView",
            "description": "",
            "description_tooltip": null,
            "layout": "IPY_MODEL_da217e28e23d4eb58e72b47b79b4fa64",
            "placeholder": "​",
            "style": "IPY_MODEL_939cd307523d4f15af0cf8ffab14714e",
            "value": "\n    <h1>Menu:</h1>\n    <ol>\n        <li>Ler dados do arquivo</li>\n        <li>Gravar dados no arquivo grafo.txt</li>\n        <li>Inserir vértice</li>\n        <li>Inserir aresta</li>\n        <li>Remover vértice</li>\n        <li>Remover aresta</li>\n        <li>Exibir grafo</li>\n        <li>Exibir matriz</li>\n        <li>Apresentar a conexidade do grafo</li>\n        <li>Encerrar a aplicação</li>\n        <li>Buscar um índice pela palavra</li>\n        <li>Buscar uma palavra pelo índice</li>\n        <li>Fazer busca vetorial</li>\n        <li>Exibir grafo colorido</li>\n        <li>Exibir árvore parcial de custo mínimo</li>\n    </ol>\n    "
          }
        },
        "da217e28e23d4eb58e72b47b79b4fa64": {
          "model_module": "@jupyter-widgets/base",
          "model_name": "LayoutModel",
          "model_module_version": "1.2.0",
          "state": {
            "_model_module": "@jupyter-widgets/base",
            "_model_module_version": "1.2.0",
            "_model_name": "LayoutModel",
            "_view_count": null,
            "_view_module": "@jupyter-widgets/base",
            "_view_module_version": "1.2.0",
            "_view_name": "LayoutView",
            "align_content": null,
            "align_items": null,
            "align_self": null,
            "border": null,
            "bottom": null,
            "display": null,
            "flex": null,
            "flex_flow": null,
            "grid_area": null,
            "grid_auto_columns": null,
            "grid_auto_flow": null,
            "grid_auto_rows": null,
            "grid_column": null,
            "grid_gap": null,
            "grid_row": null,
            "grid_template_areas": null,
            "grid_template_columns": null,
            "grid_template_rows": null,
            "height": null,
            "justify_content": null,
            "justify_items": null,
            "left": null,
            "margin": null,
            "max_height": null,
            "max_width": null,
            "min_height": null,
            "min_width": null,
            "object_fit": null,
            "object_position": null,
            "order": null,
            "overflow": null,
            "overflow_x": null,
            "overflow_y": null,
            "padding": null,
            "right": null,
            "top": null,
            "visibility": null,
            "width": null
          }
        },
        "939cd307523d4f15af0cf8ffab14714e": {
          "model_module": "@jupyter-widgets/controls",
          "model_name": "DescriptionStyleModel",
          "model_module_version": "1.5.0",
          "state": {
            "_model_module": "@jupyter-widgets/controls",
            "_model_module_version": "1.5.0",
            "_model_name": "DescriptionStyleModel",
            "_view_count": null,
            "_view_module": "@jupyter-widgets/base",
            "_view_module_version": "1.2.0",
            "_view_name": "StyleView",
            "description_width": ""
          }
        },
        "7a560cb1eb174941bb7777679526f7ca": {
          "model_module": "@jupyter-widgets/controls",
          "model_name": "HTMLModel",
          "model_module_version": "1.5.0",
          "state": {
            "_dom_classes": [],
            "_model_module": "@jupyter-widgets/controls",
            "_model_module_version": "1.5.0",
            "_model_name": "HTMLModel",
            "_view_count": null,
            "_view_module": "@jupyter-widgets/controls",
            "_view_module_version": "1.5.0",
            "_view_name": "HTMLView",
            "description": "",
            "description_tooltip": null,
            "layout": "IPY_MODEL_ded7ee52e2584d8db5a595df13473fdb",
            "placeholder": "​",
            "style": "IPY_MODEL_cd3644b74ed743268815966f1fe1d239",
            "value": "\n    <h1>Menu:</h1>\n    <ol>\n        <li>Ler dados do arquivo</li>\n        <li>Gravar dados no arquivo grafo.txt</li>\n        <li>Inserir vértice</li>\n        <li>Inserir aresta</li>\n        <li>Remover vértice</li>\n        <li>Remover aresta</li>\n        <li>Exibir grafo</li>\n        <li>Exibir matriz</li>\n        <li>Apresentar a conexidade do grafo</li>\n        <li>Encerrar a aplicação</li>\n        <li>Buscar um índice pela palavra</li>\n        <li>Buscar uma palavra pelo índice</li>\n        <li>Fazer busca vetorial</li>\n        <li>Exibir grafo colorido</li>\n        <li>Exibir árvore parcial de custo mínimo</li>\n    </ol>\n    "
          }
        },
        "ded7ee52e2584d8db5a595df13473fdb": {
          "model_module": "@jupyter-widgets/base",
          "model_name": "LayoutModel",
          "model_module_version": "1.2.0",
          "state": {
            "_model_module": "@jupyter-widgets/base",
            "_model_module_version": "1.2.0",
            "_model_name": "LayoutModel",
            "_view_count": null,
            "_view_module": "@jupyter-widgets/base",
            "_view_module_version": "1.2.0",
            "_view_name": "LayoutView",
            "align_content": null,
            "align_items": null,
            "align_self": null,
            "border": null,
            "bottom": null,
            "display": null,
            "flex": null,
            "flex_flow": null,
            "grid_area": null,
            "grid_auto_columns": null,
            "grid_auto_flow": null,
            "grid_auto_rows": null,
            "grid_column": null,
            "grid_gap": null,
            "grid_row": null,
            "grid_template_areas": null,
            "grid_template_columns": null,
            "grid_template_rows": null,
            "height": null,
            "justify_content": null,
            "justify_items": null,
            "left": null,
            "margin": null,
            "max_height": null,
            "max_width": null,
            "min_height": null,
            "min_width": null,
            "object_fit": null,
            "object_position": null,
            "order": null,
            "overflow": null,
            "overflow_x": null,
            "overflow_y": null,
            "padding": null,
            "right": null,
            "top": null,
            "visibility": null,
            "width": null
          }
        },
        "cd3644b74ed743268815966f1fe1d239": {
          "model_module": "@jupyter-widgets/controls",
          "model_name": "DescriptionStyleModel",
          "model_module_version": "1.5.0",
          "state": {
            "_model_module": "@jupyter-widgets/controls",
            "_model_module_version": "1.5.0",
            "_model_name": "DescriptionStyleModel",
            "_view_count": null,
            "_view_module": "@jupyter-widgets/base",
            "_view_module_version": "1.2.0",
            "_view_name": "StyleView",
            "description_width": ""
          }
        }
      }
    }
  },
  "nbformat": 4,
  "nbformat_minor": 0
}