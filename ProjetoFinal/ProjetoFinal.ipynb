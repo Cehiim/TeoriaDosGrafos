{
  "cells": [
    {
      "cell_type": "markdown",
      "metadata": {
        "id": "view-in-github",
        "colab_type": "text"
      },
      "source": [
        "<a href=\"https://colab.research.google.com/github/Cehiim/TeoriaDosGrafos/blob/main/ProjetoFinal/ProjetoFinal.ipynb\" target=\"_parent\"><img src=\"https://colab.research.google.com/assets/colab-badge.svg\" alt=\"Open In Colab\"/></a>"
      ]
    },
    {
      "cell_type": "markdown",
      "source": [
        "# Informações gerais\n",
        "\n",
        "## Tema\n",
        "* Aplicação com busca semântica para representação de grafos.\n",
        "\n",
        "## Integrantes\n",
        "* Cesar Hideki Imai - 10402758.\n",
        "* João Victor Dallapé Madeira - 10400725.\n",
        "* David Varão Lima Bentes Pessoa - 10402647.\n",
        "* André Franco Ranieri - 10390470."
      ],
      "metadata": {
        "id": "XYffMUNr2Ila"
      }
    },
    {
      "cell_type": "markdown",
      "metadata": {
        "id": "oX9e_J1rfR8k"
      },
      "source": [
        "# Setup"
      ]
    },
    {
      "cell_type": "markdown",
      "metadata": {
        "id": "f4Fd36vBfY_m"
      },
      "source": [
        "## Integração dos pacotes"
      ]
    },
    {
      "cell_type": "markdown",
      "metadata": {
        "id": "YI_J43xnrFIo"
      },
      "source": [
        "O pacote `vectordb2` é usado para armazenar e recuperar textos usando técnicas de *chunking* (segmentação de texto), *embedding* (conversão de texto para vetores numéricos) e busca vetorial.\n",
        "\n",
        "[Referência](https://vectordb.com/)"
      ]
    },
    {
      "cell_type": "code",
      "execution_count": null,
      "metadata": {
        "colab": {
          "base_uri": "https://localhost:8080/"
        },
        "collapsed": true,
        "id": "yy3H5b34UlKV",
        "jupyter": {
          "outputs_hidden": true
        },
        "outputId": "cd301c0d-c203-456a-b1a8-55fb3e103980"
      },
      "outputs": [
        {
          "output_type": "stream",
          "name": "stdout",
          "text": [
            "Collecting vectordb2\n",
            "  Downloading vectordb2-0.1.9-py3-none-any.whl.metadata (1.1 kB)\n",
            "Requirement already satisfied: torch>=1.9.0 in /usr/local/lib/python3.10/dist-packages (from vectordb2) (2.5.0+cu121)\n",
            "Requirement already satisfied: transformers>=4.10.0 in /usr/local/lib/python3.10/dist-packages (from vectordb2) (4.44.2)\n",
            "Requirement already satisfied: numpy>=1.21.0 in /usr/local/lib/python3.10/dist-packages (from vectordb2) (1.26.4)\n",
            "Requirement already satisfied: scikit-learn>=0.24.0 in /usr/local/lib/python3.10/dist-packages (from vectordb2) (1.5.2)\n",
            "Requirement already satisfied: scipy>=1.7.0 in /usr/local/lib/python3.10/dist-packages (from vectordb2) (1.13.1)\n",
            "Requirement already satisfied: sentence-transformers in /usr/local/lib/python3.10/dist-packages (from vectordb2) (3.2.1)\n",
            "Collecting faiss-cpu (from vectordb2)\n",
            "  Downloading faiss_cpu-1.9.0-cp310-cp310-manylinux_2_17_x86_64.manylinux2014_x86_64.whl.metadata (4.4 kB)\n",
            "Collecting tensorflow-text (from vectordb2)\n",
            "  Downloading tensorflow_text-2.18.0-cp310-cp310-manylinux_2_17_x86_64.manylinux2014_x86_64.whl.metadata (1.8 kB)\n",
            "Requirement already satisfied: joblib>=1.2.0 in /usr/local/lib/python3.10/dist-packages (from scikit-learn>=0.24.0->vectordb2) (1.4.2)\n",
            "Requirement already satisfied: threadpoolctl>=3.1.0 in /usr/local/lib/python3.10/dist-packages (from scikit-learn>=0.24.0->vectordb2) (3.5.0)\n",
            "Requirement already satisfied: filelock in /usr/local/lib/python3.10/dist-packages (from torch>=1.9.0->vectordb2) (3.16.1)\n",
            "Requirement already satisfied: typing-extensions>=4.8.0 in /usr/local/lib/python3.10/dist-packages (from torch>=1.9.0->vectordb2) (4.12.2)\n",
            "Requirement already satisfied: networkx in /usr/local/lib/python3.10/dist-packages (from torch>=1.9.0->vectordb2) (3.4.2)\n",
            "Requirement already satisfied: jinja2 in /usr/local/lib/python3.10/dist-packages (from torch>=1.9.0->vectordb2) (3.1.4)\n",
            "Requirement already satisfied: fsspec in /usr/local/lib/python3.10/dist-packages (from torch>=1.9.0->vectordb2) (2024.10.0)\n",
            "Requirement already satisfied: sympy==1.13.1 in /usr/local/lib/python3.10/dist-packages (from torch>=1.9.0->vectordb2) (1.13.1)\n",
            "Requirement already satisfied: mpmath<1.4,>=1.1.0 in /usr/local/lib/python3.10/dist-packages (from sympy==1.13.1->torch>=1.9.0->vectordb2) (1.3.0)\n",
            "Requirement already satisfied: huggingface-hub<1.0,>=0.23.2 in /usr/local/lib/python3.10/dist-packages (from transformers>=4.10.0->vectordb2) (0.24.7)\n",
            "Requirement already satisfied: packaging>=20.0 in /usr/local/lib/python3.10/dist-packages (from transformers>=4.10.0->vectordb2) (24.1)\n",
            "Requirement already satisfied: pyyaml>=5.1 in /usr/local/lib/python3.10/dist-packages (from transformers>=4.10.0->vectordb2) (6.0.2)\n",
            "Requirement already satisfied: regex!=2019.12.17 in /usr/local/lib/python3.10/dist-packages (from transformers>=4.10.0->vectordb2) (2024.9.11)\n",
            "Requirement already satisfied: requests in /usr/local/lib/python3.10/dist-packages (from transformers>=4.10.0->vectordb2) (2.32.3)\n",
            "Requirement already satisfied: safetensors>=0.4.1 in /usr/local/lib/python3.10/dist-packages (from transformers>=4.10.0->vectordb2) (0.4.5)\n",
            "Requirement already satisfied: tokenizers<0.20,>=0.19 in /usr/local/lib/python3.10/dist-packages (from transformers>=4.10.0->vectordb2) (0.19.1)\n",
            "Requirement already satisfied: tqdm>=4.27 in /usr/local/lib/python3.10/dist-packages (from transformers>=4.10.0->vectordb2) (4.66.6)\n",
            "Requirement already satisfied: Pillow in /usr/local/lib/python3.10/dist-packages (from sentence-transformers->vectordb2) (10.4.0)\n",
            "Collecting tensorflow<2.19,>=2.18.0 (from tensorflow-text->vectordb2)\n",
            "  Downloading tensorflow-2.18.0-cp310-cp310-manylinux_2_17_x86_64.manylinux2014_x86_64.whl.metadata (4.1 kB)\n",
            "Requirement already satisfied: absl-py>=1.0.0 in /usr/local/lib/python3.10/dist-packages (from tensorflow<2.19,>=2.18.0->tensorflow-text->vectordb2) (1.4.0)\n",
            "Requirement already satisfied: astunparse>=1.6.0 in /usr/local/lib/python3.10/dist-packages (from tensorflow<2.19,>=2.18.0->tensorflow-text->vectordb2) (1.6.3)\n",
            "Requirement already satisfied: flatbuffers>=24.3.25 in /usr/local/lib/python3.10/dist-packages (from tensorflow<2.19,>=2.18.0->tensorflow-text->vectordb2) (24.3.25)\n",
            "Requirement already satisfied: gast!=0.5.0,!=0.5.1,!=0.5.2,>=0.2.1 in /usr/local/lib/python3.10/dist-packages (from tensorflow<2.19,>=2.18.0->tensorflow-text->vectordb2) (0.6.0)\n",
            "Requirement already satisfied: google-pasta>=0.1.1 in /usr/local/lib/python3.10/dist-packages (from tensorflow<2.19,>=2.18.0->tensorflow-text->vectordb2) (0.2.0)\n",
            "Requirement already satisfied: libclang>=13.0.0 in /usr/local/lib/python3.10/dist-packages (from tensorflow<2.19,>=2.18.0->tensorflow-text->vectordb2) (18.1.1)\n",
            "Requirement already satisfied: opt-einsum>=2.3.2 in /usr/local/lib/python3.10/dist-packages (from tensorflow<2.19,>=2.18.0->tensorflow-text->vectordb2) (3.4.0)\n",
            "Requirement already satisfied: protobuf!=4.21.0,!=4.21.1,!=4.21.2,!=4.21.3,!=4.21.4,!=4.21.5,<6.0.0dev,>=3.20.3 in /usr/local/lib/python3.10/dist-packages (from tensorflow<2.19,>=2.18.0->tensorflow-text->vectordb2) (3.20.3)\n",
            "Requirement already satisfied: setuptools in /usr/local/lib/python3.10/dist-packages (from tensorflow<2.19,>=2.18.0->tensorflow-text->vectordb2) (75.1.0)\n",
            "Requirement already satisfied: six>=1.12.0 in /usr/local/lib/python3.10/dist-packages (from tensorflow<2.19,>=2.18.0->tensorflow-text->vectordb2) (1.16.0)\n",
            "Requirement already satisfied: termcolor>=1.1.0 in /usr/local/lib/python3.10/dist-packages (from tensorflow<2.19,>=2.18.0->tensorflow-text->vectordb2) (2.5.0)\n",
            "Requirement already satisfied: wrapt>=1.11.0 in /usr/local/lib/python3.10/dist-packages (from tensorflow<2.19,>=2.18.0->tensorflow-text->vectordb2) (1.16.0)\n",
            "Requirement already satisfied: grpcio<2.0,>=1.24.3 in /usr/local/lib/python3.10/dist-packages (from tensorflow<2.19,>=2.18.0->tensorflow-text->vectordb2) (1.64.1)\n",
            "Collecting tensorboard<2.19,>=2.18 (from tensorflow<2.19,>=2.18.0->tensorflow-text->vectordb2)\n",
            "  Downloading tensorboard-2.18.0-py3-none-any.whl.metadata (1.6 kB)\n",
            "Collecting keras>=3.5.0 (from tensorflow<2.19,>=2.18.0->tensorflow-text->vectordb2)\n",
            "  Downloading keras-3.6.0-py3-none-any.whl.metadata (5.8 kB)\n",
            "Requirement already satisfied: h5py>=3.11.0 in /usr/local/lib/python3.10/dist-packages (from tensorflow<2.19,>=2.18.0->tensorflow-text->vectordb2) (3.12.1)\n",
            "Requirement already satisfied: ml-dtypes<0.5.0,>=0.4.0 in /usr/local/lib/python3.10/dist-packages (from tensorflow<2.19,>=2.18.0->tensorflow-text->vectordb2) (0.4.1)\n",
            "Requirement already satisfied: tensorflow-io-gcs-filesystem>=0.23.1 in /usr/local/lib/python3.10/dist-packages (from tensorflow<2.19,>=2.18.0->tensorflow-text->vectordb2) (0.37.1)\n",
            "Requirement already satisfied: charset-normalizer<4,>=2 in /usr/local/lib/python3.10/dist-packages (from requests->transformers>=4.10.0->vectordb2) (3.4.0)\n",
            "Requirement already satisfied: idna<4,>=2.5 in /usr/local/lib/python3.10/dist-packages (from requests->transformers>=4.10.0->vectordb2) (3.10)\n",
            "Requirement already satisfied: urllib3<3,>=1.21.1 in /usr/local/lib/python3.10/dist-packages (from requests->transformers>=4.10.0->vectordb2) (2.2.3)\n",
            "Requirement already satisfied: certifi>=2017.4.17 in /usr/local/lib/python3.10/dist-packages (from requests->transformers>=4.10.0->vectordb2) (2024.8.30)\n",
            "Requirement already satisfied: MarkupSafe>=2.0 in /usr/local/lib/python3.10/dist-packages (from jinja2->torch>=1.9.0->vectordb2) (3.0.2)\n",
            "Requirement already satisfied: wheel<1.0,>=0.23.0 in /usr/local/lib/python3.10/dist-packages (from astunparse>=1.6.0->tensorflow<2.19,>=2.18.0->tensorflow-text->vectordb2) (0.44.0)\n",
            "Requirement already satisfied: rich in /usr/local/lib/python3.10/dist-packages (from keras>=3.5.0->tensorflow<2.19,>=2.18.0->tensorflow-text->vectordb2) (13.9.3)\n",
            "Requirement already satisfied: namex in /usr/local/lib/python3.10/dist-packages (from keras>=3.5.0->tensorflow<2.19,>=2.18.0->tensorflow-text->vectordb2) (0.0.8)\n",
            "Requirement already satisfied: optree in /usr/local/lib/python3.10/dist-packages (from keras>=3.5.0->tensorflow<2.19,>=2.18.0->tensorflow-text->vectordb2) (0.13.0)\n",
            "Requirement already satisfied: markdown>=2.6.8 in /usr/local/lib/python3.10/dist-packages (from tensorboard<2.19,>=2.18->tensorflow<2.19,>=2.18.0->tensorflow-text->vectordb2) (3.7)\n",
            "Requirement already satisfied: tensorboard-data-server<0.8.0,>=0.7.0 in /usr/local/lib/python3.10/dist-packages (from tensorboard<2.19,>=2.18->tensorflow<2.19,>=2.18.0->tensorflow-text->vectordb2) (0.7.2)\n",
            "Requirement already satisfied: werkzeug>=1.0.1 in /usr/local/lib/python3.10/dist-packages (from tensorboard<2.19,>=2.18->tensorflow<2.19,>=2.18.0->tensorflow-text->vectordb2) (3.0.6)\n",
            "Requirement already satisfied: markdown-it-py>=2.2.0 in /usr/local/lib/python3.10/dist-packages (from rich->keras>=3.5.0->tensorflow<2.19,>=2.18.0->tensorflow-text->vectordb2) (3.0.0)\n",
            "Requirement already satisfied: pygments<3.0.0,>=2.13.0 in /usr/local/lib/python3.10/dist-packages (from rich->keras>=3.5.0->tensorflow<2.19,>=2.18.0->tensorflow-text->vectordb2) (2.18.0)\n",
            "Requirement already satisfied: mdurl~=0.1 in /usr/local/lib/python3.10/dist-packages (from markdown-it-py>=2.2.0->rich->keras>=3.5.0->tensorflow<2.19,>=2.18.0->tensorflow-text->vectordb2) (0.1.2)\n",
            "Downloading vectordb2-0.1.9-py3-none-any.whl (9.3 kB)\n",
            "Downloading faiss_cpu-1.9.0-cp310-cp310-manylinux_2_17_x86_64.manylinux2014_x86_64.whl (27.5 MB)\n",
            "\u001b[2K   \u001b[90m━━━━━━━━━━━━━━━━━━━━━━━━━━━━━━━━━━━━━━━━\u001b[0m \u001b[32m27.5/27.5 MB\u001b[0m \u001b[31m22.3 MB/s\u001b[0m eta \u001b[36m0:00:00\u001b[0m\n",
            "\u001b[?25hDownloading tensorflow_text-2.18.0-cp310-cp310-manylinux_2_17_x86_64.manylinux2014_x86_64.whl (5.2 MB)\n",
            "\u001b[2K   \u001b[90m━━━━━━━━━━━━━━━━━━━━━━━━━━━━━━━━━━━━━━━━\u001b[0m \u001b[32m5.2/5.2 MB\u001b[0m \u001b[31m29.2 MB/s\u001b[0m eta \u001b[36m0:00:00\u001b[0m\n",
            "\u001b[?25hDownloading tensorflow-2.18.0-cp310-cp310-manylinux_2_17_x86_64.manylinux2014_x86_64.whl (615.3 MB)\n",
            "\u001b[2K   \u001b[90m━━━━━━━━━━━━━━━━━━━━━━━━━━━━━━━━━━━━━━━━\u001b[0m \u001b[32m615.3/615.3 MB\u001b[0m \u001b[31m2.8 MB/s\u001b[0m eta \u001b[36m0:00:00\u001b[0m\n",
            "\u001b[?25hDownloading keras-3.6.0-py3-none-any.whl (1.2 MB)\n",
            "\u001b[2K   \u001b[90m━━━━━━━━━━━━━━━━━━━━━━━━━━━━━━━━━━━━━━━━\u001b[0m \u001b[32m1.2/1.2 MB\u001b[0m \u001b[31m24.0 MB/s\u001b[0m eta \u001b[36m0:00:00\u001b[0m\n",
            "\u001b[?25hDownloading tensorboard-2.18.0-py3-none-any.whl (5.5 MB)\n",
            "\u001b[2K   \u001b[90m━━━━━━━━━━━━━━━━━━━━━━━━━━━━━━━━━━━━━━━━\u001b[0m \u001b[32m5.5/5.5 MB\u001b[0m \u001b[31m50.8 MB/s\u001b[0m eta \u001b[36m0:00:00\u001b[0m\n",
            "\u001b[?25hInstalling collected packages: faiss-cpu, tensorboard, keras, tensorflow, tensorflow-text, vectordb2\n",
            "  Attempting uninstall: tensorboard\n",
            "    Found existing installation: tensorboard 2.17.0\n",
            "    Uninstalling tensorboard-2.17.0:\n",
            "      Successfully uninstalled tensorboard-2.17.0\n",
            "  Attempting uninstall: keras\n",
            "    Found existing installation: keras 3.4.1\n",
            "    Uninstalling keras-3.4.1:\n",
            "      Successfully uninstalled keras-3.4.1\n",
            "  Attempting uninstall: tensorflow\n",
            "    Found existing installation: tensorflow 2.17.0\n",
            "    Uninstalling tensorflow-2.17.0:\n",
            "      Successfully uninstalled tensorflow-2.17.0\n",
            "\u001b[31mERROR: pip's dependency resolver does not currently take into account all the packages that are installed. This behaviour is the source of the following dependency conflicts.\n",
            "tf-keras 2.17.0 requires tensorflow<2.18,>=2.17, but you have tensorflow 2.18.0 which is incompatible.\u001b[0m\u001b[31m\n",
            "\u001b[0mSuccessfully installed faiss-cpu-1.9.0 keras-3.6.0 tensorboard-2.18.0 tensorflow-2.18.0 tensorflow-text-2.18.0 vectordb2-0.1.9\n"
          ]
        }
      ],
      "source": [
        "%pip install vectordb2"
      ]
    },
    {
      "cell_type": "markdown",
      "metadata": {
        "id": "WZDIGMyXB04o"
      },
      "source": [
        "O pacote `requests` é ser usado para recuperar o arquivo por meio de requisição em HTTP."
      ]
    },
    {
      "cell_type": "code",
      "execution_count": null,
      "metadata": {
        "colab": {
          "base_uri": "https://localhost:8080/"
        },
        "collapsed": true,
        "id": "FucP-UzdB1B3",
        "outputId": "574001d5-9e4b-48bd-8699-b7b0adedbc6d"
      },
      "outputs": [
        {
          "output_type": "stream",
          "name": "stdout",
          "text": [
            "Requirement already satisfied: requests in /usr/local/lib/python3.10/dist-packages (2.32.3)\n",
            "Requirement already satisfied: charset-normalizer<4,>=2 in /usr/local/lib/python3.10/dist-packages (from requests) (3.4.0)\n",
            "Requirement already satisfied: idna<4,>=2.5 in /usr/local/lib/python3.10/dist-packages (from requests) (3.10)\n",
            "Requirement already satisfied: urllib3<3,>=1.21.1 in /usr/local/lib/python3.10/dist-packages (from requests) (2.2.3)\n",
            "Requirement already satisfied: certifi>=2017.4.17 in /usr/local/lib/python3.10/dist-packages (from requests) (2024.8.30)\n"
          ]
        }
      ],
      "source": [
        "%pip install requests"
      ]
    },
    {
      "cell_type": "markdown",
      "source": [
        "O pacote `network pyvis` é usado para criar uma visualização interativa de grafos.\n",
        "\n",
        "[Referência](https://pyvis.readthedocs.io/en/latest/documentation.html)"
      ],
      "metadata": {
        "id": "CJARvWmDyVVU"
      }
    },
    {
      "cell_type": "code",
      "source": [
        "%pip install networkx pyvis"
      ],
      "metadata": {
        "colab": {
          "base_uri": "https://localhost:8080/"
        },
        "id": "8TlOa8gVyTsq",
        "outputId": "cef35002-166d-4969-d375-332f979246e7",
        "collapsed": true
      },
      "execution_count": null,
      "outputs": [
        {
          "output_type": "stream",
          "name": "stdout",
          "text": [
            "Requirement already satisfied: networkx in /usr/local/lib/python3.10/dist-packages (3.4.2)\n",
            "Collecting pyvis\n",
            "  Downloading pyvis-0.3.2-py3-none-any.whl.metadata (1.7 kB)\n",
            "Requirement already satisfied: ipython>=5.3.0 in /usr/local/lib/python3.10/dist-packages (from pyvis) (7.34.0)\n",
            "Requirement already satisfied: jinja2>=2.9.6 in /usr/local/lib/python3.10/dist-packages (from pyvis) (3.1.4)\n",
            "Requirement already satisfied: jsonpickle>=1.4.1 in /usr/local/lib/python3.10/dist-packages (from pyvis) (3.3.0)\n",
            "Requirement already satisfied: setuptools>=18.5 in /usr/local/lib/python3.10/dist-packages (from ipython>=5.3.0->pyvis) (75.1.0)\n",
            "Collecting jedi>=0.16 (from ipython>=5.3.0->pyvis)\n",
            "  Downloading jedi-0.19.1-py2.py3-none-any.whl.metadata (22 kB)\n",
            "Requirement already satisfied: decorator in /usr/local/lib/python3.10/dist-packages (from ipython>=5.3.0->pyvis) (4.4.2)\n",
            "Requirement already satisfied: pickleshare in /usr/local/lib/python3.10/dist-packages (from ipython>=5.3.0->pyvis) (0.7.5)\n",
            "Requirement already satisfied: traitlets>=4.2 in /usr/local/lib/python3.10/dist-packages (from ipython>=5.3.0->pyvis) (5.7.1)\n",
            "Requirement already satisfied: prompt-toolkit!=3.0.0,!=3.0.1,<3.1.0,>=2.0.0 in /usr/local/lib/python3.10/dist-packages (from ipython>=5.3.0->pyvis) (3.0.48)\n",
            "Requirement already satisfied: pygments in /usr/local/lib/python3.10/dist-packages (from ipython>=5.3.0->pyvis) (2.18.0)\n",
            "Requirement already satisfied: backcall in /usr/local/lib/python3.10/dist-packages (from ipython>=5.3.0->pyvis) (0.2.0)\n",
            "Requirement already satisfied: matplotlib-inline in /usr/local/lib/python3.10/dist-packages (from ipython>=5.3.0->pyvis) (0.1.7)\n",
            "Requirement already satisfied: pexpect>4.3 in /usr/local/lib/python3.10/dist-packages (from ipython>=5.3.0->pyvis) (4.9.0)\n",
            "Requirement already satisfied: MarkupSafe>=2.0 in /usr/local/lib/python3.10/dist-packages (from jinja2>=2.9.6->pyvis) (3.0.2)\n",
            "Requirement already satisfied: parso<0.9.0,>=0.8.3 in /usr/local/lib/python3.10/dist-packages (from jedi>=0.16->ipython>=5.3.0->pyvis) (0.8.4)\n",
            "Requirement already satisfied: ptyprocess>=0.5 in /usr/local/lib/python3.10/dist-packages (from pexpect>4.3->ipython>=5.3.0->pyvis) (0.7.0)\n",
            "Requirement already satisfied: wcwidth in /usr/local/lib/python3.10/dist-packages (from prompt-toolkit!=3.0.0,!=3.0.1,<3.1.0,>=2.0.0->ipython>=5.3.0->pyvis) (0.2.13)\n",
            "Downloading pyvis-0.3.2-py3-none-any.whl (756 kB)\n",
            "\u001b[2K   \u001b[90m━━━━━━━━━━━━━━━━━━━━━━━━━━━━━━━━━━━━━━━━\u001b[0m \u001b[32m756.0/756.0 kB\u001b[0m \u001b[31m17.0 MB/s\u001b[0m eta \u001b[36m0:00:00\u001b[0m\n",
            "\u001b[?25hDownloading jedi-0.19.1-py2.py3-none-any.whl (1.6 MB)\n",
            "\u001b[2K   \u001b[90m━━━━━━━━━━━━━━━━━━━━━━━━━━━━━━━━━━━━━━━━\u001b[0m \u001b[32m1.6/1.6 MB\u001b[0m \u001b[31m57.7 MB/s\u001b[0m eta \u001b[36m0:00:00\u001b[0m\n",
            "\u001b[?25hInstalling collected packages: jedi, pyvis\n",
            "Successfully installed jedi-0.19.1 pyvis-0.3.2\n"
          ]
        }
      ]
    },
    {
      "cell_type": "markdown",
      "metadata": {
        "id": "DjtCEtpOCxs2"
      },
      "source": [
        "## Importação das bibliotecas"
      ]
    },
    {
      "cell_type": "code",
      "execution_count": null,
      "metadata": {
        "id": "DA_HyrBKC6J0",
        "collapsed": true
      },
      "outputs": [],
      "source": [
        "from vectordb import Memory\n",
        "import requests\n",
        "from pyvis.network import Network\n",
        "import os # Será usado métodos para limpar o terminal para atualizar a interface em cada iteração do sistema\n",
        "import time # Será usado método de espera para atualizar a interface gradualmente\n",
        "from ipywidgets import widgets # Será usado para criar interfaces de usuário interativas com widgets\n",
        "from IPython.display import display, clear_output # Será usado para mostrar interações visuais de maneira mais sofisticada"
      ]
    },
    {
      "cell_type": "markdown",
      "metadata": {
        "id": "g2sI3d7Qz7ck"
      },
      "source": [
        "## Classes"
      ]
    },
    {
      "cell_type": "markdown",
      "source": [
        "### GrafoNDR"
      ],
      "metadata": {
        "id": "Yfl6sRmvhI6E"
      }
    },
    {
      "cell_type": "code",
      "execution_count": 106,
      "metadata": {
        "id": "F1sOCb5P0ITt"
      },
      "outputs": [],
      "source": [
        "# Grafo como uma matriz de adjacência não-direcionado rotulado\n",
        "class GrafoNDR(): # Ex 8\n",
        "    TAM_MAX_DEFAULT = 100 # qtde de vértices máxima default\n",
        "    # construtor da classe grafo\n",
        "    def __init__(self, n=TAM_MAX_DEFAULT):\n",
        "        self.n = n # número de vértices\n",
        "        self.m = 0 # número de arestas\n",
        "        # matriz de adjacência\n",
        "        self.adj = [[0 for i in range(n)] for j in range(n)]\n",
        "\n",
        "    def insereA(self, v, w, p):\n",
        "        if(v == w or self.adj[v][w] != 0):\n",
        "            return\n",
        "\n",
        "        else:\n",
        "            self.adj[v][w] = p\n",
        "            self.adj[w][v] = p\n",
        "            self.m += 1  # atualiza qtd arestas\n",
        "\n",
        "# remove uma aresta v->w do Grafo\n",
        "    def removeA(self, v, w):\n",
        "        if(v == w or self.adj[v][w] == 0):\n",
        "            return\n",
        "        # testa se temos a aresta\n",
        "        else:\n",
        "            self.adj[v][w] = 0\n",
        "            self.adj[w][v] = 0\n",
        "            self.m -= 1  # atualiza qtd arestas\n",
        "\n",
        "    def show(self):\n",
        "        print(f\"\\n n: {self.n:2d} \", end=\"\")\n",
        "        print(f\"m: {self.m:2d}\\n\")\n",
        "        for i in range(self.n):\n",
        "            for w in range(self.n):\n",
        "                print(f\"Adj[{i:2d},{w:2d}] = {self.adj[i][w]:.2f} \", end=\"\")\n",
        "            print(\"\\n\")\n",
        "        print(\"\\nfim da impressao do grafo.\" )\n",
        "\n",
        "\n",
        "\t# Apresenta o Grafo contendo\n",
        "\t# número de vértices, arestas\n",
        "\t# e a matriz de adjacência obtida\n",
        "    # Apresentando apenas os valores 0 ou 1\n",
        "    def showMin(self):\n",
        "        print(f\"\\n n: {self.n:2d} \", end=\"\")\n",
        "        print(f\"m: {self.m:2d}\\n\")\n",
        "        for i in range(self.n):\n",
        "            for w in range(self.n):\n",
        "                print(f\" {self.adj[i][w]:.2f} \", end=\"\")\n",
        "            print(\"\\n\")\n",
        "        print(\"\\nfim da impressao do grafo.\" )\n",
        "\n",
        "    def insereV(self):\n",
        "        for i in range(self.n):\n",
        "            self.adj[i].append(0)\n",
        "        self.n += 1\n",
        "        self.adj.append([0]*self.n)\n",
        "\n",
        "    def removeV(self, vertice):\n",
        "        if(vertice >= self.n or vertice < 0):\n",
        "            return False\n",
        "\n",
        "        for i in range(self.n - 1):\n",
        "            if(i >= vertice and i != self.n-1): # Substitui as conexões do vértice a ser retirado e\n",
        "                self.adj[i] = self.adj[i+1]     # os vértices posteriores a ele com as conexões do próximo vértice\n",
        "\n",
        "            self.removeA(i,vertice)\n",
        "            self.adj[i].pop(vertice) # Remove o vértice escolhido da linha da matriz\n",
        "        self.adj.pop() # Remove a última linha da matriz\n",
        "        self.n -= 1\n",
        "        return True\n",
        "\n",
        "    def dfs(self, visitados, vertice): # Depth First Search\n",
        "        visitados[vertice] = True\n",
        "        for i in range(self.n):\n",
        "            if(self.adj[vertice][i] != 0 and visitados[i] == False): # Caso haja acesso para um próximo vértice que não foi visitado\n",
        "                self.dfs(visitados, i)\n",
        "\n",
        "    def conexidade(self):\n",
        "        for i in range(self.n):\n",
        "            visitados = [False] * self.n\n",
        "            self.dfs(visitados, i)\n",
        "            if(all(visitados)): # Caso todos tenham sido visitados\n",
        "                return \"O grafo é conexo\"\n",
        "        return \"O grafo não é conexo\"\n",
        "\n",
        "    def EhAdjacente(self, v, x): #verifica se o vértice v é adjacente a x\n",
        "        if self.adj[v][x] != 0:\n",
        "            return True\n",
        "        else:\n",
        "            return False\n",
        "\n",
        "    def coloreV(self):\n",
        "        lista_colorida = self.n * [0]\n",
        "        n_cores = 0\n",
        "        for i in range(self.n):\n",
        "            other_colors = []\n",
        "            for j in range(self.n):\n",
        "                if self.EhAdjacente(i, j) and lista_colorida[j] != 0:\n",
        "                    other_colors.append(lista_colorida[j])\n",
        "\n",
        "            if other_colors == []:\n",
        "                lista_colorida[i] = 1\n",
        "\n",
        "            elif other_colors != []:\n",
        "                for k in range(1, self.n):\n",
        "                    if k not in other_colors:\n",
        "                        if(k > n_cores):\n",
        "                            n_cores = k\n",
        "\n",
        "                        lista_colorida[i] = k\n",
        "                        break\n",
        "\n",
        "        info = [n_cores,lista_colorida]\n",
        "\n",
        "        return info"
      ]
    },
    {
      "cell_type": "markdown",
      "source": [
        "### Memory"
      ],
      "metadata": {
        "id": "S5h_ns9chNkv"
      }
    },
    {
      "cell_type": "markdown",
      "source": [
        "Aqui é utilizado a biblioteca VectorDB para criar uma memória virtual.\n",
        "\n",
        "```\n",
        "memoria = Memory(chunking_strategy={\"mode\": \"sliding_window\", \"window_size\": 1, \"overlap\": 0})\n",
        "```\n",
        "\n",
        "- `chunking_strategy` define a estratégia de fragmentação dos dados. No modo \"sliding_window\", os dados são divididos em *chunks* (pedaços de texto) de tamanho fixo.\n",
        "\n",
        "- `window_size` define a quantidade de palavras que um *chunk* representa. Neste caso, cada *chunk* representa uma palavra.\n",
        "\n",
        "- `overlap` define quantos elementos de sobreposição existirão entre os *chunks* adjacentes. Neste caso, não haverá sobreposição já que as palavras usadas não formam frases, logo são independentes uma das outras."
      ],
      "metadata": {
        "id": "v2GiUeGnhP5c"
      }
    },
    {
      "cell_type": "markdown",
      "source": [
        "### Network"
      ],
      "metadata": {
        "id": "IpHL4p1ihSzB"
      }
    },
    {
      "cell_type": "markdown",
      "source": [
        "Aqui é utilizado a biblioteca Pyvis para criar uma instância para visualizar redes/grafos de forma interativa.\n",
        "\n",
        "```\n",
        "net = Network(notebook=True, cdn_resources='remote', directed=False)\n",
        "```\n",
        "* `notebook=True`: Esta opção indica que a visualização da rede será exibida diretamente em um notebook Jupyter.\n",
        "\n",
        "* `cdn_resources='remote'`: Esta opção especifica que os recursos necessários (como bibliotecas JavaScript e CSS) serão carregados de um Content Delivery Network (CDN) remoto. Isso pode ajudar a reduzir o tempo de carregamento e garantir que seja usado as versões mais recentes desses recursos.\n",
        "\n",
        "* `directed=False`: Especifica para que o grafo não seja direcionado."
      ],
      "metadata": {
        "id": "33bLqaslhVIt"
      }
    },
    {
      "cell_type": "markdown",
      "source": [
        "## Funções auxiliares"
      ],
      "metadata": {
        "id": "zWYODqQXiaGN"
      }
    },
    {
      "cell_type": "markdown",
      "source": [
        "### Cria vértice"
      ],
      "metadata": {
        "id": "TmqCgxE0isy5"
      }
    },
    {
      "cell_type": "code",
      "source": [
        "def criaVertice(palavra, indice):\n",
        "  vertice = {\n",
        "      \"palavra\": palavra, # Recupera cada palavra e tira o \"\\n\"\n",
        "      \"indice\": indice,\n",
        "  }\n",
        "  return vertice"
      ],
      "metadata": {
        "id": "TAiwXMCqirUg"
      },
      "execution_count": 88,
      "outputs": []
    },
    {
      "cell_type": "markdown",
      "source": [
        "### Lê arquivo"
      ],
      "metadata": {
        "id": "CGlKvBrCi3qp"
      }
    },
    {
      "cell_type": "markdown",
      "source": [
        "Os dados do documento são importados e guardados na variável `dados`."
      ],
      "metadata": {
        "id": "sL9fnr6ni8iH"
      }
    },
    {
      "cell_type": "code",
      "source": [
        "def leArquivoHTTP(url):\n",
        "  arquivo = requests.get(url).text\n",
        "\n",
        "  lista = arquivo.split() # Distribui cada elemento do arquivo numa lista\n",
        "  n_palavras = int(lista.pop(0)) # Separa o número de palavras (primeira linha do arquivo)\n",
        "  vertices = []\n",
        "  for i in range(n_palavras):\n",
        "    vertice = criaVertice(lista[i], i)\n",
        "    vertices.append(vertice)\n",
        "\n",
        "  dados = [n_palavras]\n",
        "  dados.append(vertices)\n",
        "\n",
        "  return dados"
      ],
      "metadata": {
        "id": "4nEo6zd1i6D5"
      },
      "execution_count": 89,
      "outputs": []
    },
    {
      "cell_type": "code",
      "source": [
        "def leArquivo(origem):\n",
        "  try:\n",
        "    with open(origem, 'r', encoding='utf-8') as arquivo:\n",
        "      n_palavras = int(arquivo.readline()) # Recupera o número de palavras (primeira linha do arquivo)\n",
        "\n",
        "      vertices = []\n",
        "      for i in range(n_palavras):\n",
        "        vertice = criaVertice(arquivo.readline().strip(), i)\n",
        "        vertices.append(vertice)\n",
        "\n",
        "    dados = [n_palavras]\n",
        "    dados.append(vertices)\n",
        "\n",
        "    return dados\n",
        "\n",
        "  except FileNotFoundError:\n",
        "      print(\"[Erro: Arquivo não encontrado]\")"
      ],
      "metadata": {
        "id": "Md6it9mdjAlL"
      },
      "execution_count": 90,
      "outputs": []
    },
    {
      "cell_type": "markdown",
      "source": [
        "### Embedding"
      ],
      "metadata": {
        "id": "xvG7B29cjGjs"
      }
    },
    {
      "cell_type": "markdown",
      "source": [
        "Cada palavra é convertida para um vetor numérico e guardada na memória."
      ],
      "metadata": {
        "id": "edfR0j4ojLiV"
      }
    },
    {
      "cell_type": "code",
      "source": [
        "def embedding(memoria, n_palavras, vertices): # Método para fazer o embedding e inserção na memória de todas as palavras\n",
        "  for i in range(n_palavras):\n",
        "    memoria.save(vertices[i][\"palavra\"])"
      ],
      "metadata": {
        "id": "eC-dinSyjKEn"
      },
      "execution_count": 91,
      "outputs": []
    },
    {
      "cell_type": "markdown",
      "source": [
        "### Busca vetorial"
      ],
      "metadata": {
        "id": "0RbhmJRQjX7y"
      }
    },
    {
      "cell_type": "markdown",
      "source": [
        "Quanto menor é a distância, maior é a proximidade semântica."
      ],
      "metadata": {
        "id": "II8guSv1jZ78"
      }
    },
    {
      "cell_type": "code",
      "source": [
        "def buscaVetorial(memoria, palavra): # Método para retornar os quatro elementos com maior proximidade semântica de uma palavra\n",
        "  busca = memoria.search(palavra, top_n=4)\n",
        "  return busca"
      ],
      "metadata": {
        "id": "d8YlAteUjdEg"
      },
      "execution_count": 92,
      "outputs": []
    },
    {
      "cell_type": "markdown",
      "source": [
        "### Busca índice"
      ],
      "metadata": {
        "id": "D2GpxPLMjiC5"
      }
    },
    {
      "cell_type": "markdown",
      "source": [
        "Busca um índice através da palavra dentro da lista de vértices."
      ],
      "metadata": {
        "id": "e_H47lOpjlcg"
      }
    },
    {
      "cell_type": "code",
      "source": [
        "def buscaIndice(n_palavras, vertices, palavra):\n",
        "  for i in range(n_palavras):\n",
        "    if(vertices[i][\"palavra\"] == palavra):\n",
        "      return vertices[i][\"indice\"]\n",
        "  return -1"
      ],
      "metadata": {
        "id": "CJ8GGcW8jjjV"
      },
      "execution_count": 93,
      "outputs": []
    },
    {
      "cell_type": "markdown",
      "source": [
        "### Busca palavra"
      ],
      "metadata": {
        "id": "uuinIkupjvJp"
      }
    },
    {
      "cell_type": "markdown",
      "source": [
        "Busca uma palavra através do índice dentro da lista de vértices."
      ],
      "metadata": {
        "id": "UMZ4XLBujxKn"
      }
    },
    {
      "cell_type": "code",
      "source": [
        "def buscaPalavra(n_palavras, vertices, indice):\n",
        "  if(indice >= n_palavras or indice < 0):\n",
        "    return \"[Erro: índice inválido]\"\n",
        "  for i in range(n_palavras):\n",
        "    if(vertices[i][\"indice\"] == indice):\n",
        "      return vertices[i][\"palavra\"]\n",
        "  return \"[Erro: índice não encontrado]\""
      ],
      "metadata": {
        "id": "LBj18pbljxeq"
      },
      "execution_count": 94,
      "outputs": []
    },
    {
      "cell_type": "markdown",
      "source": [
        "### Integra grafo"
      ],
      "metadata": {
        "id": "akYDFZCNkVNn"
      }
    },
    {
      "cell_type": "markdown",
      "source": [
        "A palavra mais próxima armazenada na memória é ela mesma, portanto para encontrar as outras três palavras mais próximas foram recuperadas as palavras de índice 1 até 4."
      ],
      "metadata": {
        "id": "a1pMlLG1kZjo"
      }
    },
    {
      "cell_type": "code",
      "source": [
        "def integraGrafo(memoria, n_palavras, vertices):\n",
        "  grafo = GrafoNDR(n_palavras) # Cria o grafo\n",
        "\n",
        "  for i in range(n_palavras):\n",
        "    busca = buscaVetorial(memoria, vertices[i][\"palavra\"])\n",
        "\n",
        "    for j in range(1,4):\n",
        "      palavra = busca[j]['chunk']\n",
        "      distancia = busca[j]['distance']\n",
        "      indice = buscaIndice(n_palavras, vertices, palavra)\n",
        "      grafo.insereA(vertices[i][\"indice\"], indice, distancia)\n",
        "\n",
        "  return grafo"
      ],
      "metadata": {
        "id": "cDCMxOBHkWsz"
      },
      "execution_count": 95,
      "outputs": []
    },
    {
      "cell_type": "markdown",
      "source": [
        "### Grava dados"
      ],
      "metadata": {
        "id": "2PeqvyNUkgfI"
      }
    },
    {
      "cell_type": "code",
      "source": [
        "def gravaDados(n_palavras, vertices):\n",
        "  with open(\"grafo.txt\", \"w\") as arquivo:\n",
        "    for i in range(n_palavras):\n",
        "      palavra = vertices[i][\"palavra\"]\n",
        "      arquivo.write(palavra+\"\\n\")"
      ],
      "metadata": {
        "id": "10rSV0ahkjeI"
      },
      "execution_count": 96,
      "outputs": []
    },
    {
      "cell_type": "markdown",
      "source": [
        "### Insere vértice"
      ],
      "metadata": {
        "id": "5L5R6K1ak9y6"
      }
    },
    {
      "cell_type": "code",
      "source": [
        "def insereVertice(grafo, n_palavras, vertices, palavra):\n",
        "  if(buscaIndice(n_palavras, vertices, palavra) == -1):\n",
        "    grafo.insereV()\n",
        "    vertices.append(criaVertice(palavra, n_palavras))\n",
        "  else:\n",
        "    print(\"[Erro: Palavra já existe]\")"
      ],
      "metadata": {
        "id": "KDtRcWq_k_bV"
      },
      "execution_count": 97,
      "outputs": []
    },
    {
      "cell_type": "markdown",
      "source": [
        "### Insere aresta"
      ],
      "metadata": {
        "id": "k-MC5QZ-s9fh"
      }
    },
    {
      "cell_type": "code",
      "source": [
        "def insereAresta(grafo, n_palavras, vertices, origem, destino, peso):\n",
        "  if(origem >= n_palavras or origem < 0):\n",
        "    print(\"[Erro: origem não existe]\")\n",
        "\n",
        "  elif(destino >= n_palavras or destino < 0):\n",
        "    print(\"[Erro: destino não existe]\")\n",
        "\n",
        "  else:\n",
        "    grafo.insereA(origem, destino, peso)"
      ],
      "metadata": {
        "id": "SF5ki2ems-xS"
      },
      "execution_count": 98,
      "outputs": []
    },
    {
      "cell_type": "markdown",
      "source": [
        "### Remove aresta"
      ],
      "metadata": {
        "id": "m4zLz70nNLil"
      }
    },
    {
      "cell_type": "code",
      "source": [
        "def removeAresta(grafo, n_palavras, vertices, origem, destino):\n",
        "  if(origem >= n_palavras or origem < 0):\n",
        "    print(\"[Erro: origem não existe]\")\n",
        "\n",
        "  elif(destino >= n_palavras or destino < 0):\n",
        "    print(\"[Erro: destino não existe]\")\n",
        "\n",
        "  else:\n",
        "      grafo.removeA(origem, destino)"
      ],
      "metadata": {
        "id": "7WlXNaVzNNAs"
      },
      "execution_count": 99,
      "outputs": []
    },
    {
      "cell_type": "markdown",
      "source": [
        "### Remove vértice"
      ],
      "metadata": {
        "id": "S0kXytc8M-uW"
      }
    },
    {
      "cell_type": "code",
      "source": [
        "def removeVertice(grafo, n_palavras, vertices, removido):\n",
        "  if(removido >= n_palavras or removido < 0):\n",
        "    print(\"[Erro: vértice não existe]\")\n",
        "\n",
        "  else:\n",
        "    for i in range(n_palavras - 1):\n",
        "      if(i >= removido):\n",
        "        vertices[i][\"palavra\"] = vertices[i+1][\"palavra\"]\n",
        "\n",
        "      if(grafo.adj[i][removido] != 0):\n",
        "        origem = vertices[i][\"indice\"]\n",
        "        destino = removido\n",
        "        removeAresta(grafo, n_palavras, vertices, origem, destino)\n",
        "\n",
        "    grafo.removeV(removido)\n",
        "    vertices.pop()"
      ],
      "metadata": {
        "id": "RzfbCnjJNCCb"
      },
      "execution_count": 100,
      "outputs": []
    },
    {
      "cell_type": "markdown",
      "source": [
        "### Imprime vértices"
      ],
      "metadata": {
        "id": "8LyuaiqbGnQr"
      }
    },
    {
      "cell_type": "code",
      "source": [
        "def imprimeVertices(network, n_palavras, vertices):\n",
        "  for i in range(n_palavras):\n",
        "    network.add_node( # Adiciona vértices\n",
        "        i, # Índice\n",
        "        label=vertices[i][\"palavra\"], # Descrição do vértice\n",
        "        color=\"yellow\"\n",
        "    )"
      ],
      "metadata": {
        "id": "pr6spoUrGmrl"
      },
      "execution_count": 101,
      "outputs": []
    },
    {
      "cell_type": "markdown",
      "source": [
        "### Imprime arestas"
      ],
      "metadata": {
        "id": "FCn2z_GwGrMA"
      }
    },
    {
      "cell_type": "code",
      "source": [
        "def imprimeArestas(network, n_palavras, vertices, grafo):\n",
        "  for i in range(n_palavras):\n",
        "    for j in range(n_palavras):\n",
        "      distancia = grafo.adj[i][j]\n",
        "      if(distancia != 0):\n",
        "        if(distancia > 0 and distancia < 1):\n",
        "          peso = (1-distancia) # Caso seja um valor entre a escala da distância semântica\n",
        "\n",
        "        else:\n",
        "          peso = distancia # Caso seja um valor fora do limite\n",
        "\n",
        "        network.add_edge( # Adiciona as arestas\n",
        "            i, # Origem\n",
        "            j, # Destino\n",
        "            value=peso, # Peso\n",
        "            title=f'''\n",
        "            {vertices[i][\"palavra\"]}\n",
        "            {vertices[j][\"palavra\"]}\n",
        "            Peso: {peso:.2f}\n",
        "                          ''', # Descrição\n",
        "            color=\"gray\"\n",
        "        )"
      ],
      "metadata": {
        "id": "OtxYhq8jGxyj"
      },
      "execution_count": 102,
      "outputs": []
    },
    {
      "cell_type": "markdown",
      "source": [
        "### Imprime grafo"
      ],
      "metadata": {
        "id": "j3fUMtozG0nK"
      }
    },
    {
      "cell_type": "code",
      "source": [
        "def imprimeGrafo(n_palavras, vertices, grafo):\n",
        "  net = Network(notebook=True, cdn_resources='remote', directed=False, height=\"1200px\", width=\"100%\", bgcolor=\"black\", font_color=\"white\")\n",
        "  imprimeVertices(net, n_palavras, vertices)\n",
        "  imprimeArestas(net, n_palavras, vertices, grafo)\n",
        "  net.barnes_hut() # Dispersa melhor os vértices\n",
        "  net.show(\"grafo.html\") # Salva o grafo"
      ],
      "metadata": {
        "id": "OGnMeqekG13i"
      },
      "execution_count": 103,
      "outputs": []
    },
    {
      "cell_type": "markdown",
      "source": [
        "### Imprime vértices coloridos"
      ],
      "metadata": {
        "id": "3ht5vTvgbCLH"
      }
    },
    {
      "cell_type": "code",
      "source": [
        "def imprimeVerticesColoridos(network, n_palavras, vertices, cores, grupos):\n",
        "  for i in range(n_palavras):\n",
        "    num = grupos[i]\n",
        "    network.add_node( # Adiciona vértices\n",
        "        i, # Índice\n",
        "        label=vertices[i][\"palavra\"], # Descrição do vértice\n",
        "        color=cores[num - 1]\n",
        "    )"
      ],
      "metadata": {
        "id": "pwmJzwaPbFWn"
      },
      "execution_count": 104,
      "outputs": []
    },
    {
      "cell_type": "markdown",
      "source": [
        "### Imprime grafo colorido"
      ],
      "metadata": {
        "id": "iQqooHina6mi"
      }
    },
    {
      "cell_type": "code",
      "source": [
        "def imprimeGrafoColorido(n_palavras, vertices, grafo, n_grupos, grupos):\n",
        "  cores = [\n",
        "      \"blue\",\n",
        "      \"green\",\n",
        "      \"yellow\",\n",
        "      \"red\",\n",
        "      \"purple\",\n",
        "      \"coral\",\n",
        "      \"turquoise\",\n",
        "      \"magenta\",\n",
        "      \"caramel\",\n",
        "      \"beige\",\n",
        "  ]\n",
        "  n_cores = 10\n",
        "\n",
        "  if(n_grupos > n_cores):\n",
        "    return False\n",
        "\n",
        "  else:\n",
        "    net = Network(notebook=True, cdn_resources='remote', directed=False, height=\"1200px\", width=\"100%\", bgcolor=\"black\", font_color=\"white\")\n",
        "    imprimeVerticesColoridos(net, n_palavras, vertices, cores, grupos)\n",
        "    imprimeArestas(net, n_palavras, vertices, grafo)\n",
        "    net.barnes_hut() # Dispersa melhor os vértices\n",
        "    net.show(\"grafo_colorido.html\") # Salva o grafo\n",
        "    return True"
      ],
      "metadata": {
        "id": "ziK-UE35a-GU"
      },
      "execution_count": 105,
      "outputs": []
    },
    {
      "cell_type": "markdown",
      "source": [
        "# Aplicação"
      ],
      "metadata": {
        "id": "BsJEBAOoq33z"
      }
    },
    {
      "cell_type": "markdown",
      "source": [
        "## Código"
      ],
      "metadata": {
        "id": "FGRvFRzYq9mk"
      }
    },
    {
      "cell_type": "markdown",
      "source": [
        "### Front"
      ],
      "metadata": {
        "id": "mF1yKHNqts1f"
      }
    },
    {
      "cell_type": "code",
      "source": [
        "def mostraMenu():\n",
        "    menu_text = widgets.HTML(value=\"\"\"\n",
        "    <h1>Menu:</h1>\n",
        "    <ol>\n",
        "        <li>Ler dados do arquivo</li>\n",
        "        <li>Gravar dados no arquivo grafo.txt</li>\n",
        "        <li>Inserir vértice</li>\n",
        "        <li>Inserir aresta</li>\n",
        "        <li>Remover vértice</li>\n",
        "        <li>Remover aresta</li>\n",
        "        <li>Exibir grafo</li>\n",
        "        <li>Exibir matriz</li>\n",
        "        <li>Apresentar a conexidade do grafo</li>\n",
        "        <li>Encerrar a aplicação</li>\n",
        "        <li>Buscar um índice pela palavra</li>\n",
        "        <li>Buscar uma palavra pelo índice</li>\n",
        "        <li>Fazer busca vetorial</li>\n",
        "        <li>Exibir grafo colorido</li>\n",
        "    </ol>\n",
        "    \"\"\")\n",
        "    display(menu_text)"
      ],
      "metadata": {
        "id": "e23Mg1XlrDi3"
      },
      "execution_count": 107,
      "outputs": []
    },
    {
      "cell_type": "markdown",
      "source": [
        "### Back"
      ],
      "metadata": {
        "id": "MAl45z_9tuuC"
      }
    },
    {
      "cell_type": "code",
      "source": [
        "def menu():\n",
        "    memoria = Memory(chunking_strategy={\"mode\": \"sliding_window\", \"window_size\": 1, \"overlap\": 0})\n",
        "    fim = False\n",
        "\n",
        "    while(fim == False):\n",
        "        time.sleep(1)\n",
        "        clear_output(wait = True) # Limpa o terminal no Jupyter Notebook\n",
        "        mostraMenu()\n",
        "        choice = input()\n",
        "        try:\n",
        "            choice = int(choice)\n",
        "            if choice == 1: # Cria grafo\n",
        "                dados = leArquivoHTTP('https://raw.githubusercontent.com/Cehiim/TeoriaDosGrafos/refs/heads/main/Projeto/palavras.txt')\n",
        "                #dados = leArquivo(\"palavras.txt\")\n",
        "                n_palavras = dados[0]\n",
        "                vertices = dados[1]\n",
        "                embedding(memoria, n_palavras, vertices)\n",
        "                grafo = integraGrafo(memoria, n_palavras, vertices)\n",
        "                print(\"Grafo criado com sucesso!\")\n",
        "\n",
        "            elif choice == 2: # Grava dados no arquivo .txt\n",
        "                try:\n",
        "                    gravaDados(n_palavras, vertices)\n",
        "                    print(\"Os dados foram salvos no arquivo 'grafo.txt'.\")\n",
        "                except NameError:\n",
        "                    print(\"[Erro: Grafo não criado]\")\n",
        "\n",
        "            elif choice == 3: # Insere vértice\n",
        "                palavra = input(\"Palavra a ser inserida: \")\n",
        "                try:\n",
        "                    insereVertice(grafo, n_palavras, vertices, palavra)\n",
        "                    n_palavras += 1\n",
        "                    print(\"Vértice inserido com sucesso!\")\n",
        "\n",
        "                except NameError:\n",
        "                    print(\"[Erro: Grafo não criado]\")\n",
        "\n",
        "            elif choice == 4: # Insere aresta\n",
        "                try:\n",
        "                    origem = int(input(\"Insira o índice de origem: \"))\n",
        "                    destino = int(input(\"Insira o índice de destino: \"))\n",
        "                    peso = float(input(\"Insira o peso: \"))\n",
        "                    try:\n",
        "                        insereAresta(grafo, n_palavras, vertices, origem, destino, peso)\n",
        "                        print(\"Aresta inserida com sucesso!\")\n",
        "\n",
        "                    except NameError:\n",
        "                        print(\"[Erro: Grafo não criado]\")\n",
        "\n",
        "                except ValueError:\n",
        "                    print(\"[Erro: a entrada não é do tipo int]\")\n",
        "\n",
        "            elif choice == 5: # Remove vértice\n",
        "                try:\n",
        "                    indice = int(input(\"Insira o índice do vértice: \"))\n",
        "                    try:\n",
        "                        removeVertice(grafo, n_palavras, vertices, indice)\n",
        "                        n_palavras -= 1\n",
        "                        print(\"Vértice removido com sucesso!\")\n",
        "\n",
        "                    except NameError:\n",
        "                        print(\"[Erro: Grafo não criado]\")\n",
        "\n",
        "                except ValueError:\n",
        "                    print(\"[Erro: a entrada não é do tipo int]\")\n",
        "\n",
        "            elif choice == 6: # Remove aresta\n",
        "                try:\n",
        "                    origem = int(input(\"Insira o índice de origem: \"))\n",
        "                    destino = int(input(\"Insira o índice de destino: \"))\n",
        "                    try:\n",
        "                        removeAresta(grafo, n_palavras, vertices, origem, destino)\n",
        "                        print(\"Aresta removida com sucesso!\")\n",
        "\n",
        "                    except NameError:\n",
        "                        print(\"[Erro: Grafo não criado]\")\n",
        "\n",
        "                except ValueError:\n",
        "                    print(\"[Erro: a entrada não é do tipo int]\")\n",
        "\n",
        "            elif choice == 7: # Exibe grafo\n",
        "                try:\n",
        "                    imprimeGrafo(n_palavras, vertices, grafo)\n",
        "                    print(f\"\\nGrafo não-direcionado rotulado com {grafo.n} vértices e {grafo.m} arestas\\n\")\n",
        "                    print(\"O grafo visual foi criado no arquivo 'grafo.html'.\")\n",
        "                    print((\"\\nAperte ENTER para continuar \"))\n",
        "                    ok = input()\n",
        "                except NameError:\n",
        "                    print(\"[Erro: Grafo não criado]\")\n",
        "\n",
        "            elif choice == 8: # Exibe matriz\n",
        "                try:\n",
        "                    grafo.showMin()\n",
        "                    print((\"\\nAperte ENTER para continuar \"))\n",
        "                    ok = input()\n",
        "                except NameError:\n",
        "                    print(\"[Erro: Grafo não criado]\")\n",
        "\n",
        "            elif choice == 9: # Apresenta a conexidade do grafo e grafo reduzido\n",
        "                try:\n",
        "                    if(grafo.conexidade()):\n",
        "                        print(\"O grafo é conexo.\")\n",
        "                    else:\n",
        "                        print(\"O grafo não é conexo.\")\n",
        "                    print((\"\\nAperte ENTER para continuar \"))\n",
        "                    ok = input()\n",
        "                except NameError:\n",
        "                    print(\"[Erro: Grafo não criado]\")\n",
        "\n",
        "            elif choice == 10: # Encerra\n",
        "                fim = True\n",
        "                print(\"Encerrando programa...\")\n",
        "\n",
        "            elif choice == 11: # Busca um índice pela palavra\n",
        "                try:\n",
        "                    palavra = input(\"Palavra a ser consultada: \")\n",
        "                    indice = buscaIndice(n_palavras, vertices, palavra)\n",
        "                    if(indice == -1):\n",
        "                        print(\"[Erro: palavra não encontrada]\")\n",
        "                    else:\n",
        "                        print(f\"Índice de {palavra}: {indice}\")\n",
        "                        print((\"\\nAperte ENTER para continuar \"))\n",
        "                        ok = input()\n",
        "                except NameError:\n",
        "                    print(\"[Erro: Grafo não criado]\")\n",
        "\n",
        "            elif choice == 12: # Busca um índice pela palavra\n",
        "                try:\n",
        "                    indice = int(input(\"Índice a ser consultado: \"))\n",
        "                    try:\n",
        "                        palavra = buscaPalavra(n_palavras, vertices, indice)\n",
        "                        if(indice == -1):\n",
        "                            print(\"[Erro: palavra não encontrada]\")\n",
        "                        else:\n",
        "                            print(f\"Palavra do índice {indice}: {palavra}\")\n",
        "                            print((\"\\nAperte ENTER para continuar \"))\n",
        "                            ok = input()\n",
        "                    except NameError:\n",
        "                      print(\"[Erro: Grafo não criado]\")\n",
        "                except ValueError:\n",
        "                    print(\"[Erro: a entrada não é do tipo int]\")\n",
        "\n",
        "            elif choice == 13: # Fazer busca vetorial de uma palavra\n",
        "                busca = input(\"Insira uma palavra: \")\n",
        "                try:\n",
        "                    resultado = memoria.search(busca, top_n=3)\n",
        "                    print(f\"\\n\\nBusca: {busca}\\n\")\n",
        "                    for i in range(3):\n",
        "                        palavra = resultado[i]['chunk']\n",
        "                        distancia = resultado[i]['distance']\n",
        "                        print(f\"Palavra: {palavra}\\nDistância: {distancia:.2f}\\n\")\n",
        "                    print((\"\\nAperte ENTER para continuar \"))\n",
        "                    ok = input()\n",
        "                except IndexError:\n",
        "                    print(\"[Erro: Grafo não criado]\")\n",
        "\n",
        "            elif choice == 14: # Exibir grafo colorido\n",
        "                try:\n",
        "                    lista_colorida = grafo.coloreV()\n",
        "                    n_cores = lista_colorida[0]\n",
        "                    cores = lista_colorida[1]\n",
        "                    if(imprimeGrafoColorido(n_palavras, vertices, grafo, n_cores, cores)):\n",
        "                        print(f\"\\nGrafo não-direcionado rotulado com {grafo.n} vértices, {grafo.m} arestas e {n_cores} cores\\n\")\n",
        "                        print(\"O grafo visual foi criado no arquivo 'grafo.html'.\")\n",
        "                        print((\"\\nAperte ENTER para continuar \"))\n",
        "                        ok = input()\n",
        "                    else:\n",
        "                        print(\"[Erro:Não é possível exibir um grafo com mais de 10 cores]\")\n",
        "                except NameError:\n",
        "                    print(\"[Erro: Grafo não criado]\")\n",
        "\n",
        "            else:\n",
        "                print(\"Opção inválida.\")\n",
        "\n",
        "        except ValueError:\n",
        "            # print(\"[Erro: a entrada não é do tipo int]\")\n",
        "            pass"
      ],
      "metadata": {
        "id": "RFnrcS1qrF1w"
      },
      "execution_count": 108,
      "outputs": []
    },
    {
      "cell_type": "markdown",
      "source": [
        "## Menu"
      ],
      "metadata": {
        "id": "0WqontbWrAbF"
      }
    },
    {
      "cell_type": "code",
      "source": [
        "menu()"
      ],
      "metadata": {
        "colab": {
          "base_uri": "https://localhost:8080/",
          "height": 519,
          "referenced_widgets": [
            "038249829519430186bce42a2c703335",
            "bd12ea5f2ae344f1be8f12d7a29f733c",
            "6408b8ff48144960bcc1e696da7f2277",
            "53a8a302c96e434bab0b8c8d5f00c0f8",
            "3a9839396cee40469803b2b7a09b0d48",
            "42bf333696964beb91216d4467970149",
            "827e60421ae04f4797bb6a6d7befb638",
            "42382ca55a8c436092090ee2695a9525",
            "22ee13e4d1a1474d800783102cd0a2e4",
            "4ba2218a1f384c41a13a177e46ab506c",
            "2dbebc22e0c144329294076382d1c9f1",
            "a3f42ea66216431997e281bdfc0119d8",
            "045a6d881e4644a1a64a16e7f4a1c530",
            "18bdf61e546d41a080a4c06a2a61937b",
            "7c663c8408694a3dbb2cdb1ff15297f8",
            "f5af2f07d79e4d03ac2e24694b706f18",
            "3eaeaf4695544df3b1c10dce492ed2c4",
            "6446ed67d35542088c5639cee6768dbf",
            "fa6b493fe97647948d640fe131e8efb6",
            "1d38e22ddc5e42dc90d2ada51610fa11",
            "554d0ab210004b6f88c4736ff21a7099",
            "41422b4bca0548349fefa3e7a17b5de0",
            "a62fbbe83f00482eb8f018a00e037d0b",
            "6dcd3ccb2c9b4348ae7a477a0f65dafc",
            "bf85f7bd83f845b49446763920144bfa",
            "3aa8eb811e344832a6b3e695c018011e",
            "9fe0b050e45049b193219036b5847ffd",
            "dd7ff67f0d1b425a9b39f197f495a892",
            "0547c19e7fb244c0a3ac7a93221c6bcf",
            "f1b6364c94d24055b0eb7e6b78d84c87",
            "579e544fc74642caa7743be4c3a09089",
            "6b4b8c0fc84c4ac189d62f63c5ce3d7e",
            "dfd14800c7b9429f9e31d85024c7bcac",
            "73614325bb2741f2913816691ec99ef6",
            "f1ceebc834e8432cb1370aea6a346412",
            "0a8c657698a94b3cad8393653c7636af",
            "ea8dd4092bde45fbb55f20b400912271",
            "033d683459e145a2979dac2264347f18",
            "faabde5d5ad744fc9cdf5cad590d28ce",
            "cf888234681d40d79db7cf4ca93487bf",
            "89ec2182b94e499d81ff8b9564ea8b83",
            "900e8f2045f340759bf666c0717f898a",
            "16d1223b9552433ca213df4df6acc649",
            "81ae71dc0d5c44cf858f3d5ffe9115f7",
            "0fcc0d371dc446598a84d7708b34a3b8",
            "b6ccc77999be41b9bdeeed3df0d02fb3",
            "c596be9e9f24410388dad455a10db549",
            "7bece2b5fc6444f99724d0836971798d",
            "780a27414b644dff8ac9a55c4a312534",
            "07aa0bdf497d4c648df1da9a55277ba0",
            "8da7c1d8e34048fe921d55b4d0de0569",
            "1c24f604a16e45a3834cb50518b38c0a",
            "d72a5d261e22474082daa4c503fef57b",
            "71e3961298bf4e6686a241d8240cf065",
            "c508e469435b4f709515c8fa4983910d",
            "46708588da2c43228c6ebb0aef764c23",
            "7295548de94a4476b2f4ab6ea0967823",
            "380490824bf74ac4bbfe59c4a0baa5f8",
            "d435c30d90d74624a698b557a3fabc63",
            "e5172fa2529d4ce5a14bfd0366b93648",
            "29af2581d12044afbbc817da9ac1006a",
            "f3c784888bfd4a5ebedc645eb2f5f8e9",
            "73a77951f2c54c71948b44c70abaf48a",
            "97d776f64b374c349eae3d2d6951525b",
            "ac7ac6cab0e24a3ebe0b67caefd39e8d",
            "dce2d7f8d2774cea999a0d5cdab4708b",
            "b112a9be8fdf4214b355efe5d3408bbd",
            "c86f979fc8f54383b5be347b91af1fbc",
            "79e950531afd4f4485f396347f179873",
            "b0dbecc245874fc6aec08f6f424c3f4d",
            "c2356ff632b44959a1338cdcb5162a79",
            "3ab751443c464015a67639baf5e06465"
          ]
        },
        "id": "Th3FH-eHrIFU",
        "outputId": "b5d26cd4-1cf0-48d5-fbab-75bfcd814114"
      },
      "execution_count": 87,
      "outputs": [
        {
          "output_type": "display_data",
          "data": {
            "text/plain": [
              "HTML(value='\\n    <h1>Menu:</h1>\\n    <ol>\\n        <li>Ler dados do arquivo</li>\\n        <li>Gravar dados no…"
            ],
            "application/vnd.jupyter.widget-view+json": {
              "version_major": 2,
              "version_minor": 0,
              "model_id": "b0dbecc245874fc6aec08f6f424c3f4d"
            }
          },
          "metadata": {}
        },
        {
          "output_type": "stream",
          "name": "stdout",
          "text": [
            "10\n",
            "Encerrando programa...\n"
          ]
        }
      ]
    }
  ],
  "metadata": {
    "colab": {
      "collapsed_sections": [
        "f4Fd36vBfY_m",
        "DjtCEtpOCxs2",
        "g2sI3d7Qz7ck",
        "S5h_ns9chNkv",
        "IpHL4p1ihSzB",
        "zWYODqQXiaGN",
        "TmqCgxE0isy5",
        "CGlKvBrCi3qp",
        "xvG7B29cjGjs",
        "0RbhmJRQjX7y",
        "uuinIkupjvJp",
        "fj8LIYV32JAo",
        "rsUUPVLa2JAs",
        "rcUaBUFE2JAs"
      ],
      "provenance": [],
      "toc_visible": true,
      "include_colab_link": true
    },
    "kernelspec": {
      "display_name": "Python 3 (ipykernel)",
      "language": "python",
      "name": "python3"
    },
    "language_info": {
      "codemirror_mode": {
        "name": "ipython",
        "version": 3
      },
      "file_extension": ".py",
      "mimetype": "text/x-python",
      "name": "python",
      "nbconvert_exporter": "python",
      "pygments_lexer": "ipython3",
      "version": "3.10.11"
    },
    "widgets": {
      "application/vnd.jupyter.widget-state+json": {
        "038249829519430186bce42a2c703335": {
          "model_module": "@jupyter-widgets/controls",
          "model_name": "HTMLModel",
          "model_module_version": "1.5.0",
          "state": {
            "_dom_classes": [],
            "_model_module": "@jupyter-widgets/controls",
            "_model_module_version": "1.5.0",
            "_model_name": "HTMLModel",
            "_view_count": null,
            "_view_module": "@jupyter-widgets/controls",
            "_view_module_version": "1.5.0",
            "_view_name": "HTMLView",
            "description": "",
            "description_tooltip": null,
            "layout": "IPY_MODEL_bd12ea5f2ae344f1be8f12d7a29f733c",
            "placeholder": "​",
            "style": "IPY_MODEL_6408b8ff48144960bcc1e696da7f2277",
            "value": "\n    <h1>Menu:</h1>\n    <ol>\n        <li>Ler dados do arquivo</li>\n        <li>Gravar dados no arquivo grafo.txt</li>\n        <li>Inserir vértice</li>\n        <li>Inserir aresta</li>\n        <li>Remover vértice</li>\n        <li>Remover aresta</li>\n        <li>Exibir grafo</li>\n        <li>Exibir matriz</li>\n        <li>Apresentar a conexidade do grafo</li>\n        <li>Encerrar a aplicação</li>\n        <li>Buscar um índice pela palavra</li>\n        <li>Buscar uma palavra pelo índice</li>\n        <li>Fazer busca vetorial</li>\n        <li>Exibir grafo colorido</li>\n    </ol>\n    "
          }
        },
        "bd12ea5f2ae344f1be8f12d7a29f733c": {
          "model_module": "@jupyter-widgets/base",
          "model_name": "LayoutModel",
          "model_module_version": "1.2.0",
          "state": {
            "_model_module": "@jupyter-widgets/base",
            "_model_module_version": "1.2.0",
            "_model_name": "LayoutModel",
            "_view_count": null,
            "_view_module": "@jupyter-widgets/base",
            "_view_module_version": "1.2.0",
            "_view_name": "LayoutView",
            "align_content": null,
            "align_items": null,
            "align_self": null,
            "border": null,
            "bottom": null,
            "display": null,
            "flex": null,
            "flex_flow": null,
            "grid_area": null,
            "grid_auto_columns": null,
            "grid_auto_flow": null,
            "grid_auto_rows": null,
            "grid_column": null,
            "grid_gap": null,
            "grid_row": null,
            "grid_template_areas": null,
            "grid_template_columns": null,
            "grid_template_rows": null,
            "height": null,
            "justify_content": null,
            "justify_items": null,
            "left": null,
            "margin": null,
            "max_height": null,
            "max_width": null,
            "min_height": null,
            "min_width": null,
            "object_fit": null,
            "object_position": null,
            "order": null,
            "overflow": null,
            "overflow_x": null,
            "overflow_y": null,
            "padding": null,
            "right": null,
            "top": null,
            "visibility": null,
            "width": null
          }
        },
        "6408b8ff48144960bcc1e696da7f2277": {
          "model_module": "@jupyter-widgets/controls",
          "model_name": "DescriptionStyleModel",
          "model_module_version": "1.5.0",
          "state": {
            "_model_module": "@jupyter-widgets/controls",
            "_model_module_version": "1.5.0",
            "_model_name": "DescriptionStyleModel",
            "_view_count": null,
            "_view_module": "@jupyter-widgets/base",
            "_view_module_version": "1.2.0",
            "_view_name": "StyleView",
            "description_width": ""
          }
        },
        "53a8a302c96e434bab0b8c8d5f00c0f8": {
          "model_module": "@jupyter-widgets/controls",
          "model_name": "HTMLModel",
          "model_module_version": "1.5.0",
          "state": {
            "_dom_classes": [],
            "_model_module": "@jupyter-widgets/controls",
            "_model_module_version": "1.5.0",
            "_model_name": "HTMLModel",
            "_view_count": null,
            "_view_module": "@jupyter-widgets/controls",
            "_view_module_version": "1.5.0",
            "_view_name": "HTMLView",
            "description": "",
            "description_tooltip": null,
            "layout": "IPY_MODEL_3a9839396cee40469803b2b7a09b0d48",
            "placeholder": "​",
            "style": "IPY_MODEL_42bf333696964beb91216d4467970149",
            "value": "\n    <h1>Menu:</h1>\n    <ol>\n        <li>Ler dados do arquivo</li>\n        <li>Gravar dados no arquivo grafo.txt</li>\n        <li>Inserir vértice</li>\n        <li>Inserir aresta</li>\n        <li>Remover vértice</li>\n        <li>Remover aresta</li>\n        <li>Exibir grafo</li>\n        <li>Exibir matriz</li>\n        <li>Apresentar a conexidade do grafo</li>\n        <li>Encerrar a aplicação</li>\n        <li>Buscar um índice pela palavra</li>\n        <li>Buscar uma palavra pelo índice</li>\n        <li>Fazer busca vetorial</li>\n        <li>Exibir grafo colorido</li>\n    </ol>\n    "
          }
        },
        "3a9839396cee40469803b2b7a09b0d48": {
          "model_module": "@jupyter-widgets/base",
          "model_name": "LayoutModel",
          "model_module_version": "1.2.0",
          "state": {
            "_model_module": "@jupyter-widgets/base",
            "_model_module_version": "1.2.0",
            "_model_name": "LayoutModel",
            "_view_count": null,
            "_view_module": "@jupyter-widgets/base",
            "_view_module_version": "1.2.0",
            "_view_name": "LayoutView",
            "align_content": null,
            "align_items": null,
            "align_self": null,
            "border": null,
            "bottom": null,
            "display": null,
            "flex": null,
            "flex_flow": null,
            "grid_area": null,
            "grid_auto_columns": null,
            "grid_auto_flow": null,
            "grid_auto_rows": null,
            "grid_column": null,
            "grid_gap": null,
            "grid_row": null,
            "grid_template_areas": null,
            "grid_template_columns": null,
            "grid_template_rows": null,
            "height": null,
            "justify_content": null,
            "justify_items": null,
            "left": null,
            "margin": null,
            "max_height": null,
            "max_width": null,
            "min_height": null,
            "min_width": null,
            "object_fit": null,
            "object_position": null,
            "order": null,
            "overflow": null,
            "overflow_x": null,
            "overflow_y": null,
            "padding": null,
            "right": null,
            "top": null,
            "visibility": null,
            "width": null
          }
        },
        "42bf333696964beb91216d4467970149": {
          "model_module": "@jupyter-widgets/controls",
          "model_name": "DescriptionStyleModel",
          "model_module_version": "1.5.0",
          "state": {
            "_model_module": "@jupyter-widgets/controls",
            "_model_module_version": "1.5.0",
            "_model_name": "DescriptionStyleModel",
            "_view_count": null,
            "_view_module": "@jupyter-widgets/base",
            "_view_module_version": "1.2.0",
            "_view_name": "StyleView",
            "description_width": ""
          }
        },
        "827e60421ae04f4797bb6a6d7befb638": {
          "model_module": "@jupyter-widgets/controls",
          "model_name": "HTMLModel",
          "model_module_version": "1.5.0",
          "state": {
            "_dom_classes": [],
            "_model_module": "@jupyter-widgets/controls",
            "_model_module_version": "1.5.0",
            "_model_name": "HTMLModel",
            "_view_count": null,
            "_view_module": "@jupyter-widgets/controls",
            "_view_module_version": "1.5.0",
            "_view_name": "HTMLView",
            "description": "",
            "description_tooltip": null,
            "layout": "IPY_MODEL_42382ca55a8c436092090ee2695a9525",
            "placeholder": "​",
            "style": "IPY_MODEL_22ee13e4d1a1474d800783102cd0a2e4",
            "value": "\n    <h1>Menu:</h1>\n    <ol>\n        <li>Ler dados do arquivo</li>\n        <li>Gravar dados no arquivo grafo.txt</li>\n        <li>Inserir vértice</li>\n        <li>Inserir aresta</li>\n        <li>Remover vértice</li>\n        <li>Remover aresta</li>\n        <li>Exibir grafo</li>\n        <li>Exibir matriz</li>\n        <li>Apresentar a conexidade do grafo</li>\n        <li>Encerrar a aplicação</li>\n        <li>Buscar um índice pela palavra</li>\n        <li>Buscar uma palavra pelo índice</li>\n        <li>Fazer busca vetorial</li>\n        <li>Exibir grafo colorido</li>\n    </ol>\n    "
          }
        },
        "42382ca55a8c436092090ee2695a9525": {
          "model_module": "@jupyter-widgets/base",
          "model_name": "LayoutModel",
          "model_module_version": "1.2.0",
          "state": {
            "_model_module": "@jupyter-widgets/base",
            "_model_module_version": "1.2.0",
            "_model_name": "LayoutModel",
            "_view_count": null,
            "_view_module": "@jupyter-widgets/base",
            "_view_module_version": "1.2.0",
            "_view_name": "LayoutView",
            "align_content": null,
            "align_items": null,
            "align_self": null,
            "border": null,
            "bottom": null,
            "display": null,
            "flex": null,
            "flex_flow": null,
            "grid_area": null,
            "grid_auto_columns": null,
            "grid_auto_flow": null,
            "grid_auto_rows": null,
            "grid_column": null,
            "grid_gap": null,
            "grid_row": null,
            "grid_template_areas": null,
            "grid_template_columns": null,
            "grid_template_rows": null,
            "height": null,
            "justify_content": null,
            "justify_items": null,
            "left": null,
            "margin": null,
            "max_height": null,
            "max_width": null,
            "min_height": null,
            "min_width": null,
            "object_fit": null,
            "object_position": null,
            "order": null,
            "overflow": null,
            "overflow_x": null,
            "overflow_y": null,
            "padding": null,
            "right": null,
            "top": null,
            "visibility": null,
            "width": null
          }
        },
        "22ee13e4d1a1474d800783102cd0a2e4": {
          "model_module": "@jupyter-widgets/controls",
          "model_name": "DescriptionStyleModel",
          "model_module_version": "1.5.0",
          "state": {
            "_model_module": "@jupyter-widgets/controls",
            "_model_module_version": "1.5.0",
            "_model_name": "DescriptionStyleModel",
            "_view_count": null,
            "_view_module": "@jupyter-widgets/base",
            "_view_module_version": "1.2.0",
            "_view_name": "StyleView",
            "description_width": ""
          }
        },
        "4ba2218a1f384c41a13a177e46ab506c": {
          "model_module": "@jupyter-widgets/controls",
          "model_name": "HTMLModel",
          "model_module_version": "1.5.0",
          "state": {
            "_dom_classes": [],
            "_model_module": "@jupyter-widgets/controls",
            "_model_module_version": "1.5.0",
            "_model_name": "HTMLModel",
            "_view_count": null,
            "_view_module": "@jupyter-widgets/controls",
            "_view_module_version": "1.5.0",
            "_view_name": "HTMLView",
            "description": "",
            "description_tooltip": null,
            "layout": "IPY_MODEL_2dbebc22e0c144329294076382d1c9f1",
            "placeholder": "​",
            "style": "IPY_MODEL_a3f42ea66216431997e281bdfc0119d8",
            "value": "\n    <h1>Menu:</h1>\n    <ol>\n        <li>Ler dados do arquivo</li>\n        <li>Gravar dados no arquivo grafo.txt</li>\n        <li>Inserir vértice</li>\n        <li>Inserir aresta</li>\n        <li>Remover vértice</li>\n        <li>Remover aresta</li>\n        <li>Exibir grafo</li>\n        <li>Exibir matriz</li>\n        <li>Apresentar a conexidade do grafo</li>\n        <li>Encerrar a aplicação</li>\n        <li>Buscar um índice pela palavra</li>\n        <li>Buscar uma palavra pelo índice</li>\n        <li>Fazer busca vetorial</li>\n        <li>Exibir grafo colorido</li>\n    </ol>\n    "
          }
        },
        "2dbebc22e0c144329294076382d1c9f1": {
          "model_module": "@jupyter-widgets/base",
          "model_name": "LayoutModel",
          "model_module_version": "1.2.0",
          "state": {
            "_model_module": "@jupyter-widgets/base",
            "_model_module_version": "1.2.0",
            "_model_name": "LayoutModel",
            "_view_count": null,
            "_view_module": "@jupyter-widgets/base",
            "_view_module_version": "1.2.0",
            "_view_name": "LayoutView",
            "align_content": null,
            "align_items": null,
            "align_self": null,
            "border": null,
            "bottom": null,
            "display": null,
            "flex": null,
            "flex_flow": null,
            "grid_area": null,
            "grid_auto_columns": null,
            "grid_auto_flow": null,
            "grid_auto_rows": null,
            "grid_column": null,
            "grid_gap": null,
            "grid_row": null,
            "grid_template_areas": null,
            "grid_template_columns": null,
            "grid_template_rows": null,
            "height": null,
            "justify_content": null,
            "justify_items": null,
            "left": null,
            "margin": null,
            "max_height": null,
            "max_width": null,
            "min_height": null,
            "min_width": null,
            "object_fit": null,
            "object_position": null,
            "order": null,
            "overflow": null,
            "overflow_x": null,
            "overflow_y": null,
            "padding": null,
            "right": null,
            "top": null,
            "visibility": null,
            "width": null
          }
        },
        "a3f42ea66216431997e281bdfc0119d8": {
          "model_module": "@jupyter-widgets/controls",
          "model_name": "DescriptionStyleModel",
          "model_module_version": "1.5.0",
          "state": {
            "_model_module": "@jupyter-widgets/controls",
            "_model_module_version": "1.5.0",
            "_model_name": "DescriptionStyleModel",
            "_view_count": null,
            "_view_module": "@jupyter-widgets/base",
            "_view_module_version": "1.2.0",
            "_view_name": "StyleView",
            "description_width": ""
          }
        },
        "045a6d881e4644a1a64a16e7f4a1c530": {
          "model_module": "@jupyter-widgets/controls",
          "model_name": "HTMLModel",
          "model_module_version": "1.5.0",
          "state": {
            "_dom_classes": [],
            "_model_module": "@jupyter-widgets/controls",
            "_model_module_version": "1.5.0",
            "_model_name": "HTMLModel",
            "_view_count": null,
            "_view_module": "@jupyter-widgets/controls",
            "_view_module_version": "1.5.0",
            "_view_name": "HTMLView",
            "description": "",
            "description_tooltip": null,
            "layout": "IPY_MODEL_18bdf61e546d41a080a4c06a2a61937b",
            "placeholder": "​",
            "style": "IPY_MODEL_7c663c8408694a3dbb2cdb1ff15297f8",
            "value": "\n    <h1>Menu:</h1>\n    <ol>\n        <li>Ler dados do arquivo</li>\n        <li>Gravar dados no arquivo grafo.txt</li>\n        <li>Inserir vértice</li>\n        <li>Inserir aresta</li>\n        <li>Remover vértice</li>\n        <li>Remover aresta</li>\n        <li>Exibir grafo</li>\n        <li>Exibir matriz</li>\n        <li>Apresentar a conexidade do grafo</li>\n        <li>Encerrar a aplicação</li>\n        <li>Buscar um índice pela palavra</li>\n        <li>Buscar uma palavra pelo índice</li>\n        <li>Fazer busca vetorial</li>\n        <li>Exibir grafo colorido</li>\n    </ol>\n    "
          }
        },
        "18bdf61e546d41a080a4c06a2a61937b": {
          "model_module": "@jupyter-widgets/base",
          "model_name": "LayoutModel",
          "model_module_version": "1.2.0",
          "state": {
            "_model_module": "@jupyter-widgets/base",
            "_model_module_version": "1.2.0",
            "_model_name": "LayoutModel",
            "_view_count": null,
            "_view_module": "@jupyter-widgets/base",
            "_view_module_version": "1.2.0",
            "_view_name": "LayoutView",
            "align_content": null,
            "align_items": null,
            "align_self": null,
            "border": null,
            "bottom": null,
            "display": null,
            "flex": null,
            "flex_flow": null,
            "grid_area": null,
            "grid_auto_columns": null,
            "grid_auto_flow": null,
            "grid_auto_rows": null,
            "grid_column": null,
            "grid_gap": null,
            "grid_row": null,
            "grid_template_areas": null,
            "grid_template_columns": null,
            "grid_template_rows": null,
            "height": null,
            "justify_content": null,
            "justify_items": null,
            "left": null,
            "margin": null,
            "max_height": null,
            "max_width": null,
            "min_height": null,
            "min_width": null,
            "object_fit": null,
            "object_position": null,
            "order": null,
            "overflow": null,
            "overflow_x": null,
            "overflow_y": null,
            "padding": null,
            "right": null,
            "top": null,
            "visibility": null,
            "width": null
          }
        },
        "7c663c8408694a3dbb2cdb1ff15297f8": {
          "model_module": "@jupyter-widgets/controls",
          "model_name": "DescriptionStyleModel",
          "model_module_version": "1.5.0",
          "state": {
            "_model_module": "@jupyter-widgets/controls",
            "_model_module_version": "1.5.0",
            "_model_name": "DescriptionStyleModel",
            "_view_count": null,
            "_view_module": "@jupyter-widgets/base",
            "_view_module_version": "1.2.0",
            "_view_name": "StyleView",
            "description_width": ""
          }
        },
        "f5af2f07d79e4d03ac2e24694b706f18": {
          "model_module": "@jupyter-widgets/controls",
          "model_name": "HTMLModel",
          "model_module_version": "1.5.0",
          "state": {
            "_dom_classes": [],
            "_model_module": "@jupyter-widgets/controls",
            "_model_module_version": "1.5.0",
            "_model_name": "HTMLModel",
            "_view_count": null,
            "_view_module": "@jupyter-widgets/controls",
            "_view_module_version": "1.5.0",
            "_view_name": "HTMLView",
            "description": "",
            "description_tooltip": null,
            "layout": "IPY_MODEL_3eaeaf4695544df3b1c10dce492ed2c4",
            "placeholder": "​",
            "style": "IPY_MODEL_6446ed67d35542088c5639cee6768dbf",
            "value": "\n    <h1>Menu:</h1>\n    <ol>\n        <li>Ler dados do arquivo</li>\n        <li>Gravar dados no arquivo grafo.txt</li>\n        <li>Inserir vértice</li>\n        <li>Inserir aresta</li>\n        <li>Remover vértice</li>\n        <li>Remover aresta</li>\n        <li>Exibir grafo</li>\n        <li>Exibir matriz</li>\n        <li>Apresentar a conexidade do grafo</li>\n        <li>Encerrar a aplicação</li>\n        <li>Buscar um índice pela palavra</li>\n        <li>Buscar uma palavra pelo índice</li>\n        <li>Fazer busca vetorial</li>\n        <li>Exibir grafo colorido</li>\n    </ol>\n    "
          }
        },
        "3eaeaf4695544df3b1c10dce492ed2c4": {
          "model_module": "@jupyter-widgets/base",
          "model_name": "LayoutModel",
          "model_module_version": "1.2.0",
          "state": {
            "_model_module": "@jupyter-widgets/base",
            "_model_module_version": "1.2.0",
            "_model_name": "LayoutModel",
            "_view_count": null,
            "_view_module": "@jupyter-widgets/base",
            "_view_module_version": "1.2.0",
            "_view_name": "LayoutView",
            "align_content": null,
            "align_items": null,
            "align_self": null,
            "border": null,
            "bottom": null,
            "display": null,
            "flex": null,
            "flex_flow": null,
            "grid_area": null,
            "grid_auto_columns": null,
            "grid_auto_flow": null,
            "grid_auto_rows": null,
            "grid_column": null,
            "grid_gap": null,
            "grid_row": null,
            "grid_template_areas": null,
            "grid_template_columns": null,
            "grid_template_rows": null,
            "height": null,
            "justify_content": null,
            "justify_items": null,
            "left": null,
            "margin": null,
            "max_height": null,
            "max_width": null,
            "min_height": null,
            "min_width": null,
            "object_fit": null,
            "object_position": null,
            "order": null,
            "overflow": null,
            "overflow_x": null,
            "overflow_y": null,
            "padding": null,
            "right": null,
            "top": null,
            "visibility": null,
            "width": null
          }
        },
        "6446ed67d35542088c5639cee6768dbf": {
          "model_module": "@jupyter-widgets/controls",
          "model_name": "DescriptionStyleModel",
          "model_module_version": "1.5.0",
          "state": {
            "_model_module": "@jupyter-widgets/controls",
            "_model_module_version": "1.5.0",
            "_model_name": "DescriptionStyleModel",
            "_view_count": null,
            "_view_module": "@jupyter-widgets/base",
            "_view_module_version": "1.2.0",
            "_view_name": "StyleView",
            "description_width": ""
          }
        },
        "fa6b493fe97647948d640fe131e8efb6": {
          "model_module": "@jupyter-widgets/controls",
          "model_name": "HTMLModel",
          "model_module_version": "1.5.0",
          "state": {
            "_dom_classes": [],
            "_model_module": "@jupyter-widgets/controls",
            "_model_module_version": "1.5.0",
            "_model_name": "HTMLModel",
            "_view_count": null,
            "_view_module": "@jupyter-widgets/controls",
            "_view_module_version": "1.5.0",
            "_view_name": "HTMLView",
            "description": "",
            "description_tooltip": null,
            "layout": "IPY_MODEL_1d38e22ddc5e42dc90d2ada51610fa11",
            "placeholder": "​",
            "style": "IPY_MODEL_554d0ab210004b6f88c4736ff21a7099",
            "value": "\n    <h1>Menu:</h1>\n    <ol>\n        <li>Ler dados do arquivo</li>\n        <li>Gravar dados no arquivo grafo.txt</li>\n        <li>Inserir vértice</li>\n        <li>Inserir aresta</li>\n        <li>Remover vértice</li>\n        <li>Remover aresta</li>\n        <li>Exibir grafo</li>\n        <li>Exibir matriz</li>\n        <li>Apresentar a conexidade do grafo</li>\n        <li>Encerrar a aplicação</li>\n        <li>Buscar um índice pela palavra</li>\n        <li>Buscar uma palavra pelo índice</li>\n        <li>Fazer busca vetorial</li>\n        <li>Exibir grafo colorido</li>\n    </ol>\n    "
          }
        },
        "1d38e22ddc5e42dc90d2ada51610fa11": {
          "model_module": "@jupyter-widgets/base",
          "model_name": "LayoutModel",
          "model_module_version": "1.2.0",
          "state": {
            "_model_module": "@jupyter-widgets/base",
            "_model_module_version": "1.2.0",
            "_model_name": "LayoutModel",
            "_view_count": null,
            "_view_module": "@jupyter-widgets/base",
            "_view_module_version": "1.2.0",
            "_view_name": "LayoutView",
            "align_content": null,
            "align_items": null,
            "align_self": null,
            "border": null,
            "bottom": null,
            "display": null,
            "flex": null,
            "flex_flow": null,
            "grid_area": null,
            "grid_auto_columns": null,
            "grid_auto_flow": null,
            "grid_auto_rows": null,
            "grid_column": null,
            "grid_gap": null,
            "grid_row": null,
            "grid_template_areas": null,
            "grid_template_columns": null,
            "grid_template_rows": null,
            "height": null,
            "justify_content": null,
            "justify_items": null,
            "left": null,
            "margin": null,
            "max_height": null,
            "max_width": null,
            "min_height": null,
            "min_width": null,
            "object_fit": null,
            "object_position": null,
            "order": null,
            "overflow": null,
            "overflow_x": null,
            "overflow_y": null,
            "padding": null,
            "right": null,
            "top": null,
            "visibility": null,
            "width": null
          }
        },
        "554d0ab210004b6f88c4736ff21a7099": {
          "model_module": "@jupyter-widgets/controls",
          "model_name": "DescriptionStyleModel",
          "model_module_version": "1.5.0",
          "state": {
            "_model_module": "@jupyter-widgets/controls",
            "_model_module_version": "1.5.0",
            "_model_name": "DescriptionStyleModel",
            "_view_count": null,
            "_view_module": "@jupyter-widgets/base",
            "_view_module_version": "1.2.0",
            "_view_name": "StyleView",
            "description_width": ""
          }
        },
        "41422b4bca0548349fefa3e7a17b5de0": {
          "model_module": "@jupyter-widgets/controls",
          "model_name": "HTMLModel",
          "model_module_version": "1.5.0",
          "state": {
            "_dom_classes": [],
            "_model_module": "@jupyter-widgets/controls",
            "_model_module_version": "1.5.0",
            "_model_name": "HTMLModel",
            "_view_count": null,
            "_view_module": "@jupyter-widgets/controls",
            "_view_module_version": "1.5.0",
            "_view_name": "HTMLView",
            "description": "",
            "description_tooltip": null,
            "layout": "IPY_MODEL_a62fbbe83f00482eb8f018a00e037d0b",
            "placeholder": "​",
            "style": "IPY_MODEL_6dcd3ccb2c9b4348ae7a477a0f65dafc",
            "value": "\n    <h1>Menu:</h1>\n    <ol>\n        <li>Ler dados do arquivo</li>\n        <li>Gravar dados no arquivo grafo.txt</li>\n        <li>Inserir vértice</li>\n        <li>Inserir aresta</li>\n        <li>Remover vértice</li>\n        <li>Remover aresta</li>\n        <li>Exibir grafo</li>\n        <li>Exibir matriz</li>\n        <li>Apresentar a conexidade do grafo</li>\n        <li>Encerrar a aplicação</li>\n        <li>Buscar um índice pela palavra</li>\n        <li>Buscar uma palavra pelo índice</li>\n        <li>Fazer busca vetorial</li>\n        <li>Exibir grafo colorido</li>\n    </ol>\n    "
          }
        },
        "a62fbbe83f00482eb8f018a00e037d0b": {
          "model_module": "@jupyter-widgets/base",
          "model_name": "LayoutModel",
          "model_module_version": "1.2.0",
          "state": {
            "_model_module": "@jupyter-widgets/base",
            "_model_module_version": "1.2.0",
            "_model_name": "LayoutModel",
            "_view_count": null,
            "_view_module": "@jupyter-widgets/base",
            "_view_module_version": "1.2.0",
            "_view_name": "LayoutView",
            "align_content": null,
            "align_items": null,
            "align_self": null,
            "border": null,
            "bottom": null,
            "display": null,
            "flex": null,
            "flex_flow": null,
            "grid_area": null,
            "grid_auto_columns": null,
            "grid_auto_flow": null,
            "grid_auto_rows": null,
            "grid_column": null,
            "grid_gap": null,
            "grid_row": null,
            "grid_template_areas": null,
            "grid_template_columns": null,
            "grid_template_rows": null,
            "height": null,
            "justify_content": null,
            "justify_items": null,
            "left": null,
            "margin": null,
            "max_height": null,
            "max_width": null,
            "min_height": null,
            "min_width": null,
            "object_fit": null,
            "object_position": null,
            "order": null,
            "overflow": null,
            "overflow_x": null,
            "overflow_y": null,
            "padding": null,
            "right": null,
            "top": null,
            "visibility": null,
            "width": null
          }
        },
        "6dcd3ccb2c9b4348ae7a477a0f65dafc": {
          "model_module": "@jupyter-widgets/controls",
          "model_name": "DescriptionStyleModel",
          "model_module_version": "1.5.0",
          "state": {
            "_model_module": "@jupyter-widgets/controls",
            "_model_module_version": "1.5.0",
            "_model_name": "DescriptionStyleModel",
            "_view_count": null,
            "_view_module": "@jupyter-widgets/base",
            "_view_module_version": "1.2.0",
            "_view_name": "StyleView",
            "description_width": ""
          }
        },
        "bf85f7bd83f845b49446763920144bfa": {
          "model_module": "@jupyter-widgets/controls",
          "model_name": "HTMLModel",
          "model_module_version": "1.5.0",
          "state": {
            "_dom_classes": [],
            "_model_module": "@jupyter-widgets/controls",
            "_model_module_version": "1.5.0",
            "_model_name": "HTMLModel",
            "_view_count": null,
            "_view_module": "@jupyter-widgets/controls",
            "_view_module_version": "1.5.0",
            "_view_name": "HTMLView",
            "description": "",
            "description_tooltip": null,
            "layout": "IPY_MODEL_3aa8eb811e344832a6b3e695c018011e",
            "placeholder": "​",
            "style": "IPY_MODEL_9fe0b050e45049b193219036b5847ffd",
            "value": "\n    <h1>Menu:</h1>\n    <ol>\n        <li>Ler dados do arquivo</li>\n        <li>Gravar dados no arquivo grafo.txt</li>\n        <li>Inserir vértice</li>\n        <li>Inserir aresta</li>\n        <li>Remover vértice</li>\n        <li>Remover aresta</li>\n        <li>Exibir grafo</li>\n        <li>Exibir matriz</li>\n        <li>Apresentar a conexidade do grafo</li>\n        <li>Encerrar a aplicação</li>\n        <li>Buscar um índice pela palavra</li>\n        <li>Buscar uma palavra pelo índice</li>\n        <li>Fazer busca vetorial</li>\n        <li>Exibir grafo colorido</li>\n    </ol>\n    "
          }
        },
        "3aa8eb811e344832a6b3e695c018011e": {
          "model_module": "@jupyter-widgets/base",
          "model_name": "LayoutModel",
          "model_module_version": "1.2.0",
          "state": {
            "_model_module": "@jupyter-widgets/base",
            "_model_module_version": "1.2.0",
            "_model_name": "LayoutModel",
            "_view_count": null,
            "_view_module": "@jupyter-widgets/base",
            "_view_module_version": "1.2.0",
            "_view_name": "LayoutView",
            "align_content": null,
            "align_items": null,
            "align_self": null,
            "border": null,
            "bottom": null,
            "display": null,
            "flex": null,
            "flex_flow": null,
            "grid_area": null,
            "grid_auto_columns": null,
            "grid_auto_flow": null,
            "grid_auto_rows": null,
            "grid_column": null,
            "grid_gap": null,
            "grid_row": null,
            "grid_template_areas": null,
            "grid_template_columns": null,
            "grid_template_rows": null,
            "height": null,
            "justify_content": null,
            "justify_items": null,
            "left": null,
            "margin": null,
            "max_height": null,
            "max_width": null,
            "min_height": null,
            "min_width": null,
            "object_fit": null,
            "object_position": null,
            "order": null,
            "overflow": null,
            "overflow_x": null,
            "overflow_y": null,
            "padding": null,
            "right": null,
            "top": null,
            "visibility": null,
            "width": null
          }
        },
        "9fe0b050e45049b193219036b5847ffd": {
          "model_module": "@jupyter-widgets/controls",
          "model_name": "DescriptionStyleModel",
          "model_module_version": "1.5.0",
          "state": {
            "_model_module": "@jupyter-widgets/controls",
            "_model_module_version": "1.5.0",
            "_model_name": "DescriptionStyleModel",
            "_view_count": null,
            "_view_module": "@jupyter-widgets/base",
            "_view_module_version": "1.2.0",
            "_view_name": "StyleView",
            "description_width": ""
          }
        },
        "dd7ff67f0d1b425a9b39f197f495a892": {
          "model_module": "@jupyter-widgets/controls",
          "model_name": "HTMLModel",
          "model_module_version": "1.5.0",
          "state": {
            "_dom_classes": [],
            "_model_module": "@jupyter-widgets/controls",
            "_model_module_version": "1.5.0",
            "_model_name": "HTMLModel",
            "_view_count": null,
            "_view_module": "@jupyter-widgets/controls",
            "_view_module_version": "1.5.0",
            "_view_name": "HTMLView",
            "description": "",
            "description_tooltip": null,
            "layout": "IPY_MODEL_0547c19e7fb244c0a3ac7a93221c6bcf",
            "placeholder": "​",
            "style": "IPY_MODEL_f1b6364c94d24055b0eb7e6b78d84c87",
            "value": "\n    <h1>Menu:</h1>\n    <ol>\n        <li>Ler dados do arquivo</li>\n        <li>Gravar dados no arquivo grafo.txt</li>\n        <li>Inserir vértice</li>\n        <li>Inserir aresta</li>\n        <li>Remover vértice</li>\n        <li>Remover aresta</li>\n        <li>Exibir grafo</li>\n        <li>Exibir matriz</li>\n        <li>Apresentar a conexidade do grafo</li>\n        <li>Encerrar a aplicação</li>\n        <li>Buscar um índice pela palavra</li>\n        <li>Buscar uma palavra pelo índice</li>\n        <li>Fazer busca vetorial</li>\n        <li>Exibir grafo colorido</li>\n    </ol>\n    "
          }
        },
        "0547c19e7fb244c0a3ac7a93221c6bcf": {
          "model_module": "@jupyter-widgets/base",
          "model_name": "LayoutModel",
          "model_module_version": "1.2.0",
          "state": {
            "_model_module": "@jupyter-widgets/base",
            "_model_module_version": "1.2.0",
            "_model_name": "LayoutModel",
            "_view_count": null,
            "_view_module": "@jupyter-widgets/base",
            "_view_module_version": "1.2.0",
            "_view_name": "LayoutView",
            "align_content": null,
            "align_items": null,
            "align_self": null,
            "border": null,
            "bottom": null,
            "display": null,
            "flex": null,
            "flex_flow": null,
            "grid_area": null,
            "grid_auto_columns": null,
            "grid_auto_flow": null,
            "grid_auto_rows": null,
            "grid_column": null,
            "grid_gap": null,
            "grid_row": null,
            "grid_template_areas": null,
            "grid_template_columns": null,
            "grid_template_rows": null,
            "height": null,
            "justify_content": null,
            "justify_items": null,
            "left": null,
            "margin": null,
            "max_height": null,
            "max_width": null,
            "min_height": null,
            "min_width": null,
            "object_fit": null,
            "object_position": null,
            "order": null,
            "overflow": null,
            "overflow_x": null,
            "overflow_y": null,
            "padding": null,
            "right": null,
            "top": null,
            "visibility": null,
            "width": null
          }
        },
        "f1b6364c94d24055b0eb7e6b78d84c87": {
          "model_module": "@jupyter-widgets/controls",
          "model_name": "DescriptionStyleModel",
          "model_module_version": "1.5.0",
          "state": {
            "_model_module": "@jupyter-widgets/controls",
            "_model_module_version": "1.5.0",
            "_model_name": "DescriptionStyleModel",
            "_view_count": null,
            "_view_module": "@jupyter-widgets/base",
            "_view_module_version": "1.2.0",
            "_view_name": "StyleView",
            "description_width": ""
          }
        },
        "579e544fc74642caa7743be4c3a09089": {
          "model_module": "@jupyter-widgets/controls",
          "model_name": "HTMLModel",
          "model_module_version": "1.5.0",
          "state": {
            "_dom_classes": [],
            "_model_module": "@jupyter-widgets/controls",
            "_model_module_version": "1.5.0",
            "_model_name": "HTMLModel",
            "_view_count": null,
            "_view_module": "@jupyter-widgets/controls",
            "_view_module_version": "1.5.0",
            "_view_name": "HTMLView",
            "description": "",
            "description_tooltip": null,
            "layout": "IPY_MODEL_6b4b8c0fc84c4ac189d62f63c5ce3d7e",
            "placeholder": "​",
            "style": "IPY_MODEL_dfd14800c7b9429f9e31d85024c7bcac",
            "value": "\n    <h1>Menu:</h1>\n    <ol>\n        <li>Ler dados do arquivo</li>\n        <li>Gravar dados no arquivo grafo.txt</li>\n        <li>Inserir vértice</li>\n        <li>Inserir aresta</li>\n        <li>Remover vértice</li>\n        <li>Remover aresta</li>\n        <li>Exibir grafo</li>\n        <li>Exibir matriz</li>\n        <li>Apresentar a conexidade do grafo</li>\n        <li>Encerrar a aplicação</li>\n        <li>Buscar um índice pela palavra</li>\n        <li>Buscar uma palavra pelo índice</li>\n        <li>Fazer busca vetorial</li>\n        <li>Exibir grafo colorido</li>\n    </ol>\n    "
          }
        },
        "6b4b8c0fc84c4ac189d62f63c5ce3d7e": {
          "model_module": "@jupyter-widgets/base",
          "model_name": "LayoutModel",
          "model_module_version": "1.2.0",
          "state": {
            "_model_module": "@jupyter-widgets/base",
            "_model_module_version": "1.2.0",
            "_model_name": "LayoutModel",
            "_view_count": null,
            "_view_module": "@jupyter-widgets/base",
            "_view_module_version": "1.2.0",
            "_view_name": "LayoutView",
            "align_content": null,
            "align_items": null,
            "align_self": null,
            "border": null,
            "bottom": null,
            "display": null,
            "flex": null,
            "flex_flow": null,
            "grid_area": null,
            "grid_auto_columns": null,
            "grid_auto_flow": null,
            "grid_auto_rows": null,
            "grid_column": null,
            "grid_gap": null,
            "grid_row": null,
            "grid_template_areas": null,
            "grid_template_columns": null,
            "grid_template_rows": null,
            "height": null,
            "justify_content": null,
            "justify_items": null,
            "left": null,
            "margin": null,
            "max_height": null,
            "max_width": null,
            "min_height": null,
            "min_width": null,
            "object_fit": null,
            "object_position": null,
            "order": null,
            "overflow": null,
            "overflow_x": null,
            "overflow_y": null,
            "padding": null,
            "right": null,
            "top": null,
            "visibility": null,
            "width": null
          }
        },
        "dfd14800c7b9429f9e31d85024c7bcac": {
          "model_module": "@jupyter-widgets/controls",
          "model_name": "DescriptionStyleModel",
          "model_module_version": "1.5.0",
          "state": {
            "_model_module": "@jupyter-widgets/controls",
            "_model_module_version": "1.5.0",
            "_model_name": "DescriptionStyleModel",
            "_view_count": null,
            "_view_module": "@jupyter-widgets/base",
            "_view_module_version": "1.2.0",
            "_view_name": "StyleView",
            "description_width": ""
          }
        },
        "73614325bb2741f2913816691ec99ef6": {
          "model_module": "@jupyter-widgets/controls",
          "model_name": "HTMLModel",
          "model_module_version": "1.5.0",
          "state": {
            "_dom_classes": [],
            "_model_module": "@jupyter-widgets/controls",
            "_model_module_version": "1.5.0",
            "_model_name": "HTMLModel",
            "_view_count": null,
            "_view_module": "@jupyter-widgets/controls",
            "_view_module_version": "1.5.0",
            "_view_name": "HTMLView",
            "description": "",
            "description_tooltip": null,
            "layout": "IPY_MODEL_f1ceebc834e8432cb1370aea6a346412",
            "placeholder": "​",
            "style": "IPY_MODEL_0a8c657698a94b3cad8393653c7636af",
            "value": "\n    <h1>Menu:</h1>\n    <ol>\n        <li>Ler dados do arquivo</li>\n        <li>Gravar dados no arquivo grafo.txt</li>\n        <li>Inserir vértice</li>\n        <li>Inserir aresta</li>\n        <li>Remover vértice</li>\n        <li>Remover aresta</li>\n        <li>Exibir grafo</li>\n        <li>Exibir matriz</li>\n        <li>Apresentar a conexidade do grafo</li>\n        <li>Encerrar a aplicação</li>\n        <li>Buscar um índice pela palavra</li>\n        <li>Buscar uma palavra pelo índice</li>\n        <li>Fazer busca vetorial</li>\n        <li>Exibir grafo colorido</li>\n    </ol>\n    "
          }
        },
        "f1ceebc834e8432cb1370aea6a346412": {
          "model_module": "@jupyter-widgets/base",
          "model_name": "LayoutModel",
          "model_module_version": "1.2.0",
          "state": {
            "_model_module": "@jupyter-widgets/base",
            "_model_module_version": "1.2.0",
            "_model_name": "LayoutModel",
            "_view_count": null,
            "_view_module": "@jupyter-widgets/base",
            "_view_module_version": "1.2.0",
            "_view_name": "LayoutView",
            "align_content": null,
            "align_items": null,
            "align_self": null,
            "border": null,
            "bottom": null,
            "display": null,
            "flex": null,
            "flex_flow": null,
            "grid_area": null,
            "grid_auto_columns": null,
            "grid_auto_flow": null,
            "grid_auto_rows": null,
            "grid_column": null,
            "grid_gap": null,
            "grid_row": null,
            "grid_template_areas": null,
            "grid_template_columns": null,
            "grid_template_rows": null,
            "height": null,
            "justify_content": null,
            "justify_items": null,
            "left": null,
            "margin": null,
            "max_height": null,
            "max_width": null,
            "min_height": null,
            "min_width": null,
            "object_fit": null,
            "object_position": null,
            "order": null,
            "overflow": null,
            "overflow_x": null,
            "overflow_y": null,
            "padding": null,
            "right": null,
            "top": null,
            "visibility": null,
            "width": null
          }
        },
        "0a8c657698a94b3cad8393653c7636af": {
          "model_module": "@jupyter-widgets/controls",
          "model_name": "DescriptionStyleModel",
          "model_module_version": "1.5.0",
          "state": {
            "_model_module": "@jupyter-widgets/controls",
            "_model_module_version": "1.5.0",
            "_model_name": "DescriptionStyleModel",
            "_view_count": null,
            "_view_module": "@jupyter-widgets/base",
            "_view_module_version": "1.2.0",
            "_view_name": "StyleView",
            "description_width": ""
          }
        },
        "ea8dd4092bde45fbb55f20b400912271": {
          "model_module": "@jupyter-widgets/controls",
          "model_name": "HTMLModel",
          "model_module_version": "1.5.0",
          "state": {
            "_dom_classes": [],
            "_model_module": "@jupyter-widgets/controls",
            "_model_module_version": "1.5.0",
            "_model_name": "HTMLModel",
            "_view_count": null,
            "_view_module": "@jupyter-widgets/controls",
            "_view_module_version": "1.5.0",
            "_view_name": "HTMLView",
            "description": "",
            "description_tooltip": null,
            "layout": "IPY_MODEL_033d683459e145a2979dac2264347f18",
            "placeholder": "​",
            "style": "IPY_MODEL_faabde5d5ad744fc9cdf5cad590d28ce",
            "value": "\n    <h1>Menu:</h1>\n    <ol>\n        <li>Ler dados do arquivo</li>\n        <li>Gravar dados no arquivo grafo.txt</li>\n        <li>Inserir vértice</li>\n        <li>Inserir aresta</li>\n        <li>Remover vértice</li>\n        <li>Remover aresta</li>\n        <li>Exibir grafo</li>\n        <li>Exibir matriz</li>\n        <li>Apresentar a conexidade do grafo</li>\n        <li>Encerrar a aplicação</li>\n        <li>Buscar um índice pela palavra</li>\n        <li>Buscar uma palavra pelo índice</li>\n        <li>Fazer busca vetorial</li>\n        <li>Exibir grafo colorido</li>\n    </ol>\n    "
          }
        },
        "033d683459e145a2979dac2264347f18": {
          "model_module": "@jupyter-widgets/base",
          "model_name": "LayoutModel",
          "model_module_version": "1.2.0",
          "state": {
            "_model_module": "@jupyter-widgets/base",
            "_model_module_version": "1.2.0",
            "_model_name": "LayoutModel",
            "_view_count": null,
            "_view_module": "@jupyter-widgets/base",
            "_view_module_version": "1.2.0",
            "_view_name": "LayoutView",
            "align_content": null,
            "align_items": null,
            "align_self": null,
            "border": null,
            "bottom": null,
            "display": null,
            "flex": null,
            "flex_flow": null,
            "grid_area": null,
            "grid_auto_columns": null,
            "grid_auto_flow": null,
            "grid_auto_rows": null,
            "grid_column": null,
            "grid_gap": null,
            "grid_row": null,
            "grid_template_areas": null,
            "grid_template_columns": null,
            "grid_template_rows": null,
            "height": null,
            "justify_content": null,
            "justify_items": null,
            "left": null,
            "margin": null,
            "max_height": null,
            "max_width": null,
            "min_height": null,
            "min_width": null,
            "object_fit": null,
            "object_position": null,
            "order": null,
            "overflow": null,
            "overflow_x": null,
            "overflow_y": null,
            "padding": null,
            "right": null,
            "top": null,
            "visibility": null,
            "width": null
          }
        },
        "faabde5d5ad744fc9cdf5cad590d28ce": {
          "model_module": "@jupyter-widgets/controls",
          "model_name": "DescriptionStyleModel",
          "model_module_version": "1.5.0",
          "state": {
            "_model_module": "@jupyter-widgets/controls",
            "_model_module_version": "1.5.0",
            "_model_name": "DescriptionStyleModel",
            "_view_count": null,
            "_view_module": "@jupyter-widgets/base",
            "_view_module_version": "1.2.0",
            "_view_name": "StyleView",
            "description_width": ""
          }
        },
        "cf888234681d40d79db7cf4ca93487bf": {
          "model_module": "@jupyter-widgets/controls",
          "model_name": "HTMLModel",
          "model_module_version": "1.5.0",
          "state": {
            "_dom_classes": [],
            "_model_module": "@jupyter-widgets/controls",
            "_model_module_version": "1.5.0",
            "_model_name": "HTMLModel",
            "_view_count": null,
            "_view_module": "@jupyter-widgets/controls",
            "_view_module_version": "1.5.0",
            "_view_name": "HTMLView",
            "description": "",
            "description_tooltip": null,
            "layout": "IPY_MODEL_89ec2182b94e499d81ff8b9564ea8b83",
            "placeholder": "​",
            "style": "IPY_MODEL_900e8f2045f340759bf666c0717f898a",
            "value": "\n    <h1>Menu:</h1>\n    <ol>\n        <li>Ler dados do arquivo</li>\n        <li>Gravar dados no arquivo grafo.txt</li>\n        <li>Inserir vértice</li>\n        <li>Inserir aresta</li>\n        <li>Remover vértice</li>\n        <li>Remover aresta</li>\n        <li>Exibir grafo</li>\n        <li>Exibir matriz</li>\n        <li>Apresentar a conexidade do grafo</li>\n        <li>Encerrar a aplicação</li>\n        <li>Buscar um índice pela palavra</li>\n        <li>Buscar uma palavra pelo índice</li>\n        <li>Fazer busca vetorial</li>\n        <li>Exibir grafo colorido</li>\n    </ol>\n    "
          }
        },
        "89ec2182b94e499d81ff8b9564ea8b83": {
          "model_module": "@jupyter-widgets/base",
          "model_name": "LayoutModel",
          "model_module_version": "1.2.0",
          "state": {
            "_model_module": "@jupyter-widgets/base",
            "_model_module_version": "1.2.0",
            "_model_name": "LayoutModel",
            "_view_count": null,
            "_view_module": "@jupyter-widgets/base",
            "_view_module_version": "1.2.0",
            "_view_name": "LayoutView",
            "align_content": null,
            "align_items": null,
            "align_self": null,
            "border": null,
            "bottom": null,
            "display": null,
            "flex": null,
            "flex_flow": null,
            "grid_area": null,
            "grid_auto_columns": null,
            "grid_auto_flow": null,
            "grid_auto_rows": null,
            "grid_column": null,
            "grid_gap": null,
            "grid_row": null,
            "grid_template_areas": null,
            "grid_template_columns": null,
            "grid_template_rows": null,
            "height": null,
            "justify_content": null,
            "justify_items": null,
            "left": null,
            "margin": null,
            "max_height": null,
            "max_width": null,
            "min_height": null,
            "min_width": null,
            "object_fit": null,
            "object_position": null,
            "order": null,
            "overflow": null,
            "overflow_x": null,
            "overflow_y": null,
            "padding": null,
            "right": null,
            "top": null,
            "visibility": null,
            "width": null
          }
        },
        "900e8f2045f340759bf666c0717f898a": {
          "model_module": "@jupyter-widgets/controls",
          "model_name": "DescriptionStyleModel",
          "model_module_version": "1.5.0",
          "state": {
            "_model_module": "@jupyter-widgets/controls",
            "_model_module_version": "1.5.0",
            "_model_name": "DescriptionStyleModel",
            "_view_count": null,
            "_view_module": "@jupyter-widgets/base",
            "_view_module_version": "1.2.0",
            "_view_name": "StyleView",
            "description_width": ""
          }
        },
        "16d1223b9552433ca213df4df6acc649": {
          "model_module": "@jupyter-widgets/controls",
          "model_name": "HTMLModel",
          "model_module_version": "1.5.0",
          "state": {
            "_dom_classes": [],
            "_model_module": "@jupyter-widgets/controls",
            "_model_module_version": "1.5.0",
            "_model_name": "HTMLModel",
            "_view_count": null,
            "_view_module": "@jupyter-widgets/controls",
            "_view_module_version": "1.5.0",
            "_view_name": "HTMLView",
            "description": "",
            "description_tooltip": null,
            "layout": "IPY_MODEL_81ae71dc0d5c44cf858f3d5ffe9115f7",
            "placeholder": "​",
            "style": "IPY_MODEL_0fcc0d371dc446598a84d7708b34a3b8",
            "value": "\n    <h1>Menu:</h1>\n    <ol>\n        <li>Ler dados do arquivo</li>\n        <li>Gravar dados no arquivo grafo.txt</li>\n        <li>Inserir vértice</li>\n        <li>Inserir aresta</li>\n        <li>Remover vértice</li>\n        <li>Remover aresta</li>\n        <li>Exibir grafo</li>\n        <li>Exibir matriz</li>\n        <li>Apresentar a conexidade do grafo</li>\n        <li>Encerrar a aplicação</li>\n        <li>Buscar um índice pela palavra</li>\n        <li>Buscar uma palavra pelo índice</li>\n        <li>Fazer busca vetorial</li>\n        <li>Exibir grafo colorido</li>\n    </ol>\n    "
          }
        },
        "81ae71dc0d5c44cf858f3d5ffe9115f7": {
          "model_module": "@jupyter-widgets/base",
          "model_name": "LayoutModel",
          "model_module_version": "1.2.0",
          "state": {
            "_model_module": "@jupyter-widgets/base",
            "_model_module_version": "1.2.0",
            "_model_name": "LayoutModel",
            "_view_count": null,
            "_view_module": "@jupyter-widgets/base",
            "_view_module_version": "1.2.0",
            "_view_name": "LayoutView",
            "align_content": null,
            "align_items": null,
            "align_self": null,
            "border": null,
            "bottom": null,
            "display": null,
            "flex": null,
            "flex_flow": null,
            "grid_area": null,
            "grid_auto_columns": null,
            "grid_auto_flow": null,
            "grid_auto_rows": null,
            "grid_column": null,
            "grid_gap": null,
            "grid_row": null,
            "grid_template_areas": null,
            "grid_template_columns": null,
            "grid_template_rows": null,
            "height": null,
            "justify_content": null,
            "justify_items": null,
            "left": null,
            "margin": null,
            "max_height": null,
            "max_width": null,
            "min_height": null,
            "min_width": null,
            "object_fit": null,
            "object_position": null,
            "order": null,
            "overflow": null,
            "overflow_x": null,
            "overflow_y": null,
            "padding": null,
            "right": null,
            "top": null,
            "visibility": null,
            "width": null
          }
        },
        "0fcc0d371dc446598a84d7708b34a3b8": {
          "model_module": "@jupyter-widgets/controls",
          "model_name": "DescriptionStyleModel",
          "model_module_version": "1.5.0",
          "state": {
            "_model_module": "@jupyter-widgets/controls",
            "_model_module_version": "1.5.0",
            "_model_name": "DescriptionStyleModel",
            "_view_count": null,
            "_view_module": "@jupyter-widgets/base",
            "_view_module_version": "1.2.0",
            "_view_name": "StyleView",
            "description_width": ""
          }
        },
        "b6ccc77999be41b9bdeeed3df0d02fb3": {
          "model_module": "@jupyter-widgets/controls",
          "model_name": "HTMLModel",
          "model_module_version": "1.5.0",
          "state": {
            "_dom_classes": [],
            "_model_module": "@jupyter-widgets/controls",
            "_model_module_version": "1.5.0",
            "_model_name": "HTMLModel",
            "_view_count": null,
            "_view_module": "@jupyter-widgets/controls",
            "_view_module_version": "1.5.0",
            "_view_name": "HTMLView",
            "description": "",
            "description_tooltip": null,
            "layout": "IPY_MODEL_c596be9e9f24410388dad455a10db549",
            "placeholder": "​",
            "style": "IPY_MODEL_7bece2b5fc6444f99724d0836971798d",
            "value": "\n    <h1>Menu:</h1>\n    <ol>\n        <li>Ler dados do arquivo</li>\n        <li>Gravar dados no arquivo grafo.txt</li>\n        <li>Inserir vértice</li>\n        <li>Inserir aresta</li>\n        <li>Remover vértice</li>\n        <li>Remover aresta</li>\n        <li>Exibir grafo</li>\n        <li>Exibir matriz</li>\n        <li>Apresentar a conexidade do grafo</li>\n        <li>Encerrar a aplicação</li>\n        <li>Buscar um índice pela palavra</li>\n        <li>Buscar uma palavra pelo índice</li>\n        <li>Fazer busca vetorial</li>\n        <li>Exibir grafo colorido</li>\n    </ol>\n    "
          }
        },
        "c596be9e9f24410388dad455a10db549": {
          "model_module": "@jupyter-widgets/base",
          "model_name": "LayoutModel",
          "model_module_version": "1.2.0",
          "state": {
            "_model_module": "@jupyter-widgets/base",
            "_model_module_version": "1.2.0",
            "_model_name": "LayoutModel",
            "_view_count": null,
            "_view_module": "@jupyter-widgets/base",
            "_view_module_version": "1.2.0",
            "_view_name": "LayoutView",
            "align_content": null,
            "align_items": null,
            "align_self": null,
            "border": null,
            "bottom": null,
            "display": null,
            "flex": null,
            "flex_flow": null,
            "grid_area": null,
            "grid_auto_columns": null,
            "grid_auto_flow": null,
            "grid_auto_rows": null,
            "grid_column": null,
            "grid_gap": null,
            "grid_row": null,
            "grid_template_areas": null,
            "grid_template_columns": null,
            "grid_template_rows": null,
            "height": null,
            "justify_content": null,
            "justify_items": null,
            "left": null,
            "margin": null,
            "max_height": null,
            "max_width": null,
            "min_height": null,
            "min_width": null,
            "object_fit": null,
            "object_position": null,
            "order": null,
            "overflow": null,
            "overflow_x": null,
            "overflow_y": null,
            "padding": null,
            "right": null,
            "top": null,
            "visibility": null,
            "width": null
          }
        },
        "7bece2b5fc6444f99724d0836971798d": {
          "model_module": "@jupyter-widgets/controls",
          "model_name": "DescriptionStyleModel",
          "model_module_version": "1.5.0",
          "state": {
            "_model_module": "@jupyter-widgets/controls",
            "_model_module_version": "1.5.0",
            "_model_name": "DescriptionStyleModel",
            "_view_count": null,
            "_view_module": "@jupyter-widgets/base",
            "_view_module_version": "1.2.0",
            "_view_name": "StyleView",
            "description_width": ""
          }
        },
        "780a27414b644dff8ac9a55c4a312534": {
          "model_module": "@jupyter-widgets/controls",
          "model_name": "HTMLModel",
          "model_module_version": "1.5.0",
          "state": {
            "_dom_classes": [],
            "_model_module": "@jupyter-widgets/controls",
            "_model_module_version": "1.5.0",
            "_model_name": "HTMLModel",
            "_view_count": null,
            "_view_module": "@jupyter-widgets/controls",
            "_view_module_version": "1.5.0",
            "_view_name": "HTMLView",
            "description": "",
            "description_tooltip": null,
            "layout": "IPY_MODEL_07aa0bdf497d4c648df1da9a55277ba0",
            "placeholder": "​",
            "style": "IPY_MODEL_8da7c1d8e34048fe921d55b4d0de0569",
            "value": "\n    <h1>Menu:</h1>\n    <ol>\n        <li>Ler dados do arquivo</li>\n        <li>Gravar dados no arquivo grafo.txt</li>\n        <li>Inserir vértice</li>\n        <li>Inserir aresta</li>\n        <li>Remover vértice</li>\n        <li>Remover aresta</li>\n        <li>Exibir grafo</li>\n        <li>Exibir matriz</li>\n        <li>Apresentar a conexidade do grafo</li>\n        <li>Encerrar a aplicação</li>\n        <li>Buscar um índice pela palavra</li>\n        <li>Buscar uma palavra pelo índice</li>\n        <li>Fazer busca vetorial</li>\n        <li>Exibir grafo colorido</li>\n    </ol>\n    "
          }
        },
        "07aa0bdf497d4c648df1da9a55277ba0": {
          "model_module": "@jupyter-widgets/base",
          "model_name": "LayoutModel",
          "model_module_version": "1.2.0",
          "state": {
            "_model_module": "@jupyter-widgets/base",
            "_model_module_version": "1.2.0",
            "_model_name": "LayoutModel",
            "_view_count": null,
            "_view_module": "@jupyter-widgets/base",
            "_view_module_version": "1.2.0",
            "_view_name": "LayoutView",
            "align_content": null,
            "align_items": null,
            "align_self": null,
            "border": null,
            "bottom": null,
            "display": null,
            "flex": null,
            "flex_flow": null,
            "grid_area": null,
            "grid_auto_columns": null,
            "grid_auto_flow": null,
            "grid_auto_rows": null,
            "grid_column": null,
            "grid_gap": null,
            "grid_row": null,
            "grid_template_areas": null,
            "grid_template_columns": null,
            "grid_template_rows": null,
            "height": null,
            "justify_content": null,
            "justify_items": null,
            "left": null,
            "margin": null,
            "max_height": null,
            "max_width": null,
            "min_height": null,
            "min_width": null,
            "object_fit": null,
            "object_position": null,
            "order": null,
            "overflow": null,
            "overflow_x": null,
            "overflow_y": null,
            "padding": null,
            "right": null,
            "top": null,
            "visibility": null,
            "width": null
          }
        },
        "8da7c1d8e34048fe921d55b4d0de0569": {
          "model_module": "@jupyter-widgets/controls",
          "model_name": "DescriptionStyleModel",
          "model_module_version": "1.5.0",
          "state": {
            "_model_module": "@jupyter-widgets/controls",
            "_model_module_version": "1.5.0",
            "_model_name": "DescriptionStyleModel",
            "_view_count": null,
            "_view_module": "@jupyter-widgets/base",
            "_view_module_version": "1.2.0",
            "_view_name": "StyleView",
            "description_width": ""
          }
        },
        "1c24f604a16e45a3834cb50518b38c0a": {
          "model_module": "@jupyter-widgets/controls",
          "model_name": "HTMLModel",
          "model_module_version": "1.5.0",
          "state": {
            "_dom_classes": [],
            "_model_module": "@jupyter-widgets/controls",
            "_model_module_version": "1.5.0",
            "_model_name": "HTMLModel",
            "_view_count": null,
            "_view_module": "@jupyter-widgets/controls",
            "_view_module_version": "1.5.0",
            "_view_name": "HTMLView",
            "description": "",
            "description_tooltip": null,
            "layout": "IPY_MODEL_d72a5d261e22474082daa4c503fef57b",
            "placeholder": "​",
            "style": "IPY_MODEL_71e3961298bf4e6686a241d8240cf065",
            "value": "\n    <h1>Menu:</h1>\n    <ol>\n        <li>Ler dados do arquivo</li>\n        <li>Gravar dados no arquivo grafo.txt</li>\n        <li>Inserir vértice</li>\n        <li>Inserir aresta</li>\n        <li>Remover vértice</li>\n        <li>Remover aresta</li>\n        <li>Exibir grafo</li>\n        <li>Exibir matriz</li>\n        <li>Apresentar a conexidade do grafo</li>\n        <li>Encerrar a aplicação</li>\n        <li>Buscar um índice pela palavra</li>\n        <li>Buscar uma palavra pelo índice</li>\n        <li>Fazer busca vetorial</li>\n        <li>Exibir grafo colorido</li>\n    </ol>\n    "
          }
        },
        "d72a5d261e22474082daa4c503fef57b": {
          "model_module": "@jupyter-widgets/base",
          "model_name": "LayoutModel",
          "model_module_version": "1.2.0",
          "state": {
            "_model_module": "@jupyter-widgets/base",
            "_model_module_version": "1.2.0",
            "_model_name": "LayoutModel",
            "_view_count": null,
            "_view_module": "@jupyter-widgets/base",
            "_view_module_version": "1.2.0",
            "_view_name": "LayoutView",
            "align_content": null,
            "align_items": null,
            "align_self": null,
            "border": null,
            "bottom": null,
            "display": null,
            "flex": null,
            "flex_flow": null,
            "grid_area": null,
            "grid_auto_columns": null,
            "grid_auto_flow": null,
            "grid_auto_rows": null,
            "grid_column": null,
            "grid_gap": null,
            "grid_row": null,
            "grid_template_areas": null,
            "grid_template_columns": null,
            "grid_template_rows": null,
            "height": null,
            "justify_content": null,
            "justify_items": null,
            "left": null,
            "margin": null,
            "max_height": null,
            "max_width": null,
            "min_height": null,
            "min_width": null,
            "object_fit": null,
            "object_position": null,
            "order": null,
            "overflow": null,
            "overflow_x": null,
            "overflow_y": null,
            "padding": null,
            "right": null,
            "top": null,
            "visibility": null,
            "width": null
          }
        },
        "71e3961298bf4e6686a241d8240cf065": {
          "model_module": "@jupyter-widgets/controls",
          "model_name": "DescriptionStyleModel",
          "model_module_version": "1.5.0",
          "state": {
            "_model_module": "@jupyter-widgets/controls",
            "_model_module_version": "1.5.0",
            "_model_name": "DescriptionStyleModel",
            "_view_count": null,
            "_view_module": "@jupyter-widgets/base",
            "_view_module_version": "1.2.0",
            "_view_name": "StyleView",
            "description_width": ""
          }
        },
        "c508e469435b4f709515c8fa4983910d": {
          "model_module": "@jupyter-widgets/controls",
          "model_name": "HTMLModel",
          "model_module_version": "1.5.0",
          "state": {
            "_dom_classes": [],
            "_model_module": "@jupyter-widgets/controls",
            "_model_module_version": "1.5.0",
            "_model_name": "HTMLModel",
            "_view_count": null,
            "_view_module": "@jupyter-widgets/controls",
            "_view_module_version": "1.5.0",
            "_view_name": "HTMLView",
            "description": "",
            "description_tooltip": null,
            "layout": "IPY_MODEL_46708588da2c43228c6ebb0aef764c23",
            "placeholder": "​",
            "style": "IPY_MODEL_7295548de94a4476b2f4ab6ea0967823",
            "value": "\n    <h1>Menu:</h1>\n    <ol>\n        <li>Ler dados do arquivo</li>\n        <li>Gravar dados no arquivo grafo.txt</li>\n        <li>Inserir vértice</li>\n        <li>Inserir aresta</li>\n        <li>Remover vértice</li>\n        <li>Remover aresta</li>\n        <li>Exibir grafo</li>\n        <li>Exibir matriz</li>\n        <li>Apresentar a conexidade do grafo</li>\n        <li>Encerrar a aplicação</li>\n        <li>Buscar um índice pela palavra</li>\n        <li>Buscar uma palavra pelo índice</li>\n        <li>Fazer busca vetorial</li>\n        <li>Exibir grafo colorido</li>\n    </ol>\n    "
          }
        },
        "46708588da2c43228c6ebb0aef764c23": {
          "model_module": "@jupyter-widgets/base",
          "model_name": "LayoutModel",
          "model_module_version": "1.2.0",
          "state": {
            "_model_module": "@jupyter-widgets/base",
            "_model_module_version": "1.2.0",
            "_model_name": "LayoutModel",
            "_view_count": null,
            "_view_module": "@jupyter-widgets/base",
            "_view_module_version": "1.2.0",
            "_view_name": "LayoutView",
            "align_content": null,
            "align_items": null,
            "align_self": null,
            "border": null,
            "bottom": null,
            "display": null,
            "flex": null,
            "flex_flow": null,
            "grid_area": null,
            "grid_auto_columns": null,
            "grid_auto_flow": null,
            "grid_auto_rows": null,
            "grid_column": null,
            "grid_gap": null,
            "grid_row": null,
            "grid_template_areas": null,
            "grid_template_columns": null,
            "grid_template_rows": null,
            "height": null,
            "justify_content": null,
            "justify_items": null,
            "left": null,
            "margin": null,
            "max_height": null,
            "max_width": null,
            "min_height": null,
            "min_width": null,
            "object_fit": null,
            "object_position": null,
            "order": null,
            "overflow": null,
            "overflow_x": null,
            "overflow_y": null,
            "padding": null,
            "right": null,
            "top": null,
            "visibility": null,
            "width": null
          }
        },
        "7295548de94a4476b2f4ab6ea0967823": {
          "model_module": "@jupyter-widgets/controls",
          "model_name": "DescriptionStyleModel",
          "model_module_version": "1.5.0",
          "state": {
            "_model_module": "@jupyter-widgets/controls",
            "_model_module_version": "1.5.0",
            "_model_name": "DescriptionStyleModel",
            "_view_count": null,
            "_view_module": "@jupyter-widgets/base",
            "_view_module_version": "1.2.0",
            "_view_name": "StyleView",
            "description_width": ""
          }
        },
        "380490824bf74ac4bbfe59c4a0baa5f8": {
          "model_module": "@jupyter-widgets/controls",
          "model_name": "HTMLModel",
          "model_module_version": "1.5.0",
          "state": {
            "_dom_classes": [],
            "_model_module": "@jupyter-widgets/controls",
            "_model_module_version": "1.5.0",
            "_model_name": "HTMLModel",
            "_view_count": null,
            "_view_module": "@jupyter-widgets/controls",
            "_view_module_version": "1.5.0",
            "_view_name": "HTMLView",
            "description": "",
            "description_tooltip": null,
            "layout": "IPY_MODEL_d435c30d90d74624a698b557a3fabc63",
            "placeholder": "​",
            "style": "IPY_MODEL_e5172fa2529d4ce5a14bfd0366b93648",
            "value": "\n    <h1>Menu:</h1>\n    <ol>\n        <li>Ler dados do arquivo</li>\n        <li>Gravar dados no arquivo grafo.txt</li>\n        <li>Inserir vértice</li>\n        <li>Inserir aresta</li>\n        <li>Remover vértice</li>\n        <li>Remover aresta</li>\n        <li>Exibir grafo</li>\n        <li>Exibir matriz</li>\n        <li>Apresentar a conexidade do grafo</li>\n        <li>Encerrar a aplicação</li>\n        <li>Buscar um índice pela palavra</li>\n        <li>Buscar uma palavra pelo índice</li>\n        <li>Fazer busca vetorial</li>\n        <li>Exibir grafo colorido</li>\n    </ol>\n    "
          }
        },
        "d435c30d90d74624a698b557a3fabc63": {
          "model_module": "@jupyter-widgets/base",
          "model_name": "LayoutModel",
          "model_module_version": "1.2.0",
          "state": {
            "_model_module": "@jupyter-widgets/base",
            "_model_module_version": "1.2.0",
            "_model_name": "LayoutModel",
            "_view_count": null,
            "_view_module": "@jupyter-widgets/base",
            "_view_module_version": "1.2.0",
            "_view_name": "LayoutView",
            "align_content": null,
            "align_items": null,
            "align_self": null,
            "border": null,
            "bottom": null,
            "display": null,
            "flex": null,
            "flex_flow": null,
            "grid_area": null,
            "grid_auto_columns": null,
            "grid_auto_flow": null,
            "grid_auto_rows": null,
            "grid_column": null,
            "grid_gap": null,
            "grid_row": null,
            "grid_template_areas": null,
            "grid_template_columns": null,
            "grid_template_rows": null,
            "height": null,
            "justify_content": null,
            "justify_items": null,
            "left": null,
            "margin": null,
            "max_height": null,
            "max_width": null,
            "min_height": null,
            "min_width": null,
            "object_fit": null,
            "object_position": null,
            "order": null,
            "overflow": null,
            "overflow_x": null,
            "overflow_y": null,
            "padding": null,
            "right": null,
            "top": null,
            "visibility": null,
            "width": null
          }
        },
        "e5172fa2529d4ce5a14bfd0366b93648": {
          "model_module": "@jupyter-widgets/controls",
          "model_name": "DescriptionStyleModel",
          "model_module_version": "1.5.0",
          "state": {
            "_model_module": "@jupyter-widgets/controls",
            "_model_module_version": "1.5.0",
            "_model_name": "DescriptionStyleModel",
            "_view_count": null,
            "_view_module": "@jupyter-widgets/base",
            "_view_module_version": "1.2.0",
            "_view_name": "StyleView",
            "description_width": ""
          }
        },
        "29af2581d12044afbbc817da9ac1006a": {
          "model_module": "@jupyter-widgets/controls",
          "model_name": "HTMLModel",
          "model_module_version": "1.5.0",
          "state": {
            "_dom_classes": [],
            "_model_module": "@jupyter-widgets/controls",
            "_model_module_version": "1.5.0",
            "_model_name": "HTMLModel",
            "_view_count": null,
            "_view_module": "@jupyter-widgets/controls",
            "_view_module_version": "1.5.0",
            "_view_name": "HTMLView",
            "description": "",
            "description_tooltip": null,
            "layout": "IPY_MODEL_f3c784888bfd4a5ebedc645eb2f5f8e9",
            "placeholder": "​",
            "style": "IPY_MODEL_73a77951f2c54c71948b44c70abaf48a",
            "value": "\n    <h1>Menu:</h1>\n    <ol>\n        <li>Ler dados do arquivo</li>\n        <li>Gravar dados no arquivo grafo.txt</li>\n        <li>Inserir vértice</li>\n        <li>Inserir aresta</li>\n        <li>Remover vértice</li>\n        <li>Remover aresta</li>\n        <li>Exibir grafo</li>\n        <li>Exibir matriz</li>\n        <li>Apresentar a conexidade do grafo</li>\n        <li>Encerrar a aplicação</li>\n        <li>Buscar um índice pela palavra</li>\n        <li>Buscar uma palavra pelo índice</li>\n        <li>Fazer busca vetorial</li>\n        <li>Exibir grafo colorido</li>\n    </ol>\n    "
          }
        },
        "f3c784888bfd4a5ebedc645eb2f5f8e9": {
          "model_module": "@jupyter-widgets/base",
          "model_name": "LayoutModel",
          "model_module_version": "1.2.0",
          "state": {
            "_model_module": "@jupyter-widgets/base",
            "_model_module_version": "1.2.0",
            "_model_name": "LayoutModel",
            "_view_count": null,
            "_view_module": "@jupyter-widgets/base",
            "_view_module_version": "1.2.0",
            "_view_name": "LayoutView",
            "align_content": null,
            "align_items": null,
            "align_self": null,
            "border": null,
            "bottom": null,
            "display": null,
            "flex": null,
            "flex_flow": null,
            "grid_area": null,
            "grid_auto_columns": null,
            "grid_auto_flow": null,
            "grid_auto_rows": null,
            "grid_column": null,
            "grid_gap": null,
            "grid_row": null,
            "grid_template_areas": null,
            "grid_template_columns": null,
            "grid_template_rows": null,
            "height": null,
            "justify_content": null,
            "justify_items": null,
            "left": null,
            "margin": null,
            "max_height": null,
            "max_width": null,
            "min_height": null,
            "min_width": null,
            "object_fit": null,
            "object_position": null,
            "order": null,
            "overflow": null,
            "overflow_x": null,
            "overflow_y": null,
            "padding": null,
            "right": null,
            "top": null,
            "visibility": null,
            "width": null
          }
        },
        "73a77951f2c54c71948b44c70abaf48a": {
          "model_module": "@jupyter-widgets/controls",
          "model_name": "DescriptionStyleModel",
          "model_module_version": "1.5.0",
          "state": {
            "_model_module": "@jupyter-widgets/controls",
            "_model_module_version": "1.5.0",
            "_model_name": "DescriptionStyleModel",
            "_view_count": null,
            "_view_module": "@jupyter-widgets/base",
            "_view_module_version": "1.2.0",
            "_view_name": "StyleView",
            "description_width": ""
          }
        },
        "97d776f64b374c349eae3d2d6951525b": {
          "model_module": "@jupyter-widgets/controls",
          "model_name": "HTMLModel",
          "model_module_version": "1.5.0",
          "state": {
            "_dom_classes": [],
            "_model_module": "@jupyter-widgets/controls",
            "_model_module_version": "1.5.0",
            "_model_name": "HTMLModel",
            "_view_count": null,
            "_view_module": "@jupyter-widgets/controls",
            "_view_module_version": "1.5.0",
            "_view_name": "HTMLView",
            "description": "",
            "description_tooltip": null,
            "layout": "IPY_MODEL_ac7ac6cab0e24a3ebe0b67caefd39e8d",
            "placeholder": "​",
            "style": "IPY_MODEL_dce2d7f8d2774cea999a0d5cdab4708b",
            "value": "\n    <h1>Menu:</h1>\n    <ol>\n        <li>Ler dados do arquivo</li>\n        <li>Gravar dados no arquivo grafo.txt</li>\n        <li>Inserir vértice</li>\n        <li>Inserir aresta</li>\n        <li>Remover vértice</li>\n        <li>Remover aresta</li>\n        <li>Exibir grafo</li>\n        <li>Exibir matriz</li>\n        <li>Apresentar a conexidade do grafo</li>\n        <li>Encerrar a aplicação</li>\n        <li>Buscar um índice pela palavra</li>\n        <li>Buscar uma palavra pelo índice</li>\n        <li>Fazer busca vetorial</li>\n        <li>Exibir grafo colorido</li>\n    </ol>\n    "
          }
        },
        "ac7ac6cab0e24a3ebe0b67caefd39e8d": {
          "model_module": "@jupyter-widgets/base",
          "model_name": "LayoutModel",
          "model_module_version": "1.2.0",
          "state": {
            "_model_module": "@jupyter-widgets/base",
            "_model_module_version": "1.2.0",
            "_model_name": "LayoutModel",
            "_view_count": null,
            "_view_module": "@jupyter-widgets/base",
            "_view_module_version": "1.2.0",
            "_view_name": "LayoutView",
            "align_content": null,
            "align_items": null,
            "align_self": null,
            "border": null,
            "bottom": null,
            "display": null,
            "flex": null,
            "flex_flow": null,
            "grid_area": null,
            "grid_auto_columns": null,
            "grid_auto_flow": null,
            "grid_auto_rows": null,
            "grid_column": null,
            "grid_gap": null,
            "grid_row": null,
            "grid_template_areas": null,
            "grid_template_columns": null,
            "grid_template_rows": null,
            "height": null,
            "justify_content": null,
            "justify_items": null,
            "left": null,
            "margin": null,
            "max_height": null,
            "max_width": null,
            "min_height": null,
            "min_width": null,
            "object_fit": null,
            "object_position": null,
            "order": null,
            "overflow": null,
            "overflow_x": null,
            "overflow_y": null,
            "padding": null,
            "right": null,
            "top": null,
            "visibility": null,
            "width": null
          }
        },
        "dce2d7f8d2774cea999a0d5cdab4708b": {
          "model_module": "@jupyter-widgets/controls",
          "model_name": "DescriptionStyleModel",
          "model_module_version": "1.5.0",
          "state": {
            "_model_module": "@jupyter-widgets/controls",
            "_model_module_version": "1.5.0",
            "_model_name": "DescriptionStyleModel",
            "_view_count": null,
            "_view_module": "@jupyter-widgets/base",
            "_view_module_version": "1.2.0",
            "_view_name": "StyleView",
            "description_width": ""
          }
        },
        "b112a9be8fdf4214b355efe5d3408bbd": {
          "model_module": "@jupyter-widgets/controls",
          "model_name": "HTMLModel",
          "model_module_version": "1.5.0",
          "state": {
            "_dom_classes": [],
            "_model_module": "@jupyter-widgets/controls",
            "_model_module_version": "1.5.0",
            "_model_name": "HTMLModel",
            "_view_count": null,
            "_view_module": "@jupyter-widgets/controls",
            "_view_module_version": "1.5.0",
            "_view_name": "HTMLView",
            "description": "",
            "description_tooltip": null,
            "layout": "IPY_MODEL_c86f979fc8f54383b5be347b91af1fbc",
            "placeholder": "​",
            "style": "IPY_MODEL_79e950531afd4f4485f396347f179873",
            "value": "\n    <h1>Menu:</h1>\n    <ol>\n        <li>Ler dados do arquivo</li>\n        <li>Gravar dados no arquivo grafo.txt</li>\n        <li>Inserir vértice</li>\n        <li>Inserir aresta</li>\n        <li>Remover vértice</li>\n        <li>Remover aresta</li>\n        <li>Exibir grafo</li>\n        <li>Exibir matriz</li>\n        <li>Apresentar a conexidade do grafo</li>\n        <li>Encerrar a aplicação</li>\n        <li>Buscar um índice pela palavra</li>\n        <li>Buscar uma palavra pelo índice</li>\n        <li>Fazer busca vetorial</li>\n        <li>Exibir grafo colorido</li>\n    </ol>\n    "
          }
        },
        "c86f979fc8f54383b5be347b91af1fbc": {
          "model_module": "@jupyter-widgets/base",
          "model_name": "LayoutModel",
          "model_module_version": "1.2.0",
          "state": {
            "_model_module": "@jupyter-widgets/base",
            "_model_module_version": "1.2.0",
            "_model_name": "LayoutModel",
            "_view_count": null,
            "_view_module": "@jupyter-widgets/base",
            "_view_module_version": "1.2.0",
            "_view_name": "LayoutView",
            "align_content": null,
            "align_items": null,
            "align_self": null,
            "border": null,
            "bottom": null,
            "display": null,
            "flex": null,
            "flex_flow": null,
            "grid_area": null,
            "grid_auto_columns": null,
            "grid_auto_flow": null,
            "grid_auto_rows": null,
            "grid_column": null,
            "grid_gap": null,
            "grid_row": null,
            "grid_template_areas": null,
            "grid_template_columns": null,
            "grid_template_rows": null,
            "height": null,
            "justify_content": null,
            "justify_items": null,
            "left": null,
            "margin": null,
            "max_height": null,
            "max_width": null,
            "min_height": null,
            "min_width": null,
            "object_fit": null,
            "object_position": null,
            "order": null,
            "overflow": null,
            "overflow_x": null,
            "overflow_y": null,
            "padding": null,
            "right": null,
            "top": null,
            "visibility": null,
            "width": null
          }
        },
        "79e950531afd4f4485f396347f179873": {
          "model_module": "@jupyter-widgets/controls",
          "model_name": "DescriptionStyleModel",
          "model_module_version": "1.5.0",
          "state": {
            "_model_module": "@jupyter-widgets/controls",
            "_model_module_version": "1.5.0",
            "_model_name": "DescriptionStyleModel",
            "_view_count": null,
            "_view_module": "@jupyter-widgets/base",
            "_view_module_version": "1.2.0",
            "_view_name": "StyleView",
            "description_width": ""
          }
        },
        "b0dbecc245874fc6aec08f6f424c3f4d": {
          "model_module": "@jupyter-widgets/controls",
          "model_name": "HTMLModel",
          "model_module_version": "1.5.0",
          "state": {
            "_dom_classes": [],
            "_model_module": "@jupyter-widgets/controls",
            "_model_module_version": "1.5.0",
            "_model_name": "HTMLModel",
            "_view_count": null,
            "_view_module": "@jupyter-widgets/controls",
            "_view_module_version": "1.5.0",
            "_view_name": "HTMLView",
            "description": "",
            "description_tooltip": null,
            "layout": "IPY_MODEL_c2356ff632b44959a1338cdcb5162a79",
            "placeholder": "​",
            "style": "IPY_MODEL_3ab751443c464015a67639baf5e06465",
            "value": "\n    <h1>Menu:</h1>\n    <ol>\n        <li>Ler dados do arquivo</li>\n        <li>Gravar dados no arquivo grafo.txt</li>\n        <li>Inserir vértice</li>\n        <li>Inserir aresta</li>\n        <li>Remover vértice</li>\n        <li>Remover aresta</li>\n        <li>Exibir grafo</li>\n        <li>Exibir matriz</li>\n        <li>Apresentar a conexidade do grafo</li>\n        <li>Encerrar a aplicação</li>\n        <li>Buscar um índice pela palavra</li>\n        <li>Buscar uma palavra pelo índice</li>\n        <li>Fazer busca vetorial</li>\n        <li>Exibir grafo colorido</li>\n    </ol>\n    "
          }
        },
        "c2356ff632b44959a1338cdcb5162a79": {
          "model_module": "@jupyter-widgets/base",
          "model_name": "LayoutModel",
          "model_module_version": "1.2.0",
          "state": {
            "_model_module": "@jupyter-widgets/base",
            "_model_module_version": "1.2.0",
            "_model_name": "LayoutModel",
            "_view_count": null,
            "_view_module": "@jupyter-widgets/base",
            "_view_module_version": "1.2.0",
            "_view_name": "LayoutView",
            "align_content": null,
            "align_items": null,
            "align_self": null,
            "border": null,
            "bottom": null,
            "display": null,
            "flex": null,
            "flex_flow": null,
            "grid_area": null,
            "grid_auto_columns": null,
            "grid_auto_flow": null,
            "grid_auto_rows": null,
            "grid_column": null,
            "grid_gap": null,
            "grid_row": null,
            "grid_template_areas": null,
            "grid_template_columns": null,
            "grid_template_rows": null,
            "height": null,
            "justify_content": null,
            "justify_items": null,
            "left": null,
            "margin": null,
            "max_height": null,
            "max_width": null,
            "min_height": null,
            "min_width": null,
            "object_fit": null,
            "object_position": null,
            "order": null,
            "overflow": null,
            "overflow_x": null,
            "overflow_y": null,
            "padding": null,
            "right": null,
            "top": null,
            "visibility": null,
            "width": null
          }
        },
        "3ab751443c464015a67639baf5e06465": {
          "model_module": "@jupyter-widgets/controls",
          "model_name": "DescriptionStyleModel",
          "model_module_version": "1.5.0",
          "state": {
            "_model_module": "@jupyter-widgets/controls",
            "_model_module_version": "1.5.0",
            "_model_name": "DescriptionStyleModel",
            "_view_count": null,
            "_view_module": "@jupyter-widgets/base",
            "_view_module_version": "1.2.0",
            "_view_name": "StyleView",
            "description_width": ""
          }
        }
      }
    }
  },
  "nbformat": 4,
  "nbformat_minor": 0
}