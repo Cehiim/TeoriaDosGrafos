{
  "cells": [
    {
      "cell_type": "markdown",
      "metadata": {
        "id": "view-in-github",
        "colab_type": "text"
      },
      "source": [
        "<a href=\"https://colab.research.google.com/github/Cehiim/TeoriaDosGrafos/blob/main/ProjetoFinal/ProjetoFinal.ipynb\" target=\"_parent\"><img src=\"https://colab.research.google.com/assets/colab-badge.svg\" alt=\"Open In Colab\"/></a>"
      ]
    },
    {
      "cell_type": "markdown",
      "source": [
        "# Informações gerais\n",
        "\n",
        "## Tema\n",
        "* Aplicação com busca semântica para representação de grafos.\n",
        "\n",
        "## Integrantes\n",
        "* Cesar Hideki Imai - 10402758.\n",
        "* João Victor Dallapé Madeira - 10400725.\n",
        "* David Varão Lima Bentes Pessoa - 10402647.\n",
        "* André Franco Ranieri - 10390470."
      ],
      "metadata": {
        "id": "XYffMUNr2Ila"
      }
    },
    {
      "cell_type": "markdown",
      "metadata": {
        "id": "oX9e_J1rfR8k"
      },
      "source": [
        "# Setup"
      ]
    },
    {
      "cell_type": "markdown",
      "metadata": {
        "id": "f4Fd36vBfY_m"
      },
      "source": [
        "## Integração dos pacotes"
      ]
    },
    {
      "cell_type": "code",
      "execution_count": null,
      "metadata": {
        "colab": {
          "base_uri": "https://localhost:8080/"
        },
        "collapsed": true,
        "id": "yy3H5b34UlKV",
        "jupyter": {
          "outputs_hidden": true
        },
        "outputId": "72cd9587-b76c-4b00-dbcb-72698cd4afbd"
      },
      "outputs": [
        {
          "output_type": "stream",
          "name": "stdout",
          "text": [
            "Requirement already satisfied: sentence-transformers in /usr/local/lib/python3.10/dist-packages (3.2.1)\n",
            "Requirement already satisfied: transformers<5.0.0,>=4.41.0 in /usr/local/lib/python3.10/dist-packages (from sentence-transformers) (4.46.2)\n",
            "Requirement already satisfied: tqdm in /usr/local/lib/python3.10/dist-packages (from sentence-transformers) (4.66.6)\n",
            "Requirement already satisfied: torch>=1.11.0 in /usr/local/lib/python3.10/dist-packages (from sentence-transformers) (2.5.1+cu121)\n",
            "Requirement already satisfied: scikit-learn in /usr/local/lib/python3.10/dist-packages (from sentence-transformers) (1.5.2)\n",
            "Requirement already satisfied: scipy in /usr/local/lib/python3.10/dist-packages (from sentence-transformers) (1.13.1)\n",
            "Requirement already satisfied: huggingface-hub>=0.20.0 in /usr/local/lib/python3.10/dist-packages (from sentence-transformers) (0.26.2)\n",
            "Requirement already satisfied: Pillow in /usr/local/lib/python3.10/dist-packages (from sentence-transformers) (11.0.0)\n",
            "Requirement already satisfied: filelock in /usr/local/lib/python3.10/dist-packages (from huggingface-hub>=0.20.0->sentence-transformers) (3.16.1)\n",
            "Requirement already satisfied: fsspec>=2023.5.0 in /usr/local/lib/python3.10/dist-packages (from huggingface-hub>=0.20.0->sentence-transformers) (2024.10.0)\n",
            "Requirement already satisfied: packaging>=20.9 in /usr/local/lib/python3.10/dist-packages (from huggingface-hub>=0.20.0->sentence-transformers) (24.2)\n",
            "Requirement already satisfied: pyyaml>=5.1 in /usr/local/lib/python3.10/dist-packages (from huggingface-hub>=0.20.0->sentence-transformers) (6.0.2)\n",
            "Requirement already satisfied: requests in /usr/local/lib/python3.10/dist-packages (from huggingface-hub>=0.20.0->sentence-transformers) (2.32.3)\n",
            "Requirement already satisfied: typing-extensions>=3.7.4.3 in /usr/local/lib/python3.10/dist-packages (from huggingface-hub>=0.20.0->sentence-transformers) (4.12.2)\n",
            "Requirement already satisfied: networkx in /usr/local/lib/python3.10/dist-packages (from torch>=1.11.0->sentence-transformers) (3.4.2)\n",
            "Requirement already satisfied: jinja2 in /usr/local/lib/python3.10/dist-packages (from torch>=1.11.0->sentence-transformers) (3.1.4)\n",
            "Requirement already satisfied: sympy==1.13.1 in /usr/local/lib/python3.10/dist-packages (from torch>=1.11.0->sentence-transformers) (1.13.1)\n",
            "Requirement already satisfied: mpmath<1.4,>=1.1.0 in /usr/local/lib/python3.10/dist-packages (from sympy==1.13.1->torch>=1.11.0->sentence-transformers) (1.3.0)\n",
            "Requirement already satisfied: numpy>=1.17 in /usr/local/lib/python3.10/dist-packages (from transformers<5.0.0,>=4.41.0->sentence-transformers) (1.26.4)\n",
            "Requirement already satisfied: regex!=2019.12.17 in /usr/local/lib/python3.10/dist-packages (from transformers<5.0.0,>=4.41.0->sentence-transformers) (2024.9.11)\n",
            "Requirement already satisfied: safetensors>=0.4.1 in /usr/local/lib/python3.10/dist-packages (from transformers<5.0.0,>=4.41.0->sentence-transformers) (0.4.5)\n",
            "Requirement already satisfied: tokenizers<0.21,>=0.20 in /usr/local/lib/python3.10/dist-packages (from transformers<5.0.0,>=4.41.0->sentence-transformers) (0.20.3)\n",
            "Requirement already satisfied: joblib>=1.2.0 in /usr/local/lib/python3.10/dist-packages (from scikit-learn->sentence-transformers) (1.4.2)\n",
            "Requirement already satisfied: threadpoolctl>=3.1.0 in /usr/local/lib/python3.10/dist-packages (from scikit-learn->sentence-transformers) (3.5.0)\n",
            "Requirement already satisfied: MarkupSafe>=2.0 in /usr/local/lib/python3.10/dist-packages (from jinja2->torch>=1.11.0->sentence-transformers) (3.0.2)\n",
            "Requirement already satisfied: charset-normalizer<4,>=2 in /usr/local/lib/python3.10/dist-packages (from requests->huggingface-hub>=0.20.0->sentence-transformers) (3.4.0)\n",
            "Requirement already satisfied: idna<4,>=2.5 in /usr/local/lib/python3.10/dist-packages (from requests->huggingface-hub>=0.20.0->sentence-transformers) (3.10)\n",
            "Requirement already satisfied: urllib3<3,>=1.21.1 in /usr/local/lib/python3.10/dist-packages (from requests->huggingface-hub>=0.20.0->sentence-transformers) (2.2.3)\n",
            "Requirement already satisfied: certifi>=2017.4.17 in /usr/local/lib/python3.10/dist-packages (from requests->huggingface-hub>=0.20.0->sentence-transformers) (2024.8.30)\n",
            "Requirement already satisfied: requests in /usr/local/lib/python3.10/dist-packages (2.32.3)\n",
            "Requirement already satisfied: charset-normalizer<4,>=2 in /usr/local/lib/python3.10/dist-packages (from requests) (3.4.0)\n",
            "Requirement already satisfied: idna<4,>=2.5 in /usr/local/lib/python3.10/dist-packages (from requests) (3.10)\n",
            "Requirement already satisfied: urllib3<3,>=1.21.1 in /usr/local/lib/python3.10/dist-packages (from requests) (2.2.3)\n",
            "Requirement already satisfied: certifi>=2017.4.17 in /usr/local/lib/python3.10/dist-packages (from requests) (2024.8.30)\n",
            "Requirement already satisfied: networkx in /usr/local/lib/python3.10/dist-packages (3.4.2)\n",
            "Requirement already satisfied: pyvis in /usr/local/lib/python3.10/dist-packages (0.3.2)\n",
            "Requirement already satisfied: ipython>=5.3.0 in /usr/local/lib/python3.10/dist-packages (from pyvis) (7.34.0)\n",
            "Requirement already satisfied: jinja2>=2.9.6 in /usr/local/lib/python3.10/dist-packages (from pyvis) (3.1.4)\n",
            "Requirement already satisfied: jsonpickle>=1.4.1 in /usr/local/lib/python3.10/dist-packages (from pyvis) (4.0.0)\n",
            "Requirement already satisfied: setuptools>=18.5 in /usr/local/lib/python3.10/dist-packages (from ipython>=5.3.0->pyvis) (75.1.0)\n",
            "Requirement already satisfied: jedi>=0.16 in /usr/local/lib/python3.10/dist-packages (from ipython>=5.3.0->pyvis) (0.19.2)\n",
            "Requirement already satisfied: decorator in /usr/local/lib/python3.10/dist-packages (from ipython>=5.3.0->pyvis) (4.4.2)\n",
            "Requirement already satisfied: pickleshare in /usr/local/lib/python3.10/dist-packages (from ipython>=5.3.0->pyvis) (0.7.5)\n",
            "Requirement already satisfied: traitlets>=4.2 in /usr/local/lib/python3.10/dist-packages (from ipython>=5.3.0->pyvis) (5.7.1)\n",
            "Requirement already satisfied: prompt-toolkit!=3.0.0,!=3.0.1,<3.1.0,>=2.0.0 in /usr/local/lib/python3.10/dist-packages (from ipython>=5.3.0->pyvis) (3.0.48)\n",
            "Requirement already satisfied: pygments in /usr/local/lib/python3.10/dist-packages (from ipython>=5.3.0->pyvis) (2.18.0)\n",
            "Requirement already satisfied: backcall in /usr/local/lib/python3.10/dist-packages (from ipython>=5.3.0->pyvis) (0.2.0)\n",
            "Requirement already satisfied: matplotlib-inline in /usr/local/lib/python3.10/dist-packages (from ipython>=5.3.0->pyvis) (0.1.7)\n",
            "Requirement already satisfied: pexpect>4.3 in /usr/local/lib/python3.10/dist-packages (from ipython>=5.3.0->pyvis) (4.9.0)\n",
            "Requirement already satisfied: MarkupSafe>=2.0 in /usr/local/lib/python3.10/dist-packages (from jinja2>=2.9.6->pyvis) (3.0.2)\n",
            "Requirement already satisfied: parso<0.9.0,>=0.8.4 in /usr/local/lib/python3.10/dist-packages (from jedi>=0.16->ipython>=5.3.0->pyvis) (0.8.4)\n",
            "Requirement already satisfied: ptyprocess>=0.5 in /usr/local/lib/python3.10/dist-packages (from pexpect>4.3->ipython>=5.3.0->pyvis) (0.7.0)\n",
            "Requirement already satisfied: wcwidth in /usr/local/lib/python3.10/dist-packages (from prompt-toolkit!=3.0.0,!=3.0.1,<3.1.0,>=2.0.0->ipython>=5.3.0->pyvis) (0.2.13)\n"
          ]
        }
      ],
      "source": [
        "%pip install sentence-transformers\n",
        "%pip install requests\n",
        "%pip install networkx pyvis"
      ]
    },
    {
      "cell_type": "markdown",
      "metadata": {
        "id": "DjtCEtpOCxs2"
      },
      "source": [
        "## Importação das bibliotecas"
      ]
    },
    {
      "cell_type": "code",
      "execution_count": null,
      "metadata": {
        "id": "DA_HyrBKC6J0",
        "collapsed": true
      },
      "outputs": [],
      "source": [
        "from sentence_transformers import SentenceTransformer, util\n",
        "import requests\n",
        "from pyvis.network import Network\n",
        "import time\n",
        "from ipywidgets import widgets\n",
        "from IPython.display import display, clear_output"
      ]
    },
    {
      "cell_type": "markdown",
      "source": [
        "## Importação do modelo codificador"
      ],
      "metadata": {
        "id": "xqcg7rPbmka6"
      }
    },
    {
      "cell_type": "code",
      "source": [
        "nome = \"neuralmind/bert-large-portuguese-cased\" # Modelo BERTimbau\n",
        "modelo = SentenceTransformer(nome)"
      ],
      "metadata": {
        "colab": {
          "base_uri": "https://localhost:8080/"
        },
        "id": "BsPu1lRrmj2M",
        "outputId": "331bd78f-c5cb-4ede-9437-439c550ce131"
      },
      "execution_count": null,
      "outputs": [
        {
          "output_type": "stream",
          "name": "stderr",
          "text": [
            "WARNING:sentence_transformers.SentenceTransformer:No sentence-transformers model found with name neuralmind/bert-large-portuguese-cased. Creating a new one with mean pooling.\n"
          ]
        }
      ]
    },
    {
      "cell_type": "markdown",
      "source": [
        "## Definição da classe do grafo não-direcionado rotulado"
      ],
      "metadata": {
        "id": "Yfl6sRmvhI6E"
      }
    },
    {
      "cell_type": "code",
      "execution_count": null,
      "metadata": {
        "id": "F1sOCb5P0ITt"
      },
      "outputs": [],
      "source": [
        "# Grafo como uma matriz de adjacência não-direcionado rotulado\n",
        "class GrafoNDR(): # Ex 8\n",
        "    TAM_MAX_DEFAULT = 100 # qtde de vértices máxima default\n",
        "    # construtor da classe grafo\n",
        "    def __init__(self, n=TAM_MAX_DEFAULT):\n",
        "        self.n = n # número de vértices\n",
        "        self.m = 0 # número de arestas\n",
        "        # matriz de adjacência\n",
        "        self.adj = [[0 for i in range(n)] for j in range(n)]\n",
        "\n",
        "    def insereA(self, v, w, p):\n",
        "        if(v == w or self.adj[v][w] != 0):\n",
        "            return\n",
        "\n",
        "        else:\n",
        "            self.adj[v][w] = p\n",
        "            self.adj[w][v] = p\n",
        "            self.m += 1  # atualiza qtd arestas\n",
        "\n",
        "# remove uma aresta v->w do Grafo\n",
        "    def removeA(self, v, w):\n",
        "        if(v == w or self.adj[v][w] == 0):\n",
        "            return\n",
        "        # testa se temos a aresta\n",
        "        else:\n",
        "            self.adj[v][w] = 0\n",
        "            self.adj[w][v] = 0\n",
        "            self.m -= 1  # atualiza qtd arestas\n",
        "\n",
        "    def show(self):\n",
        "        print(f\"\\n n: {self.n:2d} \", end=\"\")\n",
        "        print(f\"m: {self.m:2d}\\n\")\n",
        "        for i in range(self.n):\n",
        "            for w in range(self.n):\n",
        "                print(f\"Adj[{i:2d},{w:2d}] = {self.adj[i][w]:.2f} \", end=\"\")\n",
        "            print(\"\\n\")\n",
        "        print(\"\\nfim da impressao do grafo.\" )\n",
        "\n",
        "\n",
        "\t# Apresenta o Grafo contendo\n",
        "\t# número de vértices, arestas\n",
        "\t# e a matriz de adjacência obtida\n",
        "    # Apresentando apenas os valores 0 ou 1\n",
        "    def showMin(self):\n",
        "        print(f\"\\n n: {self.n:2d} \", end=\"\")\n",
        "        print(f\"m: {self.m:2d}\\n\")\n",
        "        for i in range(self.n):\n",
        "            for w in range(self.n):\n",
        "                print(f\" {self.adj[i][w]:.2f} \", end=\"\")\n",
        "            print(\"\\n\")\n",
        "        print(\"\\nfim da impressao do grafo.\" )\n",
        "\n",
        "    def insereV(self):\n",
        "        for i in range(self.n):\n",
        "            self.adj[i].append(0)\n",
        "        self.n += 1\n",
        "        self.adj.append([0]*self.n)\n",
        "\n",
        "    def removeV(self, vertice):\n",
        "        if(vertice >= self.n or vertice < 0):\n",
        "            return False\n",
        "\n",
        "        for i in range(self.n - 1):\n",
        "            if(i >= vertice and i != self.n-1): # Substitui as conexões do vértice a ser retirado e\n",
        "                self.adj[i] = self.adj[i+1]     # os vértices posteriores a ele com as conexões do próximo vértice\n",
        "\n",
        "            self.removeA(i,vertice)\n",
        "            self.adj[i].pop(vertice) # Remove o vértice escolhido da linha da matriz\n",
        "        self.adj.pop() # Remove a última linha da matriz\n",
        "        self.n -= 1\n",
        "        return True\n",
        "\n",
        "    def dfs(self, visitados, vertice): # Depth First Search\n",
        "        visitados[vertice] = True\n",
        "        for i in range(self.n):\n",
        "            if(self.adj[vertice][i] != 0 and visitados[i] == False): # Caso haja acesso para um próximo vértice que não foi visitado\n",
        "                self.dfs(visitados, i)\n",
        "\n",
        "    def conexidade(self):\n",
        "        for i in range(self.n):\n",
        "            visitados = [False] * self.n\n",
        "            self.dfs(visitados, i)\n",
        "            if(all(visitados)): # Caso todos tenham sido visitados\n",
        "                return \"O grafo é conexo\"\n",
        "        return \"O grafo não é conexo\"\n",
        "\n",
        "    def EhAdjacente(self, v, x): #verifica se o vértice v é adjacente a x\n",
        "        if self.adj[v][x] != 0:\n",
        "            return True\n",
        "        else:\n",
        "            return False\n",
        "\n",
        "    def coloreV(self):\n",
        "        lista_colorida = self.n * [0]\n",
        "        n_cores = 0\n",
        "        for i in range(self.n):\n",
        "            other_colors = []\n",
        "            for j in range(self.n):\n",
        "                if self.EhAdjacente(i, j) and lista_colorida[j] != 0:\n",
        "                    other_colors.append(lista_colorida[j])\n",
        "\n",
        "            if other_colors == []:\n",
        "                lista_colorida[i] = 1\n",
        "\n",
        "            elif other_colors != []:\n",
        "                for k in range(1, self.n):\n",
        "                    if k not in other_colors:\n",
        "                        if(k > n_cores):\n",
        "                            n_cores = k\n",
        "\n",
        "                        lista_colorida[i] = k\n",
        "                        break\n",
        "\n",
        "        info = [n_cores,lista_colorida]\n",
        "\n",
        "        return info\n",
        "\n",
        "    def _find(self, parent, i):\n",
        "        if parent[i] == i:\n",
        "            return i\n",
        "        return self._find(parent, parent[i])\n",
        "\n",
        "    # Função para unir dois subconjuntos no Union-Find\n",
        "    def _union(self, parent, rank, x, y):\n",
        "        root_x = self._find(parent, x)\n",
        "        root_y = self._find(parent, y)\n",
        "\n",
        "        # Anexar a árvore de menor rank sob a árvore de maior rank\n",
        "        if rank[root_x] < rank[root_y]:\n",
        "            parent[root_x] = root_y\n",
        "        elif rank[root_x] > rank[root_y]:\n",
        "            parent[root_y] = root_x\n",
        "        else:\n",
        "            parent[root_y] = root_x\n",
        "            rank[root_x] += 1\n",
        "\n",
        "    # Implementação do Algoritmo de Kruskal\n",
        "    def kruskal(self):\n",
        "        arestas = [] #Obtém as arestas do grafo\n",
        "        for i in range(self.n):\n",
        "            for j in range(i, self.n):\n",
        "                if self.adj[i][j] > 0:\n",
        "                    aresta = (i, j, self.adj[i][j])\n",
        "                    arestas.append(aresta)\n",
        "\n",
        "        # Ordenar as arestas por peso\n",
        "        arestas.sort(key=lambda x: x[2])\n",
        "\n",
        "        # Inicializar a estrutura Union-Find\n",
        "        parent = []\n",
        "        rank = []\n",
        "\n",
        "        for node in range(self.n):\n",
        "            parent.append(node)\n",
        "            rank.append(0)\n",
        "\n",
        "        # Lista para armazenar a árvore geradora mínima (MST)\n",
        "        arvore_parcial = []\n",
        "\n",
        "        # Número de arestas na MST\n",
        "        e = 0\n",
        "        i = 0\n",
        "\n",
        "        # Iterar pelas arestas em ordem de peso\n",
        "        while e < self.n - 1 and i < len(arestas):\n",
        "            # Escolher a menor aresta\n",
        "            u, v, peso = arestas[i]\n",
        "            i += 1\n",
        "\n",
        "            # Encontrar os representantes (subconjuntos) dos vértices u e v\n",
        "            x = self._find(parent, u)\n",
        "            y = self._find(parent, v)\n",
        "\n",
        "            # Se u e v não pertencem ao mesmo subconjunto, adicionar a aresta à MST\n",
        "            if x != y:\n",
        "                e += 1\n",
        "                arvore_parcial.append([u, v, peso])\n",
        "                self._union(parent, rank, x, y)\n",
        "\n",
        "        for i in range(len(arvore_parcial)): #Ajusta índice dos vértices\n",
        "            arvore_parcial[i][0] += 1\n",
        "            arvore_parcial[i][1] += 1\n",
        "\n",
        "        return arvore_parcial"
      ]
    },
    {
      "cell_type": "markdown",
      "source": [
        "# Métodos"
      ],
      "metadata": {
        "id": "zWYODqQXiaGN"
      }
    },
    {
      "cell_type": "markdown",
      "source": [
        "## Funções auxiliares"
      ],
      "metadata": {
        "id": "v0xEXh09L-al"
      }
    },
    {
      "cell_type": "markdown",
      "source": [
        "### Busca índice"
      ],
      "metadata": {
        "id": "D2GpxPLMjiC5"
      }
    },
    {
      "cell_type": "markdown",
      "source": [
        "Busca um índice através da palavra dentro da lista de vértices."
      ],
      "metadata": {
        "id": "e_H47lOpjlcg"
      }
    },
    {
      "cell_type": "code",
      "source": [
        "def buscaIndice(n_palavras, vertices, palavra):\n",
        "  for i in range(n_palavras):\n",
        "    if(vertices[i] == palavra):\n",
        "      return i\n",
        "  return -1"
      ],
      "metadata": {
        "id": "CJ8GGcW8jjjV"
      },
      "execution_count": null,
      "outputs": []
    },
    {
      "cell_type": "markdown",
      "source": [
        "### Busca palavra"
      ],
      "metadata": {
        "id": "uuinIkupjvJp"
      }
    },
    {
      "cell_type": "markdown",
      "source": [
        "Busca uma palavra através do índice dentro da lista de vértices."
      ],
      "metadata": {
        "id": "UMZ4XLBujxKn"
      }
    },
    {
      "cell_type": "code",
      "source": [
        "def buscaPalavra(n_palavras, vertices, indice):\n",
        "  if(indice >= n_palavras or indice < 0):\n",
        "    return \"[Erro: índice inválido]\"\n",
        "  for i in range(n_palavras):\n",
        "    if(i == indice):\n",
        "      return vertices[i]\n",
        "  return \"[Erro: índice não encontrado]\""
      ],
      "metadata": {
        "id": "LBj18pbljxeq"
      },
      "execution_count": null,
      "outputs": []
    },
    {
      "cell_type": "markdown",
      "source": [
        "### Busca vetorial"
      ],
      "metadata": {
        "id": "3NUzP48RvZ6p"
      }
    },
    {
      "cell_type": "code",
      "source": [
        "def buscaVetorial(modelo, embeddings, vertices, busca):\n",
        "  consulta_embedding = modelo.encode(busca)\n",
        "  resultado = util.semantic_search(consulta_embedding, embeddings, top_k=3) # Busca baseada na similaridade por cosseno\n",
        "  print(f\"\\n\\nBusca: {busca}\\n\")\n",
        "  for i in range(3):\n",
        "      id = resultado[0][i][\"corpus_id\"] # Índice do vizinho\n",
        "      score = resultado[0][i][\"score\"] # Peso do vizinho\n",
        "      palavra = vertices[id]\n",
        "      print(f\"Palavra: {palavra}\\nPeso: {score:.2f}\\n\")"
      ],
      "metadata": {
        "id": "ZoMXATxovdf7"
      },
      "execution_count": null,
      "outputs": []
    },
    {
      "cell_type": "markdown",
      "source": [
        "## Arquivo"
      ],
      "metadata": {
        "id": "cm88VRxGMDEk"
      }
    },
    {
      "cell_type": "markdown",
      "source": [
        "### Lê arquivo"
      ],
      "metadata": {
        "id": "B2uxkiJwMIbm"
      }
    },
    {
      "cell_type": "markdown",
      "source": [
        "Os dados do documento são importados e guardados na variável `dados`."
      ],
      "metadata": {
        "id": "b5XWjh8bMLiR"
      }
    },
    {
      "cell_type": "code",
      "source": [
        "def leArquivoHTTP(url):\n",
        "  arquivo = requests.get(url).text\n",
        "\n",
        "  lista = arquivo.split() # Distribui cada elemento do arquivo numa lista\n",
        "  n_palavras = int(lista.pop(0)) # Separa o número de palavras (primeira linha do arquivo)\n",
        "  vertices = []\n",
        "  for i in range(n_palavras):\n",
        "    vertice = lista[i]\n",
        "    vertices.append(vertice)\n",
        "\n",
        "  dados = [n_palavras]\n",
        "  dados.append(vertices)\n",
        "\n",
        "  return dados"
      ],
      "metadata": {
        "id": "PE6KvzyAMM2Z"
      },
      "execution_count": null,
      "outputs": []
    },
    {
      "cell_type": "code",
      "source": [
        "def leArquivo(origem):\n",
        "  try:\n",
        "    with open(origem, 'r', encoding='utf-8') as arquivo:\n",
        "      n_palavras = int(arquivo.readline()) # Recupera o número de palavras (primeira linha do arquivo)\n",
        "\n",
        "      vertices = []\n",
        "      for i in range(n_palavras):\n",
        "        vertice = arquivo.readline().strip()\n",
        "        vertices.append(vertice)\n",
        "\n",
        "    dados = [n_palavras]\n",
        "    dados.append(vertices)\n",
        "\n",
        "    return dados\n",
        "\n",
        "  except FileNotFoundError:\n",
        "      print(\"[Erro: Arquivo não encontrado]\")"
      ],
      "metadata": {
        "id": "7r9STP32MNBV"
      },
      "execution_count": null,
      "outputs": []
    },
    {
      "cell_type": "markdown",
      "source": [
        "### Grava dados"
      ],
      "metadata": {
        "id": "2PeqvyNUkgfI"
      }
    },
    {
      "cell_type": "code",
      "source": [
        "def gravaDados(n_palavras, vertices):\n",
        "  with open(\"grafo.txt\", \"w\") as arquivo:\n",
        "    for i in range(n_palavras):\n",
        "      palavra = vertices[i]\n",
        "      arquivo.write(palavra+\"\\n\")\n",
        "\n",
        "  print(\"Os dados foram salvos no arquivo 'grafo.txt'.\")"
      ],
      "metadata": {
        "id": "10rSV0ahkjeI"
      },
      "execution_count": null,
      "outputs": []
    },
    {
      "cell_type": "markdown",
      "source": [
        "## Grafo"
      ],
      "metadata": {
        "id": "o_D4QM7LL3pQ"
      }
    },
    {
      "cell_type": "markdown",
      "source": [
        "### Insere vértice"
      ],
      "metadata": {
        "id": "5L5R6K1ak9y6"
      }
    },
    {
      "cell_type": "code",
      "source": [
        "def insereVertice(grafo, n_palavras, vertices, palavra):\n",
        "  if(buscaIndice(n_palavras, vertices, palavra) == -1):\n",
        "    grafo.insereV()\n",
        "    vertices.append(palavra)\n",
        "    return True\n",
        "  else:\n",
        "    #print(\"[Erro: palavra já existe]\")\n",
        "    return False"
      ],
      "metadata": {
        "id": "KDtRcWq_k_bV"
      },
      "execution_count": null,
      "outputs": []
    },
    {
      "cell_type": "markdown",
      "source": [
        "### Insere aresta"
      ],
      "metadata": {
        "id": "k-MC5QZ-s9fh"
      }
    },
    {
      "cell_type": "code",
      "source": [
        "def insereAresta(grafo, n_palavras, origem, destino, peso):\n",
        "  if(origem >= n_palavras or origem < 0):\n",
        "    #print(\"[Erro: origem não existe]\")\n",
        "    return False\n",
        "\n",
        "  elif(destino >= n_palavras or destino < 0):\n",
        "    #print(\"[Erro: destino não existe]\")\n",
        "    return False\n",
        "\n",
        "  else:\n",
        "    grafo.insereA(origem, destino, peso)\n",
        "    return True"
      ],
      "metadata": {
        "id": "SF5ki2ems-xS"
      },
      "execution_count": null,
      "outputs": []
    },
    {
      "cell_type": "markdown",
      "source": [
        "### Integra grafo"
      ],
      "metadata": {
        "id": "akYDFZCNkVNn"
      }
    },
    {
      "cell_type": "markdown",
      "source": [
        "A palavra mais próxima armazenada na memória é ela mesma, portanto para encontrar as outras três palavras mais próximas foram recuperadas as palavras de índice 1 até 4."
      ],
      "metadata": {
        "id": "a1pMlLG1kZjo"
      }
    },
    {
      "cell_type": "code",
      "source": [
        "def integraGrafo(modelo, embeddings, n_palavras, vertices):\n",
        "  grafo = GrafoNDR(n_palavras) # Cria o grafo\n",
        "\n",
        "  for i in range(n_palavras):\n",
        "    consulta_embedding = modelo.encode(vertices[i]) # Gerando embedding da palavra de consulta\n",
        "    busca = util.semantic_search(consulta_embedding, embeddings, top_k=4) # Busca baseada na similaridade por cosseno\n",
        "\n",
        "    for j in range(1,4):\n",
        "      vizinho = busca[0][j][\"corpus_id\"]\n",
        "      peso = busca[0][j][\"score\"]\n",
        "      grafo.insereA(i, vizinho, peso)\n",
        "\n",
        "  print(\"Grafo criado com sucesso!\")\n",
        "  return grafo"
      ],
      "metadata": {
        "id": "cDCMxOBHkWsz"
      },
      "execution_count": null,
      "outputs": []
    },
    {
      "cell_type": "markdown",
      "source": [
        "### Remove aresta"
      ],
      "metadata": {
        "id": "m4zLz70nNLil"
      }
    },
    {
      "cell_type": "code",
      "source": [
        "def removeAresta(grafo, n_palavras, origem, destino):\n",
        "  if(origem >= n_palavras or origem < 0):\n",
        "    #print(\"[Erro: origem não existe]\")\n",
        "    return False\n",
        "\n",
        "  elif(destino >= n_palavras or destino < 0):\n",
        "    #print(\"[Erro: destino não existe]\")\n",
        "    return False\n",
        "\n",
        "  else:\n",
        "      grafo.removeA(origem, destino)\n",
        "      return True"
      ],
      "metadata": {
        "id": "7WlXNaVzNNAs"
      },
      "execution_count": null,
      "outputs": []
    },
    {
      "cell_type": "markdown",
      "source": [
        "### Remove vértice"
      ],
      "metadata": {
        "id": "S0kXytc8M-uW"
      }
    },
    {
      "cell_type": "code",
      "source": [
        "def removeVertice(grafo, n_palavras, vertices, removido):\n",
        "  if(removido >= n_palavras or removido < 0):\n",
        "    #print(\"[Erro: vértice não existe]\")\n",
        "    return False\n",
        "\n",
        "  else:\n",
        "    for i in range(n_palavras - 1):\n",
        "      if(i >= removido):\n",
        "        vertices[i] = vertices[i+1]\n",
        "\n",
        "      if(grafo.adj[i][removido] != 0):\n",
        "        origem = i\n",
        "        destino = removido\n",
        "        removeAresta(grafo, n_palavras, origem, destino)\n",
        "\n",
        "    grafo.removeV(removido)\n",
        "    vertices.pop()\n",
        "    return True"
      ],
      "metadata": {
        "id": "RzfbCnjJNCCb"
      },
      "execution_count": null,
      "outputs": []
    },
    {
      "cell_type": "markdown",
      "source": [
        "## Network"
      ],
      "metadata": {
        "id": "PHmbrGdpLkZN"
      }
    },
    {
      "cell_type": "markdown",
      "source": [
        "### Imprime vértices"
      ],
      "metadata": {
        "id": "8LyuaiqbGnQr"
      }
    },
    {
      "cell_type": "code",
      "source": [
        "def imprimeVertices(network, n_palavras, vertices):\n",
        "  for i in range(n_palavras):\n",
        "    network.add_node( # Adiciona vértices\n",
        "        i, # Índice\n",
        "        label=vertices[i], # Descrição do vértice\n",
        "        color=\"yellow\"\n",
        "    )"
      ],
      "metadata": {
        "id": "pr6spoUrGmrl"
      },
      "execution_count": null,
      "outputs": []
    },
    {
      "cell_type": "markdown",
      "source": [
        "### Imprime arestas"
      ],
      "metadata": {
        "id": "FCn2z_GwGrMA"
      }
    },
    {
      "cell_type": "code",
      "source": [
        "def imprimeArestas(network, n_palavras, vertices, grafo):\n",
        "  for i in range(n_palavras):\n",
        "    for j in range(n_palavras):\n",
        "      peso = grafo.adj[i][j]\n",
        "\n",
        "      if(peso != 0):\n",
        "        network.add_edge( # Adiciona as arestas\n",
        "            i, # Origem\n",
        "            j, # Destino\n",
        "            value=peso, # Peso\n",
        "            title=f'''\n",
        "            {vertices[i]}\n",
        "            {vertices[j]}\n",
        "            Peso: {peso:.2f}\n",
        "                          ''', # Descrição\n",
        "            color=\"gray\"\n",
        "        )"
      ],
      "metadata": {
        "id": "OtxYhq8jGxyj"
      },
      "execution_count": null,
      "outputs": []
    },
    {
      "cell_type": "markdown",
      "source": [
        "### Imprime grafo"
      ],
      "metadata": {
        "id": "j3fUMtozG0nK"
      }
    },
    {
      "cell_type": "code",
      "source": [
        "def imprimeGrafo(n_palavras, vertices, grafo):\n",
        "  net = Network(notebook=True, cdn_resources='remote', directed=False, height=\"1200px\", width=\"100%\", bgcolor=\"black\", font_color=\"white\")\n",
        "  imprimeVertices(net, n_palavras, vertices)\n",
        "  imprimeArestas(net, n_palavras, vertices, grafo)\n",
        "\n",
        "  net.barnes_hut() # Dispersa melhor os vértices\n",
        "  net.show(\"grafo.html\") # Salva o grafo\n",
        "\n",
        "  print(f\"\\nGrafo não-direcionado rotulado com {grafo.n} vértices e {grafo.m} arestas\\n\")\n",
        "  print(\"O grafo visual foi criado no arquivo 'grafo.html'.\")"
      ],
      "metadata": {
        "id": "OGnMeqekG13i"
      },
      "execution_count": null,
      "outputs": []
    },
    {
      "cell_type": "markdown",
      "source": [
        "### Imprime vértices coloridos"
      ],
      "metadata": {
        "id": "3ht5vTvgbCLH"
      }
    },
    {
      "cell_type": "code",
      "source": [
        "def imprimeVerticesColoridos(network, n_palavras, vertices, cores, grupos):\n",
        "  for i in range(n_palavras):\n",
        "    num = grupos[i]\n",
        "    network.add_node( # Adiciona vértices\n",
        "        i, # Índice\n",
        "        label=vertices[i], # Descrição do vértice\n",
        "        color=cores[num - 1]\n",
        "    )"
      ],
      "metadata": {
        "id": "pwmJzwaPbFWn"
      },
      "execution_count": null,
      "outputs": []
    },
    {
      "cell_type": "markdown",
      "source": [
        "### Imprime grafo colorido"
      ],
      "metadata": {
        "id": "iQqooHina6mi"
      }
    },
    {
      "cell_type": "code",
      "source": [
        "def imprimeGrafoColorido(n_palavras, vertices, grafo, n_grupos, grupos):\n",
        "  cores = [\n",
        "      \"blue\",\n",
        "      \"green\",\n",
        "      \"yellow\",\n",
        "      \"red\",\n",
        "      \"purple\",\n",
        "      \"coral\",\n",
        "      \"turquoise\",\n",
        "      \"magenta\",\n",
        "      \"caramel\",\n",
        "      \"beige\",\n",
        "  ]\n",
        "  n_cores = 10\n",
        "\n",
        "  if(n_grupos > n_cores):\n",
        "    print(\"[Erro: Não é possível exibir um grafo com mais de 10 cores]\")\n",
        "\n",
        "  else:\n",
        "    net = Network(notebook=True, cdn_resources='remote', directed=False, height=\"1200px\", width=\"100%\", bgcolor=\"black\", font_color=\"white\")\n",
        "    imprimeVerticesColoridos(net, n_palavras, vertices, cores, grupos)\n",
        "    imprimeArestas(net, n_palavras, vertices, grafo)\n",
        "    net.barnes_hut() # Dispersa melhor os vértices\n",
        "    net.show(\"grafo_colorido.html\") # Salva o grafo\n",
        "\n",
        "    print(f\"\\nGrafo não-direcionado rotulado com {grafo.n} vértices, {grafo.m} arestas e {n_cores} cores\\n\")\n",
        "    print(\"O grafo visual foi criado no arquivo 'grafo_colorido.html'.\")"
      ],
      "metadata": {
        "id": "ziK-UE35a-GU"
      },
      "execution_count": null,
      "outputs": []
    },
    {
      "cell_type": "markdown",
      "source": [
        "### Imprime APCM (Árvore Parcial de Custo Mínimo)"
      ],
      "metadata": {
        "id": "2MbUiBmn-_uc"
      }
    },
    {
      "cell_type": "code",
      "source": [
        "def imprimeAPCM(n_palavras, vertices, grafo):\n",
        "    net = Network(notebook=True, cdn_resources='remote', directed=False, height=\"1200px\", width=\"100%\", bgcolor=\"black\", font_color=\"white\")\n",
        "    imprimeVertices(net, n_palavras, vertices)\n",
        "\n",
        "    arvore_parcial = grafo.kruskal()\n",
        "    #print(\"Árvore Parcial de Custo mínimo gerada:\")\n",
        "    for i in range(len(arvore_parcial)):\n",
        "        indice1 = arvore_parcial[i][0] - 1\n",
        "        indice2 = arvore_parcial[i][1] - 1\n",
        "        vertice1 = vertices[indice1]\n",
        "        vertice2 = vertices[indice2]\n",
        "        #print(f\"[{indice1}, {indice2}] --> [{vertice1}, {vertice2}]\")\n",
        "\n",
        "        peso = grafo.adj[indice1][indice2]\n",
        "\n",
        "        net.add_edge( # Adiciona a aresta\n",
        "            indice1, # Origem\n",
        "            indice2, # Destino\n",
        "            value=peso, # Peso\n",
        "            title=f'''\n",
        "            {vertice1}\n",
        "            {vertice2}\n",
        "            Peso: {peso:.2f}\n",
        "                          ''', # Descrição\n",
        "            color=\"gray\"\n",
        "        )\n",
        "\n",
        "    net.barnes_hut() # Dispersa melhor os vértices\n",
        "    net.show(\"apcm.html\") # Salva o grafo\n",
        "\n",
        "    print(\"O grafo visual foi criado no arquivo 'apcm.html'.\")"
      ],
      "metadata": {
        "id": "tv2MQELQ_Ael"
      },
      "execution_count": null,
      "outputs": []
    },
    {
      "cell_type": "markdown",
      "source": [
        "# Aplicação"
      ],
      "metadata": {
        "id": "BsJEBAOoq33z"
      }
    },
    {
      "cell_type": "markdown",
      "source": [
        "## Código"
      ],
      "metadata": {
        "id": "FGRvFRzYq9mk"
      }
    },
    {
      "cell_type": "markdown",
      "source": [
        "### Front"
      ],
      "metadata": {
        "id": "mF1yKHNqts1f"
      }
    },
    {
      "cell_type": "code",
      "source": [
        "def mostraMenu():\n",
        "    menu_text = widgets.HTML(value=\"\"\"\n",
        "    <h1>Menu:</h1>\n",
        "    <ol>\n",
        "        <li>Ler dados do arquivo</li>\n",
        "        <li>Gravar dados no arquivo grafo.txt</li>\n",
        "        <li>Inserir vértice</li>\n",
        "        <li>Inserir aresta</li>\n",
        "        <li>Remover vértice</li>\n",
        "        <li>Remover aresta</li>\n",
        "        <li>Exibir grafo</li>\n",
        "        <li>Exibir matriz</li>\n",
        "        <li>Apresentar a conexidade do grafo</li>\n",
        "        <li>Encerrar a aplicação</li>\n",
        "        <li>Buscar um índice pela palavra</li>\n",
        "        <li>Buscar uma palavra pelo índice</li>\n",
        "        <li>Fazer busca vetorial</li>\n",
        "        <li>Exibir grafo colorido</li>\n",
        "        <li>Exibir árvore parcial de custo mínimo</li>\n",
        "    </ol>\n",
        "    \"\"\")\n",
        "    display(menu_text)"
      ],
      "metadata": {
        "id": "e23Mg1XlrDi3"
      },
      "execution_count": null,
      "outputs": []
    },
    {
      "cell_type": "markdown",
      "source": [
        "### Back"
      ],
      "metadata": {
        "id": "MAl45z_9tuuC"
      }
    },
    {
      "cell_type": "code",
      "source": [
        "def menu(modelo):\n",
        "\n",
        "    fim = False\n",
        "    n_palavras = -1\n",
        "    vertices = []\n",
        "    embeddings = []\n",
        "    grafo = set()\n",
        "\n",
        "    while(fim == False):\n",
        "        time.sleep(1)\n",
        "        clear_output(wait = True) # Limpa o terminal no Jupyter Notebook\n",
        "        mostraMenu()\n",
        "        choice = input()\n",
        "\n",
        "        try:\n",
        "            choice = int(choice)\n",
        "            if choice == 1: # Cria grafo\n",
        "                dados = leArquivoHTTP(\"https://raw.githubusercontent.com/Cehiim/TeoriaDosGrafos/refs/heads/main/ProjetoFinal/palavras.txt\")\n",
        "                #dados = leArquivo(\"palavras.txt\")\n",
        "                n_palavras = dados[0] # Número de palavras\n",
        "                vertices = dados[1] # Lista de palavras\n",
        "                embeddings = modelo.encode(vertices) # Gera embeddings das palavras e insere numa lista\n",
        "                grafo = integraGrafo(modelo, embeddings, n_palavras, vertices)\n",
        "\n",
        "            elif choice == 2: # Grava dados no arquivo .txt\n",
        "                if(n_palavras != -1):\n",
        "                    gravaDados(n_palavras, vertices)\n",
        "                else:\n",
        "                    print(\"[Erro: Grafo não criado]\")\n",
        "\n",
        "            elif choice == 3: # Insere vértice\n",
        "                palavra = input(\"Palavra a ser inserida: \")\n",
        "                if(n_palavras != -1):\n",
        "                    if(insereVertice(grafo, n_palavras, vertices, palavra)):\n",
        "                        n_palavras += 1\n",
        "                        print(\"Vértice inserido com sucesso!\")\n",
        "                    else:\n",
        "                        print(\"[Erro: vértice já existe]\")\n",
        "                else:\n",
        "                    print(\"[Erro: Grafo não criado]\")\n",
        "\n",
        "            elif choice == 4: # Insere aresta\n",
        "                try:\n",
        "                    origem = int(input(\"Insira o índice de origem: \"))\n",
        "                    destino = int(input(\"Insira o índice de destino: \"))\n",
        "                    peso = float(input(\"Insira o peso: \"))\n",
        "                    if(n_palavras != -1):\n",
        "                        if(insereAresta(grafo, n_palavras, origem, destino, peso)):\n",
        "                          print(\"Aresta inserida com sucesso!\")\n",
        "                        else:\n",
        "                          print(\"[Erro: vértice não existe]\")\n",
        "                    else:\n",
        "                        print(\"[Erro: Grafo não criado]\")\n",
        "                except ValueError:\n",
        "                    print(\"[Erro: a entrada não é do tipo int]\")\n",
        "\n",
        "            elif choice == 5: # Remove vértice\n",
        "                try:\n",
        "                    indice = int(input(\"Insira o índice do vértice: \"))\n",
        "                    if(n_palavras != -1):\n",
        "                        if(removeVertice(grafo, n_palavras, vertices, indice)):\n",
        "                            n_palavras -= 1\n",
        "                            print(\"Vértice removido com sucesso!\")\n",
        "                        else:\n",
        "                            print(\"[Erro: vértice não existe]\")\n",
        "                    else:\n",
        "                        print(\"[Erro: Grafo não criado]\")\n",
        "                except ValueError:\n",
        "                    print(\"[Erro: a entrada não é do tipo int]\")\n",
        "\n",
        "            elif choice == 6: # Remove aresta\n",
        "                try:\n",
        "                    origem = int(input(\"Insira o índice de origem: \"))\n",
        "                    destino = int(input(\"Insira o índice de destino: \"))\n",
        "                    if(n_palavras != -1):\n",
        "                        if(removeAresta(grafo, n_palavras, origem, destino)):\n",
        "                            print(\"Aresta removida com sucesso!\")\n",
        "                        else:\n",
        "                            print(\"[Erro: vértice não existe]\")\n",
        "                    else:\n",
        "                        print(\"[Erro: Grafo não criado]\")\n",
        "                except ValueError:\n",
        "                    print(\"[Erro: a entrada não é do tipo int]\")\n",
        "\n",
        "            elif choice == 7: # Exibe grafo\n",
        "                if(n_palavras != -1):\n",
        "                    imprimeGrafo(n_palavras, vertices, grafo)\n",
        "                    time.sleep(5)\n",
        "                else:\n",
        "                    print(\"[Erro: Grafo não criado]\")\n",
        "\n",
        "            elif choice == 8: # Exibe matriz\n",
        "                if(n_palavras != -1):\n",
        "                    grafo.showMin()\n",
        "                    print((\"\\nAperte ENTER para continuar \"))\n",
        "                    ok = input()\n",
        "                else:\n",
        "                    print(\"[Erro: Grafo não criado]\")\n",
        "\n",
        "            elif choice == 9: # Apresenta a conexidade do grafo e grafo reduzido\n",
        "                if(n_palavras != -1):\n",
        "                    if(grafo.conexidade()):\n",
        "                        print(\"O grafo é conexo.\")\n",
        "                    else:\n",
        "                        print(\"O grafo não é conexo.\")\n",
        "                    time.sleep(5)\n",
        "                else:\n",
        "                    print(\"[Erro: Grafo não criado]\")\n",
        "\n",
        "            elif choice == 10: # Encerra\n",
        "                fim = True\n",
        "                print(\"Encerrando programa...\")\n",
        "\n",
        "            elif choice == 11: # Busca um índice pela palavra\n",
        "                palavra = input(\"Palavra a ser consultada: \")\n",
        "                if(n_palavras != -1):\n",
        "                    indice = buscaIndice(n_palavras, vertices, palavra)\n",
        "                    if(indice == -1):\n",
        "                        print(\"[Erro: palavra não encontrada]\")\n",
        "                    else:\n",
        "                        print(f\"Índice de {palavra}: {indice}\")\n",
        "                        time.sleep(5)\n",
        "                else:\n",
        "                    print(\"[Erro: Grafo não criado]\")\n",
        "\n",
        "            elif choice == 12: # Busca um índice pela palavra\n",
        "                try:\n",
        "                    indice = int(input(\"Índice a ser consultado: \"))\n",
        "                    if(n_palavras != -1):\n",
        "                        palavra = buscaPalavra(n_palavras, vertices, indice)\n",
        "                        if(indice == -1):\n",
        "                            print(\"[Erro: palavra não encontrada]\")\n",
        "                        else:\n",
        "                            print(f\"Palavra do índice {indice}: {palavra}\")\n",
        "                            time.sleep(5)\n",
        "                    else:\n",
        "                      print(\"[Erro: Grafo não criado]\")\n",
        "                except ValueError:\n",
        "                    print(\"[Erro: a entrada não é do tipo int]\")\n",
        "\n",
        "            elif choice == 13: # Fazer busca vetorial de uma palavra\n",
        "                busca = input(\"Insira uma palavra: \")\n",
        "                if(n_palavras != -1):\n",
        "                    buscaVetorial(modelo, embeddings, vertices, busca)\n",
        "                    print((\"\\nAperte ENTER para continuar \"))\n",
        "                    ok = input()\n",
        "                else:\n",
        "                    print(\"[Erro: Grafo não criado]\")\n",
        "\n",
        "            elif choice == 14: # Exibir árvore parcial de custo mínimo\n",
        "                if(n_palavras != -1):\n",
        "                    lista_colorida = grafo.coloreV()\n",
        "                    n_cores = lista_colorida[0]\n",
        "                    cores = lista_colorida[1]\n",
        "                    imprimeGrafoColorido(n_palavras, vertices, grafo, n_cores, cores)\n",
        "                    time.sleep(5)\n",
        "                else:\n",
        "                    print(\"[Erro: Grafo não criado]\")\n",
        "\n",
        "            elif choice == 15: # Exibir árvore parcial de custo mínimo\n",
        "                if(n_palavras != -1):\n",
        "                    imprimeAPCM(n_palavras, vertices, grafo)\n",
        "                    time.sleep(5)\n",
        "                else:\n",
        "                    print(\"[Erro: Grafo não criado]\")\n",
        "\n",
        "            else:\n",
        "                print(\"Opção inválida.\")\n",
        "\n",
        "        except ValueError:\n",
        "            print(\"[Erro: a entrada não é do tipo int]\")\n",
        "            #pass"
      ],
      "metadata": {
        "id": "RFnrcS1qrF1w"
      },
      "execution_count": null,
      "outputs": []
    },
    {
      "cell_type": "markdown",
      "source": [
        "## Menu"
      ],
      "metadata": {
        "id": "0WqontbWrAbF"
      }
    },
    {
      "cell_type": "code",
      "source": [
        "menu(modelo)"
      ],
      "metadata": {
        "colab": {
          "base_uri": "https://localhost:8080/",
          "height": 547,
          "referenced_widgets": [
            "15cf1058ca6b44a0bfd07f5253bd9c48",
            "c48f8cda07654fc4bc89ed30c0e02a30",
            "26888f235c9c49cf84afbc095d16462b"
          ]
        },
        "id": "Th3FH-eHrIFU",
        "outputId": "453a40f8-b613-4f69-c7eb-4c9e5bec9933"
      },
      "execution_count": null,
      "outputs": [
        {
          "data": {
            "application/vnd.jupyter.widget-view+json": {
              "model_id": "15cf1058ca6b44a0bfd07f5253bd9c48",
              "version_major": 2,
              "version_minor": 0
            },
            "text/plain": [
              "HTML(value='\\n    <h1>Menu:</h1>\\n    <ol>\\n        <li>Ler dados do arquivo</li>\\n        <li>Gravar dados no…"
            ]
          },
          "metadata": {},
          "output_type": "display_data"
        },
        {
          "output_type": "stream",
          "name": "stdout",
          "text": [
            "10\n",
            "Encerrando programa...\n"
          ]
        }
      ]
    }
  ],
  "metadata": {
    "colab": {
      "collapsed_sections": [
        "oX9e_J1rfR8k",
        "f4Fd36vBfY_m",
        "DjtCEtpOCxs2",
        "xqcg7rPbmka6",
        "Yfl6sRmvhI6E",
        "zWYODqQXiaGN",
        "v0xEXh09L-al",
        "D2GpxPLMjiC5",
        "uuinIkupjvJp",
        "3NUzP48RvZ6p",
        "cm88VRxGMDEk",
        "B2uxkiJwMIbm",
        "2PeqvyNUkgfI",
        "o_D4QM7LL3pQ",
        "5L5R6K1ak9y6",
        "k-MC5QZ-s9fh",
        "akYDFZCNkVNn",
        "m4zLz70nNLil",
        "S0kXytc8M-uW",
        "PHmbrGdpLkZN",
        "8LyuaiqbGnQr",
        "FCn2z_GwGrMA",
        "j3fUMtozG0nK",
        "3ht5vTvgbCLH",
        "iQqooHina6mi",
        "2MbUiBmn-_uc",
        "FGRvFRzYq9mk",
        "mF1yKHNqts1f"
      ],
      "provenance": [],
      "toc_visible": true,
      "include_colab_link": true
    },
    "kernelspec": {
      "display_name": "Python 3",
      "name": "python3"
    },
    "language_info": {
      "codemirror_mode": {
        "name": "ipython",
        "version": 3
      },
      "file_extension": ".py",
      "mimetype": "text/x-python",
      "name": "python",
      "nbconvert_exporter": "python",
      "pygments_lexer": "ipython3",
      "version": "3.10.11"
    },
    "widgets": {
      "application/vnd.jupyter.widget-state+json": {
        "15cf1058ca6b44a0bfd07f5253bd9c48": {
          "model_module": "@jupyter-widgets/controls",
          "model_name": "HTMLModel",
          "model_module_version": "1.5.0",
          "state": {
            "_dom_classes": [],
            "_model_module": "@jupyter-widgets/controls",
            "_model_module_version": "1.5.0",
            "_model_name": "HTMLModel",
            "_view_count": null,
            "_view_module": "@jupyter-widgets/controls",
            "_view_module_version": "1.5.0",
            "_view_name": "HTMLView",
            "description": "",
            "description_tooltip": null,
            "layout": "IPY_MODEL_c48f8cda07654fc4bc89ed30c0e02a30",
            "placeholder": "​",
            "style": "IPY_MODEL_26888f235c9c49cf84afbc095d16462b",
            "value": "\n    <h1>Menu:</h1>\n    <ol>\n        <li>Ler dados do arquivo</li>\n        <li>Gravar dados no arquivo grafo.txt</li>\n        <li>Inserir vértice</li>\n        <li>Inserir aresta</li>\n        <li>Remover vértice</li>\n        <li>Remover aresta</li>\n        <li>Exibir grafo</li>\n        <li>Exibir matriz</li>\n        <li>Apresentar a conexidade do grafo</li>\n        <li>Encerrar a aplicação</li>\n        <li>Buscar um índice pela palavra</li>\n        <li>Buscar uma palavra pelo índice</li>\n        <li>Fazer busca vetorial</li>\n        <li>Exibir grafo colorido</li>\n        <li>Exibir árvore parcial de custo mínimo</li>\n    </ol>\n    "
          }
        },
        "c48f8cda07654fc4bc89ed30c0e02a30": {
          "model_module": "@jupyter-widgets/base",
          "model_name": "LayoutModel",
          "model_module_version": "1.2.0",
          "state": {
            "_model_module": "@jupyter-widgets/base",
            "_model_module_version": "1.2.0",
            "_model_name": "LayoutModel",
            "_view_count": null,
            "_view_module": "@jupyter-widgets/base",
            "_view_module_version": "1.2.0",
            "_view_name": "LayoutView",
            "align_content": null,
            "align_items": null,
            "align_self": null,
            "border": null,
            "bottom": null,
            "display": null,
            "flex": null,
            "flex_flow": null,
            "grid_area": null,
            "grid_auto_columns": null,
            "grid_auto_flow": null,
            "grid_auto_rows": null,
            "grid_column": null,
            "grid_gap": null,
            "grid_row": null,
            "grid_template_areas": null,
            "grid_template_columns": null,
            "grid_template_rows": null,
            "height": null,
            "justify_content": null,
            "justify_items": null,
            "left": null,
            "margin": null,
            "max_height": null,
            "max_width": null,
            "min_height": null,
            "min_width": null,
            "object_fit": null,
            "object_position": null,
            "order": null,
            "overflow": null,
            "overflow_x": null,
            "overflow_y": null,
            "padding": null,
            "right": null,
            "top": null,
            "visibility": null,
            "width": null
          }
        },
        "26888f235c9c49cf84afbc095d16462b": {
          "model_module": "@jupyter-widgets/controls",
          "model_name": "DescriptionStyleModel",
          "model_module_version": "1.5.0",
          "state": {
            "_model_module": "@jupyter-widgets/controls",
            "_model_module_version": "1.5.0",
            "_model_name": "DescriptionStyleModel",
            "_view_count": null,
            "_view_module": "@jupyter-widgets/base",
            "_view_module_version": "1.2.0",
            "_view_name": "StyleView",
            "description_width": ""
          }
        }
      }
    }
  },
  "nbformat": 4,
  "nbformat_minor": 0
}